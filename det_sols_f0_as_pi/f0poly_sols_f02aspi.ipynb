{
 "cells": [
  {
   "cell_type": "markdown",
   "metadata": {},
   "source": [
    "# Pi = f0**2"
   ]
  },
  {
   "cell_type": "code",
   "execution_count": 1,
   "metadata": {},
   "outputs": [],
   "source": [
    "import numpy as np\n",
    "import math\n",
    "import matplotlib.pyplot as plt\n",
    "from subprocess import call"
   ]
  },
  {
   "cell_type": "code",
   "execution_count": null,
   "metadata": {},
   "outputs": [],
   "source": [
    "# Polynomial\n",
    "def f0_poly4_f0asPi(f0, q1, q2, l, mu):\n",
    "    K, q0 = q2, 1.0\n",
    "    r1 = q0*(mu/K + (1-mu)/q1)\n",
    "    r2 = q0*(mu/K + (1-mu)/q2)\n",
    "    # e f0**4 + a f0**3 + b f0**2 + c f0 + d = 0\n",
    "    a = -l**2 + 2*l*(1-l)\n",
    "    b = l**2 + l*(r1+r2) - (1-l)*(r1+r2)\n",
    "    c = -l*(r1 + r2) - r1*r2\n",
    "    d = r1*r2\n",
    "    return a*f0**3 + b*f0**2 + c*f0 + d"
   ]
  }
 ],
 "metadata": {
  "kernelspec": {
   "display_name": "base",
   "language": "python",
   "name": "python3"
  },
  "language_info": {
   "codemirror_mode": {
    "name": "ipython",
    "version": 3
   },
   "file_extension": ".py",
   "mimetype": "text/x-python",
   "name": "python",
   "nbconvert_exporter": "python",
   "pygments_lexer": "ipython3",
   "version": "3.10.13"
  }
 },
 "nbformat": 4,
 "nbformat_minor": 2
}
