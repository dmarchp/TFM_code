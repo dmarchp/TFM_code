{
 "cells": [
  {
   "cell_type": "markdown",
   "metadata": {},
   "source": [
    "# Pi = f0**2"
   ]
  },
  {
   "cell_type": "code",
   "execution_count": 7,
   "metadata": {},
   "outputs": [],
   "source": [
    "import numpy as np\n",
    "from scipy.optimize import fsolve\n",
    "import math\n",
    "import matplotlib.pyplot as plt\n",
    "from subprocess import call"
   ]
  },
  {
   "cell_type": "code",
   "execution_count": 109,
   "metadata": {},
   "outputs": [],
   "source": [
    "# Polynomial\n",
    "def f0_poly4_f0sqasPi(f0, pi1, pi2, q1, q2, l, mu):\n",
    "    K, q0 = q2, 1.0\n",
    "    r1 = q0*(mu/K + (1-mu)/q1)\n",
    "    r2 = q0*(mu/K + (1-mu)/q2)\n",
    "    # a f0**4 + b f0**3 + c f0**2 + d f0 + e = 0\n",
    "    a = l*(1-l)*(pi1+pi2)\n",
    "    b = -(1-l)*(pi1*r1 + pi2*r2) - l**2\n",
    "    c = l*(r1 + r2) + l**2\n",
    "    d = -l*(r1+r2) - r1*r2\n",
    "    e = r1*r2\n",
    "    return a*f0**4 + b*f0**3 + c*f0**2 + d*f0 + e\n",
    "\n",
    "def f0_poly4_deriv_f0sqasPi(f0, pi1, pi2, q1, q2, l, mu):\n",
    "    K, q0 = q2, 1.0\n",
    "    r1 = q0*(mu/K + (1-mu)/q1)\n",
    "    r2 = q0*(mu/K + (1-mu)/q2)\n",
    "    # a f0**3 + b f0**2 + c f0 + d = 0\n",
    "    a = 4*l*(1-l)*(pi1+pi2)\n",
    "    b = 3*(-(1-l)*(pi1*r1 + pi2*r2) - l**2)\n",
    "    c = 2*((l*(r1 + r2) + l**2))\n",
    "    d = -l*(r1+r2) - r1*r2\n",
    "    return a*f0**3 + b*f0**2 +c*f0 + d\n",
    "\n",
    "def f0poly_liml1(f0, q1, q2, mu):\n",
    "    K, q0 = q2, 1.0\n",
    "    r1 = q0*(mu/K + (1-mu)/q1)\n",
    "    r2 = q0*(mu/K + (1-mu)/q2)\n",
    "    # a f0**3 + b f0**2 + c f0 + d = 0\n",
    "    a = -1\n",
    "    b = (r1+r2) + 1\n",
    "    c = -r1 -r2 -r1*r2\n",
    "    d = r1*r2\n",
    "    return a*f0**3 + b*f0**2 +c*f0**2 + d\n",
    "\n",
    "def f0poly_liml0(f0, pi1, pi2, q1, q2, mu):\n",
    "    K, q0 = q2, 1.0\n",
    "    r1 = q0*(mu/K + (1-mu)/q1)\n",
    "    r2 = q0*(mu/K + (1-mu)/q2)\n",
    "    # a f0**3 + b f0**2 + c f0 + d = 0\n",
    "    a = -(pi1*r1 + pi2*r2)\n",
    "    b = 0\n",
    "    c = -r1*r2\n",
    "    d = r1*r2\n",
    "    return a*f0**3 + b*f0**2 +c*f0**2 + d"
   ]
  },
  {
   "cell_type": "code",
   "execution_count": 106,
   "metadata": {},
   "outputs": [],
   "source": [
    "# f0vals = np.arange(0.0,1.001,0.001)\n",
    "# f0vals = np.arange(-1.0,1.001,0.001)\n",
    "f0vals = np.arange(-3.0,3.01,0.01)\n",
    "# f0vals = np.arange(-100.0,100.1,0.1)\n",
    "pi = 1.0\n",
    "q = 10.0\n",
    "l = 0.6\n",
    "mu = 0.0\n",
    "f0polyVals = f0_poly4_f0sqasPi(f0vals, pi, pi, q, q, l, mu)\n",
    "f0polyDerivVals = f0_poly4_deriv_f0sqasPi(f0vals, pi, pi, q, q, l, mu)\n",
    "# f0polyVals_l1 = f0poly_liml1(f0vals, q, q, mu)\n",
    "# f0polyVals_l0 = f0poly_liml0(f0vals, pi, pi, q, q, mu)"
   ]
  },
  {
   "cell_type": "code",
   "execution_count": 113,
   "metadata": {},
   "outputs": [
    {
     "data": {
      "text/plain": [
       "<matplotlib.lines.Line2D at 0x7fa85891a530>"
      ]
     },
     "execution_count": 113,
     "metadata": {},
     "output_type": "execute_result"
    },
    {
     "data": {
      "image/png": "[encoded data removed]",
      "text/plain": [
       "<Figure size 640x480 with 1 Axes>"
      ]
     },
     "metadata": {},
     "output_type": "display_data"
    }
   ],
   "source": [
    "fig, ax = plt.subplots()\n",
    "ax.plot(f0vals, f0polyVals)\n",
    "ax.plot(f0vals, f0polyDerivVals) # algo falla aqui...\n",
    "# ax.plot(f0vals, f0polyVals_l0)\n",
    "ax.axhline(0.0, ls='-.', lw=0.8, color='xkcd:gray')\n",
    "ax.set(yscale='symlog', ylim=(-0.05, 0.05))\n",
    "ax.set_xlim(-1,1)\n",
    "ax.axvline(0.16340442495333016)"
   ]
  },
  {
   "cell_type": "code",
   "execution_count": 103,
   "metadata": {},
   "outputs": [
    {
     "name": "stdout",
     "output_type": "stream",
     "text": [
      "0.16014611655154945\n",
      "0.16666666666666796\n",
      "0.16666666666666788\n",
      "0.16014611655154937\n"
     ]
    }
   ],
   "source": [
    "sol1 = fsolve(f0_poly4_f0sqasPi, 0.1, args=(pi, pi, q, q, l, mu))\n",
    "print(sol1[0])\n",
    "\n",
    "sol2 = fsolve(f0_poly4_f0sqasPi, 0.25, args=(pi, pi, q, q, l, mu))\n",
    "print(sol2[0])\n",
    "\n",
    "sol3 = fsolve(f0_poly4_f0sqasPi, 1.5, args=(pi, pi, q, q, l, mu))\n",
    "print(sol3[0])\n",
    "\n",
    "sol4 = fsolve(f0_poly4_f0sqasPi, -1000, args=(pi, pi, q, q, l, mu))\n",
    "print(sol4[0])"
   ]
  },
  {
   "cell_type": "code",
   "execution_count": 112,
   "metadata": {},
   "outputs": [
    {
     "name": "stdout",
     "output_type": "stream",
     "text": [
      "0.16340442495333016\n"
     ]
    }
   ],
   "source": [
    "sol = fsolve(f0_poly4_deriv_f0sqasPi, 0.16, args=(pi, pi, q, q, l, mu))\n",
    "print(sol[0])"
   ]
  },
  {
   "cell_type": "code",
   "execution_count": 35,
   "metadata": {},
   "outputs": [
    {
     "data": {
      "text/plain": [
       "0.1000100010001"
      ]
     },
     "execution_count": 35,
     "metadata": {},
     "output_type": "execute_result"
    }
   ],
   "source": [
    "1/(q*l)"
   ]
  },
  {
   "cell_type": "code",
   "execution_count": 50,
   "metadata": {},
   "outputs": [],
   "source": [
    "sol = fsolve(f0poly_liml0, 0.5, args=(pi, pi, q, q, mu))"
   ]
  },
  {
   "cell_type": "code",
   "execution_count": 51,
   "metadata": {},
   "outputs": [
    {
     "data": {
      "text/plain": [
       "0.35246779125005645"
      ]
     },
     "execution_count": 51,
     "metadata": {},
     "output_type": "execute_result"
    }
   ],
   "source": [
    "sol[0]"
   ]
  },
  {
   "cell_type": "code",
   "execution_count": 62,
   "metadata": {},
   "outputs": [
    {
     "data": {
      "text/plain": [
       "0.481746241999498"
      ]
     },
     "execution_count": 62,
     "metadata": {},
     "output_type": "execute_result"
    }
   ],
   "source": [
    "0.1**(1/2)/0.1**(1/3)/"
   ]
  },
  {
   "cell_type": "code",
   "execution_count": 67,
   "metadata": {},
   "outputs": [
    {
     "data": {
      "text/plain": [
       "5386.110000000001"
      ]
     },
     "execution_count": 67,
     "metadata": {},
     "output_type": "execute_result"
    }
   ],
   "source": [
    "f0_poly4_f0sqasPi(-10,1,1,10,10,0.5,0)"
   ]
  },
  {
   "cell_type": "code",
   "execution_count": null,
   "metadata": {},
   "outputs": [],
   "source": []
  }
 ],
 "metadata": {
  "kernelspec": {
   "display_name": "base",
   "language": "python",
   "name": "python3"
  },
  "language_info": {
   "codemirror_mode": {
    "name": "ipython",
    "version": 3
   },
   "file_extension": ".py",
   "mimetype": "text/x-python",
   "name": "python",
   "nbconvert_exporter": "python",
   "pygments_lexer": "ipython3",
   "version": "3.10.13"
  }
 },
 "nbformat": 4,
 "nbformat_minor": 2
}
