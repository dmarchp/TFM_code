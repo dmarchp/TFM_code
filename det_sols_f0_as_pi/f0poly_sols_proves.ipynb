{
 "cells": [
  {
   "cell_type": "code",
   "execution_count": 13,
   "metadata": {},
   "outputs": [],
   "source": [
    "import numpy as np\n",
    "import math\n",
    "import matplotlib.pyplot as plt"
   ]
  },
  {
   "cell_type": "code",
   "execution_count": 17,
   "metadata": {},
   "outputs": [],
   "source": [
    "# Polynomial\n",
    "def f0_poly3_f0asPi(f0, q1, q2, l, mu):\n",
    "    K, q0 = q2, 1.0\n",
    "    r1 = q0*(mu/K + (1-mu)/q1)\n",
    "    r2 = q0*(mu/K + (1-mu)/q2)\n",
    "    # a f0**3 + b f0**2 + c f0 + d = 0\n",
    "    a = -l**2 + 2*l*(1-l)\n",
    "    b = l**2 + l*(r1+r2) - (1-l)*(r1+r2)\n",
    "    c = -l*(r1 + r2) - r1*r2\n",
    "    d = r1*r2\n",
    "    return a*f0**3 + b*f0**2 + c*f0 + d\n",
    "\n",
    "# ----------------------- Solution to the polynomial ------------------------------\n",
    "def f0_poly3_sols_f0asPi(q1, q2, l, mu):\n",
    "    # r1, r2 = 1/q1, 1/q2\n",
    "    K, q0 = q2, 1.0\n",
    "    r1 = q0*(mu/K + (1-mu)/q1)\n",
    "    r2 = q0*(mu/K + (1-mu)/q2)\n",
    "    # global pi1, pi2, q1, q2, r1, r2, l\n",
    "    # a f0**3 + b f0**2 + c f0 + d = 0\n",
    "    a = -l**2 + 2*l*(1-l)\n",
    "    b = l**2 + l*(r1+r2) - (1-l)*(r1+r2)\n",
    "    c = -l*(r1 + r2) - r1*r2\n",
    "    d = r1*r2\n",
    "    # step 1: delta0 and elta 1\n",
    "    delta0 = b**2 - 3*a*c\n",
    "    delta1 = 2*b**3 - 9*a*b*c + 27*a**2*d\n",
    "    # step 2: computation of C:\n",
    "    if delta0 == 0.0 and delta1 != 0.0:\n",
    "        C = delta1**(1/3) # cubic_root[(delta1 + sqrt(delta1**2+0))/2]\n",
    "    elif delta0 == 0.0 and delta1 == 0.0:\n",
    "        C = 1.0 # so in the next step delta0/C yields 0.0 instead of NaN (0.0/0.0)\n",
    "    else:\n",
    "        radicand0 = delta1**2 - 4*delta0**3\n",
    "        if radicand0 < 0:\n",
    "            root0 = complex(0,math.sqrt(-1*radicand0))\n",
    "        else:\n",
    "            root0 = complex(math.sqrt(radicand0),0)\n",
    "        radicand1 = (delta1 + root0)/2\n",
    "        C = radicand1**(1/3)\n",
    "    # 3: Final solution\n",
    "    ksi = complex(-1, math.sqrt(3))/2\n",
    "    f0_roots, f0_roots_abs = [], []\n",
    "    for k in range(3):\n",
    "        f0_root = -1/(3*a)*(b + ksi**k*C + delta0/(C*ksi**k))\n",
    "        f0_roots.append(f0_root), f0_roots_abs.append(abs(f0_root))\n",
    "    return f0_roots_abs\n",
    "\n",
    "\n",
    "# ----------------------- Rest of the populations ------------------------------\n",
    "def f_i(i, f0, qs, l, mu):\n",
    "    # global qs, rs, pis, l\n",
    "    # rs = [1/q for q in qs]\n",
    "    K, q0 = qs[-1], 1.0\n",
    "    rs = [q0*(mu/K + (1-mu)/q) for q in qs]\n",
    "    try:\n",
    "        fi = (1-l)*f0**2/(rs[i-1]-l*f0)\n",
    "    except ZeroDivisionError:\n",
    "        fi = float('nan') \n",
    "    # return (1-l)*pis[i-1]/(rs[i-1]/f0-l)\n",
    "    return fi"
   ]
  },
  {
   "cell_type": "code",
   "execution_count": 21,
   "metadata": {},
   "outputs": [
    {
     "name": "stdout",
     "output_type": "stream",
     "text": [
      "3.6714447853367407 -2.5776444973079196 -2.5640247599832446\n",
      "0.1775517436467796 2.7532030398437475 -1.9307547834898122\n",
      "0.1420411898381092 0.31175755279223216 0.5462012573695925\n"
     ]
    }
   ],
   "source": [
    "q1, q2 = 9.0, 10.0\n",
    "l = 0.6\n",
    "mu = 0.0\n",
    "f0s = f0_poly3_sols_f0asPi(q1, q2, l, mu)\n",
    "# print(f0s)\n",
    "\n",
    "for f0 in f0s:\n",
    "    fs = [f_i(i, f0, (q1, q2), l, mu) for i in range(1,3)]\n",
    "    print(f0, *fs)"
   ]
  },
  {
   "cell_type": "code",
   "execution_count": 19,
   "metadata": {},
   "outputs": [],
   "source": [
    "f0vals = np.arange(0.0,1.001,0.001)\n",
    "f0polyVals = f0_poly3_f0asPi(f0vals, q1, q2, l, mu)"
   ]
  },
  {
   "cell_type": "code",
   "execution_count": 20,
   "metadata": {},
   "outputs": [
    {
     "data": {
      "text/plain": [
       "[(-0.05, 0.05)]"
      ]
     },
     "execution_count": 20,
     "metadata": {},
     "output_type": "execute_result"
    },
    {
     "data": {
      "image/png": "[encoded data removed]",
      "text/plain": [
       "<Figure size 640x480 with 1 Axes>"
      ]
     },
     "metadata": {},
     "output_type": "display_data"
    }
   ],
   "source": [
    "fig, ax = plt.subplots()\n",
    "ax.plot(f0vals, f0polyVals)\n",
    "ax.axhline(0.0, 0, 1, ls=':', color='xkcd:gray')\n",
    "ax.set(ylim=(-0.05,0.05))"
   ]
  },
  {
   "cell_type": "code",
   "execution_count": null,
   "metadata": {},
   "outputs": [],
   "source": []
  }
 ],
 "metadata": {
  "kernelspec": {
   "display_name": "base",
   "language": "python",
   "name": "python3"
  },
  "language_info": {
   "codemirror_mode": {
    "name": "ipython",
    "version": 3
   },
   "file_extension": ".py",
   "mimetype": "text/x-python",
   "name": "python",
   "nbconvert_exporter": "python",
   "pygments_lexer": "ipython3",
   "version": "3.10.13"
  }
 },
 "nbformat": 4,
 "nbformat_minor": 2
}
