{
 "cells": [
  {
   "cell_type": "code",
   "execution_count": 2,
   "metadata": {},
   "outputs": [],
   "source": [
    "import numpy as np\n",
    "import pandas as pd\n",
    "import matplotlib.pyplot as plt\n",
    "from subprocess import call\n",
    "import os\n",
    "import glob\n",
    "import sys\n",
    "sys.path.append('../')\n",
    "from package_global_functions import *\n",
    "\n",
    "extSSDpath = getExternalSSDpath()\n",
    "if os.path.exists(extSSDpath):\n",
    "    resPath = extSSDpath + getProjectFoldername() + '/gillespie_sim_ci/results'\n",
    "else:\n",
    "    resPath = '/results'\n",
    "    print('Forgot the SSD!!!!!')"
   ]
  },
  {
   "cell_type": "markdown",
   "metadata": {},
   "source": [
    "# Check if data exists:"
   ]
  },
  {
   "cell_type": "code",
   "execution_count": 4,
   "metadata": {},
   "outputs": [],
   "source": [
    "qs = (5.0, 10.0)\n",
    "pis = (0.1, 0.1)\n",
    "l = 0.1\n",
    "lci = 1.0\n",
    "ci_kwargs = [1, 0.333, 20.0]\n",
    "N = 1000\n",
    "ic = 'N'\n",
    "\n",
    "pichain = '_'.join([str(pi) for pi in pis])\n",
    "qchain = '_'.join([str(q) for q in qs])\n",
    "ci_kwargs_chain = '_'.join([str(cikw) for cikw in ci_kwargs])\n",
    "\n",
    "tss_file = f'tss_from_sim_results_evos_pis_{pichain}_qs_{qchain}_l_{l}_lci_{lci}_cikw_{ci_kwargs_chain}_N_{N}_ic_{ic}.csv'\n",
    "if os.path.exists(resPath + '/' + tss_file):\n",
    "    df_tss = pd.read_csv(resPath + '/' + tss_file)\n",
    "else:\n",
    "    print('no data')"
   ]
  },
  {
   "cell_type": "code",
   "execution_count": 6,
   "metadata": {},
   "outputs": [
    {
     "data": {
      "text/plain": [
       "100"
      ]
     },
     "execution_count": 6,
     "metadata": {},
     "output_type": "execute_result"
    }
   ],
   "source": [
    "len(df_tss)"
   ]
  },
  {
   "cell_type": "code",
   "execution_count": 23,
   "metadata": {},
   "outputs": [],
   "source": [
    "files = glob.glob(f'{resPath}/sim_results_evos_pis_0.1_0.1_0.1_qs_8.0_9.0_10.0_l_*_lci_1.0_cikw_*')"
   ]
  },
  {
   "cell_type": "code",
   "execution_count": 21,
   "metadata": {},
   "outputs": [
    {
     "data": {
      "text/plain": [
       "7"
      ]
     },
     "execution_count": 21,
     "metadata": {},
     "output_type": "execute_result"
    }
   ],
   "source": [
    "len(files)"
   ]
  },
  {
   "cell_type": "code",
   "execution_count": 24,
   "metadata": {},
   "outputs": [
    {
     "data": {
      "text/plain": [
       "['/Volumes/KINGSTON/TFM_code/gillespie_sim_ci/results/sim_results_evos_pis_0.1_0.1_0.1_qs_8.0_9.0_10.0_l_0.9_lci_1.0_cikw_0_N_1000_ic_N',\n",
       " '/Volumes/KINGSTON/TFM_code/gillespie_sim_ci/results/sim_results_evos_pis_0.1_0.1_0.1_qs_8.0_9.0_10.0_l_0.75_lci_1.0_cikw_0_N_1000_ic_N',\n",
       " '/Volumes/KINGSTON/TFM_code/gillespie_sim_ci/results/sim_results_evos_pis_0.1_0.1_0.1_qs_8.0_9.0_10.0_l_0.6_lci_1.0_cikw_0_N_1000_ic_N',\n",
       " '/Volumes/KINGSTON/TFM_code/gillespie_sim_ci/results/sim_results_evos_pis_0.1_0.1_0.1_qs_8.0_9.0_10.0_l_0.1_lci_1.0_cikw_0_N_1000_ic_N',\n",
       " '/Volumes/KINGSTON/TFM_code/gillespie_sim_ci/results/sim_results_evos_pis_0.1_0.1_0.1_qs_8.0_9.0_10.0_l_0.2_lci_1.0_cikw_0_N_1000_ic_N',\n",
       " '/Volumes/KINGSTON/TFM_code/gillespie_sim_ci/results/sim_results_evos_pis_0.1_0.1_0.1_qs_8.0_9.0_10.0_l_0.45_lci_1.0_cikw_0_N_1000_ic_N',\n",
       " '/Volumes/KINGSTON/TFM_code/gillespie_sim_ci/results/sim_results_evos_pis_0.1_0.1_0.1_qs_8.0_9.0_10.0_l_0.3_lci_1.0_cikw_0_N_1000_ic_N',\n",
       " '/Volumes/KINGSTON/TFM_code/gillespie_sim_ci/results/sim_results_evos_pis_0.1_0.1_0.1_qs_8.0_9.0_10.0_l_0.75_lci_1.0_cikw_1_0.25_500.0_N_1000_ic_N',\n",
       " '/Volumes/KINGSTON/TFM_code/gillespie_sim_ci/results/sim_results_evos_pis_0.1_0.1_0.1_qs_8.0_9.0_10.0_l_0.9_lci_1.0_cikw_1_0.25_500.0_N_1000_ic_N',\n",
       " '/Volumes/KINGSTON/TFM_code/gillespie_sim_ci/results/sim_results_evos_pis_0.1_0.1_0.1_qs_8.0_9.0_10.0_l_0.6_lci_1.0_cikw_2_0.25_500.0_N_1000_ic_N',\n",
       " '/Volumes/KINGSTON/TFM_code/gillespie_sim_ci/results/sim_results_evos_pis_0.1_0.1_0.1_qs_8.0_9.0_10.0_l_0.6_lci_1.0_cikw_1_0.25_500.0_N_1000_ic_N',\n",
       " '/Volumes/KINGSTON/TFM_code/gillespie_sim_ci/results/sim_results_evos_pis_0.1_0.1_0.1_qs_8.0_9.0_10.0_l_0.45_lci_1.0_cikw_2_0.25_500.0_N_1000_ic_N',\n",
       " '/Volumes/KINGSTON/TFM_code/gillespie_sim_ci/results/sim_results_evos_pis_0.1_0.1_0.1_qs_8.0_9.0_10.0_l_0.45_lci_1.0_cikw_1_0.25_500.0_N_1000_ic_N',\n",
       " '/Volumes/KINGSTON/TFM_code/gillespie_sim_ci/results/sim_results_evos_pis_0.1_0.1_0.1_qs_8.0_9.0_10.0_l_0.3_lci_1.0_cikw_1_0.25_500.0_N_1000_ic_N',\n",
       " '/Volumes/KINGSTON/TFM_code/gillespie_sim_ci/results/sim_results_evos_pis_0.1_0.1_0.1_qs_8.0_9.0_10.0_l_0.3_lci_1.0_cikw_2_0.25_500.0_N_1000_ic_N',\n",
       " '/Volumes/KINGSTON/TFM_code/gillespie_sim_ci/results/sim_results_evos_pis_0.1_0.1_0.1_qs_8.0_9.0_10.0_l_0.2_lci_1.0_cikw_2_0.25_500.0_N_1000_ic_N',\n",
       " '/Volumes/KINGSTON/TFM_code/gillespie_sim_ci/results/sim_results_evos_pis_0.1_0.1_0.1_qs_8.0_9.0_10.0_l_0.1_lci_1.0_cikw_2_0.25_500.0_N_1000_ic_N',\n",
       " '/Volumes/KINGSTON/TFM_code/gillespie_sim_ci/results/sim_results_evos_pis_0.1_0.1_0.1_qs_8.0_9.0_10.0_l_0.2_lci_1.0_cikw_1_0.25_500.0_N_1000_ic_N',\n",
       " '/Volumes/KINGSTON/TFM_code/gillespie_sim_ci/results/sim_results_evos_pis_0.1_0.1_0.1_qs_8.0_9.0_10.0_l_0.1_lci_1.0_cikw_1_0.25_500.0_N_1000_ic_N',\n",
       " '/Volumes/KINGSTON/TFM_code/gillespie_sim_ci/results/sim_results_evos_pis_0.1_0.1_0.1_qs_8.0_9.0_10.0_l_0.9_lci_1.0_cikw_2_0.25_500.0_N_1000_ic_N',\n",
       " '/Volumes/KINGSTON/TFM_code/gillespie_sim_ci/results/sim_results_evos_pis_0.1_0.1_0.1_qs_8.0_9.0_10.0_l_0.75_lci_1.0_cikw_2_0.25_500.0_N_1000_ic_N']"
      ]
     },
     "execution_count": 24,
     "metadata": {},
     "output_type": "execute_result"
    }
   ],
   "source": [
    "files"
   ]
  },
  {
   "cell_type": "code",
   "execution_count": null,
   "metadata": {},
   "outputs": [],
   "source": []
  }
 ],
 "metadata": {
  "kernelspec": {
   "display_name": "base",
   "language": "python",
   "name": "python3"
  },
  "language_info": {
   "codemirror_mode": {
    "name": "ipython",
    "version": 3
   },
   "file_extension": ".py",
   "mimetype": "text/x-python",
   "name": "python",
   "nbconvert_exporter": "python",
   "pygments_lexer": "ipython3",
   "version": "3.10.13"
  }
 },
 "nbformat": 4,
 "nbformat_minor": 2
}
