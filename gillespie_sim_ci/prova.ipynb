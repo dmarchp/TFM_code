{
 "cells": [
  {
   "cell_type": "code",
   "execution_count": 20,
   "metadata": {},
   "outputs": [],
   "source": [
    "import numpy as np"
   ]
  },
  {
   "cell_type": "code",
   "execution_count": 21,
   "metadata": {},
   "outputs": [],
   "source": [
    "def cross_in_func(pop,*kwargs):\n",
    "    if not kwargs or kwargs[0] == 1 or kwargs[0] == 'lin':\n",
    "        return pop\n",
    "    elif kwargs[0] == 2 or kwargs[0] == 'sigmoid1':\n",
    "        x0, a = kwargs[1], kwargs[2]\n",
    "        return 1/(1+np.exp(-a*(pop-x0)))\n",
    "    elif kwargs[0] == 3 or kwargs[0] == 'sigmoid2':\n",
    "        x0, a = kwargs[1], kwargs[2]\n",
    "        return 2*pop/(1+np.exp(-a*(pop-x0)))"
   ]
  },
  {
   "cell_type": "code",
   "execution_count": 26,
   "metadata": {},
   "outputs": [
    {
     "name": "stdout",
     "output_type": "stream",
     "text": [
      "0.9\n"
     ]
    }
   ],
   "source": [
    "ci_kwargs = [2, 0.5, 50]\n",
    "ci_kwargs = []\n",
    "cival = cross_in_func(0.9, *ci_kwargs)\n",
    "print(cival)"
   ]
  },
  {
   "cell_type": "code",
   "execution_count": 15,
   "metadata": {},
   "outputs": [],
   "source": [
    "cival"
   ]
  },
  {
   "cell_type": "code",
   "execution_count": 19,
   "metadata": {},
   "outputs": [
    {
     "data": {
      "text/plain": [
       "0.2"
      ]
     },
     "execution_count": 19,
     "metadata": {},
     "output_type": "execute_result"
    }
   ],
   "source": [
    "cross_in_func(0.2)"
   ]
  },
  {
   "cell_type": "code",
   "execution_count": null,
   "metadata": {},
   "outputs": [],
   "source": []
  }
 ],
 "metadata": {
  "kernelspec": {
   "display_name": "base",
   "language": "python",
   "name": "python3"
  },
  "language_info": {
   "codemirror_mode": {
    "name": "ipython",
    "version": 3
   },
   "file_extension": ".py",
   "mimetype": "text/x-python",
   "name": "python",
   "nbconvert_exporter": "python",
   "pygments_lexer": "ipython3",
   "version": "3.10.13"
  }
 },
 "nbformat": 4,
 "nbformat_minor": 2
}
