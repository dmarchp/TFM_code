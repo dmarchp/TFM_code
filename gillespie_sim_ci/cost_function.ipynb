{
 "cells": [
  {
   "cell_type": "code",
   "execution_count": 52,
   "metadata": {},
   "outputs": [],
   "source": [
    "import numpy as np\n",
    "import matplotlib.pyplot as plt\n",
    "from subprocess import call\n",
    "from scipy.ndimage import gaussian_filter1d\n",
    "import os\n",
    "import pandas as pd\n",
    "from math import isnan\n",
    "import random\n",
    "import glob\n",
    "import sys\n",
    "sys.path.append('../')\n",
    "from package_global_functions import *\n",
    "\n",
    "extSSDpath = getExternalSSDpath()\n",
    "if os.path.exists(extSSDpath):\n",
    "    resPath = extSSDpath + getProjectFoldername() + '/gillespie_sim_ci/results'\n",
    "else:\n",
    "    resPath = '/results'"
   ]
  },
  {
   "cell_type": "code",
   "execution_count": 54,
   "metadata": {},
   "outputs": [],
   "source": [
    "# get stationary time from simulations\n",
    "\n",
    "def search_time(w,t,evo,sig=0):\n",
    "    \"\"\"\n",
    "    sig=0 -> no gaussian filter; sig != 0 -> apply gaussian filter with this sigma\n",
    "    \"\"\"\n",
    "    if sig:\n",
    "        evo_mod = gaussian_filter1d(evo, sig)\n",
    "    else:\n",
    "        evo_mod = evo\n",
    "    time = float('nan')\n",
    "    for i in range(len(evo_mod)-w-1):\n",
    "        block_avg = np.average(evo_mod[i:i+w])\n",
    "        if abs(evo_mod[i+w+1] - block_avg) < t:\n",
    "            time = i+w+1\n",
    "            break\n",
    "    return time\n",
    "\n",
    "# from gillespie simulations\n",
    "def get_tss(w,tol, sig=0):\n",
    "    global pis, qs, l, lci, N, maxTime, Nrea, ic, ci_kwargs\n",
    "    pichain = ','.join([str(pi) for pi in pis])\n",
    "    qchain = ','.join([str(q) for q in qs])\n",
    "    ci_kwargs_chain = ','.join([str(cikw) for cikw in ci_kwargs])\n",
    "    simCall = f'python LES_model_gill.py -pis {pichain} -qs {qchain} -l {l} -lci {lci} -ci_kwargs {ci_kwargs_chain} '\n",
    "    simCall += f'-N {N} -maxTime {maxTime} -Nrea {Nrea} -ic {ic} --time_evo'\n",
    "    call(simCall, shell=True)\n",
    "    call('tar -xzf sim_results_evos.tar.gz', shell=True)\n",
    "    evoFiles = glob.glob('sim_results_evos/*')\n",
    "    all_tss = []\n",
    "    for testid,f in enumerate(evoFiles):\n",
    "        df = pd.read_csv(f)\n",
    "        tss_rea = []\n",
    "        for k in range(0,len(pis)+1):\n",
    "            tss_fi = search_time(w,tol,df[f'f{k}'], sig)\n",
    "            tss_fi = float(df['time'].iloc[tss_fi])\n",
    "            tss_rea.append(tss_fi)\n",
    "        all_tss.append(max(tss_rea))\n",
    "        # fig, ax = plt.subplots(1,1, figsize=(4,4), constrained_layout=True)\n",
    "        # ax.set_xscale('symlog')\n",
    "        # iters = list(range(len(df)))\n",
    "        # ax.plot(iters, df['f0'], color='r')\n",
    "        # ax.plot(iters, df['f1'], color='g')\n",
    "        # ax.plot(iters, df['f2'], color='b')\n",
    "        # ax.axvline(max(tss_rea), 0, 1)\n",
    "        # fig.savefig(f'test_tss_{testid}.png')\n",
    "    return all_tss\n",
    "\n",
    "def get_tss_gill_v2(w,tol,h,sig=0, execSim=True):\n",
    "    global pis, qs, l, lci, N, maxTime, Nrea, ic, ci_kwargs\n",
    "    pichain = ','.join([str(pi) for pi in pis])\n",
    "    qchain = ','.join([str(q) for q in qs])\n",
    "    ci_kwargs_chain = ','.join([str(cikw) for cikw in ci_kwargs])\n",
    "    if execSim:\n",
    "        simCall = f'python LES_model_gill.py -pis {pichain} -qs {qchain} -l {l} -lci {lci} -ci_kwargs {ci_kwargs_chain} '\n",
    "        simCall += f'-N {N} -maxTime {maxTime} -Nrea {Nrea} -ic {ic} --time_evo'\n",
    "        call(simCall, shell=True)\n",
    "        call('tar -xzf sim_results_evos.tar.gz', shell=True)\n",
    "    evoFiles = glob.glob('sim_results_evos/*')\n",
    "    all_tss, tssMax = {}, []\n",
    "    for k in range(len(pis)+1):\n",
    "        all_tss[f'f{k}'] = []\n",
    "    for testid,f in enumerate(evoFiles):\n",
    "        tevo = pd.read_csv(f)\n",
    "        tssRea = []\n",
    "        for k in range(len(pis)+1):\n",
    "            fevo_smoothed = []\n",
    "            for i in range(int(maxTime/h)):\n",
    "                tmin, tmax = h*i, h*(i+1)\n",
    "                fblock = np.average(tevo.query('time >= @tmin and time < @tmax')[f'f{k}'])\n",
    "                fevo_smoothed.append(fblock)\n",
    "            tss = search_time(w,tol,fevo_smoothed)\n",
    "            all_tss[f'f{k}'].append(tss)\n",
    "            tssRea.append(tss)\n",
    "        tssRea = [t for t in tssRea if not isnan(t)]\n",
    "        if len(tssRea) > 0:\n",
    "            tssMax.append(max(tssRea))\n",
    "    return all_tss, tssMax\n",
    "\n",
    "\n",
    "# from agent based model simulations\n",
    "# remain that in fortran code I use the convention of ci modes 1,2,3 for linear,sig1,sig2 respectively!!!\n",
    "# for this reason cimode=cimode+1 below;)\n",
    "def get_tss_AB(w,tol, sig=0):\n",
    "    global pis, qs, l, lci, N, maxTime, Nrea, ic, ci_kwargs\n",
    "    froute = '../clean_version_ci/'\n",
    "    fin_file = 'input_template.txt'\n",
    "    fex_file = 'main.x'\n",
    "    pichain = ','.join([str(pi) for pi in pis])\n",
    "    qchain = ','.join([str(q) for q in qs])\n",
    "    ci_kwargs_chain = ','.join([str(cikw) for cikw in ci_kwargs])\n",
    "    change_sim_input(froute, fin_file, pis=pis, qs=qs, lamb=l, max_time=maxTime, N_sites=len(pis), N_bots=N, bots_per_site=[N, 0, 0], ic='N', \n",
    "                     lci=lci, cimode=ci_kwargs[0]+1)\n",
    "    if len(ci_kwargs) > 1:\n",
    "        change_sim_input(froute, fin_file, ci_x0=ci_kwargs[1], ci_a=ci_kwargs[2])\n",
    "    wd = os.getcwd()\n",
    "    # Execute simulations:\n",
    "    os.chdir(froute)\n",
    "    call(\"./\"+fex_file+f\" {random.randint(0,100000000)} {Nrea}\", shell=True)\n",
    "    os.chdir(wd)\n",
    "    # Save the time evolutions:\n",
    "    call(f'tar -xzf {froute}time_evo_csv.tar.gz', shell=True)\n",
    "    # call(f'mv time_evo_csv {newFolderName}', shell=True)\n",
    "    # call(f'mkdir -p {path}', shell=True)\n",
    "    # if os.path.exists(f'{path}/{newFolderName}'):\n",
    "    #     call(f'rm -r {path}/{newFolderName}', shell=True)\n",
    "    # call(f'mv {newFolderName} {path}', shell=True)\n",
    "    evoFiles = glob.glob('time_evo_csv/*')\n",
    "    all_tss = []\n",
    "    for testid,f in enumerate(evoFiles):\n",
    "        df = pd.read_csv(f)\n",
    "        tss_rea = []\n",
    "        for i in range(0,len(pis)+1):\n",
    "            tss_fi = search_time(w,tol,df[f'f{i}'], sig)\n",
    "            tss_rea.append(tss_fi)\n",
    "        all_tss.append(max(tss_rea))\n",
    "        # plots for testing:\n",
    "        # fig, ax = plt.subplots(1,1, figsize=(4,4), constrained_layout=True)\n",
    "        # ax.set_xscale('symlog')\n",
    "        # iters = list(range(len(df)))\n",
    "        # ax.plot(iters, df['f0'], color='r')\n",
    "        # ax.plot(iters, df['f1'], color='g')\n",
    "        # ax.plot(iters, df['f2'], color='b')\n",
    "        # ax.axvline(max(tss_rea), 0, 1)\n",
    "        # fig.savefig(f'test_tss_{testid}.png')      \n",
    "    return all_tss"
   ]
  },
  {
   "cell_type": "markdown",
   "metadata": {},
   "source": [
    "## testing a function for the ss time"
   ]
  },
  {
   "cell_type": "code",
   "execution_count": 42,
   "metadata": {},
   "outputs": [
    {
     "data": {
      "image/png": "[encoded data removed]",
      "text/plain": [
       "<Figure size 640x480 with 1 Axes>"
      ]
     },
     "metadata": {},
     "output_type": "display_data"
    }
   ],
   "source": [
    "pis, qs = [0.1, 0.1], [9.0, 10.0]\n",
    "l, lci, N, maxTime, Nrea, ic = 0.6, 1.0, 500, 90.0, 5, 'N'\n",
    "ci_kwargs = [2, 0.3, 10.0]\n",
    "evoFiles = glob.glob('sim_results_evos/*')\n",
    "tevo = pd.read_csv(evoFiles[4])\n",
    "\n",
    "h,w,tol = 1.0, 5, 5e-3\n",
    "# h,w,tol = 0.5, 5, 5e-3\n",
    "fs_evos_sm = {}\n",
    "for f in ['f0', 'f1', 'f2']:\n",
    "    fevo_smoothed = []\n",
    "    for i in range(int(maxTime/h)):\n",
    "        tmin, tmax = h*i, h*(i+1)\n",
    "        fblock = np.average(tevo.query('time >= @tmin and time < @tmax')[f])\n",
    "        fevo_smoothed.append(fblock)\n",
    "    fs_evos_sm[f] = fevo_smoothed\n",
    "\n",
    "fs_evos_sm['time'] = np.arange(0,maxTime,h)\n",
    "tevo_smooth = pd.DataFrame(fs_evos_sm)\n",
    "\n",
    "fig, ax = plt.subplots()\n",
    "colors = ['r', 'g', 'b']\n",
    "for f,c in zip(['f0', 'f1', 'f2'], colors):\n",
    "    tss = search_time(w, tol, tevo_smooth[f])\n",
    "    ax.plot(tevo_smooth['time'], tevo_smooth[f], color=c, lw=0.8, marker='.')\n",
    "    ax.axvline(tss, 0, 1, ls=':', lw=0.7, color=c)\n",
    "    # compute derivative of the time evo:\n",
    "    # tevo_deriv = []\n",
    "    # for i in range(len(tevo_smooth)):\n",
    "    #     if i == 0: # forward derivative at timestep 0\n",
    "    #         deriv = (tevo_smooth[f].iloc[1]-tevo_smooth[f].iloc[0])/h\n",
    "    #     elif i == len(tevo_smooth)-1: # backwards derivative at the last timestep\n",
    "    #         deriv = (tevo_smooth[f].iloc[-1]-tevo_smooth[f].iloc[-2])/h\n",
    "    #     else: # central derivative at the last point\n",
    "    #         deriv = (tevo_smooth[f].iloc[i+1]-tevo_smooth[f].iloc[i-1])/(2*h)\n",
    "    #     tevo_deriv.append(abs(deriv))\n",
    "    # ax.plot(tevo_smooth['time'], tevo_deriv, color=c, lw=0.7)\n",
    "    # ax.set_yscale('log')\n",
    "    # ax.axhline(1e-4, 0, 1, ls=':', color='k', lw=0.7)\n",
    "\n",
    "\n"
   ]
  },
  {
   "cell_type": "markdown",
   "metadata": {},
   "source": [
    "# Using Gillespie Simulations"
   ]
  },
  {
   "cell_type": "code",
   "execution_count": null,
   "metadata": {},
   "outputs": [],
   "source": [
    "pis, qs = [0.1, 0.1], [9.0, 10.0]\n",
    "l, lci, N, maxTime, Nrea, ic = 0.6, 1.0, 500, 90.0, 5, 'N'\n",
    "ci_kwargs = [2, 0.3, 10.0]\n",
    "w, tol = 1000, 1e-4\n",
    "sig = 0.2\n",
    "times = get_tss(w, tol, sig)"
   ]
  },
  {
   "cell_type": "code",
   "execution_count": null,
   "metadata": {},
   "outputs": [],
   "source": [
    "sig = 50\n",
    "for i,tss in enumerate(times):\n",
    "    tevo = pd.read_csv(f'sim_results_evos/time_evo_rea_{i}.csv')\n",
    "    fig, ax = plt.subplots(constrained_layout=True)\n",
    "    if sig > 0:\n",
    "        ax.plot(tevo['time'], gaussian_filter1d(tevo['f0'],sig), color='xkcd:red')\n",
    "        ax.plot(tevo['time'], gaussian_filter1d(tevo['f1'],sig), color='xkcd:green')\n",
    "        ax.plot(tevo['time'], gaussian_filter1d(tevo['f2'],sig), color='xkcd:blue')\n",
    "    else:\n",
    "        ax.plot(tevo['time'], tevo['f0'], color='xkcd:red')\n",
    "        ax.plot(tevo['time'], tevo['f1'], color='xkcd:green')\n",
    "        ax.plot(tevo['time'], tevo['f2'], color='xkcd:blue')\n",
    "    ax.axvline(tss, 0,1, color='k', ls=':')\n",
    "    fig.savefig(f'time_evo_rea_{i}_tss_trial.png')"
   ]
  },
  {
   "cell_type": "code",
   "execution_count": 49,
   "metadata": {},
   "outputs": [],
   "source": [
    "all_tss, tssMax = get_tss_gill_v2(5,5e-3,1.0, execSim=False)"
   ]
  },
  {
   "cell_type": "code",
   "execution_count": 55,
   "metadata": {},
   "outputs": [
    {
     "name": "stdout",
     "output_type": "stream",
     "text": [
      "Avg: 53.67 std: 17.632954942379907\n"
     ]
    },
    {
     "name": "stderr",
     "output_type": "stream",
     "text": [
      "mkdir: /results: Read-only file system\n"
     ]
    },
    {
     "name": "stdout",
     "output_type": "stream",
     "text": [
      "Avg: 53.53 std: 18.72135411769138\n"
     ]
    }
   ],
   "source": [
    "pis, qs = [0.1, 0.1], [9.0, 10.0]\n",
    "l, lci, N, maxTime, Nrea, ic = 0.3, 1.0, 500, 90.0, 25, 'N'\n",
    "ci_kwargs = [2, 0.3, 10.0]\n",
    "\n",
    "w, tol, h = 5, 1e-3, 1.0\n",
    "\n",
    "ci_kwargs = [2, 0.3, 10.0]\n",
    "all_fs_times, timesMax = get_tss_gill_v2(w, tol, h)\n",
    "print(f'Avg: {np.average(timesMax)} std: {np.std(timesMax)}')\n",
    "\n",
    "ci_kwargs = [0, ]\n",
    "all_fs_times, timesMax = get_tss_gill_v2(w, tol, h)\n",
    "print(f'Avg: {np.average(timesMax)} std: {np.std(timesMax)}')"
   ]
  },
  {
   "cell_type": "markdown",
   "metadata": {},
   "source": [
    "# Using agent based model"
   ]
  },
  {
   "cell_type": "code",
   "execution_count": null,
   "metadata": {},
   "outputs": [],
   "source": [
    "pis, qs = [0.1, 0.1], [9.0, 10.0]\n",
    "l, lci, N, maxTime, Nrea, ic = 0.6, 1.0, 500, 3000, 5, 'N'\n",
    "ci_kwargs = [2, 0.3, 10.0]\n",
    "w, tol = 50, 1e-4\n",
    "times = get_tss_AB(w, tol)"
   ]
  },
  {
   "cell_type": "code",
   "execution_count": null,
   "metadata": {},
   "outputs": [],
   "source": [
    "for i,tss in enumerate(times):\n",
    "    tevo = pd.read_csv(f'time_evo_csv/time_evo_rea_{str(i+1).zfill(3)}.csv')\n",
    "    fig, ax = plt.subplots(constrained_layout=True)\n",
    "    ax.set_xscale('symlog')\n",
    "    ax.plot(tevo['iter'], tevo['f0'], color='xkcd:red')\n",
    "    ax.plot(tevo['iter'], tevo['f1'], color='xkcd:green')\n",
    "    ax.plot(tevo['iter'], tevo['f2'], color='xkcd:blue')\n",
    "    ax.axvline(tss, 0,1, color='k', ls=':')\n",
    "    fig.savefig(f'time_evo_rea_AB_{i}_tss_trial.png')"
   ]
  },
  {
   "cell_type": "code",
   "execution_count": null,
   "metadata": {},
   "outputs": [],
   "source": [
    "w, tol = 50, 1e-4"
   ]
  },
  {
   "cell_type": "code",
   "execution_count": null,
   "metadata": {},
   "outputs": [],
   "source": [
    "maxTime = 2000\n",
    "Nrea = 10\n",
    "ci_kwargs = [2, 0.3, 10.0]\n",
    "times = get_tss_AB(w, tol)\n",
    "print(np.average(times))"
   ]
  },
  {
   "cell_type": "code",
   "execution_count": null,
   "metadata": {},
   "outputs": [],
   "source": [
    "ci_kwargs = [0, ]\n",
    "times = get_tss_AB(w, tol)\n",
    "print(np.average(times))"
   ]
  },
  {
   "cell_type": "code",
   "execution_count": null,
   "metadata": {},
   "outputs": [],
   "source": []
  }
 ],
 "metadata": {
  "kernelspec": {
   "display_name": "base",
   "language": "python",
   "name": "python3"
  },
  "language_info": {
   "codemirror_mode": {
    "name": "ipython",
    "version": 3
   },
   "file_extension": ".py",
   "mimetype": "text/x-python",
   "name": "python",
   "nbconvert_exporter": "python",
   "pygments_lexer": "ipython3",
   "version": "3.10.13"
  }
 },
 "nbformat": 4,
 "nbformat_minor": 2
}
