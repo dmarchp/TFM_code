{
 "cells": [
  {
   "cell_type": "code",
   "execution_count": null,
   "metadata": {},
   "outputs": [],
   "source": [
    "import numpy as np\n",
    "import matplotlib.pyplot as plt\n",
    "from subprocess import call\n",
    "import os\n",
    "import pandas as pd\n",
    "import random\n",
    "import glob\n",
    "import sys\n",
    "sys.path.append('../')\n",
    "from package_global_functions import *\n",
    "\n",
    "extSSDpath = getExternalSSDpath()\n",
    "if os.path.exists(extSSDpath):\n",
    "    resPath = extSSDpath + getProjectFoldername() + '/gillespie_sim_ci/results'\n",
    "else:\n",
    "    resPath = '/results'"
   ]
  },
  {
   "cell_type": "code",
   "execution_count": 22,
   "metadata": {},
   "outputs": [],
   "source": [
    "# get stationary time from simulations\n",
    "\n",
    "def search_time(w,t,evo,sig=0):\n",
    "    \"\"\"\n",
    "    sig=0 -> no gaussian filter; sig != 0 -> apply gaussian filter with this sigma\n",
    "    \"\"\"\n",
    "    if sig:\n",
    "        evo_mod = gaussian_filter1d(evo, sig)\n",
    "    else:\n",
    "        evo_mod = evo\n",
    "    time = float('nan')\n",
    "    for i in range(len(evo_mod)-w):\n",
    "        block_avg = np.average(evo_mod[i:i+w])\n",
    "        if abs(evo_mod[i+w+1] - block_avg) < t:\n",
    "            time = i+w+1\n",
    "            break\n",
    "    return time\n",
    "\n",
    "# from gillespie simulations\n",
    "def get_tss(w,tol):\n",
    "    global pis, qs, l, lci, N, maxTime, Nrea, ic, ci_kwargs\n",
    "    pichain = ','.join([str(pi) for pi in pis])\n",
    "    qchain = ','.join([str(q) for q in qs])\n",
    "    ci_kwargs_chain = ','.join([str(cikw) for cikw in ci_kwargs])\n",
    "    simCall = f'python LES_model_gill.py -pis {pichain} -qs {qchain} -l {l} -lci {lci} -ci_kwargs {ci_kwargs_chain} '\n",
    "    simCall += f'-N {N} -maxTime {maxTime} -Nrea {Nrea} -ic {ic} --time_evo'\n",
    "    call(simCall, shell=True)\n",
    "    call('tar -xzf sim_results_evos.tar.gz', shell=True)\n",
    "    evoFiles = glob.glob('sim_results_evos/*')\n",
    "    all_tss = []\n",
    "    for testid,f in enumerate(evoFiles):\n",
    "        df = pd.read_csv(f)\n",
    "        tss_rea = []\n",
    "        for k in range(0,len(pis)+1):\n",
    "            tss_fi = search_time(w,tol,df[f'f{k}'])\n",
    "            tss_fi = float(df['time'].iloc[tss_fi])\n",
    "            tss_rea.append(tss_fi)\n",
    "        all_tss.append(max(tss_rea))\n",
    "        # fig, ax = plt.subplots(1,1, figsize=(4,4), constrained_layout=True)\n",
    "        # ax.set_xscale('symlog')\n",
    "        # iters = list(range(len(df)))\n",
    "        # ax.plot(iters, df['f0'], color='r')\n",
    "        # ax.plot(iters, df['f1'], color='g')\n",
    "        # ax.plot(iters, df['f2'], color='b')\n",
    "        # ax.axvline(max(tss_rea), 0, 1)\n",
    "        # fig.savefig(f'test_tss_{testid}.png')\n",
    "    return all_tss\n",
    "\n",
    "\n",
    "# from agent based model simulations\n",
    "# remain that in fortran code I use the convention of ci modes 1,2,3 for linear,sig1,sig2 respectively!!!\n",
    "# for this reason cimode=cimode+1 below;)\n",
    "def get_tss_AB(w,tol):\n",
    "    global pis, qs, l, lci, N, maxTime, Nrea, ic, ci_kwargs\n",
    "    froute = '../clean_version_ci/'\n",
    "    fin_file = 'input_template.txt'\n",
    "    fex_file = 'main.x'\n",
    "    pichain = ','.join([str(pi) for pi in pis])\n",
    "    qchain = ','.join([str(q) for q in qs])\n",
    "    ci_kwargs_chain = ','.join([str(cikw) for cikw in ci_kwargs])\n",
    "    change_sim_input(froute, fin_file, pis=pis, qs=qs, lamb=l, max_time=maxTime, N_sites=len(pis), N_bots=N, bots_per_site=[N, 0, 0], ic='N', \n",
    "                     lci=lci, cimode=ci_kwargs[0]+1)\n",
    "    if len(ci_kwargs) > 1:\n",
    "        change_sim_input(ci_x0=ci_kwargs[1], ci_a=ci_kwargs[2])\n",
    "    wd = os.getcwd()\n",
    "    # Execute simulations:\n",
    "    os.chdir(froute)\n",
    "    call(\"./\"+fex_file+f\" {random.randint(0,100000000)} {Nrea}\", shell=True)\n",
    "    os.chdir(wd)\n",
    "    # Save the time evolutions:\n",
    "    call(f'tar -xzf {froute}time_evo_csv.tar.gz', shell=True)\n",
    "    # call(f'mv time_evo_csv {newFolderName}', shell=True)\n",
    "    # call(f'mkdir -p {path}', shell=True)\n",
    "    # if os.path.exists(f'{path}/{newFolderName}'):\n",
    "    #     call(f'rm -r {path}/{newFolderName}', shell=True)\n",
    "    # call(f'mv {newFolderName} {path}', shell=True)\n",
    "    evoFiles = glob.glob('time_evo_csv/*')\n",
    "    all_tss = []\n",
    "    for testid,f in enumerate(evoFiles):\n",
    "        df = pd.read_csv(f)\n",
    "        tss_rea = []\n",
    "        for i in range(0,len(pis)+1):\n",
    "            tss_fi = search_time(w,tol,df[f'f{i}'])\n",
    "            tss_rea.append(tss_fi)\n",
    "        all_tss.append(max(tss_rea))\n",
    "        # plots for testing:\n",
    "        # fig, ax = plt.subplots(1,1, figsize=(4,4), constrained_layout=True)\n",
    "        # ax.set_xscale('symlog')\n",
    "        # iters = list(range(len(df)))\n",
    "        # ax.plot(iters, df['f0'], color='r')\n",
    "        # ax.plot(iters, df['f1'], color='g')\n",
    "        # ax.plot(iters, df['f2'], color='b')\n",
    "        # ax.axvline(max(tss_rea), 0, 1)\n",
    "        # fig.savefig(f'test_tss_{testid}.png')      \n",
    "    return all_tss"
   ]
  },
  {
   "cell_type": "markdown",
   "metadata": {},
   "source": [
    "# Using Gillespie Simulations"
   ]
  },
  {
   "cell_type": "code",
   "execution_count": null,
   "metadata": {},
   "outputs": [],
   "source": [
    "pis, qs = [0.1, 0.1], [9.0, 10.0]\n",
    "l, lci, N, maxTime, Nrea, ic = 0.6, 1.0, 500, 90.0, 5, 'N'\n",
    "ci_kwargs = [2, 0.3, 10.0]\n",
    "w, tol = 1000, 1e-4\n",
    "get_tss(w, tol)"
   ]
  },
  {
   "cell_type": "code",
   "execution_count": 23,
   "metadata": {},
   "outputs": [
    {
     "name": "stdout",
     "output_type": "stream",
     "text": [
      "31.418876790525342\n",
      "31.28293218657363\n"
     ]
    }
   ],
   "source": [
    "maxTime = 90.0\n",
    "Nrea = 10\n",
    "w, tol = 1000, 1e-4\n",
    "\n",
    "ci_kwargs = [2, 0.3, 10.0]\n",
    "times = get_tss(w, tol)\n",
    "print(np.average(times))\n",
    "\n",
    "ci_kwargs = [0, ]\n",
    "times = get_tss(w, tol)\n",
    "print(np.average(times))\n"
   ]
  },
  {
   "cell_type": "markdown",
   "metadata": {},
   "source": [
    "# Using agent based model"
   ]
  },
  {
   "cell_type": "code",
   "execution_count": null,
   "metadata": {},
   "outputs": [],
   "source": [
    "pis, qs = [0.1, 0.1], [9.0, 10.0]\n",
    "l, lci, N, maxTime, Nrea, ic = 0.6, 1.0, 500, 3000, 5, 'N'\n",
    "ci_kwargs = [2, 0.3, 10.0]\n",
    "w, tol = 50, 1e-4\n",
    "get_tss_AB(w, tol)"
   ]
  },
  {
   "cell_type": "code",
   "execution_count": 16,
   "metadata": {},
   "outputs": [],
   "source": [
    "w, tol = 50, 1e-4"
   ]
  },
  {
   "cell_type": "code",
   "execution_count": 18,
   "metadata": {},
   "outputs": [
    {
     "name": "stdout",
     "output_type": "stream",
     "text": [
      "359.9\n"
     ]
    }
   ],
   "source": [
    "maxTime = 2000\n",
    "Nrea = 10\n",
    "ci_kwargs = [2, 0.3, 10.0]\n",
    "times = get_tss_AB(w, tol)\n",
    "print(np.average(times))"
   ]
  },
  {
   "cell_type": "code",
   "execution_count": 21,
   "metadata": {},
   "outputs": [
    {
     "name": "stdout",
     "output_type": "stream",
     "text": [
      "428.4\n"
     ]
    }
   ],
   "source": [
    "ci_kwargs = [0, ]\n",
    "times = get_tss_AB(w, tol)\n",
    "print(np.average(times))"
   ]
  },
  {
   "cell_type": "code",
   "execution_count": null,
   "metadata": {},
   "outputs": [],
   "source": []
  }
 ],
 "metadata": {
  "kernelspec": {
   "display_name": "base",
   "language": "python",
   "name": "python3"
  },
  "language_info": {
   "codemirror_mode": {
    "name": "ipython",
    "version": 3
   },
   "file_extension": ".py",
   "mimetype": "text/x-python",
   "name": "python",
   "nbconvert_exporter": "python",
   "pygments_lexer": "ipython3",
   "version": "3.10.13"
  }
 },
 "nbformat": 4,
 "nbformat_minor": 2
}
