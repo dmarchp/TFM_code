{
 "cells": [
  {
   "cell_type": "code",
   "execution_count": 46,
   "metadata": {},
   "outputs": [],
   "source": [
    "import numpy as np\n",
    "import matplotlib.pyplot as plt\n",
    "from subprocess import call\n",
    "from scipy.ndimage import gaussian_filter1d\n",
    "import os\n",
    "import pandas as pd\n",
    "from math import isnan\n",
    "import random\n",
    "import glob\n",
    "import sys\n",
    "sys.path.append('../')\n",
    "from package_global_functions import *\n",
    "\n",
    "extSSDpath = getExternalSSDpath()\n",
    "if os.path.exists(extSSDpath):\n",
    "    resPath = extSSDpath + getProjectFoldername() + '/gillespie_sim_ci/results'\n",
    "else:\n",
    "    resPath = '/results'\n",
    "    print('Forgot the SSD!!!!!')"
   ]
  },
  {
   "cell_type": "code",
   "execution_count": 81,
   "metadata": {},
   "outputs": [],
   "source": [
    "def search_time_useStatDif(time, evo, statVal: float, statTime: float):\n",
    "    evo_dif_to_stat = abs(evo - statVal)\n",
    "    avgdif = np.average(evo_dif_to_stat[time >= statTime])\n",
    "    times_below_avgdif = time[evo_dif_to_stat < avgdif]\n",
    "    if len(times_below_avgdif) > 3:\n",
    "        max_times_to_use = 3\n",
    "    else:\n",
    "        max_times_to_use = len(times_below_avgdif)\n",
    "    tss = np.average(times_below_avgdif[0:max_times_to_use])\n",
    "    return tss\n",
    "\n",
    "\n",
    "def get_data_for_cost_func(h, pis, qs, l, lci, ci_kwargs, N, ic, maxTime=100.0, Nrea=100, execSim=False):\n",
    "    pichain = '_'.join([str(pi) for pi in pis])\n",
    "    qchain = '_'.join([str(q) for q in qs])\n",
    "    ci_kwargs_chain = '_'.join([str(cikw) for cikw in ci_kwargs])\n",
    "    evoName = f'sim_results_evos_pis_{pichain}_qs_{qchain}_l_{l}_lci_{lci}_cikw_{ci_kwargs_chain}_N_{N}_ic_{ic}'\n",
    "    if execSim: # mandatory to execute simulations, even if evos folder already exists\n",
    "        pichainExec = ','.join([str(pi) for pi in pis])\n",
    "        qchainExec = ','.join([str(q) for q in qs])\n",
    "        ci_kwargs_chainExec = ','.join([str(cikw) for cikw in ci_kwargs])\n",
    "        simCall = f'python LES_model_gill.py -pis {pichainExec} -qs {qchainExec} -l {l} -lci {lci} -ci_kwargs {ci_kwargs_chainExec} '\n",
    "        simCall += f'-N {N} -maxTime {maxTime} -Nrea {Nrea} -ic {ic} --time_evo'\n",
    "        call(simCall, shell=True)\n",
    "        call('tar -xzf sim_results_evos.tar.gz', shell=True)\n",
    "        call(f'mv sim_results_evos {evoName}', shell=True)\n",
    "        # before moving, chech if directory already exists and if so remove it:\n",
    "        if os.path.exists(f'{resPath}/{evoName}'):\n",
    "            call(f'rm -r {resPath}/{evoName}', shell=True)\n",
    "        # input('enter ')\n",
    "        call(f'mv {evoName} {resPath}/', shell=True)\n",
    "    if os.path.exists(os.path.exists(evoName)): # folder exits\n",
    "        evoFiles = glob.glob(f'{resPath}/{evoName}/*')\n",
    "    # elif os.path.exists(f'{evoName}.tar.gz'): # compressed folder exists\n",
    "    #     call(f'tar -xzf {evoName}.tar.gz', shell=True)\n",
    "    #     evoFiles = glob.glob(f'{evoName}/*')\n",
    "    else:\n",
    "        print('No evos folder found, please execute with execSim=True')\n",
    "        return\n",
    "    tssMax, statDataPool = [], {}\n",
    "    for k in range(len(pis)+1):\n",
    "        statDataPool[f'f{k}'] = []\n",
    "    statTime = 0.8*maxTime\n",
    "    for f in evoFiles:\n",
    "        tevo = pd.read_csv(f)\n",
    "        tssRea = []\n",
    "        for k in range(len(pis)+1):\n",
    "            fevo_smoothed = []\n",
    "            for i in range(int(maxTime/h)):\n",
    "                tmin, tmax = h*i, h*(i+1)\n",
    "                fblock = np.average(tevo.query('time >= @tmin and time < @tmax')[f'f{k}'])\n",
    "                fevo_smoothed.append(fblock)\n",
    "            statVal = np.average(tevo.query('time > @statTime')[f'f{k}'])\n",
    "            times_smooth = np.arange(0,maxTime,h)\n",
    "            tss = search_time_useStatDif(times_smooth, fevo_smoothed, statVal, statTime)\n",
    "            tssRea.append(tss)\n",
    "        tssRea = [t for t in tssRea if not isnan(t)]\n",
    "        if len(tssRea) > 0:\n",
    "            tssMaxRea = max(tssRea)\n",
    "            tssMax.append(tssMaxRea)\n",
    "            # get 2000 uniformly distributed points in the stationary state\n",
    "            tevoAux = tevo.query('time >= @tssMaxRea')\n",
    "            len_statData = len(tevoAux)\n",
    "            if len_statData < 2000:\n",
    "                print(f'could not get 2000 different ss values for {f}')\n",
    "            index_statData = np.linspace(tevoAux.index[0], tevoAux.index[-1], 2000, dtype=int)\n",
    "            tevoAux = tevo.query('index in @index_statData')\n",
    "            for k in range(len(pis)+1):\n",
    "                # statDataPool[f'f{k}'].extend(list(tevo.query('time >= @tssMaxRea')[f'f{k}'])[::3])\n",
    "                statDataPool[f'f{k}'].extend(list(tevoAux[f'f{k}']))\n",
    "    # save data: csv? npy?\n",
    "    tssMax_df = pd.DataFrame({'tss':tssMax})\n",
    "    tssMax_df.to_csv(f'{resPath}/tss_from_sim_results_evos_pis_{pichain}_qs_{qchain}_l_{l}_lci_{lci}_cikw_{ci_kwargs_chain}_N_{N}_ic_{ic}.csv', index=False)\n",
    "    statDataPool = pd.DataFrame(statDataPool)\n",
    "    statDataPool.to_csv(f'{resPath}/ss_data_from_sim_results_evos_pis_{pichain}_qs_{qchain}_l_{l}_lci_{lci}_cikw_{ci_kwargs_chain}_N_{N}_ic_{ic}.csv', index=False)\n",
    "    return tssMax, statDataPool"
   ]
  },
  {
   "cell_type": "code",
   "execution_count": 39,
   "metadata": {},
   "outputs": [],
   "source": [
    "pis, qs = [0.1, 0.1], [9.0, 10.0]\n",
    "l, lci, N, ic = 0.3, 1.0, 1000, 'N'\n",
    "ci_kwargs = [0, ]\n",
    "\n",
    "pichain = '_'.join([str(pi) for pi in pis])\n",
    "qchain = '_'.join([str(q) for q in qs])\n",
    "ci_kwargs_chain = '_'.join([str(cikw) for cikw in ci_kwargs])\n",
    "tevo = pd.read_csv(f'sim_results_evos_pis_{pichain}_qs_{qchain}_l_{l}_lci_{lci}_cikw_{ci_kwargs_chain}_N_{N}_ic_{ic}/time_evo_rea_19.csv')\n",
    "\n",
    "tevoAux = tevo.query('time >= @tssLin[-1]')\n",
    "\n",
    "index_statData = np.linspace(tevoAux.index[0], tevoAux.index[-1], N, dtype=int)\n",
    "tevoAux = tevo.query('index in @index_statData')"
   ]
  },
  {
   "cell_type": "code",
   "execution_count": 79,
   "metadata": {},
   "outputs": [],
   "source": [
    "pis, qs = [0.1, 0.1], [9.0, 10.0]\n",
    "l, lci, N, maxTime, Nrea, ic = 0.6, 1.0, 1000, 100.0, 100, 'N'\n",
    "\n",
    "h = 1.0\n",
    "\n",
    "ci_kwargs = [2, 0.3, 10.0]\n",
    "tssSig2, statDataSig2 = get_data_for_cost_func(h, pis, qs, l, lci, ci_kwargs, N, ic, maxTime, Nrea, execSim=True)\n",
    "\n",
    "ci_kwargs = [0, ]\n",
    "tssLin, statDataLin = get_data_for_cost_func(h, pis, qs, l, lci, ci_kwargs, N, ic, maxTime, Nrea, execSim=True)\n",
    "\n",
    "ci_kwargs = [1, 0.3, 10.0]\n",
    "tssSig1, statDataSig1 = get_data_for_cost_func(h, pis, qs, l, lci, ci_kwargs, N, ic, maxTime, Nrea, execSim=True)"
   ]
  },
  {
   "cell_type": "code",
   "execution_count": 82,
   "metadata": {},
   "outputs": [
    {
     "name": "stdout",
     "output_type": "stream",
     "text": [
      "0.39 0.009344179487179487\n",
      "0.6099999999999991 0.8255372213114756\n",
      "------\n",
      "0.3499999999999999 0.008540185714285716\n",
      "0.6499999999999994 0.8376042461538461\n",
      "------\n",
      "0.4 0.010704775000000001\n",
      "0.6000000000000005 0.7568340583333335\n",
      "------\n"
     ]
    },
    {
     "data": {
      "text/plain": [
       "<matplotlib.legend.Legend at 0x7f82c0daca90>"
      ]
     },
     "execution_count": 82,
     "metadata": {},
     "output_type": "execute_result"
    },
    {
     "data": {
      "image/png": "[encoded data removed]",
      "text/plain": [
       "<Figure size 400x400 with 1 Axes>"
      ]
     },
     "metadata": {},
     "output_type": "display_data"
    }
   ],
   "source": [
    "ci_kwargs_list = [[0, ], [2, 0.3, 10.0], [1, 0.3, 10.0]]\n",
    "\n",
    "species = []\n",
    "for ci_kwargs in ci_kwargs_list:\n",
    "    if len(ci_kwargs) == 1:\n",
    "        species.append(\"linear\")\n",
    "    elif len(ci_kwargs) == 4 and int(ci_kwargs[3]) == 1:\n",
    "        species.append(fr\"$\\sigma_{ci_kwargs[0]}^{{lin}} ({ci_kwargs[1]}, {ci_kwargs[2]})$\")\n",
    "    else:\n",
    "        species.append(fr\"$\\sigma_{ci_kwargs[0]} ({ci_kwargs[1]}, {ci_kwargs[2]})$\")\n",
    "\n",
    "peaksCut = 0.4\n",
    "peaksAvg = []\n",
    "peaksProb = []\n",
    "fig, ax = plt.subplots(1,1,figsize=(4,4), constrained_layout=True)\n",
    "for i,(ci_kwargs,cilabel) in enumerate(zip(ci_kwargs_list,species)):\n",
    "    ci_kwargs_chain = '_'.join([str(cikw) for cikw in ci_kwargs])\n",
    "    ssdata_df = pd.read_csv(f'{resPath}/ss_data_from_sim_results_evos_pis_{pichain}_qs_{qchain}_l_{l}_lci_{lci}_cikw_{ci_kwargs_chain}_N_{N}_ic_{ic}.csv')\n",
    "    fdata = np.array(ssdata_df['f2'])\n",
    "    hist, bin_edges = np.histogram(fdata, bins=499, range=(0,1.0), density=True)\n",
    "    bin_centers = (bin_edges[1:] + bin_edges[:-1])/2\n",
    "    binWidth = bin_edges[1]-bin_edges[0]\n",
    "    ln, = ax.plot(bin_centers, hist, marker='.', ms=2, lw=0.8, label=cilabel)\n",
    "    prob1, ssval1 = sum(hist[bin_centers<0.5]*binWidth), np.average(fdata[fdata<peaksCut])\n",
    "    prob2, ssval2 = sum(hist[bin_centers>=0.5]*binWidth), np.average(fdata[fdata>=peaksCut])\n",
    "    fig.text(0.3, 0.6-0.05*i, f'{round(prob1,4)}, {round(prob2,4)}', color=ln.get_color())\n",
    "    print(prob1, ssval1)\n",
    "    print(prob2, ssval2)\n",
    "    print('------')\n",
    "    peaksAvg.extend([ssval1, ssval2])\n",
    "    peaksProb.extend([prob1, prob2])\n",
    "    \n",
    "fig.legend(frameon=False)\n"
   ]
  },
  {
   "cell_type": "code",
   "execution_count": 83,
   "metadata": {},
   "outputs": [],
   "source": [
    "pichain = '_'.join([str(pi) for pi in pis])\n",
    "qchain = '_'.join([str(q) for q in qs])\n",
    "\n",
    "sstimes = []\n",
    "for ci_kwargs in ci_kwargs_list:\n",
    "    ci_kwargs_chain = '_'.join([str(cikw) for cikw in ci_kwargs])\n",
    "    fname = f'tss_from_sim_results_evos_pis_{pichain}_qs_{qchain}_l_{l}_lci_{lci}_cikw_{ci_kwargs_chain}_N_{N}_ic_{ic}.csv'\n",
    "    times_df = pd.read_csv(f'{resPath}/{fname}')\n",
    "    sstimes.append(np.average(times_df['tss']))"
   ]
  },
  {
   "cell_type": "code",
   "execution_count": 84,
   "metadata": {},
   "outputs": [
    {
     "name": "stdout",
     "output_type": "stream",
     "text": [
      "1.4287752514776648\n",
      "1.2022908099690812\n"
     ]
    }
   ],
   "source": [
    "costF_lin = peaksAvg[1]*peaksProb[1]/np.average(sstimes[0])\n",
    "costF_sig2 = peaksAvg[3]*peaksProb[3]/np.average(sstimes[1])\n",
    "costF_sig1 = peaksAvg[5]*peaksProb[5]/np.average(sstimes[2])\n",
    "\n",
    "\n",
    "chi = costF_sig2/costF_lin\n",
    "print(chi)\n",
    "chi = costF_sig1/costF_lin\n",
    "print(chi)"
   ]
  },
  {
   "cell_type": "code",
   "execution_count": null,
   "metadata": {},
   "outputs": [],
   "source": []
  }
 ],
 "metadata": {
  "kernelspec": {
   "display_name": "base",
   "language": "python",
   "name": "python3"
  },
  "language_info": {
   "codemirror_mode": {
    "name": "ipython",
    "version": 3
   },
   "file_extension": ".py",
   "mimetype": "text/x-python",
   "name": "python",
   "nbconvert_exporter": "python",
   "pygments_lexer": "ipython3",
   "version": "3.10.13"
  }
 },
 "nbformat": 4,
 "nbformat_minor": 2
}
