{
 "cells": [
  {
   "cell_type": "code",
   "execution_count": 1,
   "metadata": {},
   "outputs": [],
   "source": [
    "import numpy as np\n",
    "from subprocess import call\n",
    "import argparse\n",
    "import os\n",
    "import pandas as pd\n",
    "from math import isnan\n",
    "import random\n",
    "import glob\n",
    "import sys\n",
    "sys.path.append('../')\n",
    "from package_global_functions import *\n",
    "\n",
    "extSSDpath = getExternalSSDpath()\n",
    "if os.path.exists(extSSDpath):\n",
    "    resPath = extSSDpath + getProjectFoldername() + '/gillespie_sim_ci/results'\n",
    "else:\n",
    "    resPath = '/results'\n",
    "    print('Forgot the SSD!!!!!')"
   ]
  },
  {
   "cell_type": "code",
   "execution_count": 42,
   "metadata": {},
   "outputs": [
    {
     "name": "stdout",
     "output_type": "stream",
     "text": [
      "Sim trajectories:  900\n",
      "Computed tss:  100\n",
      "Computed stat Data values:  200000\n"
     ]
    }
   ],
   "source": [
    "pis, qs = [0.1, 0.1], [9.0, 10.0]\n",
    "l, lci, N, maxTime, Nrea, ic = 0.6, 1.0, 1000, 100.0, 100, 'N'\n",
    "# ci_kwargs = [0, ]\n",
    "ci_kwargs = [2, 0.3, 500.0] # strange things l 0.3, 0.45, 0.6\n",
    "# ci_kwargs = [2, 0.3, 10.0] \n",
    "\n",
    "pichain = '_'.join([str(pi) for pi in pis])\n",
    "qchain = '_'.join([str(q) for q in qs])\n",
    "ci_kwargs_chain = '_'.join([str(cikw) for cikw in ci_kwargs])\n",
    "\n",
    "evoName = f'sim_results_evos_pis_{pichain}_qs_{qchain}_l_{l}_lci_{lci}_cikw_{ci_kwargs_chain}_N_{N}_ic_{ic}'\n",
    "evoFiles = glob.glob(f'{resPath}/{evoName}/*')\n",
    "\n",
    "tssFile = pd.read_csv(f'{resPath}/tss_from_sim_results_evos_pis_{pichain}_qs_{qchain}_l_{l}_lci_{lci}_cikw_{ci_kwargs_chain}_N_{N}_ic_{ic}.csv')\n",
    "statDataFile = pd.read_csv(f'{resPath}/ss_data_from_sim_results_evos_pis_{pichain}_qs_{qchain}_l_{l}_lci_{lci}_cikw_{ci_kwargs_chain}_N_{N}_ic_{ic}.csv')\n",
    "\n",
    "print('Sim trajectories: ', len(evoFiles))\n",
    "print('Computed tss: ', len(tssFile))\n",
    "print('Computed stat Data values: ', len(statDataFile))"
   ]
  },
  {
   "cell_type": "code",
   "execution_count": 3,
   "metadata": {},
   "outputs": [
    {
     "name": "stdout",
     "output_type": "stream",
     "text": [
      "ci: (0,) --------------\n",
      "0.1, Rea: 100, tss: 100, statData: 200000\n",
      "0.2, Rea: 100, tss: 100, statData: 200000\n",
      "0.3, Rea: 100, tss: 100, statData: 200000\n",
      "0.45, Rea: 100, tss: 100, statData: 200000\n",
      "0.6, Rea: 100, tss: 100, statData: 200000\n",
      "0.75, Rea: 100, tss: 100, statData: 200000\n",
      "0.9, Rea: 100, tss: 100, statData: 200000\n",
      "---------------------------\n",
      "ci: (1, 0.3, 10.0) --------------\n",
      "0.1, Rea: 100, tss: 100, statData: 200000\n",
      "0.2, Rea: 100, tss: 100, statData: 200000\n",
      "0.3, Rea: 100, tss: 100, statData: 200000\n",
      "0.45, Rea: 100, tss: 100, statData: 200000\n",
      "0.6, Rea: 100, tss: 100, statData: 200000\n",
      "0.75, Rea: 100, tss: 100, statData: 200000\n",
      "0.9, Rea: 100, tss: 100, statData: 200000\n",
      "---------------------------\n",
      "ci: (2, 0.3, 10.0) --------------\n",
      "0.1, Rea: 100, tss: 100, statData: 200000\n",
      "0.2, Rea: 100, tss: 100, statData: 200000\n",
      "0.3, Rea: 100, tss: 100, statData: 200000\n",
      "0.45, Rea: 100, tss: 100, statData: 200000\n",
      "0.6, Rea: 100, tss: 100, statData: 200000\n",
      "0.75, Rea: 100, tss: 100, statData: 200000\n",
      "0.9, Rea: 100, tss: 100, statData: 200000\n",
      "---------------------------\n",
      "ci: (1, 0.3, 500.0) --------------\n",
      "0.1, Rea: 100, tss: 100, statData: 200000\n",
      "0.2, Rea: 100, tss: 100, statData: 200000\n",
      "0.3, Rea: 100, tss: 100, statData: 200000\n",
      "0.45, Rea: 100, tss: 100, statData: 200000\n",
      "0.6, Rea: 100, tss: 100, statData: 200000\n",
      "0.75, Rea: 100, tss: 100, statData: 200000\n",
      "0.9, Rea: 100, tss: 100, statData: 200000\n",
      "---------------------------\n",
      "ci: (2, 0.3, 500.0) --------------\n",
      "0.1, Rea: 100, tss: 100, statData: 200000\n",
      "0.2, Rea: 100, tss: 100, statData: 200000\n",
      "0.3, Rea: 100, tss: 100, statData: 200000\n",
      "0.45, Rea: 100, tss: 100, statData: 200000\n",
      "0.6, Rea: 100, tss: 100, statData: 200000\n",
      "0.75, Rea: 100, tss: 100, statData: 200000\n",
      "0.9, Rea: 100, tss: 100, statData: 200000\n",
      "---------------------------\n"
     ]
    }
   ],
   "source": [
    "pis, qs = [0.1, 0.1], [8.0, 10.0]\n",
    "lci, N, maxTime, Nrea, ic = 1.0, 1000, 100.0, 100, 'N'\n",
    "pichain = '_'.join([str(pi) for pi in pis])\n",
    "qchain = '_'.join([str(q) for q in qs])\n",
    "\n",
    "ls = [0.1, 0.2, 0.3, 0.45, 0.6, 0.75, 0.9]\n",
    "# ls = [0.1, 0.2, 0.3, 0.45, 0.6, 0.9]\n",
    "ci_kwargs_list = [(0, ), (1, 0.3, 10.0), (2, 0.3, 10.0), (1, 0.3, 500.0), (2, 0.3, 500.0)]\n",
    "\n",
    "for ci_kwargs in ci_kwargs_list:\n",
    "    ci_kwargs_chain = '_'.join([str(cikw) for cikw in ci_kwargs])\n",
    "    print(f'ci: {ci_kwargs} --------------')\n",
    "    for l in ls:\n",
    "        evoName = f'sim_results_evos_pis_{pichain}_qs_{qchain}_l_{l}_lci_{lci}_cikw_{ci_kwargs_chain}_N_{N}_ic_{ic}'\n",
    "        if os.path.exists(f'{resPath}/{evoName}/'):\n",
    "            evoFiles = glob.glob(f'{resPath}/{evoName}/*')\n",
    "            tssFile = pd.read_csv(f'{resPath}/tss_from_sim_results_evos_pis_{pichain}_qs_{qchain}_l_{l}_lci_{lci}_cikw_{ci_kwargs_chain}_N_{N}_ic_{ic}.csv')\n",
    "            statDataFile = pd.read_csv(f'{resPath}/ss_data_from_sim_results_evos_pis_{pichain}_qs_{qchain}_l_{l}_lci_{lci}_cikw_{ci_kwargs_chain}_N_{N}_ic_{ic}.csv')\n",
    "            print(f'{l}, Rea: {len(evoFiles)}, tss: {len(tssFile)}, statData: {len(statDataFile)}')\n",
    "        else:\n",
    "            print(f'{l}, Rea: 0, tss: -, statData: -')\n",
    "    print('---------------------------')\n",
    "        "
   ]
  },
  {
   "cell_type": "code",
   "execution_count": null,
   "metadata": {},
   "outputs": [],
   "source": []
  }
 ],
 "metadata": {
  "kernelspec": {
   "display_name": "base",
   "language": "python",
   "name": "python3"
  },
  "language_info": {
   "codemirror_mode": {
    "name": "ipython",
    "version": 3
   },
   "file_extension": ".py",
   "mimetype": "text/x-python",
   "name": "python",
   "nbconvert_exporter": "python",
   "pygments_lexer": "ipython3",
   "version": "3.10.13"
  }
 },
 "nbformat": 4,
 "nbformat_minor": 2
}
