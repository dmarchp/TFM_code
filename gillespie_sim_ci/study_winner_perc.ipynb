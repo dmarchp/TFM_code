{
 "cells": [
  {
   "cell_type": "code",
   "execution_count": 15,
   "metadata": {},
   "outputs": [],
   "source": [
    "import numpy as np\n",
    "import matplotlib.pyplot as plt\n",
    "from subprocess import call\n",
    "import os\n",
    "import pandas as pd\n",
    "import glob"
   ]
  },
  {
   "cell_type": "code",
   "execution_count": 61,
   "metadata": {},
   "outputs": [],
   "source": [
    "# simulate and count how many times the good option/ bad option wins:\n",
    "def sim_winner_count():\n",
    "    global pis, qs, l, lci, N, maxTime, Nrea, ic, ci_kwargs\n",
    "    pichain = ','.join([str(pi) for pi in pis])\n",
    "    qchain = ','.join([str(q) for q in qs])\n",
    "    ci_kwargs_chain = ','.join([str(cikw) for cikw in ci_kwargs])\n",
    "    simCall = f'python LES_model_gill.py -pis {pichain} -qs {qchain} -l {l} -lci {lci} -ci_kwargs {ci_kwargs_chain} '\n",
    "    simCall += f'-N {N} -maxTime {maxTime} -Nrea {Nrea} -ic {ic} > simEnds.txt'\n",
    "    call(simCall, shell=True)\n",
    "    df = pd.read_csv('simEnds.txt', sep='\\s+', names=['f0', 'f1', 'f2'])\n",
    "    f1wins = len(df.query('f1 > f2 & f1 > f0'))\n",
    "    f2wins = len(df.query('f2 > f1 & f2 > f0'))\n",
    "    f0wins = len(df.query('f0 > f1 & f0 > f2'))\n",
    "    f1f2draw = len(df.query('f1 == f2'))\n",
    "    return f0wins,f1wins,f2wins,f1f2draw\n",
    "    "
   ]
  },
  {
   "cell_type": "code",
   "execution_count": 60,
   "metadata": {},
   "outputs": [
    {
     "name": "stdout",
     "output_type": "stream",
     "text": [
      "0 89 111 0\n"
     ]
    }
   ],
   "source": [
    "df = pd.read_csv('simEnds.txt', sep='\\s+', names=['f0', 'f1', 'f2'])\n",
    "f1wins = len(df.query('f1 > f2 & f1 > f0'))\n",
    "f2wins = len(df.query('f2 > f1 & f2 > f0'))\n",
    "f0wins = len(df.query('f0 > f1 & f0 > f2'))\n",
    "f1f2draw = len(df.query('f1 == f2'))\n",
    "print(f0wins,f1wins,f2wins,f1f2draw)"
   ]
  },
  {
   "cell_type": "code",
   "execution_count": 62,
   "metadata": {},
   "outputs": [
    {
     "name": "stdout",
     "output_type": "stream",
     "text": [
      "[1]:  0.0 43.5 56.49999999999999\n",
      "[2, 0.35, 5]:  0.0 9.5 90.5\n",
      "[2, 0.35, 10]:  0.0 10.0 90.0\n",
      "[2, 0.35, 20]:  0.0 8.5 91.5\n",
      "[2, 0.35, 40]:  0.0 8.0 91.0\n"
     ]
    }
   ],
   "source": [
    "pis, qs = [0.1, 0.1], [9.0, 10.0]\n",
    "l, lci, N, maxTime, Nrea, ic = 0.6, 0.6, 250, 70.0, 200, 'N'\n",
    "\n",
    "# changing x0: \n",
    "# ci_kwargs_list = [[1,], [2, 0.2, 40], [2, 0.35, 40], [2, 0.5, 40], [2, 0.8, 40]]\n",
    "# changing a:\n",
    "ci_kwargs_list = [[1,], [2, 0.35, 5], [2, 0.35, 10], [2, 0.35, 20], [2, 0.35, 40]]\n",
    "fi_win_counts = {'f0':[], 'f1':[], 'f2':[], 'f1f2draw':[]}\n",
    "\n",
    "for ci_kwargs in ci_kwargs_list:\n",
    "    f0wins, f1wins, f2wins, f1f2draw = sim_winner_count()\n",
    "    if f0wins+f1wins+f2wins+f1f2draw != Nrea:\n",
    "        print('oju!')\n",
    "    print(f'{ci_kwargs}: ', f0wins/Nrea*100, f1wins/Nrea*100, f2wins/Nrea*100)\n",
    "    fi_win_counts['f0'].append(f0wins)\n",
    "    fi_win_counts['f1'].append(f1wins)\n",
    "    fi_win_counts['f2'].append(f2wins)\n",
    "    fi_win_counts['f1f2draw'].append(f1f2draw)"
   ]
  },
  {
   "cell_type": "code",
   "execution_count": 64,
   "metadata": {},
   "outputs": [
    {
     "data": {
      "image/png": "[encoded data removed]",
      "text/plain": [
       "<Figure size 640x480 with 1 Axes>"
      ]
     },
     "metadata": {},
     "output_type": "display_data"
    }
   ],
   "source": [
    "# shoud somehow label items of the ci_kwargs_list\n",
    "# changing x0:\n",
    "# species = (\"linear\", r\"$\\sigma(0.2,40)$\", r\"$\\sigma(0.35,40)$\", r\"$\\sigma(0.5,40)$\", r\"$\\sigma(0.8,40)$\")\n",
    "# changing a:\n",
    "species = (\"linear\", r\"$\\sigma(0.35,5)$\", r\"$\\sigma(0.35,10)$\", r\"$\\sigma(0.35,20)$\", r\"$\\sigma(0.35,40)$\")\n",
    "\n",
    "x = np.arange(len(species))  # the label locations\n",
    "width = 0.2  # the width of the bars\n",
    "multiplier = 0\n",
    "\n",
    "fi_colors = {'f0':'xkcd:red', 'f1':'xkcd:green', 'f2':'xkcd:blue', 'f1f2draw':'xkcd:orange'}\n",
    "fig, ax = plt.subplots(layout='constrained')\n",
    "\n",
    "for fi, wincount in fi_win_counts.items():\n",
    "    offset = width * multiplier\n",
    "    rects = ax.bar(x + offset, np.array(wincount)/Nrea, width, label=fi, color=fi_colors[fi])\n",
    "    ax.bar_label(rects, padding=3, color=fi_colors[fi], fontsize=7)\n",
    "    multiplier += 1\n",
    "\n",
    "# Add some text for labels, title and custom x-axis tick labels, etc.\n",
    "ax.set_ylabel(r'$f_i$ win %')\n",
    "ax.set_xticks(x + width, species)\n",
    "ax.legend(loc='upper left', ncols=4, frameon=False)\n",
    "ax.set_ylim(0, 1)\n",
    "\n",
    "# fig.savefig(f'sim_dif_cimode_chx0_fi_win_perc_pi1_{pis[0]}_pi2_{pis[1]}_q1_{qs[0]}_q2_{qs[1]}_l_{l}_lci_{lci}_ic_{ic}.png')\n",
    "fig.savefig(f'sim_dif_cimode_cha_fi_win_perc_pi1_{pis[0]}_pi2_{pis[1]}_q1_{qs[0]}_q2_{qs[1]}_l_{l}_lci_{lci}_ic_{ic}.png')"
   ]
  },
  {
   "cell_type": "code",
   "execution_count": null,
   "metadata": {},
   "outputs": [],
   "source": []
  }
 ],
 "metadata": {
  "kernelspec": {
   "display_name": "base",
   "language": "python",
   "name": "python3"
  },
  "language_info": {
   "codemirror_mode": {
    "name": "ipython",
    "version": 3
   },
   "file_extension": ".py",
   "mimetype": "text/x-python",
   "name": "python",
   "nbconvert_exporter": "python",
   "pygments_lexer": "ipython3",
   "version": "3.10.13"
  }
 },
 "nbformat": 4,
 "nbformat_minor": 2
}
