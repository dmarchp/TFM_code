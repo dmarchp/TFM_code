{
 "cells": [
  {
   "cell_type": "code",
   "execution_count": 1,
   "id": "2b33bb06-1e58-495e-9617-6194db7730ff",
   "metadata": {},
   "outputs": [],
   "source": [
    "import pandas as pd\n",
    "from network_global_functions import *\n",
    "import igraph as ig"
   ]
  },
  {
   "cell_type": "code",
   "execution_count": 2,
   "id": "fbe6f54d-7d1e-4139-ac34-c040281612cc",
   "metadata": {},
   "outputs": [],
   "source": [
    "N = 5\n",
    "c0 = [1, 1, 1, 2, 3]\n",
    "c1 = [2, 3, 5, 5, 5]\n",
    "dfconfig = pd.DataFrame({'contacts0':c0, 'contacts1':c1})"
   ]
  },
  {
   "cell_type": "code",
   "execution_count": 3,
   "id": "601e70e5-3cd0-4da5-9b05-68227bc9234a",
   "metadata": {},
   "outputs": [],
   "source": [
    "nodes, degrees = getConfigDegrees(dfconfig, 5)"
   ]
  },
  {
   "cell_type": "code",
   "execution_count": 4,
   "id": "b5bda3cb-20ed-421b-92c5-6120e23e4e1a",
   "metadata": {},
   "outputs": [
    {
     "data": {
      "text/plain": [
       "[3, 2, 2, 3, 0]"
      ]
     },
     "execution_count": 4,
     "metadata": {},
     "output_type": "execute_result"
    }
   ],
   "source": [
    "degrees"
   ]
  },
  {
   "cell_type": "code",
   "execution_count": null,
   "id": "e94b9a19-8926-4a44-8c96-52bc29bba13a",
   "metadata": {},
   "outputs": [],
   "source": []
  }
 ],
 "metadata": {
  "kernelspec": {
   "display_name": "Python 3 (ipykernel)",
   "language": "python",
   "name": "python3"
  },
  "language_info": {
   "codemirror_mode": {
    "name": "ipython",
    "version": 3
   },
   "file_extension": ".py",
   "mimetype": "text/x-python",
   "name": "python",
   "nbconvert_exporter": "python",
   "pygments_lexer": "ipython3",
   "version": "3.9.16"
  }
 },
 "nbformat": 4,
 "nbformat_minor": 5
}
