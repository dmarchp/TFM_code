{
 "cells": [
  {
   "cell_type": "code",
   "execution_count": 25,
   "metadata": {},
   "outputs": [],
   "source": [
    "import numpy as np\n",
    "import matplotlib.pyplot as plt\n",
    "from math import floor, ceil\n",
    "import pandas as pd\n",
    "import sys\n",
    "sys.path.append('./../../entropy/sweetsourcod/')\n",
    "from sweetsourcod.lempel_ziv import cross_parsing_complexity, cross_parsing_factors"
   ]
  },
  {
   "cell_type": "code",
   "execution_count": 2,
   "metadata": {},
   "outputs": [],
   "source": [
    "def dist2D(pos1, pos2):\n",
    "    return np.sqrt((pos1[0]-pos2[0])**2+(pos1[1]-pos2[1])**2)"
   ]
  },
  {
   "cell_type": "code",
   "execution_count": 3,
   "metadata": {},
   "outputs": [],
   "source": [
    "filename = '20221104_0051.npy'\n",
    "traj = np.load(f'{filename}', allow_pickle=True).item()\n",
    "lenFrames = traj['trajectories'].shape[0]\n",
    "Nfish = traj['trajectories'].shape[1]\n",
    "\n",
    "# traj of the center of mass:\n",
    "trajCM = np.sum(traj['trajectories'], axis=1)/Nfish"
   ]
  },
  {
   "cell_type": "code",
   "execution_count": 4,
   "metadata": {},
   "outputs": [
    {
     "name": "stdout",
     "output_type": "stream",
     "text": [
      "2755\n",
      "2876\n"
     ]
    }
   ],
   "source": [
    "traj['setup_points']\n",
    "print(-traj['setup_points']['corners_out'][0,0]+traj['setup_points']['corners_out'][1,0])\n",
    "print(-traj['setup_points']['corners_out'][3,0]+traj['setup_points']['corners_out'][2,0])"
   ]
  },
  {
   "cell_type": "code",
   "execution_count": 5,
   "metadata": {},
   "outputs": [],
   "source": [
    "min_dists = []\n",
    "max_dists = []\n",
    "max_dists_to_CM = []\n",
    "max_time = 100000\n",
    "max_time = lenFrames\n",
    "for t in range(max_time):\n",
    "    dists = []\n",
    "    dists_to_CM = []\n",
    "    for f in range(Nfish-2):\n",
    "        dists_to_CM.append(dist2D(traj['trajectories'][t,f,:], trajCM[t,:]))\n",
    "        for g in range(f+1,Nfish):\n",
    "            d = dist2D(traj['trajectories'][t,f,:], traj['trajectories'][t,g,:])\n",
    "            dists.append(d)\n",
    "    min_dists.append(min(dists))\n",
    "    max_dists.append(max(dists))\n",
    "    dists_to_CM.append(dist2D(traj['trajectories'][t,Nfish-1,:], trajCM[t,:]))\n",
    "    max_dists_to_CM.append(max(dists_to_CM))"
   ]
  },
  {
   "cell_type": "code",
   "execution_count": 6,
   "metadata": {},
   "outputs": [
    {
     "name": "stdout",
     "output_type": "stream",
     "text": [
      "Min distance between fish: 0.3319327425231726\n",
      "Max distance between fish: 1807.0182116972996\n",
      "Max distance to the center of mass: 1220.0783491539992\n",
      "Average distance to the center of mass: 365.6164043984056\n"
     ]
    }
   ],
   "source": [
    "minDist, maxDist, maxDistCM = min(min_dists), max(max_dists), max(max_dists_to_CM)\n",
    "avgDistCM = np.average(max_dists_to_CM)\n",
    "print(f'Min distance between fish: {minDist}')\n",
    "print(f'Max distance between fish: {maxDist}')\n",
    "print(f'Max distance to the center of mass: {maxDistCM}')\n",
    "print(f'Average distance to the center of mass: {avgDistCM}')"
   ]
  },
  {
   "cell_type": "code",
   "execution_count": 7,
   "metadata": {},
   "outputs": [
    {
     "data": {
      "text/plain": [
       "(array([4.1000e+01, 5.9000e+01, 1.1600e+02, 1.7100e+02, 2.5400e+02,\n",
       "        4.4400e+02, 7.3400e+02, 9.2900e+02, 1.2910e+03, 1.8480e+03,\n",
       "        2.5160e+03, 3.4850e+03, 4.4490e+03, 5.6850e+03, 7.1960e+03,\n",
       "        8.1700e+03, 9.7580e+03, 1.0934e+04, 1.1922e+04, 1.2239e+04,\n",
       "        1.1860e+04, 1.1732e+04, 1.1279e+04, 1.0849e+04, 1.0011e+04,\n",
       "        8.7500e+03, 7.5840e+03, 6.1770e+03, 4.7880e+03, 3.6570e+03,\n",
       "        2.9750e+03, 2.3900e+03, 1.7290e+03, 1.1310e+03, 8.5100e+02,\n",
       "        6.1500e+02, 3.8200e+02, 3.1800e+02, 2.2400e+02, 1.6800e+02,\n",
       "        1.0100e+02, 6.6000e+01, 4.0000e+01, 3.5000e+01, 2.1000e+01,\n",
       "        1.3000e+01, 5.0000e+00, 4.0000e+00, 3.0000e+00, 2.0000e+00]),\n",
       " array([  0.33193274,   4.78088431,   9.22983587,  13.67878743,\n",
       "         18.127739  ,  22.57669056,  27.02564212,  31.47459368,\n",
       "         35.92354525,  40.37249681,  44.82144837,  49.27039994,\n",
       "         53.7193515 ,  58.16830306,  62.61725463,  67.06620619,\n",
       "         71.51515775,  75.96410932,  80.41306088,  84.86201244,\n",
       "         89.31096401,  93.75991557,  98.20886713, 102.6578187 ,\n",
       "        107.10677026, 111.55572182, 116.00467339, 120.45362495,\n",
       "        124.90257651, 129.35152808, 133.80047964, 138.2494312 ,\n",
       "        142.69838276, 147.14733433, 151.59628589, 156.04523745,\n",
       "        160.49418902, 164.94314058, 169.39209214, 173.84104371,\n",
       "        178.28999527, 182.73894683, 187.1878984 , 191.63684996,\n",
       "        196.08580152, 200.53475309, 204.98370465, 209.43265621,\n",
       "        213.88160778, 218.33055934, 222.7795109 ]),\n",
       " <BarContainer object of 50 artists>)"
      ]
     },
     "execution_count": 7,
     "metadata": {},
     "output_type": "execute_result"
    },
    {
     "data": {
      "image/png": "[encoded data removed]",
      "text/plain": [
       "<Figure size 640x480 with 1 Axes>"
      ]
     },
     "metadata": {},
     "output_type": "display_data"
    }
   ],
   "source": [
    "fig, ax = plt.subplots()\n",
    "ax.hist(min_dists, bins=50)\n",
    "# ax.set_xlim(0,20.0)"
   ]
  },
  {
   "cell_type": "code",
   "execution_count": 8,
   "metadata": {},
   "outputs": [
    {
     "data": {
      "text/plain": [
       "(array([1.1100e+02, 8.8200e+02, 2.9300e+03, 5.9900e+03, 9.9300e+03,\n",
       "        1.3062e+04, 1.6269e+04, 1.6862e+04, 1.7263e+04, 1.5898e+04,\n",
       "        1.3969e+04, 1.1250e+04, 1.0348e+04, 8.2780e+03, 6.3920e+03,\n",
       "        5.3680e+03, 4.2630e+03, 3.5760e+03, 2.7480e+03, 2.1820e+03,\n",
       "        1.7750e+03, 1.5740e+03, 1.2140e+03, 1.1390e+03, 1.0090e+03,\n",
       "        8.2700e+02, 7.6700e+02, 5.8900e+02, 6.5200e+02, 4.3800e+02,\n",
       "        3.6300e+02, 3.4600e+02, 3.0400e+02, 2.5700e+02, 2.8500e+02,\n",
       "        1.4000e+02, 1.0400e+02, 9.6000e+01, 9.0000e+01, 8.8000e+01,\n",
       "        8.1000e+01, 6.0000e+01, 5.3000e+01, 4.1000e+01, 2.8000e+01,\n",
       "        3.1000e+01, 2.7000e+01, 1.9000e+01, 1.9000e+01, 1.4000e+01]),\n",
       " array([ 133.97146962,  155.69360721,  177.4157448 ,  199.13788239,\n",
       "         220.86001998,  242.58215757,  264.30429516,  286.02643275,\n",
       "         307.74857034,  329.47070793,  351.19284552,  372.91498311,\n",
       "         394.6371207 ,  416.3592583 ,  438.08139589,  459.80353348,\n",
       "         481.52567107,  503.24780866,  524.96994625,  546.69208384,\n",
       "         568.41422143,  590.13635902,  611.85849661,  633.5806342 ,\n",
       "         655.30277179,  677.02490938,  698.74704698,  720.46918457,\n",
       "         742.19132216,  763.91345975,  785.63559734,  807.35773493,\n",
       "         829.07987252,  850.80201011,  872.5241477 ,  894.24628529,\n",
       "         915.96842288,  937.69056047,  959.41269806,  981.13483566,\n",
       "        1002.85697325, 1024.57911084, 1046.30124843, 1068.02338602,\n",
       "        1089.74552361, 1111.4676612 , 1133.18979879, 1154.91193638,\n",
       "        1176.63407397, 1198.35621156, 1220.07834915]),\n",
       " <BarContainer object of 50 artists>)"
      ]
     },
     "execution_count": 8,
     "metadata": {},
     "output_type": "execute_result"
    },
    {
     "data": {
      "image/png": "[encoded data removed]",
      "text/plain": [
       "<Figure size 640x480 with 1 Axes>"
      ]
     },
     "metadata": {},
     "output_type": "display_data"
    }
   ],
   "source": [
    "fig, ax = plt.subplots()\n",
    "ax.hist(max_dists_to_CM, bins=50)\n",
    "# ax.set_xlim(0,20.0)"
   ]
  },
  {
   "cell_type": "code",
   "execution_count": 9,
   "metadata": {},
   "outputs": [
    {
     "name": "stdout",
     "output_type": "stream",
     "text": [
      "0.3319327425231726\n",
      "731.2478317785493\n",
      "731.2328087968112\n",
      "4853209\n"
     ]
    }
   ],
   "source": [
    "# boxSide = round(minDist, 2)\n",
    "boxSide = minDist\n",
    "print(boxSide)\n",
    "# L = ceil(maxDistCM*2/boxSide)\n",
    "Lint = ceil(avgDistCM*2/boxSide)\n",
    "L = Lint*boxSide\n",
    "print(L)\n",
    "print(avgDistCM*2)\n",
    "\n",
    "Nboxs = Lint**2\n",
    "print(Nboxs)"
   ]
  },
  {
   "cell_type": "code",
   "execution_count": 11,
   "metadata": {},
   "outputs": [],
   "source": [
    "traj_for_entropy = []\n",
    "frame_l, col_l, row_l, id_l = [], [], [], []\n",
    "for t in range(max_time):\n",
    "    timeStep_allf = []\n",
    "    for f in traj['trajectories'][t]:\n",
    "        col = int((f[0]-trajCM[0,0]+L/2)/boxSide)\n",
    "        row = int((f[1]-trajCM[0,1]+L/2)/boxSide)\n",
    "        x0, y0 = col*boxSide, row*boxSide\n",
    "        lilBox = (f[0]-trajCM[0,0]+L/2 > x0 + boxSide/2, f[1]-trajCM[0,1]+L/2 > y0 + boxSide/2)\n",
    "        if lilBox == (False, True):\n",
    "            id = 1\n",
    "        elif lilBox == (True, True):\n",
    "            id = 2\n",
    "        elif lilBox == (True, False):\n",
    "            id = 3\n",
    "        elif lilBox == (False, False):\n",
    "            id = 4\n",
    "        # print(col, row, id)\n",
    "        timeStep_allf.append([col, row, id])\n",
    "        frame_l.append(t), col_l.append(col), row_l.append(row), id_l.append(id)\n",
    "    traj_for_entropy.append(timeStep_allf)\n",
    "traj_for_entropy = np.array(traj_for_entropy)\n",
    "df_for_entropy = pd.DataFrame({'time': frame_l, 'col':col_l, 'row':row_l, 'id':id_l})\n"
   ]
  },
  {
   "cell_type": "code",
   "execution_count": 12,
   "metadata": {},
   "outputs": [
    {
     "name": "stdout",
     "output_type": "stream",
     "text": [
      "7651\n"
     ]
    }
   ],
   "source": [
    "cols = pd.unique(df_for_entropy['col'])\n",
    "rows = pd.unique(df_for_entropy['row'])\n",
    "\n",
    "print(len(cols))\n",
    "# for col in cols:\n",
    "#     for row in rows:\n",
    "#         counts = len(df_for_entropy.query('col == @col & row == @row'))\n",
    "#         if counts > 1:\n",
    "#             print(col, row, counts)"
   ]
  },
  {
   "cell_type": "code",
   "execution_count": 14,
   "metadata": {},
   "outputs": [
    {
     "data": {
      "text/plain": [
       "2203"
      ]
     },
     "execution_count": 14,
     "metadata": {},
     "output_type": "execute_result"
    }
   ],
   "source": [
    "Lint"
   ]
  },
  {
   "cell_type": "code",
   "execution_count": 15,
   "metadata": {},
   "outputs": [],
   "source": [
    "# look for a box with many counts close to the center of mass\n",
    "max_counts = 0\n",
    "col_closeCM, row_closeCM = -1, -1\n",
    "min_bound, max_bound = int(Lint/2)-50, int(Lint/2)+50\n",
    "for c in range(min_bound,max_bound+1):\n",
    "    for r in range(min_bound,max_bound+1):\n",
    "        counts = len(df_for_entropy.query('col == @c & row == @r'))\n",
    "        if counts > max_counts:\n",
    "            max_counts = counts\n",
    "            col_closeCM, row_closeCM = c, r\n",
    "print(col_closeCM, row_closeCM, max_counts)"
   ]
  },
  {
   "cell_type": "code",
   "execution_count": 17,
   "metadata": {},
   "outputs": [
    {
     "name": "stdout",
     "output_type": "stream",
     "text": [
      "1102 1091 3\n"
     ]
    }
   ],
   "source": []
  },
  {
   "cell_type": "code",
   "execution_count": 18,
   "metadata": {},
   "outputs": [
    {
     "name": "stdout",
     "output_type": "stream",
     "text": [
      "596 606 3\n"
     ]
    }
   ],
   "source": [
    "# look for a box with many counts futher away from the CM:\n",
    "max_counts = 0\n",
    "col_farCM, row_farCM = -1, -1\n",
    "min_bound, max_bound = int(Lint/2)-550, int(Lint/2)-450\n",
    "for c in range(min_bound,max_bound+1):\n",
    "    for r in range(min_bound,max_bound+1):\n",
    "        counts = len(df_for_entropy.query('col == @c & row == @r'))\n",
    "        if counts > max_counts:\n",
    "            max_counts = counts\n",
    "            col_farCM, row_farCM = c, r\n",
    "print(col_farCM, row_farCM, max_counts)"
   ]
  },
  {
   "cell_type": "code",
   "execution_count": 24,
   "metadata": {},
   "outputs": [
    {
     "name": "stdout",
     "output_type": "stream",
     "text": [
      "[144182, 144184, 161024] [4, 1, 4]\n",
      "[174487, 174489, 174490] [3, 2, 2]\n"
     ]
    }
   ],
   "source": [
    "# generate chains\n",
    "chain_closeCM = np.zeros(max_time)\n",
    "df = df_for_entropy.query('col == @col_closeCM & row == @row_closeCM')\n",
    "print(list(df.time), list(df.id))\n",
    "np.put(chain_closeCM, list(df.time), list(df.id))\n",
    "\n",
    "chain_farCM = np.zeros(max_time)\n",
    "df = df_for_entropy.query('col == @col_farCM & row == @row_farCM')\n",
    "print(list(df.time), list(df.id))\n",
    "np.put(chain_farCM, list(df.time), list(df.id))"
   ]
  },
  {
   "cell_type": "code",
   "execution_count": null,
   "metadata": {},
   "outputs": [],
   "source": [
    "cross_parsing_complexity([1,2,3,3], [1,2,4,4])"
   ]
  }
 ],
 "metadata": {
  "kernelspec": {
   "display_name": "base",
   "language": "python",
   "name": "python3"
  },
  "language_info": {
   "codemirror_mode": {
    "name": "ipython",
    "version": 3
   },
   "file_extension": ".py",
   "mimetype": "text/x-python",
   "name": "python",
   "nbconvert_exporter": "python",
   "pygments_lexer": "ipython3",
   "version": "3.11.3"
  }
 },
 "nbformat": 4,
 "nbformat_minor": 2
}
