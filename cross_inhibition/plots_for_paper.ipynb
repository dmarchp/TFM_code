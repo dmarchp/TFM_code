{
 "cells": [
  {
   "cell_type": "code",
   "execution_count": 6,
   "metadata": {},
   "outputs": [],
   "source": [
    "import numpy as np\n",
    "import matplotlib.pyplot as plt\n",
    "import sys\n",
    "from subprocess import call\n",
    "sys.path.append('../')\n",
    "from package_global_functions import *\n",
    "latexFont(titlesize=11, ticklabelssize=11, labelsize=13, legendsize=12)"
   ]
  },
  {
   "cell_type": "code",
   "execution_count": 25,
   "metadata": {},
   "outputs": [],
   "source": [
    "pis, qs = [0.1, 0.1], [9.0, 10.0]\n",
    "ci_kwargs = [0, ]\n",
    "ls = np.arange(0.0, 1.0, 0.04)\n",
    "\n",
    "# ls_close = np.arange(0.22,0.)\n",
    "\n",
    "# ls_small = np.arange(0.005,0.225+0.005,0.005)\n",
    "# ls_mid = np.arange(0.225+1e-5, 0.3, 1e-5)\n",
    "# ls_large = np.arange(0.3,1.0,0.05)\n",
    "# ls = np.concatenate([ls_small, ls_mid, ls_large])\n",
    "\n",
    "pichainExec = ','.join([str(pi) for pi in pis]) \n",
    "qchainExec = ','.join([str(q) for q in qs])\n",
    "ci_kwargs_chainExec = ','.join([str(cikw) for cikw in ci_kwargs])\n",
    "\n",
    "# ls = [0.1, 0.3, 0.8]\n",
    "\n",
    "sols = {}\n",
    "for l in ls:\n",
    "    call(f'python model_sols.py -pis {pichainExec} -qs {qchainExec} -l {l} -lci 1.0 -ci_kwargs {ci_kwargs_chainExec} --sol_label > sols.dat', shell=True)\n",
    "    solsdf = pd.read_csv(f'sols.dat', names=['sol_label', 'f0', 'f1', 'f2'], header=None, sep='\\s+')\n",
    "    for sol_label in solsdf['sol_label']:\n",
    "        if not sol_label in sols.keys():\n",
    "            sols[sol_label] = [[], [], []]\n",
    "        for i in range(3):\n",
    "            sols[sol_label][i].append(solsdf.query('sol_label ==  @sol_label')[f'f{i}'].iloc[0])"
   ]
  },
  {
   "cell_type": "code",
   "execution_count": 26,
   "metadata": {},
   "outputs": [],
   "source": [
    "# manera de detectar quan es trenquen les linies\n",
    "\n",
    "numls_short = len(sols[1][0])\n",
    "\n",
    "sols_ordered = {'lower':sols[1], 'mid':[], 'upper':[]}\n",
    "\n",
    "for i in range(3):\n",
    "    sols_ordered['mid'].append(sols[0][i][len(ls)-numls_short:])\n",
    "    fi_upper = sols[0][i][:len(ls)-numls_short]\n",
    "    fi_upper.extend(sols[2][i])\n",
    "    sols_ordered['upper'].append(fi_upper)"
   ]
  },
  {
   "cell_type": "code",
   "execution_count": 27,
   "metadata": {},
   "outputs": [
    {
     "name": "stdout",
     "output_type": "stream",
     "text": [
      "25\n",
      "25\n"
     ]
    }
   ],
   "source": [
    "print(len(sols_ordered['upper'][0]))\n",
    "print(len(ls))"
   ]
  },
  {
   "cell_type": "code",
   "execution_count": 28,
   "metadata": {},
   "outputs": [
    {
     "data": {
      "image/png": "[encoded data removed]",
      "text/plain": [
       "<Figure size 400x400 with 1 Axes>"
      ]
     },
     "metadata": {},
     "output_type": "display_data"
    }
   ],
   "source": [
    "fig, ax = plt.subplots(1,1, figsize=(4,4), constrained_layout=True)\n",
    "ax.set(xlabel=f'$\\lambda$', ylabel=f'$f_2$')\n",
    "\n",
    "# for sol_label,fs in sols.items():\n",
    "#     numls = len(fs[2])\n",
    "#     lsAux = ls[len(ls)-numls:]\n",
    "#     ax.plot(lsAux, fs[2])\n",
    "\n",
    "for sol_id,fs in sols_ordered.items():\n",
    "    ax.plot(ls[len(ls)-len(fs[2]):], fs[2], marker='.', lw=0)"
   ]
  },
  {
   "cell_type": "code",
   "execution_count": 24,
   "metadata": {},
   "outputs": [
    {
     "data": {
      "text/plain": [
       "0.28"
      ]
     },
     "execution_count": 24,
     "metadata": {},
     "output_type": "execute_result"
    }
   ],
   "source": [
    "ls[len(ls)-numls_short]"
   ]
  },
  {
   "cell_type": "code",
   "execution_count": null,
   "metadata": {},
   "outputs": [],
   "source": []
  }
 ],
 "metadata": {
  "kernelspec": {
   "display_name": "base",
   "language": "python",
   "name": "python3"
  },
  "language_info": {
   "codemirror_mode": {
    "name": "ipython",
    "version": 3
   },
   "file_extension": ".py",
   "mimetype": "text/x-python",
   "name": "python",
   "nbconvert_exporter": "python",
   "pygments_lexer": "ipython3",
   "version": "3.10.13"
  }
 },
 "nbformat": 4,
 "nbformat_minor": 2
}
