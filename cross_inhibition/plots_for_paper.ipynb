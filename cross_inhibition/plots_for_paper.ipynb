{
 "cells": [
  {
   "cell_type": "code",
   "execution_count": 1,
   "metadata": {},
   "outputs": [],
   "source": [
    "import numpy as np\n",
    "import matplotlib.pyplot as plt\n",
    "import sys\n",
    "from subprocess import call\n",
    "sys.path.append('../')\n",
    "from package_global_functions import *\n",
    "latexFont(titlesize=11, ticklabelssize=11, labelsize=13, legendsize=12)"
   ]
  },
  {
   "cell_type": "code",
   "execution_count": 23,
   "metadata": {},
   "outputs": [],
   "source": [
    "pis, qs = [0.1, 0.1], [5.0, 10.0]\n",
    "# ci_kwargs = [0, ]\n",
    "ci_kwargs = [1, 0.5, 10.0]\n",
    "ls = np.arange(0.0, 1.0, 0.04)\n",
    "# ls = np.arange(0.0,0.9,0.1)\n",
    "\n",
    "# ls_close = np.arange(0.22,0.)\n",
    "\n",
    "# ls_small = np.arange(0.005,0.225+0.005,0.005)\n",
    "# ls_mid = np.arange(0.225+1e-5, 0.3, 1e-5)\n",
    "# ls_large = np.arange(0.3,1.0,0.05)\n",
    "# ls = np.concatenate([ls_small, ls_mid, ls_large])\n",
    "\n",
    "pichainExec = ','.join([str(pi) for pi in pis]) \n",
    "qchainExec = ','.join([str(q) for q in qs])\n",
    "ci_kwargs_chainExec = ','.join([str(cikw) for cikw in ci_kwargs])\n",
    "\n",
    "# ls = [0.1, 0.3, 0.8]\n",
    "\n",
    "\n",
    "sols = {'lower':[[],[],[]], 'mid':[[],[],[]], 'upper':[[],[],[]]}\n",
    "for l in ls:\n",
    "    call(f'python model_sols.py -pis {pichainExec} -qs {qchainExec} -l {l} -lci 1.0 -ci_kwargs {ci_kwargs_chainExec} > sols.dat', shell=True)\n",
    "    solsdf = pd.read_csv(f'sols.dat', names=['f0', 'f1', 'f2'], header=None, sep='\\s+')\n",
    "    solsdf = solsdf.sort_values(by=['f2'])\n",
    "    if len(solsdf) == 3:\n",
    "        iterKeys = enumerate(sols.keys())\n",
    "    elif len(solsdf) == 1:\n",
    "        iterKeys = enumerate(['mid', ])\n",
    "    for i,k in iterKeys:\n",
    "        for j in range(3):\n",
    "            sols[k][j].append(solsdf[f'f{j}'].iloc[i])\n",
    "    \n",
    "    \n",
    "    # for sol_label in solsdf['sol_label']:\n",
    "    #     if not sol_label in sols.keys():\n",
    "    #         sols[sol_label] = [[], [], []]\n",
    "    #     for i in range(3):\n",
    "    #         sols[sol_label][i].append(solsdf.query('sol_label ==  @sol_label')[f'f{i}'].iloc[0])\n",
    "    "
   ]
  },
  {
   "cell_type": "code",
   "execution_count": 24,
   "metadata": {},
   "outputs": [
    {
     "data": {
      "image/png": "[encoded data removed]",
      "text/plain": [
       "<Figure size 400x400 with 1 Axes>"
      ]
     },
     "metadata": {},
     "output_type": "display_data"
    }
   ],
   "source": [
    "fig, ax = plt.subplots(1,1, figsize=(4,4), constrained_layout=True)\n",
    "ax.set(xlabel=f'$\\lambda$', ylabel=f'$f_2$')\n",
    "\n",
    "# for sol_label,fs in sols.items():\n",
    "#     numls = len(fs[2])\n",
    "#     lsAux = ls[len(ls)-numls:]\n",
    "#     ax.plot(lsAux, fs[2])\n",
    "\n",
    "# for sol_id,fs in sols_ordered.items():\n",
    "#     ax.plot(ls[len(ls)-len(fs[2]):], fs[2], marker='.', lw=0)\n",
    "\n",
    "for sol_id,fs in sols.items():\n",
    "    ax.plot(ls[len(ls)-len(fs[2]):], fs[2], marker='.', lw=0)"
   ]
  },
  {
   "cell_type": "code",
   "execution_count": 14,
   "metadata": {},
   "outputs": [
    {
     "data": {
      "text/plain": [
       "[nan, nan, nan, nan, nan, nan, nan, nan, nan]"
      ]
     },
     "execution_count": 14,
     "metadata": {},
     "output_type": "execute_result"
    }
   ],
   "source": [
    "sols['upper'][2]"
   ]
  },
  {
   "cell_type": "code",
   "execution_count": 16,
   "metadata": {},
   "outputs": [
    {
     "data": {
      "text/html": [
       "<div>\n",
       "<style scoped>\n",
       "    .dataframe tbody tr th:only-of-type {\n",
       "        vertical-align: middle;\n",
       "    }\n",
       "\n",
       "    .dataframe tbody tr th {\n",
       "        vertical-align: top;\n",
       "    }\n",
       "\n",
       "    .dataframe thead th {\n",
       "        text-align: right;\n",
       "    }\n",
       "</style>\n",
       "<table border=\"1\" class=\"dataframe\">\n",
       "  <thead>\n",
       "    <tr style=\"text-align: right;\">\n",
       "      <th></th>\n",
       "      <th>sol_label</th>\n",
       "      <th>f0</th>\n",
       "      <th>f1</th>\n",
       "      <th>f2</th>\n",
       "    </tr>\n",
       "  </thead>\n",
       "  <tbody>\n",
       "    <tr>\n",
       "      <th>0</th>\n",
       "      <td>0.143311</td>\n",
       "      <td>0.853694</td>\n",
       "      <td>0.002995</td>\n",
       "      <td>NaN</td>\n",
       "    </tr>\n",
       "    <tr>\n",
       "      <th>1</th>\n",
       "      <td>0.129847</td>\n",
       "      <td>0.002643</td>\n",
       "      <td>0.867510</td>\n",
       "      <td>NaN</td>\n",
       "    </tr>\n",
       "    <tr>\n",
       "      <th>2</th>\n",
       "      <td>1.057522</td>\n",
       "      <td>-0.028978</td>\n",
       "      <td>-0.028543</td>\n",
       "      <td>NaN</td>\n",
       "    </tr>\n",
       "  </tbody>\n",
       "</table>\n",
       "</div>"
      ],
      "text/plain": [
       "   sol_label        f0        f1  f2\n",
       "0   0.143311  0.853694  0.002995 NaN\n",
       "1   0.129847  0.002643  0.867510 NaN\n",
       "2   1.057522 -0.028978 -0.028543 NaN"
      ]
     },
     "execution_count": 16,
     "metadata": {},
     "output_type": "execute_result"
    }
   ],
   "source": [
    "solsdf"
   ]
  },
  {
   "cell_type": "code",
   "execution_count": null,
   "metadata": {},
   "outputs": [],
   "source": []
  }
 ],
 "metadata": {
  "kernelspec": {
   "display_name": "base",
   "language": "python",
   "name": "python3"
  },
  "language_info": {
   "codemirror_mode": {
    "name": "ipython",
    "version": 3
   },
   "file_extension": ".py",
   "mimetype": "text/x-python",
   "name": "python",
   "nbconvert_exporter": "python",
   "pygments_lexer": "ipython3",
   "version": "3.10.13"
  }
 },
 "nbformat": 4,
 "nbformat_minor": 2
}
