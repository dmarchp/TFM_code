{
 "cells": [
  {
   "cell_type": "code",
   "execution_count": 1,
   "metadata": {},
   "outputs": [],
   "source": [
    "import numpy as np\n",
    "import matplotlib.pyplot as plt\n",
    "from matplotlib.colors import LogNorm\n",
    "%matplotlib inline"
   ]
  },
  {
   "cell_type": "code",
   "execution_count": 6,
   "metadata": {},
   "outputs": [],
   "source": [
    "# LES model with T equations\n",
    "\n",
    "def Tab_plusx(a,b,S,pix,l):\n",
    "    return (S-a-b)*((1-l)*pix + l*a/(S-1))\n",
    "\n",
    "def Tab_plusy(a,b,S,piy,l):\n",
    "    return (S-a-b)*((1-l)*piy + l*b/(S-1))\n",
    "\n",
    "def Tab_minx(a,b,S,rx):\n",
    "    return a*(rx + b/(S-1))\n",
    "\n",
    "def Tab_miny(a,b,S,ry):\n",
    "    return b*(ry + a/(S-1))\n",
    "\n",
    "def prob_00(S,pix,piy,qx,qy,l):\n",
    "    rx, ry = 1/qx, 1/qy\n",
    "    sum1 = 0\n",
    "    for b in range(1,S+1):\n",
    "        prod = 1\n",
    "        for j in range(0,b):\n",
    "            prod = prod * (S-j)/(j+1)*((1-l)*piy + l*j/(S-1))/ry\n",
    "        sum1 += prod\n",
    "    sum2 = 0\n",
    "    for a in range(1,S+1):\n",
    "        prod = 1\n",
    "        for j in range(a):\n",
    "            prod = prod * (S-j)/(j+1)*((1-l)*pix + l*j/(S-1))/rx\n",
    "        sum3 = 0\n",
    "        for b in range(S-a+1):\n",
    "            prod1 = 1\n",
    "            for k in range(b):\n",
    "                prod1 = prod1 * ((S-a-k)*((S-1)*(1-l)*piy + l*k))/((k+1)*((S-1)*ry + a))\n",
    "            sum3 += prod1\n",
    "        sum2 += prod * (1 + sum3)\n",
    "    return 1/(1 + sum1 + sum2)\n",
    "\n",
    "# inclomplete formula!\n",
    "def prob_00_v2(S,pix,piy,qx,qy,l):\n",
    "    rx, ry = 1/qx, 1/qy\n",
    "    sum1 = 0\n",
    "    for b in range(1,S+1):\n",
    "        prod = 1\n",
    "        for j in range(0,b):\n",
    "            prod = prod * Tab_plusy(0,j,S,piy,l)/Tab_miny(0,j+1,S,ry)\n",
    "        sum1 = sum1 + prod\n",
    "    return sum1\n",
    "\n",
    "def prob_ab(a,b,S,p00,pix,piy,qx,qy,l,which='Full'):\n",
    "    # which = 'Full', 'A' or 'B'\n",
    "    rx, ry = 1/qx, 1/qy\n",
    "    prob_ab  = 0\n",
    "    if which == 'Full' or which == 'A':\n",
    "        # equation obtained for A\n",
    "        prod1a, prod2a = 1, 1\n",
    "        for j in range(a):\n",
    "            prod1a = prod1a*Tab_plusx(j,0,S,pix,l)/Tab_minx(j+1,0,S,rx)\n",
    "        for j in range(b):\n",
    "            prod2a = prod2a*Tab_plusy(a,j,S,piy,l)/Tab_miny(a,j+1,S,ry)\n",
    "        prob_ab += prod1a*prod2a\n",
    "    if which == 'Full' or which == 'B':\n",
    "        # equation obtained for B\n",
    "        prod1b, prod2b = 1, 1\n",
    "        for j in range(b):\n",
    "            prod1b = prod1b*Tab_plusy(0,j,S,piy,l)/Tab_miny(0,j+1,S,ry)\n",
    "        for j in range(a):\n",
    "            prod2b = prod2b*Tab_plusx(j,b,S,pix,l)/Tab_minx(j+1,b,S,rx)\n",
    "        prob_ab += prod1b*prod2b\n",
    "    if which == 'Full':\n",
    "        prob_ab = prob_ab/2\n",
    "    prob_ab = p00*prob_ab\n",
    "    return prob_ab"
   ]
  },
  {
   "cell_type": "code",
   "execution_count": 17,
   "metadata": {},
   "outputs": [],
   "source": [
    "# Reina's noise type 1\n",
    "\n",
    "def Tab_plusx_Rn1(a,b,S,qx,sigma):\n",
    "    return (S-a-b)*(qx*a/(S-1) + sigma)\n",
    "\n",
    "def Tab_plusy_Rn1(a,b,S,qy,sigma):\n",
    "    return (S-a-b)*(qy*b/(S-1) + sigma)\n",
    "\n",
    "def Tab_minx_Rn1(a,b,S,qy,sigma):\n",
    "    return a*(sigma + qy*b/(S-1))\n",
    "\n",
    "def Tab_miny_Rn1(a,b,S,qx,sigma):\n",
    "    return b*(sigma + qx*a/(S-1))\n",
    "\n",
    "def prob_00_Rn1(S,qx,qy,sigma):\n",
    "    sum1 = 0\n",
    "    for b in range(1,S+1):\n",
    "        prod = 1\n",
    "        for j in range(0,b):\n",
    "            prod = prod * Tab_plusy_Rn1(0,j,S,qy,sigma)/Tab_miny_Rn1(0,j+1,S,qx,sigma)\n",
    "        sum1 = sum1 + prod\n",
    "    sum2 = 0\n",
    "    for a in range(1,S+1):\n",
    "        prod = 1\n",
    "        for j in range(a):\n",
    "            prod = prod * Tab_plusx_Rn1(j,0,S,qx,sigma)/Tab_minx_Rn1(j+1,0,S,qy,sigma)\n",
    "        sum3 = 0\n",
    "        for b in range(S-a+1):\n",
    "            prod1 = 1\n",
    "            for k in range(b):\n",
    "                prod1 = prod1 * Tab_plusy_Rn1(a,k,S,qy,sigma)/Tab_miny_Rn1(a,k+1,S,qx,sigma)\n",
    "            sum3 += prod1\n",
    "        sum2 += prod * (1 + sum3)\n",
    "    return 1/(1 + sum1 + sum2)\n",
    "\n",
    "def prob_ab_Rn1(a,b,S,p00,qx,qy,sigma, which='A'):\n",
    "    prob_ab = 0\n",
    "    if which == 'Full' or which == 'A':\n",
    "        # equation obtained for A\n",
    "        prod1a, prod2a = 1, 1\n",
    "        for j in range(a):\n",
    "            prod1a = prod1a*Tab_plusx_Rn1(j,0,S,qx,sigma)/Tab_minx_Rn1(j+1,0,S,qy,sigma)\n",
    "        for j in range(b):\n",
    "            prod2a = prod2a*Tab_plusy_Rn1(a,j,S,qy,sigma)/Tab_miny_Rn1(a,j+1,S,qx,sigma)\n",
    "        prob_ab += prod1a*prod2a\n",
    "    if which == 'Full' or which == 'B':\n",
    "        # equation obtained for B\n",
    "        prod1b, prod2b = 1, 1\n",
    "        for j in range(b):\n",
    "            prod1b = prod1b*Tab_plusy_Rn1(0,j,S,qy,sigma)/Tab_miny_Rn1(0,j+1,S,qx,sigma)\n",
    "        for j in range(a):\n",
    "            prod2b = prod2b*Tab_plusx_Rn1(j,b,S,qx,sigma)/Tab_minx_Rn1(j+1,b,S,qy,sigma)\n",
    "        prob_ab += prod1b*prod2b\n",
    "    if which == 'Full':\n",
    "        prob_ab = prob_ab/2\n",
    "    prob_ab = p00*prob_ab\n",
    "    return prob_ab"
   ]
  },
  {
   "cell_type": "code",
   "execution_count": 2,
   "metadata": {},
   "outputs": [],
   "source": [
    "# Reina's zealots\n",
    "\n",
    "def Tab_plusx_Rz1(a,b,S,qx,Sz):\n",
    "    return (S-a-b-2*Sz)*qx*(a+Sz)/(S-1)\n",
    "\n",
    "def Tab_plusy_Rz1(a,b,S,qy,Sz):\n",
    "    return (S-a-b-2*Sz)*qy*(b+Sz)/(S-1)\n",
    "\n",
    "def Tab_minx_Rz1(a,b,S,qy,Sz):\n",
    "    return a*qy*(b+Sz)/(S-1)\n",
    "\n",
    "def Tab_miny_Rz1(a,b,S,qx,Sz):\n",
    "    return b*qx*(a+Sz)/(S-1)\n",
    "\n",
    "def prob_00_Rz1(S,qx,qy,Sz):\n",
    "    sum1 = 0\n",
    "    for b in range(1,S+1):\n",
    "        prod = 1\n",
    "        for j in range(0,b):\n",
    "            prod = prod * Tab_plusy_Rz1(0,j,S,qy,Sz)/Tab_miny_Rz1(0,j+1,S,qx,Sz)\n",
    "        sum1 = sum1 + prod\n",
    "    sum2 = 0\n",
    "    for a in range(1,S+1):\n",
    "        prod = 1\n",
    "        for j in range(a):\n",
    "            prod = prod * Tab_plusx_Rz1(j,0,S,qx,Sz)/Tab_minx_Rz1(j+1,0,S,qy,Sz)\n",
    "        sum3 = 0\n",
    "        for b in range(S-a+1):\n",
    "            prod1 = 1\n",
    "            for k in range(b):\n",
    "                prod1 = prod1 * Tab_plusy_Rz1(a,k,S,qy,Sz)/Tab_miny_Rz1(a,k+1,S,qx,Sz)\n",
    "            sum3 += prod1\n",
    "        sum2 += prod * (1 + sum3)\n",
    "    return 1/(1 + sum1 + sum2)\n",
    "\n",
    "def prob_ab_Rz1(a,b,S,p00,qx,qy,Sz, which='A'):\n",
    "    prob_ab = 0\n",
    "    if which == 'Full' or which == 'A':\n",
    "        # equation obtained for A\n",
    "        prod1a, prod2a = 1, 1\n",
    "        for j in range(a):\n",
    "            prod1a = prod1a*Tab_plusx_Rz1(j,0,S,qx,Sz)/Tab_minx_Rz1(j+1,0,S,qy,Sz)\n",
    "        for j in range(b):\n",
    "            prod2a = prod2a*Tab_plusy_Rz1(a,j,S,qy,Sz)/Tab_miny_Rz1(a,j+1,S,qx,Sz)\n",
    "        prob_ab += prod1a*prod2a\n",
    "    if which == 'Full' or which == 'B':\n",
    "        # equation obtained for B\n",
    "        prod1b, prod2b = 1, 1\n",
    "        for j in range(b):\n",
    "            prod1b = prod1b*Tab_plusy_Rz1(0,j,S,qy,Sz)/Tab_miny_Rz1(0,j+1,S,qx,Sz)\n",
    "        for j in range(a):\n",
    "            prod2b = prod2b*Tab_plusx_Rz1(j,b,S,qx,Sz)/Tab_minx_Rz1(j+1,b,S,qy,Sz)\n",
    "        prob_ab += prod1b*prod2b\n",
    "    if which == 'Full':\n",
    "        prob_ab = prob_ab/2\n",
    "    prob_ab = p00*prob_ab\n",
    "    return prob_ab"
   ]
  },
  {
   "cell_type": "code",
   "execution_count": 27,
   "metadata": {},
   "outputs": [
    {
     "name": "stdout",
     "output_type": "stream",
     "text": [
      "Prob in a fixed point with 0, 82: 0.0771024027954571\n",
      "Prob in a fixed point with 80, 0: 1.0566467765889155e-05\n",
      "Prob in a fixed point with 26, 25: 1.9419615484716407e-05\n",
      "Prob further from fxp:  1.3359933809677643e-13\n"
     ]
    }
   ],
   "source": [
    "pis, qs, l = [0.1, 0.1], [9.0, 10.0], 0.6\n",
    "S = 100\n",
    "p00 = prob_00(S, *pis, *qs, l)\n",
    "# fixed point:\n",
    "fxp = [0.16648640741807813, 0.007958484989059489, 0.8255551075937357]\n",
    "a,b = int(S*fxp[1]), int(S*fxp[2])\n",
    "pab = prob_ab(a,b, S, p00, *pis, *qs, l)\n",
    "print(f'Prob in a fixed point with {a}, {b}: {pab}')\n",
    "\n",
    "fxp = [0.18540249757173186, 0.8052575146285746, 0.009339987799526717]\n",
    "a,b = int(S*fxp[1]), int(S*fxp[2])\n",
    "pab = prob_ab(a,b, S, p00, *pis, *qs, l)\n",
    "print(f'Prob in a fixed point with {a}, {b}: {pab}')\n",
    "\n",
    "fxp = [0.4826058780233375, 0.2665076242188334, 0.25088649775841443]\n",
    "a,b = int(S*fxp[1]), int(S*fxp[2])\n",
    "pab = prob_ab(a,b, S, p00, *pis, *qs, l)\n",
    "print(f'Prob in a fixed point with {a}, {b}: {pab}')\n",
    "\n",
    "pab = prob_ab(20, 20, S, p00, *pis, *qs, l)\n",
    "print('Prob further from fxp: ', pab)"
   ]
  },
  {
   "cell_type": "code",
   "execution_count": 10,
   "metadata": {},
   "outputs": [
    {
     "name": "stdout",
     "output_type": "stream",
     "text": [
      "which = Full, Pab = 1.0566467765889149e-05\n",
      "which = A, Pab = 1.0566467765889149e-05\n",
      "which = B, Pab = 1.0566467765889149e-05\n"
     ]
    }
   ],
   "source": [
    "pis, qs, l = [0.1, 0.1], [9.0, 10.0], 0.6\n",
    "S = 100\n",
    "p00 = prob_00(S, *pis, *qs, l)\n",
    "\n",
    "# fixed point:\n",
    "# fxp = [0.16648640741807813, 0.007958484989059489, 0.8255551075937357]\n",
    "# fxp = [0.4826058780233375, 0.2665076242188334, 0.25088649775841443]\n",
    "fxp = [.18540249757173186, 0.8052575146285746, 0.009339987799526717]\n",
    "a,b = int(S*fxp[1]), int(S*fxp[2])\n",
    "\n",
    "for which in ['Full', 'A', 'B']:\n",
    "    pab = prob_ab(a,b, S, p00, *pis, *qs, l, which)\n",
    "    print(f'which = {which}, Pab = {pab}')\n"
   ]
  },
  {
   "cell_type": "code",
   "execution_count": 100,
   "metadata": {},
   "outputs": [],
   "source": [
    "S, dS = 100, 1\n",
    "Npoints = int(S/dS) + 1\n",
    "xgrid, ygrid = np.mgrid[0:S:complex(0,Npoints), 0:S:complex(0,Npoints)]\n",
    "probGrid = np.empty([Npoints, Npoints])\n",
    "\n",
    "pis, qs, l = [0.1, 0.1], [9.0, 10.0], 0.9\n",
    "# p00 = prob_00(S, *pis, *qs, l)\n",
    "p00 = 1\n",
    "\n",
    "for i,x in enumerate(xgrid[:,0]):\n",
    "    for j,y in enumerate(ygrid[0,:]):\n",
    "        if x+y<=S:\n",
    "            probGrid[i,j] = prob_ab(int(x),int(y),S,p00, *pis, *qs, l, 'Full')\n",
    "        else:\n",
    "            # probGrid[i,j] = float('nan')\n",
    "            probGrid[i,j] = np.nan"
   ]
  },
  {
   "cell_type": "code",
   "execution_count": 101,
   "metadata": {},
   "outputs": [
    {
     "data": {
      "image/png": "[encoded data removed]",
      "text/plain": [
       "<Figure size 560x480 with 2 Axes>"
      ]
     },
     "metadata": {},
     "output_type": "display_data"
    }
   ],
   "source": [
    "fig, ax = plt.subplots(figsize=(5.6,4.8))\n",
    "vmin, vmax = min(probGrid[xgrid+ygrid<=S]), max(probGrid[xgrid+ygrid<=S])\n",
    "# vmin = 1e-10\n",
    "im = ax.pcolormesh(xgrid, ygrid, probGrid, cmap='viridis', shading='nearest', norm = LogNorm(vmin=vmin, vmax=vmax))\n",
    "cb = fig.colorbar(im, ax=ax, aspect=25, shrink=0.75, pad=0.025)"
   ]
  },
  {
   "cell_type": "code",
   "execution_count": 102,
   "metadata": {},
   "outputs": [
    {
     "name": "stdout",
     "output_type": "stream",
     "text": [
      "1.4097371964323783e-59 1.4097371964323783e-59 1.496262274585159e-59\n",
      "0.9999091229728478\n",
      "9.087702715449365e-05\n"
     ]
    }
   ],
   "source": [
    "# probGrid = probGrid[xgrid+ygrid<=S]\n",
    "\n",
    "# prob1 = sum(probGrid[~np.isnan(probGrid)])\n",
    "prob1 = sum(probGrid[xgrid+ygrid<=S])\n",
    "prob11 = sum(probGrid[~np.isnan(probGrid)])\n",
    "print(1/prob1, 1/prob11, prob_00(S, *pis, *qs, l))\n",
    "\n",
    "probyArray = np.array(probGrid[ygrid > xgrid], dtype=np.float64)\n",
    "proby = sum(probyArray[~np.isnan(probyArray)])\n",
    "print(proby/prob1)\n",
    "\n",
    "probxArray = np.array(probGrid[xgrid > ygrid], dtype=np.float64)\n",
    "probx = sum(probxArray[~np.isnan(probxArray)])\n",
    "print(probx/prob1)"
   ]
  },
  {
   "cell_type": "code",
   "execution_count": 14,
   "metadata": {},
   "outputs": [],
   "source": [
    "S = 50\n",
    "pis, qs, l = [0.1, 0.1], [9.0, 10.0], 0.6\n",
    "p00 = prob_00(S, *pis, *qs, l)\n",
    "\n",
    "difs_probs = {}\n",
    "for dif in range(S+1):\n",
    "    # when a>=b:\n",
    "    pairs_ab = [(a,a-dif) for a in range(dif,int((S+dif)/2)+1)]\n",
    "    sum_same_dif = 0\n",
    "    for a,b in pairs_ab:\n",
    "        pab = prob_ab(a,b,S,p00,*pis,*qs,l, 'A')\n",
    "        sum_same_dif += pab\n",
    "    difs_probs[dif] = sum_same_dif\n",
    "    # when b>a:\n",
    "    if dif >=1:\n",
    "        invdif = -dif\n",
    "        sum_same_dif = 0\n",
    "        for a,b in pairs_ab:\n",
    "            pba = prob_ab(b,a,S,p00,*pis,*qs,l, 'A')\n",
    "            sum_same_dif += pba\n",
    "        difs_probs[invdif] = sum_same_dif\n",
    "\n",
    "difs = sorted(difs_probs.keys())\n",
    "probs = []\n",
    "for d in difs:\n",
    "    probs.append(difs_probs[d])"
   ]
  },
  {
   "cell_type": "code",
   "execution_count": 15,
   "metadata": {},
   "outputs": [
    {
     "data": {
      "text/plain": [
       "0.9881911290863723"
      ]
     },
     "execution_count": 15,
     "metadata": {},
     "output_type": "execute_result"
    }
   ],
   "source": [
    "sum(probs)"
   ]
  },
  {
   "cell_type": "code",
   "execution_count": 16,
   "metadata": {},
   "outputs": [
    {
     "data": {
      "text/plain": [
       "[<matplotlib.lines.Line2D at 0x7f9290fa2320>]"
      ]
     },
     "execution_count": 16,
     "metadata": {},
     "output_type": "execute_result"
    },
    {
     "data": {
      "image/png": "[encoded data removed]",
      "text/plain": [
       "<Figure size 640x480 with 1 Axes>"
      ]
     },
     "metadata": {},
     "output_type": "display_data"
    }
   ],
   "source": [
    "fig, ax = plt.subplots()\n",
    "ax.plot(difs,probs)"
   ]
  },
  {
   "cell_type": "markdown",
   "metadata": {},
   "source": [
    "# Reina's model with noise type 1"
   ]
  },
  {
   "cell_type": "code",
   "execution_count": 87,
   "metadata": {},
   "outputs": [],
   "source": [
    "# Reina's\n",
    "S, dS = 100, 1\n",
    "Npoints = int(S/dS) + 1\n",
    "xgrid, ygrid = np.mgrid[0:S:complex(0,Npoints), 0:S:complex(0,Npoints)]\n",
    "probGrid = np.empty([Npoints, Npoints])\n",
    "\n",
    "qs, sigma = [1.0, 1.05], 0.2\n",
    "# p00 = prob_00_Rn1(S, *qs, sigma)\n",
    "p00 = 1\n",
    "\n",
    "for ik,x in enumerate(xgrid[:,0]):\n",
    "    for jk,y in enumerate(ygrid[0,:]):\n",
    "        if x+y<=S:\n",
    "            probGrid[ik,jk] = prob_ab_Rn1(int(x),int(y),S,p00, *qs, sigma, 'A')\n",
    "        else:\n",
    "            # probGrid[i,j] = float('nan')\n",
    "            probGrid[ik,jk] = np.nan\n",
    "            "
   ]
  },
  {
   "cell_type": "code",
   "execution_count": 84,
   "metadata": {},
   "outputs": [
    {
     "data": {
      "image/png": "[encoded data removed]",
      "text/plain": [
       "<Figure size 560x480 with 2 Axes>"
      ]
     },
     "metadata": {},
     "output_type": "display_data"
    }
   ],
   "source": [
    "fig, ax = plt.subplots(figsize=(5.6,4.8))\n",
    "vmin, vmax = min(probGrid[xgrid+ygrid<=S]), max(probGrid[xgrid+ygrid<=S])\n",
    "# vmin = 1e-10\n",
    "# print(vmin, vmax)\n",
    "im = ax.pcolormesh(xgrid, ygrid, probGrid, cmap='viridis', shading='nearest', norm = LogNorm(vmin=vmin, vmax=vmax))\n",
    "cb = fig.colorbar(im, ax=ax, aspect=25, shrink=0.75, pad=0.025)"
   ]
  },
  {
   "cell_type": "code",
   "execution_count": 78,
   "metadata": {},
   "outputs": [
    {
     "name": "stdout",
     "output_type": "stream",
     "text": [
      "4.841649280209275e+76\n"
     ]
    }
   ],
   "source": [
    "probNorm= sum(probGrid[~np.isnan(probGrid)])\n",
    "print(probNorm)"
   ]
  },
  {
   "cell_type": "code",
   "execution_count": 88,
   "metadata": {},
   "outputs": [
    {
     "name": "stdout",
     "output_type": "stream",
     "text": [
      "2.0713529762059282e-59 2.0713529762059282e-59 2.0319968278515262e-59\n",
      "0.3122830307163429\n",
      "0.6877169691679008\n"
     ]
    }
   ],
   "source": [
    "prob1 = sum(probGrid[xgrid+ygrid<=S])\n",
    "prob11 = sum(probGrid[~np.isnan(probGrid)])\n",
    "print(1/prob1, 1/prob11, prob_00_Rn1(S, *qs, sigma))\n",
    "\n",
    "probyArray = np.array(probGrid[ygrid > xgrid], dtype=np.float64)\n",
    "proby = sum(probyArray[~np.isnan(probyArray)])\n",
    "print(proby/prob1)\n",
    "\n",
    "probxArray = np.array(probGrid[xgrid > ygrid], dtype=np.float64)\n",
    "probx = sum(probxArray[~np.isnan(probxArray)])\n",
    "print(probx/prob1)"
   ]
  },
  {
   "cell_type": "markdown",
   "metadata": {},
   "source": [
    "### prob x-y=k"
   ]
  },
  {
   "cell_type": "code",
   "execution_count": 103,
   "metadata": {},
   "outputs": [
    {
     "name": "stdout",
     "output_type": "stream",
     "text": [
      "6.335718084847033e+150\n"
     ]
    }
   ],
   "source": [
    "S = 200\n",
    "qs, sigma = [1.0, 1.0], 0.1\n",
    "# p00 = prob_00_Rn1(S, *qs, sigma)\n",
    "p00 = 1\n",
    "\n",
    "which = 'A'\n",
    "difs_probs = {}\n",
    "for dif in range(S+1):\n",
    "    # when a>=b:\n",
    "    pairs_ab = [(a,a-dif) for a in range(dif,int((S+dif)/2)+1)]\n",
    "    sum_same_dif = 0\n",
    "    for a,b in pairs_ab:\n",
    "        pab = prob_ab_Rn1(a,b,S,p00,*qs,sigma, which)\n",
    "        sum_same_dif += pab\n",
    "    difs_probs[dif] = sum_same_dif\n",
    "    # when b>a:\n",
    "    if dif >=1:\n",
    "        invdif = -dif\n",
    "        sum_same_dif = 0\n",
    "        for a,b in pairs_ab:\n",
    "            pba = prob_ab_Rn1(b,a,S,p00,*qs,sigma, which)\n",
    "            sum_same_dif += pba\n",
    "        difs_probs[invdif] = sum_same_dif\n",
    "\n",
    "difs = sorted(difs_probs.keys())\n",
    "probs = []\n",
    "for d in difs:\n",
    "    probs.append(difs_probs[d])\n",
    "\n",
    "print(sum(probs))\n",
    "probs = np.array(probs)/sum(probs)"
   ]
  },
  {
   "cell_type": "code",
   "execution_count": 104,
   "metadata": {},
   "outputs": [
    {
     "data": {
      "text/plain": [
       "[<matplotlib.lines.Line2D at 0x7f9218425f30>]"
      ]
     },
     "execution_count": 104,
     "metadata": {},
     "output_type": "execute_result"
    },
    {
     "data": {
      "image/png": "[encoded data removed]",
      "text/plain": [
       "<Figure size 640x480 with 1 Axes>"
      ]
     },
     "metadata": {},
     "output_type": "display_data"
    }
   ],
   "source": [
    "fig, ax = plt.subplots()\n",
    "difsNorm = np.array(difs)/S\n",
    "ax.plot(difsNorm,probs)"
   ]
  },
  {
   "cell_type": "markdown",
   "metadata": {},
   "source": [
    "### Reina's model with zealots"
   ]
  },
  {
   "cell_type": "code",
   "execution_count": 20,
   "metadata": {},
   "outputs": [
    {
     "name": "stdout",
     "output_type": "stream",
     "text": [
      "1.1206421598443253e+71\n"
     ]
    }
   ],
   "source": [
    "S = 200\n",
    "qs, Sz = [1.05, 1.0], int((S/2)*0.35)\n",
    "# p00 = prob_00_Rz1(S, *qs, Sz)\n",
    "p00 = 1\n",
    "\n",
    "which = 'Full'\n",
    "difs_probs = {}\n",
    "for dif in range(S+1):\n",
    "    # when a>=b:\n",
    "    pairs_ab = [(a,a-dif) for a in range(dif,int((S-2*Sz+dif)/2)+1)]\n",
    "    sum_same_dif = 0\n",
    "    for a,b in pairs_ab:\n",
    "        pab = prob_ab_Rz1(a,b,S,p00,*qs,Sz, which)\n",
    "        sum_same_dif += pab\n",
    "    difs_probs[dif] = sum_same_dif\n",
    "    # when b>a:\n",
    "    if dif >=1:\n",
    "        invdif = -dif\n",
    "        sum_same_dif = 0\n",
    "        for a,b in pairs_ab:\n",
    "            pba = prob_ab_Rz1(b,a,S,p00,*qs,Sz, which)\n",
    "            sum_same_dif += pba\n",
    "        difs_probs[invdif] = sum_same_dif\n",
    "\n",
    "difs = sorted(difs_probs.keys())\n",
    "probs = []\n",
    "for d in difs:\n",
    "    probs.append(difs_probs[d])\n",
    "\n",
    "print(sum(probs))\n",
    "probs = np.array(probs)/sum(probs)"
   ]
  },
  {
   "cell_type": "code",
   "execution_count": 21,
   "metadata": {},
   "outputs": [
    {
     "data": {
      "text/plain": [
       "[<matplotlib.lines.Line2D at 0x7b3d4ba3ec70>]"
      ]
     },
     "execution_count": 21,
     "metadata": {},
     "output_type": "execute_result"
    },
    {
     "data": {
      "image/png": "[encoded data removed]",
      "text/plain": [
       "<Figure size 640x480 with 1 Axes>"
      ]
     },
     "metadata": {},
     "output_type": "display_data"
    }
   ],
   "source": [
    "fig, ax = plt.subplots()\n",
    "ax.set_yscale('log')\n",
    "# ax.set_xlim(-1,1)\n",
    "# ax.set_xscale('symlog')\n",
    "difsNorm = np.array(difs)/S\n",
    "ax.plot(difs,probs)"
   ]
  },
  {
   "cell_type": "code",
   "execution_count": 14,
   "metadata": {},
   "outputs": [
    {
     "name": "stdout",
     "output_type": "stream",
     "text": [
      "20 2\n",
      "[(0, 0), (1, 1), (2, 2), (3, 3), (4, 4), (5, 5), (6, 6), (7, 7), (8, 8)]\n",
      "[(1, 0), (2, 1), (3, 2), (4, 3), (5, 4), (6, 5), (7, 6), (8, 7)]\n",
      "[(2, 0), (3, 1), (4, 2), (5, 3), (6, 4), (7, 5), (8, 6), (9, 7)]\n",
      "[(3, 0), (4, 1), (5, 2), (6, 3), (7, 4), (8, 5), (9, 6)]\n",
      "[(4, 0), (5, 1), (6, 2), (7, 3), (8, 4), (9, 5), (10, 6)]\n",
      "[(5, 0), (6, 1), (7, 2), (8, 3), (9, 4), (10, 5)]\n",
      "[(6, 0), (7, 1), (8, 2), (9, 3), (10, 4), (11, 5)]\n",
      "[(7, 0), (8, 1), (9, 2), (10, 3), (11, 4)]\n",
      "[(8, 0), (9, 1), (10, 2), (11, 3), (12, 4)]\n",
      "[(9, 0), (10, 1), (11, 2), (12, 3)]\n",
      "[(10, 0), (11, 1), (12, 2), (13, 3)]\n",
      "[(11, 0), (12, 1), (13, 2)]\n",
      "[(12, 0), (13, 1), (14, 2)]\n",
      "[(13, 0), (14, 1)]\n",
      "[(14, 0), (15, 1)]\n",
      "[(15, 0)]\n",
      "[(16, 0)]\n",
      "[]\n",
      "[]\n",
      "[]\n",
      "[]\n"
     ]
    }
   ],
   "source": [
    "S = 20\n",
    "Sz = int((S/2)*0.2)\n",
    "print(S, Sz)\n",
    "for dif in range(S+1):\n",
    "    # when a>=b:\n",
    "    pairs_ab = [(a,a-dif) for a in range(dif,int((S-2*Sz+dif)/2)+1)]\n",
    "    print(pairs_ab)"
   ]
  },
  {
   "cell_type": "code",
   "execution_count": null,
   "metadata": {},
   "outputs": [],
   "source": []
  }
 ],
 "metadata": {
  "kernelspec": {
   "display_name": "base",
   "language": "python",
   "name": "python3"
  },
  "language_info": {
   "codemirror_mode": {
    "name": "ipython",
    "version": 3
   },
   "file_extension": ".py",
   "mimetype": "text/x-python",
   "name": "python",
   "nbconvert_exporter": "python",
   "pygments_lexer": "ipython3",
   "version": "3.10.13"
  }
 },
 "nbformat": 4,
 "nbformat_minor": 2
}
