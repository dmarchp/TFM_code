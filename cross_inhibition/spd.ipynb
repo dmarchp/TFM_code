{
 "cells": [
  {
   "cell_type": "code",
   "execution_count": 32,
   "metadata": {},
   "outputs": [],
   "source": [
    "import numpy as np\n",
    "import matplotlib.pyplot as plt\n",
    "%matplotlib inline"
   ]
  },
  {
   "cell_type": "code",
   "execution_count": 57,
   "metadata": {},
   "outputs": [],
   "source": [
    "def prob_00(S,pix,piy,qx,qy,l):\n",
    "    rx, ry = 1/qx, 1/qy\n",
    "    sum1 = 0\n",
    "    for b in range(1,S+1):\n",
    "        prod = 1\n",
    "        for j in range(0,b):\n",
    "            prod = prod * (S-j)/(j+1)*((1-l)*piy + l*j/(S-1))/ry\n",
    "        sum1 += prod\n",
    "    sum2 = 0\n",
    "    for a in range(1,S+1):\n",
    "        prod = 1\n",
    "        for j in range(a):\n",
    "            prod = prod * (S-j)/(j+1)*((1-l)*pix + l*j/(S-1))/rx\n",
    "        sum3 = 0\n",
    "        for b in range(S-a+1):\n",
    "            prod1 = 1\n",
    "            for k in range(b):\n",
    "                prod1 = prod1 * ((S-a-k)*((S-1)*(1-l)*piy + l*k))/((k+1)*((S-1)*ry + a))\n",
    "            sum3 += prod1\n",
    "        sum2 += prod * (1 + sum3)\n",
    "    return 1/(1 + sum1 + sum2)\n",
    "            \n",
    "\n",
    "def prob_ab(a,b,S,p00,pix,piy,qx,qy,l):\n",
    "    # a,b populations in states x,y (or 1,2); S total system size\n",
    "    rx, ry = 1/qx, 1/qy\n",
    "    # numerador\n",
    "    prod1, prod2 = 1, 1\n",
    "    for j in range(a): # so j 0...a-1\n",
    "        prod1 = prod1*(S-j)/(j+1)*((1-l)*pix + l*j/(S-1))/rx\n",
    "    for j in range(b): # so j 0...b-1\n",
    "        prod2 = prod2*(S-a-j)/(j+1)*((S-1)*(1-l)*piy + l*j)/(ry*(S-1) + a)\n",
    "    return p00*prod1*prod2"
   ]
  },
  {
   "cell_type": "code",
   "execution_count": null,
   "metadata": {},
   "outputs": [],
   "source": [
    "# LES model with T equations\n",
    "\n",
    "def Tab_plusx(a,b,S,pix,l):\n",
    "    return (S-a-b)*((1-l)*pix + l*a/(S-1))\n",
    "\n",
    "def Tab_plusy(a,b,S,piy,l):\n",
    "    return (S-a-b)*((1-l)*piy + l*b/(S-1))\n",
    "\n",
    "def Tab_minx(a,b,S,rx):\n",
    "    return a*(rx + b/(S-1))\n",
    "\n",
    "def Tab_miny(a,b,S,ry):\n",
    "    return b*(ry + a/(S-1))\n",
    "\n",
    "def prob_00_v2(S,pix,piy,qx,qy,l):\n",
    "    rx, ry = 1/qx, 1/qy\n",
    "    sum1 = 0\n",
    "    for b in range(1,S+1):\n",
    "        prod = 1\n",
    "        for j in range(0,b):\n",
    "            prod = prod * Tab_plusy(0,j,S,piy,l)/Tab_miny(0,j+1,S,ry)\n",
    "        sum1 = sum1 + prod\n",
    "    return sum1"
   ]
  },
  {
   "cell_type": "code",
   "execution_count": 19,
   "metadata": {},
   "outputs": [],
   "source": [
    "# Reina's noise type 1\n",
    "\n",
    "def Tab_plusx_Rn1(a,b,S,qx,sigma):\n",
    "    return (S-a-b)*(qx*a/(S-1) + sigma)\n",
    "\n",
    "def Tab_plusy_Rn1(a,b,S,qy,sigma):\n",
    "    return (S-a-b)*(qy*b/(S-1) + sigma)\n",
    "\n",
    "def Tab_minx_Rn1(a,b,S,qy,sigma):\n",
    "    return a*(sigma + qy*b/(S-1))\n",
    "\n",
    "def Tab_miny_Rn1(a,b,S,qx,sigma):\n",
    "    return b*(sigma + qx*a/(S-1))\n",
    "\n",
    "def prob_00_Rn1(S,qx,qy,sigma):\n",
    "    sum1 = 0\n",
    "    for b in range(1,S+1):\n",
    "        prod = 1\n",
    "        for j in range(0,b):\n",
    "            prod = prod * Tab_plusy_Rn1(0,j,S,qy,sigma)/Tab_miny_Rn1(0,j+1,S,qx,sigma)\n",
    "        sum1 = sum1 + prod\n",
    "    return sum1"
   ]
  },
  {
   "cell_type": "code",
   "execution_count": 27,
   "metadata": {},
   "outputs": [
    {
     "name": "stdout",
     "output_type": "stream",
     "text": [
      "Prob in a fixed point with 0, 82: 0.0771024027954571\n",
      "Prob in a fixed point with 80, 0: 1.0566467765889155e-05\n",
      "Prob in a fixed point with 26, 25: 1.9419615484716407e-05\n",
      "Prob further from fxp:  1.3359933809677643e-13\n"
     ]
    }
   ],
   "source": [
    "pis, qs, l = [0.1, 0.1], [9.0, 10.0], 0.6\n",
    "S = 100\n",
    "p00 = prob_00(S, *pis, *qs, l)\n",
    "# fixed point:\n",
    "fxp = [0.16648640741807813, 0.007958484989059489, 0.8255551075937357]\n",
    "a,b = int(S*fxp[1]), int(S*fxp[2])\n",
    "pab = prob_ab(a,b, S, p00, *pis, *qs, l)\n",
    "print(f'Prob in a fixed point with {a}, {b}: {pab}')\n",
    "\n",
    "fxp = [0.18540249757173186, 0.8052575146285746, 0.009339987799526717]\n",
    "a,b = int(S*fxp[1]), int(S*fxp[2])\n",
    "pab = prob_ab(a,b, S, p00, *pis, *qs, l)\n",
    "print(f'Prob in a fixed point with {a}, {b}: {pab}')\n",
    "\n",
    "fxp = [0.4826058780233375, 0.2665076242188334, 0.25088649775841443]\n",
    "a,b = int(S*fxp[1]), int(S*fxp[2])\n",
    "pab = prob_ab(a,b, S, p00, *pis, *qs, l)\n",
    "print(f'Prob in a fixed point with {a}, {b}: {pab}')\n",
    "\n",
    "pab = prob_ab(20, 20, S, p00, *pis, *qs, l)\n",
    "print('Prob further from fxp: ', pab)"
   ]
  },
  {
   "cell_type": "code",
   "execution_count": 58,
   "metadata": {},
   "outputs": [],
   "source": [
    "S, dS = 100, 2\n",
    "Npoints = int(S/dS) + 1\n",
    "xgrid, ygrid = np.mgrid[0:S:complex(0,Npoints), 0:S:complex(0,Npoints)]\n",
    "probGrid = np.empty([Npoints, Npoints])\n",
    "\n",
    "pis, qs, l = [0.1, 0.1], [9.0, 10.0], 0.6\n",
    "p00 = prob_00(S, *pis, *qs, l)\n",
    "\n",
    "for i,x in enumerate(xgrid[:,0]):\n",
    "    for j,y in enumerate(ygrid[0,:]):\n",
    "        if x+y<=S:\n",
    "            probGrid[i,j] = prob_ab(int(x),int(y),S,p00, *pis, *qs, l)\n",
    "        else:\n",
    "            probGrid[i,j] = float('nan')"
   ]
  },
  {
   "cell_type": "code",
   "execution_count": 59,
   "metadata": {},
   "outputs": [
    {
     "data": {
      "image/png": "[encoded data removed]",
      "text/plain": [
       "<Figure size 560x480 with 1 Axes>"
      ]
     },
     "metadata": {},
     "output_type": "display_data"
    }
   ],
   "source": [
    "fig, ax = plt.subplots(figsize=(5.6,4.8))\n",
    "im = ax.pcolormesh(xgrid, ygrid, probGrid, cmap='viridis', shading='nearest')"
   ]
  },
  {
   "cell_type": "code",
   "execution_count": 60,
   "metadata": {},
   "outputs": [
    {
     "name": "stdout",
     "output_type": "stream",
     "text": [
      "0.04836476449349236\n"
     ]
    }
   ],
   "source": [
    "pab = prob_ab(0,80, S, p00, *pis, *qs, l)\n",
    "print(pab)"
   ]
  },
  {
   "cell_type": "code",
   "execution_count": null,
   "metadata": {},
   "outputs": [],
   "source": []
  }
 ],
 "metadata": {
  "kernelspec": {
   "display_name": "base",
   "language": "python",
   "name": "python3"
  },
  "language_info": {
   "codemirror_mode": {
    "name": "ipython",
    "version": 3
   },
   "file_extension": ".py",
   "mimetype": "text/x-python",
   "name": "python",
   "nbconvert_exporter": "python",
   "pygments_lexer": "ipython3",
   "version": "3.10.13"
  }
 },
 "nbformat": 4,
 "nbformat_minor": 2
}
