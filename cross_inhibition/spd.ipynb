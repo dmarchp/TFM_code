{
 "cells": [
  {
   "cell_type": "code",
   "execution_count": 1,
   "metadata": {},
   "outputs": [],
   "source": [
    "import numpy as np\n",
    "import matplotlib.pyplot as plt\n",
    "from matplotlib.colors import LogNorm\n",
    "%matplotlib inline"
   ]
  },
  {
   "cell_type": "code",
   "execution_count": 2,
   "metadata": {},
   "outputs": [],
   "source": [
    "def prob_00(S,pix,piy,qx,qy,l):\n",
    "    rx, ry = 1/qx, 1/qy\n",
    "    sum1 = 0\n",
    "    for b in range(1,S+1):\n",
    "        prod = 1\n",
    "        for j in range(0,b):\n",
    "            prod = prod * (S-j)/(j+1)*((1-l)*piy + l*j/(S-1))/ry\n",
    "        sum1 += prod\n",
    "    sum2 = 0\n",
    "    for a in range(1,S+1):\n",
    "        prod = 1\n",
    "        for j in range(a):\n",
    "            prod = prod * (S-j)/(j+1)*((1-l)*pix + l*j/(S-1))/rx\n",
    "        sum3 = 0\n",
    "        for b in range(S-a+1):\n",
    "            prod1 = 1\n",
    "            for k in range(b):\n",
    "                prod1 = prod1 * ((S-a-k)*((S-1)*(1-l)*piy + l*k))/((k+1)*((S-1)*ry + a))\n",
    "            sum3 += prod1\n",
    "        sum2 += prod * (1 + sum3)\n",
    "    return 1/(1 + sum1 + sum2)\n",
    "            \n",
    "\n",
    "# def prob_ab(a,b,S,p00,pix,piy,qx,qy,l):\n",
    "#     # a,b populations in states x,y (or 1,2); S total system size\n",
    "#     rx, ry = 1/qx, 1/qy\n",
    "#     # numerador\n",
    "#     prod1, prod2 = 1, 1\n",
    "#     for j in range(a): # so j 0...a-1\n",
    "#         prod1 = prod1*(S-j)/(j+1)*((1-l)*pix + l*j/(S-1))/rx\n",
    "#     for j in range(b): # so j 0...b-1\n",
    "#         prod2 = prod2*(S-a-j)/(j+1)*((S-1)*(1-l)*piy + l*j)/(ry*(S-1) + a)\n",
    "#     return p00*prod1*prod2\n",
    "    # return prod1*prod2"
   ]
  },
  {
   "cell_type": "code",
   "execution_count": 6,
   "metadata": {},
   "outputs": [],
   "source": [
    "# LES model with T equations\n",
    "\n",
    "def Tab_plusx(a,b,S,pix,l):\n",
    "    return (S-a-b)*((1-l)*pix + l*a/(S-1))\n",
    "\n",
    "def Tab_plusy(a,b,S,piy,l):\n",
    "    return (S-a-b)*((1-l)*piy + l*b/(S-1))\n",
    "\n",
    "def Tab_minx(a,b,S,rx):\n",
    "    return a*(rx + b/(S-1))\n",
    "\n",
    "def Tab_miny(a,b,S,ry):\n",
    "    return b*(ry + a/(S-1))\n",
    "\n",
    "def prob_00_v2(S,pix,piy,qx,qy,l):\n",
    "    rx, ry = 1/qx, 1/qy\n",
    "    sum1 = 0\n",
    "    for b in range(1,S+1):\n",
    "        prod = 1\n",
    "        for j in range(0,b):\n",
    "            prod = prod * Tab_plusy(0,j,S,piy,l)/Tab_miny(0,j+1,S,ry)\n",
    "        sum1 = sum1 + prod\n",
    "    return sum1\n",
    "\n",
    "def prob_ab(a,b,S,p00,pix,piy,qx,qy,l,which='Full'):\n",
    "    # which = 'Full', 'A' or 'B'\n",
    "    rx, ry = 1/qx, 1/qy\n",
    "    prob_ab  = 0\n",
    "    if which == 'Full' or which == 'A':\n",
    "        # equation obtained for A\n",
    "        prod1a, prod2a = 1, 1\n",
    "        for j in range(a):\n",
    "            prod1a = prod1a*Tab_plusx(j,0,S,pix,l)/Tab_minx(j+1,0,S,rx)\n",
    "        for j in range(b):\n",
    "            prod2a = prod2a*Tab_plusy(a,j,S,piy,l)/Tab_miny(a,j+1,S,ry)\n",
    "        prob_ab += prod1a*prod2a\n",
    "    if which == 'Full' or which == 'B':\n",
    "        # equation obtained for B\n",
    "        prod1b, prod2b = 1, 1\n",
    "        for j in range(b):\n",
    "            prod1b = prod1b*Tab_plusy(0,j,S,piy,l)/Tab_miny(0,j+1,S,ry)\n",
    "        for j in range(a):\n",
    "            prod2b = prod2b*Tab_plusx(j,b,S,pix,l)/Tab_minx(j+1,b,S,rx)\n",
    "        prob_ab += prod1b*prod2b\n",
    "    if which == 'Full':\n",
    "        prob_ab = prob_ab/2\n",
    "    prob_ab = p00*prob_ab\n",
    "    return prob_ab"
   ]
  },
  {
   "cell_type": "code",
   "execution_count": 17,
   "metadata": {},
   "outputs": [],
   "source": [
    "# Reina's noise type 1\n",
    "\n",
    "def Tab_plusx_Rn1(a,b,S,qx,sigma):\n",
    "    return (S-a-b)*(qx*a/(S-1) + sigma)\n",
    "\n",
    "def Tab_plusy_Rn1(a,b,S,qy,sigma):\n",
    "    return (S-a-b)*(qy*b/(S-1) + sigma)\n",
    "\n",
    "def Tab_minx_Rn1(a,b,S,qy,sigma):\n",
    "    return a*(sigma + qy*b/(S-1))\n",
    "\n",
    "def Tab_miny_Rn1(a,b,S,qx,sigma):\n",
    "    return b*(sigma + qx*a/(S-1))\n",
    "\n",
    "def prob_00_Rn1(S,qx,qy,sigma):\n",
    "    sum1 = 0\n",
    "    for b in range(1,S+1):\n",
    "        prod = 1\n",
    "        for j in range(0,b):\n",
    "            prod = prod * Tab_plusy_Rn1(0,j,S,qy,sigma)/Tab_miny_Rn1(0,j+1,S,qx,sigma)\n",
    "        sum1 = sum1 + prod\n",
    "    sum2 = 0\n",
    "    for a in range(1,S+1):\n",
    "        prod = 1\n",
    "        for j in range(a):\n",
    "            prod = prod * Tab_plusx_Rn1(j,0,S,qx,sigma)/Tab_minx_Rn1(j+1,0,S,qy,sigma)\n",
    "        sum3 = 0\n",
    "        for b in range(S-a+1):\n",
    "            prod1 = 1\n",
    "            for k in range(b):\n",
    "                prod1 = prod1 * Tab_plusy_Rn1(a,k,S,qy,sigma)/Tab_miny_Rn1(a,k+1,S,qx,sigma)\n",
    "            sum3 += prod1\n",
    "        sum2 += prod * (1 + sum3)\n",
    "    return 1/(1 + sum1 + sum2)\n",
    "\n",
    "def prob_ab_Rn1(a,b,S,p00,qx,qy,sigma, which='A'):\n",
    "    prob_ab = 0\n",
    "    if which == 'Full' or which == 'A':\n",
    "        # equation obtained for A\n",
    "        prod1a, prod2a = 1, 1\n",
    "        for j in range(a):\n",
    "            prod1a = prod1a*Tab_plusx_Rn1(j,0,S,qx,sigma)/Tab_minx_Rn1(j+1,0,S,qy,sigma)\n",
    "        for j in range(b):\n",
    "            prod2a = prod2a*Tab_plusy_Rn1(a,j,S,qy,sigma)/Tab_miny_Rn1(a,j+1,S,qx,sigma)\n",
    "        prob_ab += prod1a*prod2a\n",
    "    if which == 'Full' or which == 'B':\n",
    "        # equation obtained for B\n",
    "        prod1b, prod2b = 1, 1\n",
    "        for j in range(b):\n",
    "            prod1b = prod1b*Tab_plusy_Rn1(0,j,S,qy,sigma)/Tab_miny_Rn1(0,j+1,S,qx,sigma)\n",
    "        for j in range(a):\n",
    "            prod2b = prod2b*Tab_plusx_Rn1(j,b,S,qx,sigma)/Tab_minx_Rn1(j+1,b,S,qy,sigma)\n",
    "        prob_ab += prod1b*prod2b\n",
    "    if which == 'Full':\n",
    "        prob_ab = prob_ab/2\n",
    "    prob_ab = p00*prob_ab\n",
    "    return prob_ab"
   ]
  },
  {
   "cell_type": "code",
   "execution_count": 106,
   "metadata": {},
   "outputs": [],
   "source": [
    "# Reina's zealots\n",
    "\n",
    "def Tab_plusx_Rz1(a,b,S,qx,Sz):\n",
    "    return (S-a-b-2*Sz)*qx*(a+Sz)/(S-1)\n",
    "\n",
    "def Tab_plusy_Rz1(a,b,S,qy,Sz):\n",
    "    return (S-a-b-2*Sz)*qy*(b+Sz)/(S-1)\n",
    "\n",
    "def Tab_minx_Rz1(a,b,S,qy,Sz):\n",
    "    return a*qy*(b+Sz)/(S-1)\n",
    "\n",
    "def Tab_miny_Rz1(a,b,S,qx,Sz):\n",
    "    return b*qx*(a+Sz)/(S-1)\n",
    "\n",
    "def prob_00_Rz1(S,qx,qy,Sz):\n",
    "    sum1 = 0\n",
    "    for b in range(1,S+1):\n",
    "        prod = 1\n",
    "        for j in range(0,b):\n",
    "            prod = prod * Tab_plusy_Rz1(0,j,S,qy,Sz)/Tab_miny_Rz1(0,j+1,S,qx,Sz)\n",
    "        sum1 = sum1 + prod\n",
    "    sum2 = 0\n",
    "    for a in range(1,S+1):\n",
    "        prod = 1\n",
    "        for j in range(a):\n",
    "            prod = prod * Tab_plusx_Rz1(j,0,S,qx,Sz)/Tab_minx_Rz1(j+1,0,S,qy,Sz)\n",
    "        sum3 = 0\n",
    "        for b in range(S-a+1):\n",
    "            prod1 = 1\n",
    "            for k in range(b):\n",
    "                prod1 = prod1 * Tab_plusy_Rz1(a,k,S,qy,Sz)/Tab_miny_Rz1(a,k+1,S,qx,Sz)\n",
    "            sum3 += prod1\n",
    "        sum2 += prod * (1 + sum3)\n",
    "    return 1/(1 + sum1 + sum2)\n",
    "\n",
    "def prob_ab_Rz1(a,b,S,p00,qx,qy,Sz, which='A'):\n",
    "    prob_ab = 0\n",
    "    if which == 'Full' or which == 'A':\n",
    "        # equation obtained for A\n",
    "        prod1a, prod2a = 1, 1\n",
    "        for j in range(a):\n",
    "            prod1a = prod1a*Tab_plusx_Rz1(j,0,S,qx,Sz)/Tab_minx_Rz1(j+1,0,S,qy,Sz)\n",
    "        for j in range(b):\n",
    "            prod2a = prod2a*Tab_plusy_Rz1(a,j,S,qy,Sz)/Tab_miny_Rz1(a,j+1,S,qx,Sz)\n",
    "        prob_ab += prod1a*prod2a\n",
    "    if which == 'Full' or which == 'B':\n",
    "        # equation obtained for B\n",
    "        prod1b, prod2b = 1, 1\n",
    "        for j in range(b):\n",
    "            prod1b = prod1b*Tab_plusy_Rz1(0,j,S,qy,Sz)/Tab_miny_Rz1(0,j+1,S,qx,Sz)\n",
    "        for j in range(a):\n",
    "            prod2b = prod2b*Tab_plusx_Rz1(j,b,S,qx,Sz)/Tab_minx_Rz1(j+1,b,S,qy,Sz)\n",
    "        prob_ab += prod1b*prod2b\n",
    "    if which == 'Full':\n",
    "        prob_ab = prob_ab/2\n",
    "    prob_ab = p00*prob_ab\n",
    "    return prob_ab"
   ]
  },
  {
   "cell_type": "code",
   "execution_count": 27,
   "metadata": {},
   "outputs": [
    {
     "name": "stdout",
     "output_type": "stream",
     "text": [
      "Prob in a fixed point with 0, 82: 0.0771024027954571\n",
      "Prob in a fixed point with 80, 0: 1.0566467765889155e-05\n",
      "Prob in a fixed point with 26, 25: 1.9419615484716407e-05\n",
      "Prob further from fxp:  1.3359933809677643e-13\n"
     ]
    }
   ],
   "source": [
    "pis, qs, l = [0.1, 0.1], [9.0, 10.0], 0.6\n",
    "S = 100\n",
    "p00 = prob_00(S, *pis, *qs, l)\n",
    "# fixed point:\n",
    "fxp = [0.16648640741807813, 0.007958484989059489, 0.8255551075937357]\n",
    "a,b = int(S*fxp[1]), int(S*fxp[2])\n",
    "pab = prob_ab(a,b, S, p00, *pis, *qs, l)\n",
    "print(f'Prob in a fixed point with {a}, {b}: {pab}')\n",
    "\n",
    "fxp = [0.18540249757173186, 0.8052575146285746, 0.009339987799526717]\n",
    "a,b = int(S*fxp[1]), int(S*fxp[2])\n",
    "pab = prob_ab(a,b, S, p00, *pis, *qs, l)\n",
    "print(f'Prob in a fixed point with {a}, {b}: {pab}')\n",
    "\n",
    "fxp = [0.4826058780233375, 0.2665076242188334, 0.25088649775841443]\n",
    "a,b = int(S*fxp[1]), int(S*fxp[2])\n",
    "pab = prob_ab(a,b, S, p00, *pis, *qs, l)\n",
    "print(f'Prob in a fixed point with {a}, {b}: {pab}')\n",
    "\n",
    "pab = prob_ab(20, 20, S, p00, *pis, *qs, l)\n",
    "print('Prob further from fxp: ', pab)"
   ]
  },
  {
   "cell_type": "code",
   "execution_count": 10,
   "metadata": {},
   "outputs": [
    {
     "name": "stdout",
     "output_type": "stream",
     "text": [
      "which = Full, Pab = 1.0566467765889149e-05\n",
      "which = A, Pab = 1.0566467765889149e-05\n",
      "which = B, Pab = 1.0566467765889149e-05\n"
     ]
    }
   ],
   "source": [
    "pis, qs, l = [0.1, 0.1], [9.0, 10.0], 0.6\n",
    "S = 100\n",
    "p00 = prob_00(S, *pis, *qs, l)\n",
    "\n",
    "# fixed point:\n",
    "# fxp = [0.16648640741807813, 0.007958484989059489, 0.8255551075937357]\n",
    "# fxp = [0.4826058780233375, 0.2665076242188334, 0.25088649775841443]\n",
    "fxp = [.18540249757173186, 0.8052575146285746, 0.009339987799526717]\n",
    "a,b = int(S*fxp[1]), int(S*fxp[2])\n",
    "\n",
    "for which in ['Full', 'A', 'B']:\n",
    "    pab = prob_ab(a,b, S, p00, *pis, *qs, l, which)\n",
    "    print(f'which = {which}, Pab = {pab}')\n"
   ]
  },
  {
   "cell_type": "code",
   "execution_count": 100,
   "metadata": {},
   "outputs": [],
   "source": [
    "S, dS = 100, 1\n",
    "Npoints = int(S/dS) + 1\n",
    "xgrid, ygrid = np.mgrid[0:S:complex(0,Npoints), 0:S:complex(0,Npoints)]\n",
    "probGrid = np.empty([Npoints, Npoints])\n",
    "\n",
    "pis, qs, l = [0.1, 0.1], [9.0, 10.0], 0.9\n",
    "# p00 = prob_00(S, *pis, *qs, l)\n",
    "p00 = 1\n",
    "\n",
    "for i,x in enumerate(xgrid[:,0]):\n",
    "    for j,y in enumerate(ygrid[0,:]):\n",
    "        if x+y<=S:\n",
    "            probGrid[i,j] = prob_ab(int(x),int(y),S,p00, *pis, *qs, l, 'Full')\n",
    "        else:\n",
    "            # probGrid[i,j] = float('nan')\n",
    "            probGrid[i,j] = np.nan"
   ]
  },
  {
   "cell_type": "code",
   "execution_count": 101,
   "metadata": {},
   "outputs": [
    {
     "data": {
      "image/png": "[encoded data removed]",
      "text/plain": [
       "<Figure size 560x480 with 2 Axes>"
      ]
     },
     "metadata": {},
     "output_type": "display_data"
    }
   ],
   "source": [
    "fig, ax = plt.subplots(figsize=(5.6,4.8))\n",
    "vmin, vmax = min(probGrid[xgrid+ygrid<=S]), max(probGrid[xgrid+ygrid<=S])\n",
    "# vmin = 1e-10\n",
    "im = ax.pcolormesh(xgrid, ygrid, probGrid, cmap='viridis', shading='nearest', norm = LogNorm(vmin=vmin, vmax=vmax))\n",
    "cb = fig.colorbar(im, ax=ax, aspect=25, shrink=0.75, pad=0.025)"
   ]
  },
  {
   "cell_type": "code",
   "execution_count": 102,
   "metadata": {},
   "outputs": [
    {
     "name": "stdout",
     "output_type": "stream",
     "text": [
      "1.4097371964323783e-59 1.4097371964323783e-59 1.496262274585159e-59\n",
      "0.9999091229728478\n",
      "9.087702715449365e-05\n"
     ]
    }
   ],
   "source": [
    "# probGrid = probGrid[xgrid+ygrid<=S]\n",
    "\n",
    "# prob1 = sum(probGrid[~np.isnan(probGrid)])\n",
    "prob1 = sum(probGrid[xgrid+ygrid<=S])\n",
    "prob11 = sum(probGrid[~np.isnan(probGrid)])\n",
    "print(1/prob1, 1/prob11, prob_00(S, *pis, *qs, l))\n",
    "\n",
    "probyArray = np.array(probGrid[ygrid > xgrid], dtype=np.float64)\n",
    "proby = sum(probyArray[~np.isnan(probyArray)])\n",
    "print(proby/prob1)\n",
    "\n",
    "probxArray = np.array(probGrid[xgrid > ygrid], dtype=np.float64)\n",
    "probx = sum(probxArray[~np.isnan(probxArray)])\n",
    "print(probx/prob1)"
   ]
  },
  {
   "cell_type": "code",
   "execution_count": 14,
   "metadata": {},
   "outputs": [],
   "source": [
    "S = 50\n",
    "pis, qs, l = [0.1, 0.1], [9.0, 10.0], 0.6\n",
    "p00 = prob_00(S, *pis, *qs, l)\n",
    "\n",
    "difs_probs = {}\n",
    "for dif in range(S+1):\n",
    "    # when a>=b:\n",
    "    pairs_ab = [(a,a-dif) for a in range(dif,int((S+dif)/2)+1)]\n",
    "    sum_same_dif = 0\n",
    "    for a,b in pairs_ab:\n",
    "        pab = prob_ab(a,b,S,p00,*pis,*qs,l, 'A')\n",
    "        sum_same_dif += pab\n",
    "    difs_probs[dif] = sum_same_dif\n",
    "    # when b>a:\n",
    "    if dif >=1:\n",
    "        invdif = -dif\n",
    "        sum_same_dif = 0\n",
    "        for a,b in pairs_ab:\n",
    "            pba = prob_ab(b,a,S,p00,*pis,*qs,l, 'A')\n",
    "            sum_same_dif += pba\n",
    "        difs_probs[invdif] = sum_same_dif\n",
    "\n",
    "difs = sorted(difs_probs.keys())\n",
    "probs = []\n",
    "for d in difs:\n",
    "    probs.append(difs_probs[d])"
   ]
  },
  {
   "cell_type": "code",
   "execution_count": 15,
   "metadata": {},
   "outputs": [
    {
     "data": {
      "text/plain": [
       "0.9881911290863723"
      ]
     },
     "execution_count": 15,
     "metadata": {},
     "output_type": "execute_result"
    }
   ],
   "source": [
    "sum(probs)"
   ]
  },
  {
   "cell_type": "code",
   "execution_count": 16,
   "metadata": {},
   "outputs": [
    {
     "data": {
      "text/plain": [
       "[<matplotlib.lines.Line2D at 0x7f9290fa2320>]"
      ]
     },
     "execution_count": 16,
     "metadata": {},
     "output_type": "execute_result"
    },
    {
     "data": {
      "image/png": "[encoded data removed]",
      "text/plain": [
       "<Figure size 640x480 with 1 Axes>"
      ]
     },
     "metadata": {},
     "output_type": "display_data"
    }
   ],
   "source": [
    "fig, ax = plt.subplots()\n",
    "ax.plot(difs,probs)"
   ]
  },
  {
   "cell_type": "markdown",
   "metadata": {},
   "source": [
    "# Reina's model with noise type 1"
   ]
  },
  {
   "cell_type": "code",
   "execution_count": 87,
   "metadata": {},
   "outputs": [],
   "source": [
    "# Reina's\n",
    "S, dS = 100, 1\n",
    "Npoints = int(S/dS) + 1\n",
    "xgrid, ygrid = np.mgrid[0:S:complex(0,Npoints), 0:S:complex(0,Npoints)]\n",
    "probGrid = np.empty([Npoints, Npoints])\n",
    "\n",
    "qs, sigma = [1.0, 1.05], 0.2\n",
    "# p00 = prob_00_Rn1(S, *qs, sigma)\n",
    "p00 = 1\n",
    "\n",
    "for ik,x in enumerate(xgrid[:,0]):\n",
    "    for jk,y in enumerate(ygrid[0,:]):\n",
    "        if x+y<=S:\n",
    "            probGrid[ik,jk] = prob_ab_Rn1(int(x),int(y),S,p00, *qs, sigma, 'A')\n",
    "        else:\n",
    "            # probGrid[i,j] = float('nan')\n",
    "            probGrid[ik,jk] = np.nan\n",
    "            "
   ]
  },
  {
   "cell_type": "code",
   "execution_count": 84,
   "metadata": {},
   "outputs": [
    {
     "data": {
      "image/png": "[encoded data removed]",
      "text/plain": [
       "<Figure size 560x480 with 2 Axes>"
      ]
     },
     "metadata": {},
     "output_type": "display_data"
    }
   ],
   "source": [
    "fig, ax = plt.subplots(figsize=(5.6,4.8))\n",
    "vmin, vmax = min(probGrid[xgrid+ygrid<=S]), max(probGrid[xgrid+ygrid<=S])\n",
    "# vmin = 1e-10\n",
    "# print(vmin, vmax)\n",
    "im = ax.pcolormesh(xgrid, ygrid, probGrid, cmap='viridis', shading='nearest', norm = LogNorm(vmin=vmin, vmax=vmax))\n",
    "cb = fig.colorbar(im, ax=ax, aspect=25, shrink=0.75, pad=0.025)"
   ]
  },
  {
   "cell_type": "code",
   "execution_count": 78,
   "metadata": {},
   "outputs": [
    {
     "name": "stdout",
     "output_type": "stream",
     "text": [
      "4.841649280209275e+76\n"
     ]
    }
   ],
   "source": [
    "probNorm= sum(probGrid[~np.isnan(probGrid)])\n",
    "print(probNorm)"
   ]
  },
  {
   "cell_type": "code",
   "execution_count": 88,
   "metadata": {},
   "outputs": [
    {
     "name": "stdout",
     "output_type": "stream",
     "text": [
      "2.0713529762059282e-59 2.0713529762059282e-59 2.0319968278515262e-59\n",
      "0.3122830307163429\n",
      "0.6877169691679008\n"
     ]
    }
   ],
   "source": [
    "prob1 = sum(probGrid[xgrid+ygrid<=S])\n",
    "prob11 = sum(probGrid[~np.isnan(probGrid)])\n",
    "print(1/prob1, 1/prob11, prob_00_Rn1(S, *qs, sigma))\n",
    "\n",
    "probyArray = np.array(probGrid[ygrid > xgrid], dtype=np.float64)\n",
    "proby = sum(probyArray[~np.isnan(probyArray)])\n",
    "print(proby/prob1)\n",
    "\n",
    "probxArray = np.array(probGrid[xgrid > ygrid], dtype=np.float64)\n",
    "probx = sum(probxArray[~np.isnan(probxArray)])\n",
    "print(probx/prob1)"
   ]
  },
  {
   "cell_type": "markdown",
   "metadata": {},
   "source": [
    "### prob x-y=k"
   ]
  },
  {
   "cell_type": "code",
   "execution_count": 103,
   "metadata": {},
   "outputs": [
    {
     "name": "stdout",
     "output_type": "stream",
     "text": [
      "6.335718084847033e+150\n"
     ]
    }
   ],
   "source": [
    "S = 200\n",
    "qs, sigma = [1.0, 1.0], 0.1\n",
    "# p00 = prob_00_Rn1(S, *qs, sigma)\n",
    "p00 = 1\n",
    "\n",
    "which = 'A'\n",
    "difs_probs = {}\n",
    "for dif in range(S+1):\n",
    "    # when a>=b:\n",
    "    pairs_ab = [(a,a-dif) for a in range(dif,int((S+dif)/2)+1)]\n",
    "    sum_same_dif = 0\n",
    "    for a,b in pairs_ab:\n",
    "        pab = prob_ab_Rn1(a,b,S,p00,*qs,sigma, which)\n",
    "        sum_same_dif += pab\n",
    "    difs_probs[dif] = sum_same_dif\n",
    "    # when b>a:\n",
    "    if dif >=1:\n",
    "        invdif = -dif\n",
    "        sum_same_dif = 0\n",
    "        for a,b in pairs_ab:\n",
    "            pba = prob_ab_Rn1(b,a,S,p00,*qs,sigma, which)\n",
    "            sum_same_dif += pba\n",
    "        difs_probs[invdif] = sum_same_dif\n",
    "\n",
    "difs = sorted(difs_probs.keys())\n",
    "probs = []\n",
    "for d in difs:\n",
    "    probs.append(difs_probs[d])\n",
    "\n",
    "print(sum(probs))\n",
    "probs = np.array(probs)/sum(probs)"
   ]
  },
  {
   "cell_type": "code",
   "execution_count": 104,
   "metadata": {},
   "outputs": [
    {
     "data": {
      "text/plain": [
       "[<matplotlib.lines.Line2D at 0x7f9218425f30>]"
      ]
     },
     "execution_count": 104,
     "metadata": {},
     "output_type": "execute_result"
    },
    {
     "data": {
      "image/png": "[encoded data removed]",
      "text/plain": [
       "<Figure size 640x480 with 1 Axes>"
      ]
     },
     "metadata": {},
     "output_type": "display_data"
    }
   ],
   "source": [
    "fig, ax = plt.subplots()\n",
    "difsNorm = np.array(difs)/S\n",
    "ax.plot(difsNorm,probs)"
   ]
  },
  {
   "cell_type": "markdown",
   "metadata": {},
   "source": [
    "### Reina's model with zealots"
   ]
  },
  {
   "cell_type": "code",
   "execution_count": 129,
   "metadata": {},
   "outputs": [
    {
     "name": "stdout",
     "output_type": "stream",
     "text": [
      "1.0367407448263045e+172\n"
     ]
    }
   ],
   "source": [
    "S = 200\n",
    "qs, Sz = [1.05, 1.0], int(S*0.1/2)\n",
    "# p00 = prob_00_Rz1(S, *qs, Sz)\n",
    "p00 = 1\n",
    "\n",
    "which = 'Full'\n",
    "difs_probs = {}\n",
    "for dif in range(S+1):\n",
    "    # when a>=b:\n",
    "    pairs_ab = [(a,a-dif) for a in range(dif,int((S-2*Sz+dif)/2)+1)]\n",
    "    sum_same_dif = 0\n",
    "    for a,b in pairs_ab:\n",
    "        pab = prob_ab_Rz1(a,b,S,p00,*qs,Sz, which)\n",
    "        sum_same_dif += pab\n",
    "    difs_probs[dif] = sum_same_dif\n",
    "    # when b>a:\n",
    "    if dif >=1:\n",
    "        invdif = -dif\n",
    "        sum_same_dif = 0\n",
    "        for a,b in pairs_ab:\n",
    "            pba = prob_ab_Rz1(b,a,S,p00,*qs,Sz, which)\n",
    "            sum_same_dif += pba\n",
    "        difs_probs[invdif] = sum_same_dif\n",
    "\n",
    "difs = sorted(difs_probs.keys())\n",
    "probs = []\n",
    "for d in difs:\n",
    "    probs.append(difs_probs[d])\n",
    "\n",
    "print(sum(probs))\n",
    "probs = np.array(probs)/sum(probs)"
   ]
  },
  {
   "cell_type": "code",
   "execution_count": 135,
   "metadata": {},
   "outputs": [
    {
     "data": {
      "text/plain": [
       "[<matplotlib.lines.Line2D at 0x7f9250611bd0>]"
      ]
     },
     "execution_count": 135,
     "metadata": {},
     "output_type": "execute_result"
    },
    {
     "data": {
      "image/png": "[encoded data removed]",
      "text/plain": [
       "<Figure size 640x480 with 1 Axes>"
      ]
     },
     "metadata": {},
     "output_type": "display_data"
    }
   ],
   "source": [
    "fig, ax = plt.subplots()\n",
    "ax.set_yscale('log')\n",
    "# ax.set_xlim(-1,1)\n",
    "ax.set_xscale('symlog')\n",
    "difsNorm = np.array(difs)/S\n",
    "ax.plot(difs,probs)"
   ]
  },
  {
   "cell_type": "code",
   "execution_count": 133,
   "metadata": {},
   "outputs": [
    {
     "data": {
      "text/plain": [
       "array([-1.   , -0.995, -0.99 , -0.985, -0.98 , -0.975, -0.97 , -0.965,\n",
       "       -0.96 , -0.955, -0.95 , -0.945, -0.94 , -0.935, -0.93 , -0.925,\n",
       "       -0.92 , -0.915, -0.91 , -0.905, -0.9  , -0.895, -0.89 , -0.885,\n",
       "       -0.88 , -0.875, -0.87 , -0.865, -0.86 , -0.855, -0.85 , -0.845,\n",
       "       -0.84 , -0.835, -0.83 , -0.825, -0.82 , -0.815, -0.81 , -0.805,\n",
       "       -0.8  , -0.795, -0.79 , -0.785, -0.78 , -0.775, -0.77 , -0.765,\n",
       "       -0.76 , -0.755, -0.75 , -0.745, -0.74 , -0.735, -0.73 , -0.725,\n",
       "       -0.72 , -0.715, -0.71 , -0.705, -0.7  , -0.695, -0.69 , -0.685,\n",
       "       -0.68 , -0.675, -0.67 , -0.665, -0.66 , -0.655, -0.65 , -0.645,\n",
       "       -0.64 , -0.635, -0.63 , -0.625, -0.62 , -0.615, -0.61 , -0.605,\n",
       "       -0.6  , -0.595, -0.59 , -0.585, -0.58 , -0.575, -0.57 , -0.565,\n",
       "       -0.56 , -0.555, -0.55 , -0.545, -0.54 , -0.535, -0.53 , -0.525,\n",
       "       -0.52 , -0.515, -0.51 , -0.505, -0.5  , -0.495, -0.49 , -0.485,\n",
       "       -0.48 , -0.475, -0.47 , -0.465, -0.46 , -0.455, -0.45 , -0.445,\n",
       "       -0.44 , -0.435, -0.43 , -0.425, -0.42 , -0.415, -0.41 , -0.405,\n",
       "       -0.4  , -0.395, -0.39 , -0.385, -0.38 , -0.375, -0.37 , -0.365,\n",
       "       -0.36 , -0.355, -0.35 , -0.345, -0.34 , -0.335, -0.33 , -0.325,\n",
       "       -0.32 , -0.315, -0.31 , -0.305, -0.3  , -0.295, -0.29 , -0.285,\n",
       "       -0.28 , -0.275, -0.27 , -0.265, -0.26 , -0.255, -0.25 , -0.245,\n",
       "       -0.24 , -0.235, -0.23 , -0.225, -0.22 , -0.215, -0.21 , -0.205,\n",
       "       -0.2  , -0.195, -0.19 , -0.185, -0.18 , -0.175, -0.17 , -0.165,\n",
       "       -0.16 , -0.155, -0.15 , -0.145, -0.14 , -0.135, -0.13 , -0.125,\n",
       "       -0.12 , -0.115, -0.11 , -0.105, -0.1  , -0.095, -0.09 , -0.085,\n",
       "       -0.08 , -0.075, -0.07 , -0.065, -0.06 , -0.055, -0.05 , -0.045,\n",
       "       -0.04 , -0.035, -0.03 , -0.025, -0.02 , -0.015, -0.01 , -0.005,\n",
       "        0.   ,  0.005,  0.01 ,  0.015,  0.02 ,  0.025,  0.03 ,  0.035,\n",
       "        0.04 ,  0.045,  0.05 ,  0.055,  0.06 ,  0.065,  0.07 ,  0.075,\n",
       "        0.08 ,  0.085,  0.09 ,  0.095,  0.1  ,  0.105,  0.11 ,  0.115,\n",
       "        0.12 ,  0.125,  0.13 ,  0.135,  0.14 ,  0.145,  0.15 ,  0.155,\n",
       "        0.16 ,  0.165,  0.17 ,  0.175,  0.18 ,  0.185,  0.19 ,  0.195,\n",
       "        0.2  ,  0.205,  0.21 ,  0.215,  0.22 ,  0.225,  0.23 ,  0.235,\n",
       "        0.24 ,  0.245,  0.25 ,  0.255,  0.26 ,  0.265,  0.27 ,  0.275,\n",
       "        0.28 ,  0.285,  0.29 ,  0.295,  0.3  ,  0.305,  0.31 ,  0.315,\n",
       "        0.32 ,  0.325,  0.33 ,  0.335,  0.34 ,  0.345,  0.35 ,  0.355,\n",
       "        0.36 ,  0.365,  0.37 ,  0.375,  0.38 ,  0.385,  0.39 ,  0.395,\n",
       "        0.4  ,  0.405,  0.41 ,  0.415,  0.42 ,  0.425,  0.43 ,  0.435,\n",
       "        0.44 ,  0.445,  0.45 ,  0.455,  0.46 ,  0.465,  0.47 ,  0.475,\n",
       "        0.48 ,  0.485,  0.49 ,  0.495,  0.5  ,  0.505,  0.51 ,  0.515,\n",
       "        0.52 ,  0.525,  0.53 ,  0.535,  0.54 ,  0.545,  0.55 ,  0.555,\n",
       "        0.56 ,  0.565,  0.57 ,  0.575,  0.58 ,  0.585,  0.59 ,  0.595,\n",
       "        0.6  ,  0.605,  0.61 ,  0.615,  0.62 ,  0.625,  0.63 ,  0.635,\n",
       "        0.64 ,  0.645,  0.65 ,  0.655,  0.66 ,  0.665,  0.67 ,  0.675,\n",
       "        0.68 ,  0.685,  0.69 ,  0.695,  0.7  ,  0.705,  0.71 ,  0.715,\n",
       "        0.72 ,  0.725,  0.73 ,  0.735,  0.74 ,  0.745,  0.75 ,  0.755,\n",
       "        0.76 ,  0.765,  0.77 ,  0.775,  0.78 ,  0.785,  0.79 ,  0.795,\n",
       "        0.8  ,  0.805,  0.81 ,  0.815,  0.82 ,  0.825,  0.83 ,  0.835,\n",
       "        0.84 ,  0.845,  0.85 ,  0.855,  0.86 ,  0.865,  0.87 ,  0.875,\n",
       "        0.88 ,  0.885,  0.89 ,  0.895,  0.9  ,  0.905,  0.91 ,  0.915,\n",
       "        0.92 ,  0.925,  0.93 ,  0.935,  0.94 ,  0.945,  0.95 ,  0.955,\n",
       "        0.96 ,  0.965,  0.97 ,  0.975,  0.98 ,  0.985,  0.99 ,  0.995,\n",
       "        1.   ])"
      ]
     },
     "execution_count": 133,
     "metadata": {},
     "output_type": "execute_result"
    }
   ],
   "source": [
    "difsNorm"
   ]
  },
  {
   "cell_type": "code",
   "execution_count": null,
   "metadata": {},
   "outputs": [],
   "source": []
  }
 ],
 "metadata": {
  "kernelspec": {
   "display_name": "base",
   "language": "python",
   "name": "python3"
  },
  "language_info": {
   "codemirror_mode": {
    "name": "ipython",
    "version": 3
   },
   "file_extension": ".py",
   "mimetype": "text/x-python",
   "name": "python",
   "nbconvert_exporter": "python",
   "pygments_lexer": "ipython3",
   "version": "3.10.13"
  }
 },
 "nbformat": 4,
 "nbformat_minor": 2
}
