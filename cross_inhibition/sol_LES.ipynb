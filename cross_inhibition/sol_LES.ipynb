{
 "cells": [
  {
   "cell_type": "code",
   "execution_count": 36,
   "metadata": {},
   "outputs": [],
   "source": [
    "import numpy as np\n",
    "import matplotlib.pyplot as plt\n",
    "%matplotlib inline\n",
    "\n",
    "from scipy.optimize import bisect, newton, toms748"
   ]
  },
  {
   "cell_type": "code",
   "execution_count": 106,
   "metadata": {},
   "outputs": [],
   "source": [
    "# LINEAR CROSS INHIBITION:\n",
    "def f0_equation_linci(f0, pis, qs, l, lci, permutation):\n",
    "    # as a solution of a second degree poly is involved, choose branch by setting +1 or -1\n",
    "    Nsites = len(pis)\n",
    "    rs = [1/q for q in qs]\n",
    "    sumval = 0.0\n",
    "    for i in range(Nsites):\n",
    "        sumval += (rs[i] + permutation[i]*np.sqrt(((l+lci)*f0 - rs[i] - lci)**2 - 4*lci*(1-l)*pis[i]*f0))\n",
    "    sumval = sumval/(2*lci)\n",
    "    return 1 - f0 + (Nsites*(l+lci)*f0-Nsites*lci)/(2*lci) - sumval\n",
    "\n",
    "def f0_eq_sqrt_zeros(pi, q, l, lci):\n",
    "    r = 1/q\n",
    "    a = (l + lci)**2\n",
    "    b = (-2*(l+lci)*(r+lci) - 4*lci*(1-l)*pi)\n",
    "    c = (r+lci)**2\n",
    "    arrel = np.sqrt(b**2 - 4*a*c)\n",
    "    return (-b+arrel)/(2*a), (-b-arrel)/(2*a)\n",
    "\n",
    "def falpha_linci(f0, pi, q, l, lci):\n",
    "    r = 1/q\n",
    "    # rootval = np.sqrt(((l+lci)*f0 - r - lci)**2 - 4*lci*(1-l)*pi*f0)\n",
    "    a = lci\n",
    "    b = -r-lci+(l+lci)*f0\n",
    "    c = f0*(1-l)*pi\n",
    "    arrel = np.sqrt(b**2 - 4*a*c)\n",
    "    return (-b+arrel)/(2*a), (-b-arrel)/(2*a)\n",
    "    "
   ]
  },
  {
   "cell_type": "code",
   "execution_count": 103,
   "metadata": {},
   "outputs": [
    {
     "name": "stderr",
     "output_type": "stream",
     "text": [
      "/var/folders/m0/czh93qvd5t1g803_x1pzy8g00000gt/T/ipykernel_38557/3654034362.py:8: RuntimeWarning: invalid value encountered in sqrt\n",
      "  sumval += (rs[i] + permutation[i]*np.sqrt(((l+lci)*f0 - rs[i] - lci)**2 - 4*lci*(1-l)*pis[i]*f0))\n"
     ]
    },
    {
     "name": "stdout",
     "output_type": "stream",
     "text": [
      "[0.3929690394231026, 0.18556057786706026, 0.16636348629769296]\n",
      "[0.39296903942376715, 0.18556057786563657, 0.16636348629750547]\n"
     ]
    },
    {
     "data": {
      "image/png": "[encoded data removed]",
      "text/plain": [
       "<Figure size 640x480 with 1 Axes>"
      ]
     },
     "metadata": {},
     "output_type": "display_data"
    }
   ],
   "source": [
    "pis, qs, l, lci = [0.1, 0.1], [9.0, 10.0], 0.6, 0.6\n",
    "# pis, qs, l, lci = [0.2, 0.2], [9.0, 10.0], 0.2, 0.2\n",
    "\n",
    "f0s1 = f0_eq_sqrt_zeros(pis[0], qs[0], l, lci)\n",
    "f0s2 = f0_eq_sqrt_zeros(pis[1], qs[1], l, lci)\n",
    "f0sProb = sorted(f0s1 + f0s2)\n",
    "\n",
    "f0s_lower = np.linspace(0.0, f0sProb[0], 100)\n",
    "f0s_upper = np.linspace(f0sProb[-1], 1.0, 100)\n",
    "\n",
    "permutation = [+1, +1]\n",
    "eqvals_pp_lower = f0_equation_linci(f0s_lower, pis, qs, l, lci, permutation)\n",
    "eqvals_pp_upper = f0_equation_linci(f0s_upper, pis, qs, l, lci, permutation)\n",
    "\n",
    "permutation = [-1, -1]\n",
    "eqvals_mm_lower = f0_equation_linci(f0s_lower, pis, qs, l, lci, permutation)\n",
    "eqvals_mm_upper = f0_equation_linci(f0s_upper, pis, qs, l, lci, permutation)\n",
    "\n",
    "permutation = [+1, -1]\n",
    "eqvals_pm_lower = f0_equation_linci(f0s_lower, pis, qs, l, lci, permutation)\n",
    "eqvals_pm_upper = f0_equation_linci(f0s_upper, pis, qs, l, lci, permutation)\n",
    "\n",
    "permutation = [-1, +1]\n",
    "eqvals_mp_lower = f0_equation_linci(f0s_lower, pis, qs, l, lci, permutation)\n",
    "eqvals_mp_upper = f0_equation_linci(f0s_upper, pis, qs, l, lci, permutation)\n",
    "\n",
    "fig, ax = plt.subplots()\n",
    "ax.plot(f0s_lower, eqvals_pp_lower, color='xkcd:green', label='$(+,+)$')\n",
    "ax.plot(f0s_upper, eqvals_pp_upper, color='xkcd:green', ls='-.')\n",
    "\n",
    "ax.plot(f0s_lower, eqvals_mm_lower, color='xkcd:red', label='$(-,-)$')\n",
    "ax.plot(f0s_upper, eqvals_mm_upper, color='xkcd:red', ls='-.')\n",
    "\n",
    "ax.plot(f0s_lower, eqvals_pm_lower, color='xkcd:blue', label='$(+,-)$')\n",
    "ax.plot(f0s_upper, eqvals_pm_upper, color='xkcd:blue', ls='-.')\n",
    "\n",
    "ax.plot(f0s_lower, eqvals_mp_lower, color='xkcd:orange', label='$(-,+)$')\n",
    "ax.plot(f0s_upper, eqvals_mp_upper, color='xkcd:orange', ls='-.')\n",
    "\n",
    "ax.legend()\n",
    "\n",
    "ax.axhline(0, 0,1, ls='--', lw=0.8, color='xkcd:gray')\n",
    "\n",
    "roots = []\n",
    "roots_toms = []\n",
    "roots_secant = []\n",
    "for permutation in [[+1, +1], [+1, -1], [-1, +1], [-1, -1]]:\n",
    "    args = [pis, qs, l, lci, permutation]\n",
    "    if f0_equation_linci(0.0, *args)*f0_equation_linci(f0sProb[0], *args) < 0:\n",
    "        a = bisect(f0_equation_linci, 0.0, f0sProb[0], args=(pis, qs, l, lci, permutation))\n",
    "        aa = toms748(f0_equation_linci, 0.0, f0sProb[0], args=(pis, qs, l, lci, permutation))\n",
    "        roots.append(a), roots_toms.append(aa)\n",
    "        # aaa = newton(f0_equation_linci, (0.0+f0sProb[0])/2, args=(pis, qs, l, lci, permutation))\n",
    "        # roots_secant.append(aaa)\n",
    "\n",
    "print(roots)\n",
    "print(roots_toms)"
   ]
  },
  {
   "cell_type": "code",
   "execution_count": 110,
   "metadata": {},
   "outputs": [
    {
     "name": "stdout",
     "output_type": "stream",
     "text": [
      "[0.3929690394231026, 0.3164637304137582, 0.2905672301666127]\n",
      "[0.3929690394231026, 0.08278337592522174, 0.0901613576538488]\n",
      "[0.18556057786706026, 0.7985730161805377, 0.7796791049815621]\n",
      "[0.18556057786706026, 0.015491013270526831, 0.015866405950984014]\n",
      "[0.16636348629769296, 0.8392428493670109, 0.8204211504793304]\n",
      "[0.16636348629769296, 0.013215363222788315, 0.013518543591950299]\n"
     ]
    }
   ],
   "source": [
    "fis = [[], []]\n",
    "for f0 in roots:\n",
    "    for i in range(len(pis)):\n",
    "        fisAux = list(falpha_linci(f0, pis[i], qs[i], l, lci))\n",
    "        fis[i].extend(fisAux)\n",
    "\n",
    "for i,f0 in enumerate(roots):\n",
    "    for j in range(len(pis)):\n",
    "        sol = [f0, fis[0][i*2 + j], fis[1][i*2 + j]]\n",
    "        print(sol)"
   ]
  },
  {
   "cell_type": "code",
   "execution_count": 109,
   "metadata": {},
   "outputs": [
    {
     "data": {
      "text/plain": [
       "[[0.3164637304137582,\n",
       "  0.08278337592522174,\n",
       "  0.7985730161805377,\n",
       "  0.015491013270526831,\n",
       "  0.8392428493670109,\n",
       "  0.013215363222788315],\n",
       " [0.2905672301666127,\n",
       "  0.0901613576538488,\n",
       "  0.7796791049815621,\n",
       "  0.015866405950984014,\n",
       "  0.8204211504793304,\n",
       "  0.013518543591950299]]"
      ]
     },
     "execution_count": 109,
     "metadata": {},
     "output_type": "execute_result"
    }
   ],
   "source": [
    "fis"
   ]
  },
  {
   "cell_type": "markdown",
   "metadata": {},
   "source": [
    "## This is wrong:"
   ]
  },
  {
   "cell_type": "code",
   "execution_count": 88,
   "metadata": {},
   "outputs": [],
   "source": [
    "# LINEAR CROSS INHIBITION:\n",
    "def f0_equation_linci(f0, pis, qs, l, lci, branch):\n",
    "    # as a solution of a second degree poly is involved, choose branch by setting +1 or -1\n",
    "    Nsites = len(pis)\n",
    "    rs = [1/q for q in qs]\n",
    "    sumval = 0.0\n",
    "    for i in range(Nsites):\n",
    "        sumval += (rs[i] + branch*np.sqrt(((l+lci)*f0 - rs[i] - lci)**2 - 4*lci*(1-l)*pis[i]*f0))\n",
    "    sumval = sumval/(2*lci)\n",
    "    return 1 - f0 + (Nsites*(l+lci)*f0-Nsites*lci)/(2*lci) - sumval\n",
    "\n",
    "\n",
    "def f0_eq_sqrt_zeros(pi, q, l, lci):\n",
    "    r = 1/q\n",
    "    a = (l + lci)**2\n",
    "    b = (-2*(l+lci)*(r+lci) - 4*lci*(1-l)*pi)\n",
    "    c = (r+lci)**2\n",
    "    arrel = np.sqrt(b**2 - 4*a*c)\n",
    "    return (-b+arrel)/(2*a), (-b-arrel)/(2*a)"
   ]
  },
  {
   "cell_type": "code",
   "execution_count": 89,
   "metadata": {},
   "outputs": [
    {
     "name": "stderr",
     "output_type": "stream",
     "text": [
      "/var/folders/m0/czh93qvd5t1g803_x1pzy8g00000gt/T/ipykernel_38557/2605541091.py:8: RuntimeWarning: invalid value encountered in sqrt\n",
      "  sumval += (rs[i] + branch*np.sqrt(((l+lci)*f0 - rs[i] - lci)**2 - 4*lci*(1-l)*pis[i]*f0))\n"
     ]
    }
   ],
   "source": [
    "# pis, qs, l, lci = [0.2, 0.2], [9.0, 10.0], 0.2, 0.2 # no root?\n",
    "pis, qs, l, lci = [0.1, 0.1], [9.0, 10.0], 0.6, 0.6\n",
    "f0s1 = f0_eq_sqrt_zeros(pis[0], qs[0], l, lci)\n",
    "f0s2 = f0_eq_sqrt_zeros(pis[1], qs[1], l, lci)\n",
    "f0sProb = sorted(f0s1 + f0s2)\n",
    "\n",
    "f0s_lower = np.linspace(0.0, f0sProb[0], 100)\n",
    "f0s_upper = np.linspace(f0sProb[-1], 1.0, 100)\n",
    "\n",
    "# f0s = np.concatenate([f0s_lower, f0s_upper])\n",
    "# eqvals_plus = f0_equation_linci(f0s, pis, qs, l, lci, branch=1)\n",
    "# eqvals_min = f0_equation_linci(f0s, pis, qs, l, lci, branch=-1)\n",
    "\n",
    "eqvalsPlus_lower = f0_equation_linci(f0s_lower, pis, qs, l, lci, branch=1)\n",
    "eqvalsPlus_upper = f0_equation_linci(f0s_upper, pis, qs, l, lci, branch=1)\n",
    "eqvalsMinus_lower = f0_equation_linci(f0s_lower, pis, qs, l, lci, branch=-1)\n",
    "eqvalsMinus_upper = f0_equation_linci(f0s_upper, pis, qs, l, lci, branch=-1)\n",
    "\n",
    "# a = bisect(f0_equation_linci, 0.0, f0sProb[0], args=(pis, qs, l, lci, -1))"
   ]
  },
  {
   "cell_type": "code",
   "execution_count": 90,
   "metadata": {},
   "outputs": [
    {
     "data": {
      "text/plain": [
       "<matplotlib.lines.Line2D at 0x7ff1e1732c80>"
      ]
     },
     "execution_count": 90,
     "metadata": {},
     "output_type": "execute_result"
    },
    {
     "data": {
      "image/png": "[encoded data removed]",
      "text/plain": [
       "<Figure size 640x480 with 1 Axes>"
      ]
     },
     "metadata": {},
     "output_type": "display_data"
    }
   ],
   "source": [
    "fig, ax = plt.subplots()\n",
    "# ax.plot(f0s, eqvals_min)\n",
    "# ax.plot(f0s, eqvals_plus)\n",
    "ax.plot(f0s_lower, eqvalsMinus_lower, color='xkcd:blue')\n",
    "ax.plot(f0s_upper, eqvalsMinus_upper, color='xkcd:blue', ls='-.')\n",
    "\n",
    "ax.plot(f0s_lower, eqvalsPlus_lower, color='xkcd:orange')\n",
    "ax.plot(f0s_upper, eqvalsPlus_upper, color='xkcd:orange', ls='-.')\n",
    "\n",
    "\n",
    "ax.axhline(0, 0,1, ls='--', color='xkcd:gray')\n",
    "# ax.axvline(a)"
   ]
  },
  {
   "cell_type": "code",
   "execution_count": 69,
   "metadata": {},
   "outputs": [
    {
     "data": {
      "text/plain": [
       "array([0.26697899, 0.2697893 , 0.2725996 , 0.27540991, 0.27822021])"
      ]
     },
     "execution_count": 69,
     "metadata": {},
     "output_type": "execute_result"
    }
   ],
   "source": [
    "f0s_lower[-5:]"
   ]
  },
  {
   "cell_type": "code",
   "execution_count": 77,
   "metadata": {},
   "outputs": [
    {
     "data": {
      "text/plain": [
       "-4.0007921619435045"
      ]
     },
     "execution_count": 77,
     "metadata": {},
     "output_type": "execute_result"
    }
   ],
   "source": [
    "f0_equation_linci(0.27525656456856995, pis, qs, l, lci, -1)"
   ]
  },
  {
   "cell_type": "code",
   "execution_count": null,
   "metadata": {},
   "outputs": [],
   "source": []
  }
 ],
 "metadata": {
  "kernelspec": {
   "display_name": "base",
   "language": "python",
   "name": "python3"
  },
  "language_info": {
   "codemirror_mode": {
    "name": "ipython",
    "version": 3
   },
   "file_extension": ".py",
   "mimetype": "text/x-python",
   "name": "python",
   "nbconvert_exporter": "python",
   "pygments_lexer": "ipython3",
   "version": "3.10.13"
  }
 },
 "nbformat": 4,
 "nbformat_minor": 2
}
