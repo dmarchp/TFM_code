{
 "cells": [
  {
   "cell_type": "code",
   "execution_count": 140,
   "metadata": {},
   "outputs": [],
   "source": [
    "import numpy as np\n",
    "import math\n",
    "import matplotlib.pyplot as plt\n",
    "%matplotlib inline\n",
    "\n",
    "from scipy.optimize import bisect, newton, toms748"
   ]
  },
  {
   "cell_type": "code",
   "execution_count": 111,
   "metadata": {},
   "outputs": [],
   "source": [
    "# LINEAR CROSS INHIBITION:\n",
    "def f0_equation_linci(f0, pis, qs, l, lci, permutation):\n",
    "    # as a solution of a second degree poly is involved, choose branch by setting +1 or -1\n",
    "    Nsites = len(pis)\n",
    "    rs = [1/q for q in qs]\n",
    "    sumval = 0.0\n",
    "    for i in range(Nsites):\n",
    "        sumval += (rs[i] + permutation[i]*np.sqrt(((l+lci)*f0 - rs[i] - lci)**2 - 4*lci*(1-l)*pis[i]*f0))\n",
    "    sumval = sumval/(2*lci)\n",
    "    return 1 - f0 + (Nsites*(l+lci)*f0-Nsites*lci)/(2*lci) - sumval\n",
    "\n",
    "def f0_eq_sqrt_zeros(pi, q, l, lci):\n",
    "    r = 1/q\n",
    "    a = (l + lci)**2\n",
    "    b = (-2*(l+lci)*(r+lci) - 4*lci*(1-l)*pi)\n",
    "    c = (r+lci)**2\n",
    "    arrel = np.sqrt(b**2 - 4*a*c)\n",
    "    return (-b+arrel)/(2*a), (-b-arrel)/(2*a)\n",
    "\n",
    "def falpha_linci(f0, pi, q, l, lci, branch):\n",
    "    r = 1/q\n",
    "    # rootval = np.sqrt(((l+lci)*f0 - r - lci)**2 - 4*lci*(1-l)*pi*f0)\n",
    "    a = lci\n",
    "    b = -r-lci+(l+lci)*f0\n",
    "    c = f0*(1-l)*pi\n",
    "    arrel = np.sqrt(b**2 - 4*a*c)\n",
    "    # return (-b+arrel)/(2*a), (-b-arrel)/(2*a)\n",
    "    return (-b + branch*arrel)/(2*a)\n",
    "    "
   ]
  },
  {
   "cell_type": "code",
   "execution_count": 137,
   "metadata": {},
   "outputs": [
    {
     "name": "stderr",
     "output_type": "stream",
     "text": [
      "/var/folders/m0/czh93qvd5t1g803_x1pzy8g00000gt/T/ipykernel_38557/1414364121.py:8: RuntimeWarning: invalid value encountered in sqrt\n",
      "  sumval += (rs[i] + permutation[i]*np.sqrt(((l+lci)*f0 - rs[i] - lci)**2 - 4*lci*(1-l)*pis[i]*f0))\n"
     ]
    },
    {
     "data": {
      "text/plain": [
       "<matplotlib.lines.Line2D at 0x7ff1506401f0>"
      ]
     },
     "execution_count": 137,
     "metadata": {},
     "output_type": "execute_result"
    },
    {
     "data": {
      "image/png": "[encoded data removed]",
      "text/plain": [
       "<Figure size 640x480 with 1 Axes>"
      ]
     },
     "metadata": {},
     "output_type": "display_data"
    }
   ],
   "source": [
    "pis, qs, l, lci = [0.1, 0.1], [9.0, 10.0], 0.6, 0.6\n",
    "# pis, qs, l, lci = [0.2, 0.2], [9.0, 10.0], 0.2, 0.2\n",
    "\n",
    "f0s1 = f0_eq_sqrt_zeros(pis[0], qs[0], l, lci)\n",
    "f0s2 = f0_eq_sqrt_zeros(pis[1], qs[1], l, lci)\n",
    "f0sProb = sorted(f0s1 + f0s2)\n",
    "\n",
    "f0s_lower = np.linspace(0.0, f0sProb[0], 100)\n",
    "f0s_upper = np.linspace(f0sProb[-1], 1.0, 100)\n",
    "\n",
    "permutation = [+1, +1]\n",
    "eqvals_pp_lower = f0_equation_linci(f0s_lower, pis, qs, l, lci, permutation)\n",
    "eqvals_pp_upper = f0_equation_linci(f0s_upper, pis, qs, l, lci, permutation)\n",
    "\n",
    "permutation = [-1, -1]\n",
    "eqvals_mm_lower = f0_equation_linci(f0s_lower, pis, qs, l, lci, permutation)\n",
    "eqvals_mm_upper = f0_equation_linci(f0s_upper, pis, qs, l, lci, permutation)\n",
    "\n",
    "permutation = [+1, -1]\n",
    "eqvals_pm_lower = f0_equation_linci(f0s_lower, pis, qs, l, lci, permutation)\n",
    "eqvals_pm_upper = f0_equation_linci(f0s_upper, pis, qs, l, lci, permutation)\n",
    "\n",
    "permutation = [-1, +1]\n",
    "eqvals_mp_lower = f0_equation_linci(f0s_lower, pis, qs, l, lci, permutation)\n",
    "eqvals_mp_upper = f0_equation_linci(f0s_upper, pis, qs, l, lci, permutation)\n",
    "\n",
    "fig, ax = plt.subplots()\n",
    "ax.plot(f0s_lower, eqvals_pp_lower, color='xkcd:green', label='$(+,+)$')\n",
    "ax.plot(f0s_upper, eqvals_pp_upper, color='xkcd:green', ls='-.')\n",
    "\n",
    "ax.plot(f0s_lower, eqvals_mm_lower, color='xkcd:red', label='$(-,-)$')\n",
    "ax.plot(f0s_upper, eqvals_mm_upper, color='xkcd:red', ls='-.')\n",
    "\n",
    "ax.plot(f0s_lower, eqvals_pm_lower, color='xkcd:blue', label='$(+,-)$')\n",
    "ax.plot(f0s_upper, eqvals_pm_upper, color='xkcd:blue', ls='-.')\n",
    "\n",
    "ax.plot(f0s_lower, eqvals_mp_lower, color='xkcd:orange', label='$(-,+)$')\n",
    "ax.plot(f0s_upper, eqvals_mp_upper, color='xkcd:orange', ls='-.')\n",
    "\n",
    "ax.legend()\n",
    "\n",
    "ax.axhline(0, 0,1, ls='--', lw=0.8, color='xkcd:gray')"
   ]
  },
  {
   "cell_type": "code",
   "execution_count": 138,
   "metadata": {},
   "outputs": [],
   "source": [
    "permutations = (+1, +1), (+1, -1), (-1, +1), (-1, -1)\n",
    "sols_f0_perm = {}\n",
    "\n",
    "for permutation in permutations:\n",
    "    args = [pis, qs, l, lci, permutation]\n",
    "    if f0_equation_linci(0.0, *args)*f0_equation_linci(f0sProb[0], *args) < 0:\n",
    "        a = bisect(f0_equation_linci, 0.0, f0sProb[0], args=(pis, qs, l, lci, permutation))\n",
    "        sols_f0_perm[permutation] = a\n",
    "\n",
    "sols_fs_perm = {}\n",
    "for permutation,f0 in sols_f0_perm.items():\n",
    "    f1 = falpha_linci(f0, pis[0], qs[0], l, lci, permutation[0])\n",
    "    f2 = falpha_linci(f0, pis[1], qs[1], l, lci, permutation[1])\n",
    "    sols_fs_perm[permutation] = [f0, f1, f2]\n",
    "    "
   ]
  },
  {
   "cell_type": "code",
   "execution_count": 139,
   "metadata": {},
   "outputs": [
    {
     "data": {
      "text/plain": [
       "{(1, 1): [0.3929690394231026, 0.3164637304137582, 0.2905672301666127],\n",
       " (1, -1): [0.18556057786706026, 0.7985730161805377, 0.015866405950984014],\n",
       " (-1, 1): [0.16636348629769296, 0.013215363222788315, 0.8204211504793304]}"
      ]
     },
     "execution_count": 139,
     "metadata": {},
     "output_type": "execute_result"
    }
   ],
   "source": [
    "sols_fs_perm"
   ]
  },
  {
   "cell_type": "code",
   "execution_count": 130,
   "metadata": {},
   "outputs": [
    {
     "name": "stdout",
     "output_type": "stream",
     "text": [
      "1.0000000000118805\n"
     ]
    }
   ],
   "source": [
    "for v in sols_fs_perm.values():\n",
    "    print(sum(v))"
   ]
  },
  {
   "cell_type": "markdown",
   "metadata": {},
   "source": [
    "## Nonlinear crosss inhibition (2 sites, only site 2 inhibits)"
   ]
  },
  {
   "cell_type": "code",
   "execution_count": 156,
   "metadata": {},
   "outputs": [],
   "source": [
    "def f0poly_sols_nlinci(pis, qs, l, lci):\n",
    "    rs = [1/q for q in qs]\n",
    "    pi1, pi2 = pis\n",
    "    r1, r2 = rs\n",
    "    a = -(l**2)\n",
    "    b = l*(l+lci+r1+r2+(1-l)*(pi1+pi2))\n",
    "    c = -l*(lci+r1+r2) - (1-l)*(pi1*r2+pi2*r1+pi2*lci) - r1*r2 - r2*lci\n",
    "    d = r1*r2 + r2*lci\n",
    "     # step 1: delta0 and elta 1\n",
    "    delta0 = b**2 - 3*a*c\n",
    "    delta1 = 2*b**3 - 9*a*b*c + 27*a**2*d\n",
    "    # step 2: computation of C:\n",
    "    if delta0 == 0.0 and delta1 != 0.0:\n",
    "        C = delta1**(1/3) # cubic_root[(delta1 + sqrt(delta1**2+0))/2]\n",
    "    elif delta0 == 0.0 and delta1 == 0.0:\n",
    "        C = 1.0 # so in the next step delta0/C yields 0.0 instead of NaN (0.0/0.0)\n",
    "    else:\n",
    "        radicand0 = delta1**2 - 4*delta0**3\n",
    "        if radicand0 < 0:\n",
    "            root0 = complex(0,math.sqrt(-1*radicand0))\n",
    "        else:\n",
    "            root0 = complex(math.sqrt(radicand0),0)\n",
    "        radicand1 = (delta1 + root0)/2\n",
    "        C = radicand1**(1/3)\n",
    "    # 3: Final solution\n",
    "    ksi = complex(-1, math.sqrt(3))/2\n",
    "    f0_roots, f0_roots_abs = [], []\n",
    "    for k in range(3):\n",
    "        f0_root = -1/(3*a)*(b + ksi**k*C + delta0/(C*ksi**k))\n",
    "        f0_roots.append(f0_root), f0_roots_abs.append(abs(f0_root))\n",
    "    return f0_roots_abs\n",
    "\n",
    "def fs_sols_nlinci(f0, pis, qs, l, lci):\n",
    "    rs = [1/q for q in qs]\n",
    "    f1 = f0*(1-l)*pis[0]/(lci + rs[0] - l*f0)\n",
    "    f2 = f0*(1-l)*pis[1]/(rs[1] - l*f0)\n",
    "    return f1,f2\n",
    "\n"
   ]
  },
  {
   "cell_type": "code",
   "execution_count": 158,
   "metadata": {},
   "outputs": [
    {
     "ename": "TypeError",
     "evalue": "can't multiply sequence by non-int of type 'float'",
     "output_type": "error",
     "traceback": [
      "\u001b[0;31m---------------------------------------------------------------------------\u001b[0m",
      "\u001b[0;31mTypeError\u001b[0m                                 Traceback (most recent call last)",
      "Cell \u001b[0;32mIn[158], line 6\u001b[0m\n\u001b[1;32m      2\u001b[0m f0s \u001b[38;5;241m=\u001b[39m f0poly_sols_nlinci(pis, qs, l, lci)\n\u001b[1;32m      3\u001b[0m \u001b[38;5;66;03m# print(f0s)\u001b[39;00m\n\u001b[1;32m      4\u001b[0m \u001b[38;5;66;03m# for f0 in f0s:\u001b[39;00m\n\u001b[1;32m      5\u001b[0m \u001b[38;5;66;03m#     print(f0, fs_sols_nlinci(f0, pis, qs, l, lci))\u001b[39;00m\n\u001b[0;32m----> 6\u001b[0m \u001b[43mfs_sols_nlinci\u001b[49m\u001b[43m(\u001b[49m\u001b[43mf0s\u001b[49m\u001b[43m,\u001b[49m\u001b[43m \u001b[49m\u001b[43mpis\u001b[49m\u001b[43m,\u001b[49m\u001b[43m \u001b[49m\u001b[43mqs\u001b[49m\u001b[43m,\u001b[49m\u001b[43m \u001b[49m\u001b[43ml\u001b[49m\u001b[43m,\u001b[49m\u001b[43m \u001b[49m\u001b[43mlci\u001b[49m\u001b[43m)\u001b[49m\n",
      "Cell \u001b[0;32mIn[156], line 35\u001b[0m, in \u001b[0;36mfs_sols_nlinci\u001b[0;34m(f0, pis, qs, l, lci)\u001b[0m\n\u001b[1;32m     33\u001b[0m \u001b[38;5;28;01mdef\u001b[39;00m \u001b[38;5;21mfs_sols_nlinci\u001b[39m(f0, pis, qs, l, lci):\n\u001b[1;32m     34\u001b[0m     rs \u001b[38;5;241m=\u001b[39m [\u001b[38;5;241m1\u001b[39m\u001b[38;5;241m/\u001b[39mq \u001b[38;5;28;01mfor\u001b[39;00m q \u001b[38;5;129;01min\u001b[39;00m qs]\n\u001b[0;32m---> 35\u001b[0m     f1 \u001b[38;5;241m=\u001b[39m \u001b[43mf0\u001b[49m\u001b[38;5;241;43m*\u001b[39;49m\u001b[43m(\u001b[49m\u001b[38;5;241;43m1\u001b[39;49m\u001b[38;5;241;43m-\u001b[39;49m\u001b[43ml\u001b[49m\u001b[43m)\u001b[49m\u001b[38;5;241m*\u001b[39mpis[\u001b[38;5;241m0\u001b[39m]\u001b[38;5;241m/\u001b[39m(lci \u001b[38;5;241m+\u001b[39m rs[\u001b[38;5;241m0\u001b[39m] \u001b[38;5;241m-\u001b[39m l\u001b[38;5;241m*\u001b[39mf0)\n\u001b[1;32m     36\u001b[0m     f2 \u001b[38;5;241m=\u001b[39m f0\u001b[38;5;241m*\u001b[39m(\u001b[38;5;241m1\u001b[39m\u001b[38;5;241m-\u001b[39ml)\u001b[38;5;241m*\u001b[39mpis[\u001b[38;5;241m1\u001b[39m]\u001b[38;5;241m/\u001b[39m(rs[\u001b[38;5;241m1\u001b[39m] \u001b[38;5;241m-\u001b[39m l\u001b[38;5;241m*\u001b[39mf0)\n\u001b[1;32m     37\u001b[0m     \u001b[38;5;28;01mreturn\u001b[39;00m f1,f2\n",
      "\u001b[0;31mTypeError\u001b[0m: can't multiply sequence by non-int of type 'float'"
     ]
    }
   ],
   "source": [
    "pis, qs, l, lci = [0.1, 0.1], [9.0, 10.0], 0.6, 0.6\n",
    "f0s = f0poly_sols_nlinci(pis, qs, l, lci)\n",
    "# print(f0s)\n",
    "# for f0 in f0s:\n",
    "#     print(f0, fs_sols_nlinci(f0, pis, qs, l, lci))\n"
   ]
  },
  {
   "cell_type": "code",
   "execution_count": 155,
   "metadata": {},
   "outputs": [
    {
     "data": {
      "text/plain": [
       "[1.4455220592373053, 0.15435288540478773, 0.8853102405430922]"
      ]
     },
     "execution_count": 155,
     "metadata": {},
     "output_type": "execute_result"
    }
   ],
   "source": [
    "f0s"
   ]
  },
  {
   "cell_type": "code",
   "execution_count": null,
   "metadata": {},
   "outputs": [],
   "source": []
  }
 ],
 "metadata": {
  "kernelspec": {
   "display_name": "base",
   "language": "python",
   "name": "python3"
  },
  "language_info": {
   "codemirror_mode": {
    "name": "ipython",
    "version": 3
   },
   "file_extension": ".py",
   "mimetype": "text/x-python",
   "name": "python",
   "nbconvert_exporter": "python",
   "pygments_lexer": "ipython3",
   "version": "3.10.13"
  }
 },
 "nbformat": 4,
 "nbformat_minor": 2
}
