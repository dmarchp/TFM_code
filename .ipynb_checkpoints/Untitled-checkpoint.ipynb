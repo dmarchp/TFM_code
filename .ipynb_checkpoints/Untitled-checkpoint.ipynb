{
 "cells": [
  {
   "cell_type": "code",
   "execution_count": 1,
   "id": "b5c04b32-6686-44f0-974d-d04c85f64b24",
   "metadata": {},
   "outputs": [],
   "source": [
    "import numpy as np\n",
    "import time\n",
    "from scipy.sparse import csr_matrix, csc_matrix"
   ]
  },
  {
   "cell_type": "code",
   "execution_count": 2,
   "id": "5da47f18-8bc0-421d-b823-9b1339d314d9",
   "metadata": {},
   "outputs": [],
   "source": [
    "A = np.zeros((10000,10000))\n",
    "B = np.zeros((10000,10000))\n",
    "A.fill(1.0)\n",
    "B.fill(2.0)"
   ]
  },
  {
   "cell_type": "code",
   "execution_count": 3,
   "id": "8eca4248-763e-45a8-bb75-cc1aa39c24cf",
   "metadata": {},
   "outputs": [
    {
     "name": "stdout",
     "output_type": "stream",
     "text": [
      "6.779582738876343\n"
     ]
    }
   ],
   "source": [
    "start_time = time.time()\n",
    "for i in range(100):\n",
    "    suma = sum([aa.dot(bb) for aa,bb in zip([row for row in A],[col for col in B])])\n",
    "print(time.time() - start_time )"
   ]
  },
  {
   "cell_type": "code",
   "execution_count": 40,
   "id": "b99844d6-63c8-44c6-bf2d-8a7d53676396",
   "metadata": {},
   "outputs": [],
   "source": [
    "a = csc_matrix([[1, 0, 0, 0], [0, 0, 10, 11], [0, 0, 0, 99], [0,0,0,0]])\n",
    "b = csc_matrix([[1, 1, 1, 1], [1, 1, 1, 1], [1, 1, 1, 1], [1,1,1,1]])"
   ]
  },
  {
   "cell_type": "code",
   "execution_count": 43,
   "id": "51ade6a1-dc5f-4357-b536-85f6ee05663f",
   "metadata": {},
   "outputs": [
    {
     "name": "stdout",
     "output_type": "stream",
     "text": [
      "[[ 1  0  0  0]\n",
      " [ 0  0 10 11]\n",
      " [ 0  0  0 99]\n",
      " [ 0  0  0  0]]\n"
     ]
    }
   ],
   "source": [
    "print(a.todense())"
   ]
  },
  {
   "cell_type": "code",
   "execution_count": 44,
   "id": "37f40738-b3db-4d24-90c6-8ac31a548f42",
   "metadata": {},
   "outputs": [
    {
     "name": "stdout",
     "output_type": "stream",
     "text": [
      "[[1 1 1 1]\n",
      " [1 1 1 1]\n",
      " [1 1 1 1]\n",
      " [1 1 1 1]]\n"
     ]
    }
   ],
   "source": [
    "print(b.todense())"
   ]
  },
  {
   "cell_type": "code",
   "execution_count": 45,
   "id": "98d202ba-0916-482d-be84-b7cf43fd7451",
   "metadata": {},
   "outputs": [],
   "source": [
    "rows, cols = a.nonzero()\n",
    "nonZeroA = [(r, c) for r,c in zip(rows, cols)]\n",
    "rows, cols = b.nonzero()\n",
    "nonZeroB = [(r, c) for r,c in zip(rows, cols)]"
   ]
  },
  {
   "cell_type": "code",
   "execution_count": 46,
   "id": "88968424-812a-4e7b-b9d1-de83c8a34a63",
   "metadata": {},
   "outputs": [
    {
     "name": "stdout",
     "output_type": "stream",
     "text": [
      "[(0, 0), (1, 2), (1, 3), (2, 3)]\n"
     ]
    }
   ],
   "source": [
    "print(nonZeroA)"
   ]
  },
  {
   "cell_type": "code",
   "execution_count": 47,
   "id": "15db31b9-2287-43e0-aac6-982d515aefbf",
   "metadata": {},
   "outputs": [
    {
     "name": "stdout",
     "output_type": "stream",
     "text": [
      "[(0, 0), (0, 1), (0, 2), (0, 3), (1, 0), (1, 1), (1, 2), (1, 3), (2, 0), (2, 1), (2, 2), (2, 3), (3, 0), (3, 1), (3, 2), (3, 3)]\n"
     ]
    }
   ],
   "source": [
    "print(nonZeroB)"
   ]
  },
  {
   "cell_type": "code",
   "execution_count": 48,
   "id": "9e9490e5-359a-4829-b569-19242aaeb073",
   "metadata": {},
   "outputs": [
    {
     "name": "stdout",
     "output_type": "stream",
     "text": [
      "121\n"
     ]
    }
   ],
   "source": [
    "suma = 0\n",
    "for i in range(4):\n",
    "    for j in range(4):\n",
    "        if (i,j) in nonZeroA and (j,i) in nonZeroB:\n",
    "            suma += a[i,j]*b[j,i]\n",
    "print(suma)"
   ]
  },
  {
   "cell_type": "code",
   "execution_count": 51,
   "id": "6002234d-7873-435d-b4d1-801d4936f926",
   "metadata": {},
   "outputs": [
    {
     "name": "stdout",
     "output_type": "stream",
     "text": [
      "0\n"
     ]
    }
   ],
   "source": [
    "suma = 0\n",
    "for index in nonZeroA:\n",
    "    indexB = (index[1], index[0])\n",
    "    if indexB in nonZeroB:\n",
    "        suma += a[i,j]*b[j,i] \n",
    "print(suma)"
   ]
  },
  {
   "cell_type": "code",
   "execution_count": 49,
   "id": "41785f1f-c976-4c47-a478-d55db5e9fd21",
   "metadata": {},
   "outputs": [
    {
     "data": {
      "text/plain": [
       "121"
      ]
     },
     "execution_count": 49,
     "metadata": {},
     "output_type": "execute_result"
    }
   ],
   "source": [
    "sum(np.diag(a.todense().dot(b.todense())))"
   ]
  },
  {
   "cell_type": "code",
   "execution_count": 50,
   "id": "395109ac-f3ef-4087-af1c-e278ce162c59",
   "metadata": {},
   "outputs": [
    {
     "data": {
      "text/plain": [
       "(array([0, 1, 1, 2], dtype=int32), array([0, 2, 3, 3], dtype=int32))"
      ]
     },
     "execution_count": 50,
     "metadata": {},
     "output_type": "execute_result"
    }
   ],
   "source": [
    "a.nonzero()"
   ]
  },
  {
   "cell_type": "code",
   "execution_count": null,
   "id": "f2f82150-3b93-4d61-aaea-6da04c4adba4",
   "metadata": {},
   "outputs": [],
   "source": []
  }
 ],
 "metadata": {
  "kernelspec": {
   "display_name": "Python 3 (ipykernel)",
   "language": "python",
   "name": "python3"
  },
  "language_info": {
   "codemirror_mode": {
    "name": "ipython",
    "version": 3
   },
   "file_extension": ".py",
   "mimetype": "text/x-python",
   "name": "python",
   "nbconvert_exporter": "python",
   "pygments_lexer": "ipython3",
   "version": "3.9.16"
  }
 },
 "nbformat": 4,
 "nbformat_minor": 5
}
