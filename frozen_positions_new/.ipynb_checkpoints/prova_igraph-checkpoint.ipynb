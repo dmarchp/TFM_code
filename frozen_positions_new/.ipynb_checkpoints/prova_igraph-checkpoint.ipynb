{
 "cells": [
  {
   "cell_type": "code",
   "execution_count": 1,
   "id": "3fec99ff-a9ea-4ea2-9a9b-a0b99fa50ac8",
   "metadata": {},
   "outputs": [],
   "source": [
    "import pandas as pd\n",
    "import igraph as ig\n",
    "import matplotlib.pyplot as plt"
   ]
  },
  {
   "cell_type": "code",
   "execution_count": 2,
   "id": "2aa621fa-4302-4f94-bad9-b173049ef006",
   "metadata": {},
   "outputs": [],
   "source": [
    "N = 35\n",
    "arena_r = 20.0\n",
    "interac_r = 7.0\n",
    "exclusion_r = 1.5\n",
    "df = pd.read_csv(f'positions_and_contacts/{N}_bots/contact_list_001_ar_{arena_r}_er_{exclusion_r}_ir_{interac_r}.txt', sep='\\s+',header=None)"
   ]
  },
  {
   "cell_type": "code",
   "execution_count": 3,
   "id": "e9f4e63d-23cd-4851-8326-3d9af6d8375b",
   "metadata": {},
   "outputs": [],
   "source": [
    "g = ig.Graph.DataFrame(df, directed=False)"
   ]
  },
  {
   "cell_type": "code",
   "execution_count": 4,
   "id": "94af796a-29f8-43aa-ab3e-edff088de423",
   "metadata": {},
   "outputs": [
    {
     "data": {
      "text/plain": [
       "34"
      ]
     },
     "execution_count": 4,
     "metadata": {},
     "output_type": "execute_result"
    }
   ],
   "source": [
    "#g.summary(verbosity=1)\n",
    "g.vcount()"
   ]
  },
  {
   "cell_type": "code",
   "execution_count": 5,
   "id": "622ddf74-45be-4537-8404-9f73f41599db",
   "metadata": {},
   "outputs": [],
   "source": [
    "vertices_ids = [v['name'] for v in g.vs]"
   ]
  },
  {
   "cell_type": "code",
   "execution_count": 6,
   "id": "25f85ab3-2df9-483e-8008-b25c659e69e5",
   "metadata": {},
   "outputs": [
    {
     "name": "stdout",
     "output_type": "stream",
     "text": [
      "[1, 2, 4, 5, 6, 7, 8, 9, 10, 11, 12, 13, 14, 15, 16, 17, 18, 19, 20, 21, 22, 23, 24, 25, 26, 27, 28, 29, 30, 31, 32, 33, 34, 35]\n"
     ]
    }
   ],
   "source": [
    "print(vertices_ids)"
   ]
  },
  {
   "cell_type": "code",
   "execution_count": 7,
   "id": "77f248e9-4b20-4417-8e75-686881d486e6",
   "metadata": {},
   "outputs": [],
   "source": [
    "lacking_vertices = [i for i in range(1,N+1) if i not in vertices_ids]"
   ]
  },
  {
   "cell_type": "code",
   "execution_count": 8,
   "id": "218c6e25-85f0-43ec-ac9f-353fef72548c",
   "metadata": {},
   "outputs": [
    {
     "name": "stdout",
     "output_type": "stream",
     "text": [
      "[3]\n"
     ]
    }
   ],
   "source": [
    "print(lacking_vertices)"
   ]
  },
  {
   "cell_type": "code",
   "execution_count": 9,
   "id": "6c648164-efe2-4113-b1a4-5865a55bb8f9",
   "metadata": {},
   "outputs": [],
   "source": [
    "# Add the lacking vertex without any contact\n",
    "for v in lacking_vertices:\n",
    "    g.add_vertex(name=v)"
   ]
  },
  {
   "cell_type": "code",
   "execution_count": 19,
   "id": "7408c89f-7191-4fa8-b45c-d108ba1e8376",
   "metadata": {},
   "outputs": [],
   "source": [
    "vertices_ids = [v['name'] for v in g.vs]"
   ]
  },
  {
   "cell_type": "code",
   "execution_count": 20,
   "id": "fb227a75-c506-40f9-8ff3-806cb039bdde",
   "metadata": {},
   "outputs": [
    {
     "name": "stdout",
     "output_type": "stream",
     "text": [
      "[1, 2, 4, 5, 6, 7, 8, 9, 10, 11, 12, 13, 14, 15, 16, 17, 18, 19, 20, 21, 22, 23, 24, 25, 26, 27, 28, 29, 30, 31, 32, 33, 34, 35, 3]\n"
     ]
    }
   ],
   "source": [
    "print(vertices_ids)"
   ]
  },
  {
   "cell_type": "code",
   "execution_count": 16,
   "id": "4c044ea5-755c-44aa-aea9-0d184d0aa459",
   "metadata": {},
   "outputs": [],
   "source": [
    "posdf = pd.read_csv(f'positions_and_contacts/35_bots/bots_xy_positions_001_ar_{arena_r}_er_{exclusion_r}.txt', sep='\\s+',header=None, index_col=False)"
   ]
  },
  {
   "cell_type": "code",
   "execution_count": 17,
   "id": "d5587def-b1d0-4980-bb8e-2d95ce736b19",
   "metadata": {},
   "outputs": [
    {
     "data": {
      "text/html": [
       "<div>\n",
       "<style scoped>\n",
       "    .dataframe tbody tr th:only-of-type {\n",
       "        vertical-align: middle;\n",
       "    }\n",
       "\n",
       "    .dataframe tbody tr th {\n",
       "        vertical-align: top;\n",
       "    }\n",
       "\n",
       "    .dataframe thead th {\n",
       "        text-align: right;\n",
       "    }\n",
       "</style>\n",
       "<table border=\"1\" class=\"dataframe\">\n",
       "  <thead>\n",
       "    <tr style=\"text-align: right;\">\n",
       "      <th></th>\n",
       "      <th>0</th>\n",
       "      <th>1</th>\n",
       "      <th>2</th>\n",
       "    </tr>\n",
       "  </thead>\n",
       "  <tbody>\n",
       "    <tr>\n",
       "      <th>0</th>\n",
       "      <td>1</td>\n",
       "      <td>-15.282926</td>\n",
       "      <td>-4.827504</td>\n",
       "    </tr>\n",
       "    <tr>\n",
       "      <th>1</th>\n",
       "      <td>2</td>\n",
       "      <td>-0.291159</td>\n",
       "      <td>-17.203980</td>\n",
       "    </tr>\n",
       "    <tr>\n",
       "      <th>2</th>\n",
       "      <td>3</td>\n",
       "      <td>-4.066588</td>\n",
       "      <td>17.718071</td>\n",
       "    </tr>\n",
       "    <tr>\n",
       "      <th>3</th>\n",
       "      <td>4</td>\n",
       "      <td>-13.807627</td>\n",
       "      <td>-8.508512</td>\n",
       "    </tr>\n",
       "    <tr>\n",
       "      <th>4</th>\n",
       "      <td>5</td>\n",
       "      <td>-1.690578</td>\n",
       "      <td>11.073313</td>\n",
       "    </tr>\n",
       "  </tbody>\n",
       "</table>\n",
       "</div>"
      ],
      "text/plain": [
       "   0          1          2\n",
       "0  1 -15.282926  -4.827504\n",
       "1  2  -0.291159 -17.203980\n",
       "2  3  -4.066588  17.718071\n",
       "3  4 -13.807627  -8.508512\n",
       "4  5  -1.690578  11.073313"
      ]
     },
     "execution_count": 17,
     "metadata": {},
     "output_type": "execute_result"
    }
   ],
   "source": [
    "posdf.head()"
   ]
  },
  {
   "cell_type": "code",
   "execution_count": 18,
   "id": "b11395de-f166-4b4f-a695-f9919193dda6",
   "metadata": {},
   "outputs": [],
   "source": [
    "posdf.rename(columns={0:'bot_id', 1:'x', 2:'y'}, inplace=True)"
   ]
  },
  {
   "cell_type": "code",
   "execution_count": 23,
   "id": "5d80573b-4c4c-4265-995e-655e9d0c3971",
   "metadata": {},
   "outputs": [],
   "source": [
    "true_layout = []\n",
    "for i in vertices_ids:\n",
    "    x, y = float(posdf.loc[posdf['bot_id']==i]['x']), float(posdf.loc[posdf['bot_id']==i]['y'])\n",
    "    true_layout.append([x, y])"
   ]
  },
  {
   "cell_type": "code",
   "execution_count": 24,
   "id": "b8870591-1783-4499-b71f-cbeecce7068a",
   "metadata": {},
   "outputs": [
    {
     "name": "stdout",
     "output_type": "stream",
     "text": [
      "[[-15.28292649, -4.82750433], [-0.29115901, -17.20397978], [-13.80762741, -8.50851163], [-1.69057847, 11.07331296], [-2.88366195, -13.85648858], [0.02580913, -11.16592172], [1.88729313, -0.54527322], [-3.87555711, -10.2962526], [15.00981335, 2.3985352], [8.49507812, 2.85362116], [-3.32777423, 6.53254855], [2.57833618, 4.30660907], [3.02687337, -4.38919659], [6.43140239, 5.37539174], [11.51376122, -7.36574993], [8.02429048, -16.38401919], [-11.62087954, 0.34669035], [-7.29172487, 6.11599797], [-16.08866045, -0.34305257], [12.91729866, -10.82778373], [-6.54685708, -12.03345812], [9.28309609, 6.55578343], [7.42698641, -9.80694032], [-4.09340633, -6.3657224], [-7.5088405, -4.31856754], [3.73022721, -16.26291057], [14.91180557, -1.51581456], [14.9351637, 10.08861788], [3.54745962, 8.07770595], [9.8245379, -12.67955886], [12.2620054, 0.64503632], [3.97044563, -8.18803668], [0.42073049, -7.87049153], [-10.87199323, 4.14967012], [-4.06658803, 17.71807093]]\n"
     ]
    }
   ],
   "source": [
    "print(true_layout)"
   ]
  },
  {
   "cell_type": "code",
   "execution_count": 26,
   "id": "99dc171d-5e2f-4408-8b26-cb61e59ee0cb",
   "metadata": {},
   "outputs": [],
   "source": [
    "true_layout = ig.Layout(true_layout)"
   ]
  },
  {
   "cell_type": "code",
   "execution_count": 30,
   "id": "ab77de63-4f2a-485a-a7f1-68fbee95bc98",
   "metadata": {},
   "outputs": [
    {
     "data": {
      "text/plain": [
       "(-21.0, 21.0)"
      ]
     },
     "execution_count": 30,
     "metadata": {},
     "output_type": "execute_result"
    },
    {
     "data": {
      "image/png": "[encoded data removed]",
      "text/plain": [
       "<Figure size 500x500 with 1 Axes>"
      ]
     },
     "metadata": {},
     "output_type": "display_data"
    }
   ],
   "source": [
    "fig, ax = plt.subplots(figsize=(5,5))\n",
    "ig.plot(\n",
    "    g,\n",
    "    target=ax,\n",
    "    layout=true_layout,\n",
    "    vertex_size=5,\n",
    "    vertex_color=\"steelblue\",\n",
    "    #vertex_color=[\"steelblue\" if gender == \"M\" else \"salmon\" for gender in g.vs[\"gender\"]],\n",
    "    vertex_frame_width=2.0,\n",
    "    vertex_frame_color=\"white\",\n",
    "    #vertex_label=g.vs[\"name\"],\n",
    "    #vertex_label_size=7.0,\n",
    "    #edge_width=[2 if married else 1 for married in g.es[\"married\"]],\n",
    "    #edge_color=[\"#7142cf\" if married else \"#AAA\" for married in g.es[\"married\"]]\n",
    ")\n",
    "circle = plt.Circle([0.0, 0.0], arena_r, fill=False, edgecolor='k')\n",
    "ax.add_patch(circle)\n",
    "ax.set_xlim(-(arena_r+1),arena_r+1)\n",
    "ax.set_ylim(-(arena_r+1),arena_r+1)\n",
    "for in range(N):\n",
    "    coords = true_layout[i]\n",
    "    circle = plt.Circle(tuple(coords), exclusion_r, color='xkcd:purple', alpha=0.5, clip_on=False)\n",
    "    ax.add_patch(circle)"
   ]
  },
  {
   "cell_type": "code",
   "execution_count": 94,
   "id": "e83d2d1a-50ba-41ae-a602-1e199cf9c1fd",
   "metadata": {},
   "outputs": [
    {
     "name": "stdout",
     "output_type": "stream",
     "text": [
      "Clustering with 35 elements and 2 clusters\n",
      "[0] 1, 2, 3, 4, 6, 8, 11, 12, 13, 14, 15, 17, 18, 21, 23, 25, 26, 27, 29, 30,\n",
      "    31, 32, 33, 34, 35\n",
      "[1] 5, 7, 9, 10, 16, 19, 20, 22, 24, 28\n"
     ]
    }
   ],
   "source": [
    "#g.maximal_cliques()\n",
    "print(g.components())"
   ]
  },
  {
   "cell_type": "code",
   "execution_count": 95,
   "id": "b1667d68-e661-4fdf-bf00-de948891dc34",
   "metadata": {},
   "outputs": [],
   "source": [
    "compos = g.components()"
   ]
  },
  {
   "cell_type": "code",
   "execution_count": 97,
   "id": "dfeda110-3cb7-4040-b383-d7772777322c",
   "metadata": {},
   "outputs": [
    {
     "data": {
      "text/plain": [
       "list"
      ]
     },
     "execution_count": 97,
     "metadata": {},
     "output_type": "execute_result"
    }
   ],
   "source": [
    "type(compos[0])"
   ]
  },
  {
   "cell_type": "code",
   "execution_count": 101,
   "id": "f4641145-da29-43d5-ba3a-7aee9abe115a",
   "metadata": {},
   "outputs": [
    {
     "name": "stdout",
     "output_type": "stream",
     "text": [
      "[1. 1. 1.]\n"
     ]
    }
   ],
   "source": [
    "import numpy as np\n",
    "b = np.array([1] * 3)\n",
    "b = b/1\n",
    "print(b)"
   ]
  },
  {
   "cell_type": "code",
   "execution_count": null,
   "id": "1507dadd-38d6-4bfc-b8c9-f238d07129e9",
   "metadata": {},
   "outputs": [],
   "source": []
  }
 ],
 "metadata": {
  "kernelspec": {
   "display_name": "Python 3 (ipykernel)",
   "language": "python",
   "name": "python3"
  },
  "language_info": {
   "codemirror_mode": {
    "name": "ipython",
    "version": 3
   },
   "file_extension": ".py",
   "mimetype": "text/x-python",
   "name": "python",
   "nbconvert_exporter": "python",
   "pygments_lexer": "ipython3",
   "version": "3.9.13"
  }
 },
 "nbformat": 4,
 "nbformat_minor": 5
}
