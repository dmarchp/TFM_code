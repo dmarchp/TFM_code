{
 "cells": [
  {
   "cell_type": "code",
   "execution_count": 6,
   "metadata": {},
   "outputs": [],
   "source": [
    "import pandas as pd\n",
    "import numpy as np\n",
    "import matplotlib.pyplot as plt\n",
    "%matplotlib inline\n",
    "import sys\n",
    "sys.path.append('../')\n",
    "from package_global_functions import *\n",
    "\n",
    "extSSDpath = getExternalSSDpath()\n",
    "if os.path.exists(extSSDpath):\n",
    "    path = extSSDpath + getProjectFoldername() + '/stationary_distributions/data'\n",
    "    if not os.path.exists(path):\n",
    "        call(f'mkdir -p {path}', shell=True)\n",
    "else:\n",
    "    path = '/data'"
   ]
  },
  {
   "cell_type": "code",
   "execution_count": 10,
   "metadata": {},
   "outputs": [],
   "source": [
    "N = 500\n",
    "pi1, pi2, q1, q2, l = 0.3, 0.3, 7, 10, 0.6\n",
    "data = pd.read_csv(f'{path}/stat_data_N_{N}_pi1_{pi1}_pi2_{pi2}_q1_{q1}_q2_{q2}_l_{l}.csv')"
   ]
  },
  {
   "cell_type": "code",
   "execution_count": 67,
   "metadata": {},
   "outputs": [
    {
     "data": {
      "image/png": "[encoded data removed]",
      "text/plain": [
       "<Figure size 400x400 with 1 Axes>"
      ]
     },
     "metadata": {},
     "output_type": "display_data"
    }
   ],
   "source": [
    "latexFont(titlesize=11, ticklabelssize=11, labelsize=13)\n",
    "fig, ax = plt.subplots(figsize=(4,4), constrained_layout=True)\n",
    "ax.set_xlabel(r'$f_{\\alpha}$')\n",
    "pi1, pi2, q1, q2, l = 0.3, 0.3, 7.0, 10.0, 0.3\n",
    "bins_N = {2500:20, 1000:15, 500:15, 50:27}\n",
    "# for i,N in enumerate([50, 500, 1000]):\n",
    "for i,N in enumerate([1000, 500, 50]):\n",
    "    data = pd.read_csv(f'{path}/stat_data_N_{N}_pi1_{pi1}_pi2_{pi2}_q1_{q1}_q2_{q2}_l_{l}.csv')\n",
    "    x = i*0.4\n",
    "    # ax.hist(data['f0'], bins=bins_N[N], density=True, rwidth=1.0, color='xkcd:red', alpha=1.0-x)\n",
    "    # if N==50 or N==500:\n",
    "    #     ax.hist(data['f1'], bins=bins_N[N]-1, density=True, rwidth=1.0, color='xkcd:green', alpha=0.2+x) # alpha=0.4+x\n",
    "    # else:\n",
    "    #     ax.hist(data['f1'], bins=bins_N[N], density=True, rwidth=1.0, color='xkcd:green', alpha=0.2+x) # alpha=0.4+x\n",
    "    # on increasing N:\n",
    "    # ax.hist(data['f1'], bins=bins_N[N]-1, density=True, rwidth=1.0, color='xkcd:green', alpha=1.0-x)\n",
    "    # ax.hist(data['f2'], bins=bins_N[N], density=True, rwidth=1.0, color='xkcd:blue', alpha=1.0-x, label=f'{N}')\n",
    "    # on decreasing N:\n",
    "    ax.hist(data['f1'], bins=bins_N[N]-1, density=True, rwidth=1.0, color='xkcd:green', alpha=0.2+x)\n",
    "    ax.hist(data['f2'], bins=bins_N[N], density=True, rwidth=1.0, color='xkcd:blue', alpha=0.2+x, label=f'{N}')\n",
    "fig.legend(title='$N$', fontsize=11, frameon=False, loc=(0.72, 0.65))\n",
    "fig.savefig(f'stat_fs_ditr_varN_pi1_{pi1}_pi2_{pi2}_q1_{q1}_q2_{q2}_l_{l}.pdf')"
   ]
  },
  {
   "cell_type": "code",
   "execution_count": 16,
   "metadata": {},
   "outputs": [
    {
     "data": {
      "text/plain": [
       "510"
      ]
     },
     "execution_count": 16,
     "metadata": {},
     "output_type": "execute_result"
    }
   ],
   "source": [
    "len(data)"
   ]
  },
  {
   "cell_type": "code",
   "execution_count": 27,
   "metadata": {},
   "outputs": [
    {
     "data": {
      "text/plain": [
       "(array([ 0.13297872,  0.04432624,  0.22163121,  0.04432624,  0.26595745,\n",
       "         0.66489362,  0.62056738,  1.19680851,  1.68439716,  2.12765957,\n",
       "         3.90070922,  5.40780142,  4.65425532, 10.46099291, 11.34751773,\n",
       "         8.90957447, 13.91843972, 16.75531915, 16.4893617 , 10.7712766 ,\n",
       "        16.40070922, 14.27304965,  8.24468085, 10.37234043,  8.28900709,\n",
       "         4.65425532,  5.31914894,  4.03368794,  1.41843972,  1.55141844,\n",
       "         0.9751773 ,  0.57624113,  0.31028369,  0.04432624,  0.08865248]),\n",
       " array([0.444     , 0.44937143, 0.45474286, 0.46011429, 0.46548571,\n",
       "        0.47085714, 0.47622857, 0.4816    , 0.48697143, 0.49234286,\n",
       "        0.49771429, 0.50308571, 0.50845714, 0.51382857, 0.5192    ,\n",
       "        0.52457143, 0.52994286, 0.53531429, 0.54068571, 0.54605714,\n",
       "        0.55142857, 0.5568    , 0.56217143, 0.56754286, 0.57291429,\n",
       "        0.57828571, 0.58365714, 0.58902857, 0.5944    , 0.59977143,\n",
       "        0.60514286, 0.61051429, 0.61588571, 0.62125714, 0.62662857,\n",
       "        0.632     ]),\n",
       " <BarContainer object of 35 artists>)"
      ]
     },
     "execution_count": 27,
     "metadata": {},
     "output_type": "execute_result"
    },
    {
     "data": {
      "image/png": "[encoded data removed]",
      "text/plain": [
       "<Figure size 640x480 with 1 Axes>"
      ]
     },
     "metadata": {},
     "output_type": "display_data"
    }
   ],
   "source": [
    "fig, ax = plt.subplots()\n",
    "N = 500\n",
    "pi1, pi2, l = 0.3, 0.3, 0.3\n",
    "# q1, q2 = 7, 10\n",
    "# data = pd.read_csv(f'{path}/stat_data_N_{N}_pi1_{pi1}_pi2_{pi2}_q1_{q1}_q2_{q2}_l_{l}.csv')\n",
    "# ax.hist(data['f2'], density=True, rwidth=1.0, color='xkcd:blue', alpha=0.8)\n",
    "q1, q2 = 7.0, 10.0\n",
    "data = pd.read_csv(f'{path}/stat_data_N_{N}_pi1_{pi1}_pi2_{pi2}_q1_{q1}_q2_{q2}_l_{l}.csv')\n",
    "ax.hist(data['f2'], bins=35, density=True, rwidth=1.0, color='xkcd:blue')"
   ]
  },
  {
   "cell_type": "code",
   "execution_count": 19,
   "metadata": {},
   "outputs": [
    {
     "data": {
      "text/plain": [
       "4200"
      ]
     },
     "execution_count": 19,
     "metadata": {},
     "output_type": "execute_result"
    }
   ],
   "source": [
    "len(data['f2'])"
   ]
  },
  {
   "cell_type": "code",
   "execution_count": null,
   "metadata": {},
   "outputs": [],
   "source": []
  }
 ],
 "metadata": {
  "kernelspec": {
   "display_name": "base",
   "language": "python",
   "name": "python3"
  },
  "language_info": {
   "codemirror_mode": {
    "name": "ipython",
    "version": 3
   },
   "file_extension": ".py",
   "mimetype": "text/x-python",
   "name": "python",
   "nbconvert_exporter": "python",
   "pygments_lexer": "ipython3",
   "version": "3.9.18"
  }
 },
 "nbformat": 4,
 "nbformat_minor": 2
}
