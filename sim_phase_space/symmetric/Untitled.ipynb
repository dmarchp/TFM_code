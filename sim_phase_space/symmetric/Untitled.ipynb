{
 "cells": [
  {
   "cell_type": "code",
   "execution_count": 1,
   "id": "4139c2d2-2d20-48a6-b9c3-732e1ba93a03",
   "metadata": {},
   "outputs": [],
   "source": [
    "import pandas as pd\n",
    "import seaborn as sns\n",
    "import matplotlib.pyplot as plt\n",
    "import numpy as np\n",
    "from scipy import interpolate"
   ]
  },
  {
   "cell_type": "code",
   "execution_count": 2,
   "id": "9ea96585-455f-4a4b-b29e-ac47d301cd5d",
   "metadata": {},
   "outputs": [],
   "source": [
    "df = pd.read_csv('results/q1_20_q2_30_phase_space_Galla_N.csv')"
   ]
  },
  {
   "cell_type": "code",
   "execution_count": 3,
   "id": "405d9c24-4162-49ca-b741-fe033303f95e",
   "metadata": {},
   "outputs": [
    {
     "data": {
      "text/html": [
       "<div>\n",
       "<style scoped>\n",
       "    .dataframe tbody tr th:only-of-type {\n",
       "        vertical-align: middle;\n",
       "    }\n",
       "\n",
       "    .dataframe tbody tr th {\n",
       "        vertical-align: top;\n",
       "    }\n",
       "\n",
       "    .dataframe thead th {\n",
       "        text-align: right;\n",
       "    }\n",
       "</style>\n",
       "<table border=\"1\" class=\"dataframe\">\n",
       "  <thead>\n",
       "    <tr style=\"text-align: right;\">\n",
       "      <th></th>\n",
       "      <th>pi</th>\n",
       "      <th>lambda</th>\n",
       "      <th>f0</th>\n",
       "      <th>f1</th>\n",
       "      <th>f2</th>\n",
       "      <th>sdf0</th>\n",
       "      <th>sdf1</th>\n",
       "      <th>sdf2</th>\n",
       "      <th>Q</th>\n",
       "      <th>sdQ</th>\n",
       "      <th>m</th>\n",
       "    </tr>\n",
       "  </thead>\n",
       "  <tbody>\n",
       "    <tr>\n",
       "      <th>0</th>\n",
       "      <td>0.05</td>\n",
       "      <td>0.05</td>\n",
       "      <td>0.228793</td>\n",
       "      <td>0.279101</td>\n",
       "      <td>0.492106</td>\n",
       "      <td>0.014094</td>\n",
       "      <td>0.018248</td>\n",
       "      <td>0.020213</td>\n",
       "      <td>-0.066097</td>\n",
       "      <td>0.056709</td>\n",
       "      <td>0.238159</td>\n",
       "    </tr>\n",
       "    <tr>\n",
       "      <th>1</th>\n",
       "      <td>0.05</td>\n",
       "      <td>0.10</td>\n",
       "      <td>0.185906</td>\n",
       "      <td>0.263052</td>\n",
       "      <td>0.551042</td>\n",
       "      <td>0.013393</td>\n",
       "      <td>0.018927</td>\n",
       "      <td>0.021278</td>\n",
       "      <td>0.024939</td>\n",
       "      <td>0.059133</td>\n",
       "      <td>0.326563</td>\n",
       "    </tr>\n",
       "    <tr>\n",
       "      <th>2</th>\n",
       "      <td>0.05</td>\n",
       "      <td>0.15</td>\n",
       "      <td>0.153696</td>\n",
       "      <td>0.230618</td>\n",
       "      <td>0.615686</td>\n",
       "      <td>0.012219</td>\n",
       "      <td>0.016689</td>\n",
       "      <td>0.018933</td>\n",
       "      <td>0.154451</td>\n",
       "      <td>0.052311</td>\n",
       "      <td>0.423529</td>\n",
       "    </tr>\n",
       "    <tr>\n",
       "      <th>3</th>\n",
       "      <td>0.05</td>\n",
       "      <td>0.20</td>\n",
       "      <td>0.130258</td>\n",
       "      <td>0.214900</td>\n",
       "      <td>0.654842</td>\n",
       "      <td>0.011366</td>\n",
       "      <td>0.019312</td>\n",
       "      <td>0.020864</td>\n",
       "      <td>0.225042</td>\n",
       "      <td>0.059487</td>\n",
       "      <td>0.482263</td>\n",
       "    </tr>\n",
       "    <tr>\n",
       "      <th>4</th>\n",
       "      <td>0.05</td>\n",
       "      <td>0.25</td>\n",
       "      <td>0.111530</td>\n",
       "      <td>0.187463</td>\n",
       "      <td>0.701008</td>\n",
       "      <td>0.010521</td>\n",
       "      <td>0.020020</td>\n",
       "      <td>0.022430</td>\n",
       "      <td>0.326082</td>\n",
       "      <td>0.062469</td>\n",
       "      <td>0.551512</td>\n",
       "    </tr>\n",
       "    <tr>\n",
       "      <th>...</th>\n",
       "      <td>...</td>\n",
       "      <td>...</td>\n",
       "      <td>...</td>\n",
       "      <td>...</td>\n",
       "      <td>...</td>\n",
       "      <td>...</td>\n",
       "      <td>...</td>\n",
       "      <td>...</td>\n",
       "      <td>...</td>\n",
       "      <td>...</td>\n",
       "      <td>...</td>\n",
       "    </tr>\n",
       "    <tr>\n",
       "      <th>185</th>\n",
       "      <td>0.50</td>\n",
       "      <td>0.75</td>\n",
       "      <td>0.037193</td>\n",
       "      <td>0.200850</td>\n",
       "      <td>0.761956</td>\n",
       "      <td>0.005970</td>\n",
       "      <td>0.020573</td>\n",
       "      <td>0.021180</td>\n",
       "      <td>0.360256</td>\n",
       "      <td>0.062326</td>\n",
       "      <td>0.642934</td>\n",
       "    </tr>\n",
       "    <tr>\n",
       "      <th>186</th>\n",
       "      <td>0.50</td>\n",
       "      <td>0.80</td>\n",
       "      <td>0.036691</td>\n",
       "      <td>0.178617</td>\n",
       "      <td>0.784691</td>\n",
       "      <td>0.006009</td>\n",
       "      <td>0.016932</td>\n",
       "      <td>0.017741</td>\n",
       "      <td>0.427457</td>\n",
       "      <td>0.051604</td>\n",
       "      <td>0.677037</td>\n",
       "    </tr>\n",
       "    <tr>\n",
       "      <th>187</th>\n",
       "      <td>0.50</td>\n",
       "      <td>0.85</td>\n",
       "      <td>0.035996</td>\n",
       "      <td>0.141193</td>\n",
       "      <td>0.822810</td>\n",
       "      <td>0.005857</td>\n",
       "      <td>0.018597</td>\n",
       "      <td>0.019324</td>\n",
       "      <td>0.540423</td>\n",
       "      <td>0.056518</td>\n",
       "      <td>0.734215</td>\n",
       "    </tr>\n",
       "    <tr>\n",
       "      <th>188</th>\n",
       "      <td>0.50</td>\n",
       "      <td>0.90</td>\n",
       "      <td>0.035534</td>\n",
       "      <td>0.099583</td>\n",
       "      <td>0.864883</td>\n",
       "      <td>0.005793</td>\n",
       "      <td>0.015287</td>\n",
       "      <td>0.016434</td>\n",
       "      <td>0.665716</td>\n",
       "      <td>0.047009</td>\n",
       "      <td>0.797324</td>\n",
       "    </tr>\n",
       "    <tr>\n",
       "      <th>189</th>\n",
       "      <td>0.50</td>\n",
       "      <td>0.95</td>\n",
       "      <td>0.034749</td>\n",
       "      <td>0.048698</td>\n",
       "      <td>0.916552</td>\n",
       "      <td>0.005802</td>\n",
       "      <td>0.011475</td>\n",
       "      <td>0.012842</td>\n",
       "      <td>0.819156</td>\n",
       "      <td>0.035791</td>\n",
       "      <td>0.874829</td>\n",
       "    </tr>\n",
       "  </tbody>\n",
       "</table>\n",
       "<p>190 rows × 11 columns</p>\n",
       "</div>"
      ],
      "text/plain": [
       "       pi  lambda        f0        f1        f2      sdf0      sdf1      sdf2  \\\n",
       "0    0.05    0.05  0.228793  0.279101  0.492106  0.014094  0.018248  0.020213   \n",
       "1    0.05    0.10  0.185906  0.263052  0.551042  0.013393  0.018927  0.021278   \n",
       "2    0.05    0.15  0.153696  0.230618  0.615686  0.012219  0.016689  0.018933   \n",
       "3    0.05    0.20  0.130258  0.214900  0.654842  0.011366  0.019312  0.020864   \n",
       "4    0.05    0.25  0.111530  0.187463  0.701008  0.010521  0.020020  0.022430   \n",
       "..    ...     ...       ...       ...       ...       ...       ...       ...   \n",
       "185  0.50    0.75  0.037193  0.200850  0.761956  0.005970  0.020573  0.021180   \n",
       "186  0.50    0.80  0.036691  0.178617  0.784691  0.006009  0.016932  0.017741   \n",
       "187  0.50    0.85  0.035996  0.141193  0.822810  0.005857  0.018597  0.019324   \n",
       "188  0.50    0.90  0.035534  0.099583  0.864883  0.005793  0.015287  0.016434   \n",
       "189  0.50    0.95  0.034749  0.048698  0.916552  0.005802  0.011475  0.012842   \n",
       "\n",
       "            Q       sdQ         m  \n",
       "0   -0.066097  0.056709  0.238159  \n",
       "1    0.024939  0.059133  0.326563  \n",
       "2    0.154451  0.052311  0.423529  \n",
       "3    0.225042  0.059487  0.482263  \n",
       "4    0.326082  0.062469  0.551512  \n",
       "..        ...       ...       ...  \n",
       "185  0.360256  0.062326  0.642934  \n",
       "186  0.427457  0.051604  0.677037  \n",
       "187  0.540423  0.056518  0.734215  \n",
       "188  0.665716  0.047009  0.797324  \n",
       "189  0.819156  0.035791  0.874829  \n",
       "\n",
       "[190 rows x 11 columns]"
      ]
     },
     "execution_count": 3,
     "metadata": {},
     "output_type": "execute_result"
    }
   ],
   "source": [
    "df"
   ]
  },
  {
   "cell_type": "code",
   "execution_count": 4,
   "id": "7d57e1e7-7008-448a-b63e-a8c4792e39b1",
   "metadata": {},
   "outputs": [],
   "source": [
    "df1 = df.loc[df['pi'] == 0.05].loc[df['lambda'] == 0.05]"
   ]
  },
  {
   "cell_type": "code",
   "execution_count": 5,
   "id": "f58b52b0-716c-44fa-927b-ecc60a1eade8",
   "metadata": {},
   "outputs": [
    {
     "data": {
      "text/html": [
       "<div>\n",
       "<style scoped>\n",
       "    .dataframe tbody tr th:only-of-type {\n",
       "        vertical-align: middle;\n",
       "    }\n",
       "\n",
       "    .dataframe tbody tr th {\n",
       "        vertical-align: top;\n",
       "    }\n",
       "\n",
       "    .dataframe thead th {\n",
       "        text-align: right;\n",
       "    }\n",
       "</style>\n",
       "<table border=\"1\" class=\"dataframe\">\n",
       "  <thead>\n",
       "    <tr style=\"text-align: right;\">\n",
       "      <th></th>\n",
       "      <th>pi</th>\n",
       "      <th>lambda</th>\n",
       "      <th>f0</th>\n",
       "      <th>f1</th>\n",
       "      <th>f2</th>\n",
       "      <th>sdf0</th>\n",
       "      <th>sdf1</th>\n",
       "      <th>sdf2</th>\n",
       "      <th>Q</th>\n",
       "      <th>sdQ</th>\n",
       "      <th>m</th>\n",
       "    </tr>\n",
       "  </thead>\n",
       "  <tbody>\n",
       "    <tr>\n",
       "      <th>0</th>\n",
       "      <td>0.05</td>\n",
       "      <td>0.05</td>\n",
       "      <td>0.228793</td>\n",
       "      <td>0.279101</td>\n",
       "      <td>0.492106</td>\n",
       "      <td>0.014094</td>\n",
       "      <td>0.018248</td>\n",
       "      <td>0.020213</td>\n",
       "      <td>-0.066097</td>\n",
       "      <td>0.056709</td>\n",
       "      <td>0.238159</td>\n",
       "    </tr>\n",
       "  </tbody>\n",
       "</table>\n",
       "</div>"
      ],
      "text/plain": [
       "     pi  lambda        f0        f1        f2      sdf0      sdf1      sdf2  \\\n",
       "0  0.05    0.05  0.228793  0.279101  0.492106  0.014094  0.018248  0.020213   \n",
       "\n",
       "          Q       sdQ         m  \n",
       "0 -0.066097  0.056709  0.238159  "
      ]
     },
     "execution_count": 5,
     "metadata": {},
     "output_type": "execute_result"
    }
   ],
   "source": [
    "df.loc[(df['pi'] == 0.05) & (df['lambda'] == 0.05)]"
   ]
  },
  {
   "cell_type": "code",
   "execution_count": 6,
   "id": "8b08aa4c-3ff1-4553-811a-a2fe8dfc679c",
   "metadata": {},
   "outputs": [
    {
     "data": {
      "text/html": [
       "<div>\n",
       "<style scoped>\n",
       "    .dataframe tbody tr th:only-of-type {\n",
       "        vertical-align: middle;\n",
       "    }\n",
       "\n",
       "    .dataframe tbody tr th {\n",
       "        vertical-align: top;\n",
       "    }\n",
       "\n",
       "    .dataframe thead th {\n",
       "        text-align: right;\n",
       "    }\n",
       "</style>\n",
       "<table border=\"1\" class=\"dataframe\">\n",
       "  <thead>\n",
       "    <tr style=\"text-align: right;\">\n",
       "      <th></th>\n",
       "      <th>pi</th>\n",
       "      <th>lambda</th>\n",
       "      <th>f0</th>\n",
       "      <th>f1</th>\n",
       "      <th>f2</th>\n",
       "      <th>sdf0</th>\n",
       "      <th>sdf1</th>\n",
       "      <th>sdf2</th>\n",
       "      <th>Q</th>\n",
       "      <th>sdQ</th>\n",
       "      <th>m</th>\n",
       "    </tr>\n",
       "  </thead>\n",
       "  <tbody>\n",
       "    <tr>\n",
       "      <th>0</th>\n",
       "      <td>0.05</td>\n",
       "      <td>0.05</td>\n",
       "      <td>0.228793</td>\n",
       "      <td>0.279101</td>\n",
       "      <td>0.492106</td>\n",
       "      <td>0.014094</td>\n",
       "      <td>0.018248</td>\n",
       "      <td>0.020213</td>\n",
       "      <td>-0.066097</td>\n",
       "      <td>0.056709</td>\n",
       "      <td>0.238159</td>\n",
       "    </tr>\n",
       "  </tbody>\n",
       "</table>\n",
       "</div>"
      ],
      "text/plain": [
       "     pi  lambda        f0        f1        f2      sdf0      sdf1      sdf2  \\\n",
       "0  0.05    0.05  0.228793  0.279101  0.492106  0.014094  0.018248  0.020213   \n",
       "\n",
       "          Q       sdQ         m  \n",
       "0 -0.066097  0.056709  0.238159  "
      ]
     },
     "execution_count": 6,
     "metadata": {},
     "output_type": "execute_result"
    }
   ],
   "source": [
    "df1"
   ]
  },
  {
   "cell_type": "code",
   "execution_count": 4,
   "id": "22984ef8-0298-4571-afca-d46ca70e04e3",
   "metadata": {},
   "outputs": [],
   "source": [
    "df_to_map = df.pivot('lambda','pi','Q')"
   ]
  },
  {
   "cell_type": "code",
   "execution_count": 5,
   "id": "13eff874-faf7-44ee-a39c-8a1538f50156",
   "metadata": {},
   "outputs": [
    {
     "data": {
      "text/plain": [
       "<AxesSubplot:xlabel='$\\\\pi_{1,2}$', ylabel='$\\\\lambda$'>"
      ]
     },
     "execution_count": 5,
     "metadata": {},
     "output_type": "execute_result"
    },
    {
     "data": {
      "image/png": "[encoded data removed]",
      "text/plain": [
       "<Figure size 432x288 with 2 Axes>"
      ]
     },
     "metadata": {
      "needs_background": "light"
     },
     "output_type": "display_data"
    }
   ],
   "source": [
    "fig, ax = plt.subplots()\n",
    "x_ticks = ['',0.1,'',0.2,'',0.3,'',0.4,'',0.5]\n",
    "y_ticks = ['','','','',0.25,'','','','',0.5,'','','','',0.75,'','','','']\n",
    "sns.heatmap(df_to_map, vmin=-1,vmax=1, cmap='RdBu', ax=ax, xticklabels=x_ticks, yticklabels=y_ticks)\n",
    "ax.invert_yaxis()\n",
    "ax.set_xlabel(r\"$\\pi_{1,2}$\")\n",
    "ax.set_ylabel(r\"$\\lambda$\")\n",
    "some_line = pd.DataFrame({'pi':[x for x in range(len(x_ticks))], 'lambda':[x for x in range(len(x_ticks))]})\n",
    "sns.lineplot(x=some_line['pi'], y=some_line['lambda'], color='green')"
   ]
  },
  {
   "cell_type": "code",
   "execution_count": 5,
   "id": "9bffc6af-4d8f-49e5-8f75-7e50e3fb365b",
   "metadata": {},
   "outputs": [],
   "source": [
    "pi = df['pi'].unique()\n",
    "lamb = df['lambda'].unique()\n",
    "z = []\n",
    "for i,p in enumerate(pi):\n",
    "    z.append([])\n",
    "    for l in lamb:\n",
    "        value = df_to_map.loc[l].loc[p]\n",
    "        z[i].append(value)"
   ]
  },
  {
   "cell_type": "code",
   "execution_count": 6,
   "id": "a838750f-11de-443d-b53b-f51ca2844ad5",
   "metadata": {},
   "outputs": [],
   "source": [
    "z = np.array(z)"
   ]
  },
  {
   "cell_type": "code",
   "execution_count": 7,
   "id": "9d20b5b2-59b1-49a8-8c87-dc2ac2292944",
   "metadata": {},
   "outputs": [],
   "source": [
    "#x_edges, y_edges = np.mgrid[0.05:0.5:10j, 0.05:0.95:19j]\n",
    "x_edges, y_edges = np.mgrid[min(pi):max(pi):complex(0,len(pi)), min(lamb):max(lamb):complex(0,len(lamb))]"
   ]
  },
  {
   "cell_type": "code",
   "execution_count": 8,
   "id": "8a030c15-4b17-4d92-96ab-99f9c9365103",
   "metadata": {},
   "outputs": [
    {
     "data": {
      "text/plain": [
       "<matplotlib.colorbar.Colorbar at 0x7f48f5312520>"
      ]
     },
     "execution_count": 8,
     "metadata": {},
     "output_type": "execute_result"
    },
    {
     "data": {
      "image/png": "[encoded data removed]",
      "text/plain": [
       "<Figure size 576x432 with 2 Axes>"
      ]
     },
     "metadata": {
      "needs_background": "light"
     },
     "output_type": "display_data"
    }
   ],
   "source": [
    "fig, ax = plt.subplots(figsize=(8,6))\n",
    "im = ax.pcolormesh(x_edges, y_edges, z, cmap='RdBu', vmin=-1,vmax=1, shading='auto')\n",
    "fig.colorbar(im, ax=ax)"
   ]
  },
  {
   "cell_type": "code",
   "execution_count": 9,
   "id": "e2d405c2-7a60-463b-86a9-3ff8c19bb5a4",
   "metadata": {},
   "outputs": [],
   "source": [
    "tck = interpolate.bisplrep(x_edges, y_edges, z)\n",
    "xnew, ynew = np.mgrid[0.05:0.5:46j, 0.05:0.95:91j]\n",
    "pi_new = [round(x[0],2) for x in xnew]\n",
    "lamb_new = [round(y,2) for y in ynew[0]]\n",
    "znew = interpolate.bisplev(xnew[:,0], ynew[0,:], tck)"
   ]
  },
  {
   "cell_type": "code",
   "execution_count": 11,
   "id": "9c406b12-05ff-4863-96ee-bcb57c68028f",
   "metadata": {},
   "outputs": [
    {
     "data": {
      "text/plain": [
       "<matplotlib.colorbar.Colorbar at 0x7f48f50c9e20>"
      ]
     },
     "execution_count": 11,
     "metadata": {},
     "output_type": "execute_result"
    },
    {
     "data": {
      "image/png": "[encoded data removed]",
      "text/plain": [
       "<Figure size 576x432 with 2 Axes>"
      ]
     },
     "metadata": {
      "needs_background": "light"
     },
     "output_type": "display_data"
    }
   ],
   "source": [
    "fig, ax = plt.subplots(figsize=(8,6))\n",
    "im = plt.pcolormesh(xnew, ynew, znew, cmap='RdBu', vmin=-1,vmax=1, shading='auto')\n",
    "#index_from = list(df_Tline['pi']).index(xnew[0][0])\n",
    "#print(index_from)\n",
    "#plt.plot(list(df_Tline['pi'])[index_from:], list(df_Tline['lambda'])[index_from:])\n",
    "fig.colorbar(im, ax=ax)"
   ]
  },
  {
   "cell_type": "code",
   "execution_count": 18,
   "id": "66dbfaec-c0fa-41db-bea8-91a302834b3a",
   "metadata": {},
   "outputs": [],
   "source": [
    "df_spline = pd.DataFrame(data=None, columns=['pi', 'lambda', 'Q'])\n",
    "for i,p in enumerate(pi_new):\n",
    "    for j,l in enumerate(lamb_new):\n",
    "        df_aux = pd.DataFrame({'pi':[p,], 'lambda':[l,], 'Q':[znew[i][j],]})\n",
    "        df_spline = pd.concat([df_spline,df_aux],ignore_index=True) # ,ignore_index=True"
   ]
  },
  {
   "cell_type": "code",
   "execution_count": 19,
   "id": "337de828-5007-4fbd-a06c-202e2dfe5f28",
   "metadata": {},
   "outputs": [],
   "source": [
    "df_to_map_spline = df_spline.pivot('lambda','pi','Q')"
   ]
  },
  {
   "cell_type": "code",
   "execution_count": 20,
   "id": "a3c08003-7d50-43db-b185-0809ef99e98d",
   "metadata": {},
   "outputs": [
    {
     "data": {
      "text/plain": [
       "Text(33.0, 0.5, '$\\\\lambda$')"
      ]
     },
     "execution_count": 20,
     "metadata": {},
     "output_type": "execute_result"
    },
    {
     "data": {
      "image/png": "[encoded data removed]",
      "text/plain": [
       "<Figure size 432x288 with 2 Axes>"
      ]
     },
     "metadata": {
      "needs_background": "light"
     },
     "output_type": "display_data"
    }
   ],
   "source": [
    "fig, ax = plt.subplots()\n",
    "x_ticks_must = [0.1,0.2,0.3,0.4,0.5]\n",
    "x_ticks = []\n",
    "y_ticks_must = [0.25,0.5,0.75]\n",
    "y_ticks = []\n",
    "for x in pi_new:\n",
    "    if x in x_ticks_must:\n",
    "        x_ticks.append(x)\n",
    "    else:\n",
    "        x_ticks.append('')\n",
    "for y in lamb_new:\n",
    "    if y in y_ticks_must:\n",
    "        y_ticks.append(y)\n",
    "    else:\n",
    "        y_ticks.append('')\n",
    "sns.heatmap(df_to_map_spline, vmin=-1,vmax=1, cmap='RdBu', ax=ax, xticklabels=x_ticks, yticklabels=y_ticks)\n",
    "ax.invert_yaxis()\n",
    "ax.set_xlabel(r\"$\\pi_{1,2}$\")\n",
    "ax.set_ylabel(r\"$\\lambda$\")"
   ]
  },
  {
   "cell_type": "code",
   "execution_count": 22,
   "id": "50d8a627-bd40-43a0-a0bf-3be1b87b0d94",
   "metadata": {},
   "outputs": [],
   "source": [
    "def get_Tline(magnitud,df_to_map):\n",
    "    if magnitud == 'Q':\n",
    "        m_trsl = 'Q2'\n",
    "    q1=25\n",
    "    q2=30\n",
    "    df_Tline = pd.read_csv(f'/home/david/Desktop/Uni_code/TFM_code/Qeq0_line/symmetric_pi/results/q_{q1}_{q2}/pi_lambda_{m_trsl}eq0.csv')\n",
    "    print(df_Tline)\n",
    "    rStrings = False\n",
    "    for i in range(len(df_Tline)):\n",
    "        if (type(df_Tline['lambda'][i]) == 'str'):\n",
    "            rStrings = True\n",
    "            print(type(df_Tline['lambda'][i]))\n",
    "    if rStrings:\n",
    "        #df_Tline = df_Tline[df_Tline['lambda'].str.strip() != 'Inf']\n",
    "        df_Tline = df_Tline[~df_Tline['lambda'].str.contains('Inf')] # catches Inf, Infi, ..., Infinity\n",
    "        df_Tline['lambda'] = pd.to_numeric(df_Tline['lambda']) # downcast=\"float\" to make it float32\n",
    "        df_Tline.reset_index(drop=True, inplace=True)\n",
    "    # Reescale Tline and center to the heatmap squares:\n",
    "    # pi es multiplica per 2 pq originalment esta entre 0 i 0.5\n",
    "  #  df_Tline['pi'] = (df_Tline['pi'])*2*len(df_to_map.columns)-0.5\n",
    "    #df_Tline['lambda'] = (df_Tline['lambda'])*10*2-0.5\n",
    "  #  df_Tline['lambda'] = (df_Tline['lambda'])*(len(df_to_map)+1)-0.5\n",
    "    #df_Tline2['lambda'] = (df_Tline2['lambda'])*(len(df_to_map))\n",
    "    return df_Tline"
   ]
  },
  {
   "cell_type": "code",
   "execution_count": 23,
   "id": "f19ce80b-fa51-48bc-84b4-e852f7ed1700",
   "metadata": {},
   "outputs": [
    {
     "name": "stdout",
     "output_type": "stream",
     "text": [
      "      pi    lambda         Q    iter\n",
      "0   0.01  0.081757 -0.000013      13\n",
      "1   0.02  0.130927 -0.000088      13\n",
      "2   0.03  0.175168  0.000068      14\n",
      "3   0.04  0.215002 -0.000074      12\n",
      "4   0.05  0.251184 -0.000086      12\n",
      "5   0.06  0.284351  0.000089      11\n",
      "6   0.07  0.314618  0.000081      13\n",
      "7   0.08  0.342334  0.000074      10\n",
      "8   0.09  0.368079  0.000067      12\n",
      "9   0.10  0.391736  0.000061      12\n",
      "10  0.11  0.413622 -0.000230  100000\n",
      "11  0.12  0.434070  0.000145  100000\n",
      "12  0.13  0.453140 -0.000243  100000\n",
      "13  0.14  0.470967 -0.000248  100000\n",
      "14  0.15  0.487667  0.000131  100000\n",
      "15  0.16  0.503346 -0.000258  100000\n",
      "16  0.17  0.518093 -0.000263  100000\n",
      "17  0.18  0.531989  0.000119  100000\n",
      "18  0.19  0.545106  0.000115  100000\n",
      "19  0.20  0.557508 -0.000275  100000\n",
      "20  0.21  0.569251 -0.000279  100000\n",
      "21  0.22  0.580387  0.000106  100000\n",
      "22  0.23  0.590962 -0.000285  100000\n",
      "23  0.24  0.601016  0.000100  100000\n",
      "24  0.25  0.610589  0.000097  100000\n",
      "25  0.26  0.619712 -0.000294  100000\n",
      "26  0.27  0.628418  0.000092  100000\n",
      "27  0.28  0.636890  0.000090      11\n",
      "28  0.29  0.644775  0.000088      10\n",
      "29  0.30  0.652429  0.000085      12\n",
      "30  0.31  0.659619  0.000083      10\n",
      "31  0.32  0.666809  0.000081      12\n",
      "32  0.33  0.673535  0.000079       9\n",
      "33  0.34  0.679797  0.000078      12\n",
      "34  0.35  0.686060  0.000076      11\n",
      "35  0.36  0.692090  0.000074       9\n",
      "36  0.37  0.697656  0.000073       6\n",
      "37  0.38  0.703223  0.000071       9\n",
      "38  0.39  0.708557  0.000069      12\n",
      "39  0.40  0.713892  0.000068      11\n",
      "40  0.41  0.718762  0.000067      12\n",
      "41  0.42  0.723633  0.000065       8\n",
      "42  0.43  0.728271  0.000064      10\n",
      "43  0.44  0.732678  0.000063      12\n",
      "44  0.45  0.737085  0.000061      11\n",
      "45  0.46  0.741260  0.000060      10\n",
      "46  0.47  0.745203  0.000059      12\n",
      "47  0.48  0.749146  0.000058      11\n",
      "48  0.49  0.753088  0.000057      12\n",
      "49  0.50  0.756799  0.000056      12\n"
     ]
    }
   ],
   "source": [
    "df_Tline = get_Tline('Q',df_to_map_spline)"
   ]
  },
  {
   "cell_type": "code",
   "execution_count": 71,
   "id": "0660667d-aa90-422a-85ed-e3dec0ca7496",
   "metadata": {},
   "outputs": [],
   "source": [
    "some_line = pd.DataFrame({'pi':[x-0.5 for x in range(1,len(pi_new)+1)], 'lambda':[x for x in range(len(pi_new))]})\n",
    "#[x for x in range(len(pi_new))]\n",
    "#[y for y in range(len(lamb_new))]"
   ]
  },
  {
   "cell_type": "code",
   "execution_count": 85,
   "id": "4b9ba223-3485-4ff8-8d31-c85a6f5962f7",
   "metadata": {},
   "outputs": [
    {
     "data": {
      "text/plain": [
       "<AxesSubplot:xlabel='$\\\\pi_{1,2}$', ylabel='$\\\\lambda$'>"
      ]
     },
     "execution_count": 85,
     "metadata": {},
     "output_type": "execute_result"
    },
    {
     "data": {
      "image/png": "[encoded data removed]",
      "text/plain": [
       "<Figure size 720x720 with 2 Axes>"
      ]
     },
     "metadata": {
      "needs_background": "light"
     },
     "output_type": "display_data"
    }
   ],
   "source": [
    "fig, ax = plt.subplots(figsize=(10,10))\n",
    "sns.heatmap(df_to_map_spline, vmin=-1,vmax=1, cmap='RdBu', ax=ax, xticklabels=x_ticks, yticklabels=y_ticks)\n",
    "ax.invert_yaxis()\n",
    "ax.set_xlabel(r\"$\\pi_{1,2}$\")\n",
    "ax.set_ylabel(r\"$\\lambda$\")\n",
    "sns.lineplot(x=df_Tline['pi'], y=df_Tline['lambda'], color='black')\n",
    "sns.lineplot(x=some_line['pi'], y=some_line['lambda'], color='green')"
   ]
  },
  {
   "cell_type": "code",
   "execution_count": 86,
   "id": "c193b012-62e5-4488-8075-0371b0259ca4",
   "metadata": {},
   "outputs": [
    {
     "name": "stdout",
     "output_type": "stream",
     "text": [
      "[0.05, 0.06, 0.07, 0.08, 0.09, 0.1, 0.11, 0.12, 0.13, 0.14, 0.15, 0.16, 0.17, 0.18, 0.19, 0.2, 0.21, 0.22, 0.23, 0.24, 0.25, 0.26, 0.27, 0.28, 0.29, 0.3, 0.31, 0.32, 0.33, 0.34, 0.35, 0.36, 0.37, 0.38, 0.39, 0.4, 0.41, 0.42, 0.43, 0.44, 0.45, 0.46, 0.47, 0.48, 0.49, 0.5, 0.51, 0.52, 0.53, 0.54, 0.55, 0.56, 0.57, 0.58, 0.59, 0.6, 0.61, 0.62, 0.63, 0.64, 0.65, 0.66, 0.67, 0.68, 0.69, 0.7, 0.71, 0.72, 0.73, 0.74, 0.75, 0.76, 0.77, 0.78, 0.79, 0.8, 0.81, 0.82, 0.83, 0.84, 0.85, 0.86, 0.87, 0.88, 0.89, 0.9, 0.91, 0.92, 0.93, 0.94, 0.95]\n"
     ]
    }
   ],
   "source": [
    "print(lamb_new)"
   ]
  },
  {
   "cell_type": "code",
   "execution_count": null,
   "id": "968f9966-777c-4e48-8b5a-ae4d74cbde74",
   "metadata": {},
   "outputs": [],
   "source": []
  }
 ],
 "metadata": {
  "kernelspec": {
   "display_name": "Python 3 (ipykernel)",
   "language": "python",
   "name": "python3"
  },
  "language_info": {
   "codemirror_mode": {
    "name": "ipython",
    "version": 3
   },
   "file_extension": ".py",
   "mimetype": "text/x-python",
   "name": "python",
   "nbconvert_exporter": "python",
   "pygments_lexer": "ipython3",
   "version": "3.9.7"
  }
 },
 "nbformat": 4,
 "nbformat_minor": 5
}
