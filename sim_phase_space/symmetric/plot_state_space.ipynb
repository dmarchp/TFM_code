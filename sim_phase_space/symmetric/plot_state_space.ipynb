{
 "cells": [
  {
   "cell_type": "code",
   "execution_count": 2,
   "metadata": {},
   "outputs": [],
   "source": [
    "import numpy as np\n",
    "import sys\n",
    "import matplotlib.pyplot as plt\n",
    "sys.path.append('../../')\n",
    "from package_global_functions import *\n",
    "\n",
    "extSSDpath = getExternalSSDpath()\n",
    "if os.path.exists(extSSDpath):\n",
    "    path = extSSDpath + getProjectFoldername() + '/sim_phase_space/symmetric/results'\n",
    "    tline_path = extSSDpath + getProjectFoldername() + '/det_sols_from_polynomial/res_files'\n",
    "else:\n",
    "    print('CAREFUL! NO EXTERNAL SSD!')\n",
    "    path = './results'\n",
    "    tline_path = '../../det_sols_from_polynomial/res_files'"
   ]
  },
  {
   "cell_type": "code",
   "execution_count": 16,
   "metadata": {},
   "outputs": [],
   "source": [
    "model = 'Galla'\n",
    "q1, q2, ic, N = 7.0, 10.0, 'N', 100\n",
    "\n",
    "mesh_file = f'q1_{q1}_q2_{q2}_phase_space_{model}_ic_{ic}_Nbots_{N}.npz'\n",
    "mesh = np.load(f'{path}/{mesh_file}')"
   ]
  },
  {
   "cell_type": "code",
   "execution_count": 17,
   "metadata": {},
   "outputs": [
    {
     "data": {
      "text/plain": [
       "<matplotlib.collections.QuadMesh at 0x7f8a3c5da640>"
      ]
     },
     "execution_count": 17,
     "metadata": {},
     "output_type": "execute_result"
    },
    {
     "data": {
      "image/png": "[encoded data removed]",
      "text/plain": [
       "<Figure size 640x480 with 1 Axes>"
      ]
     },
     "metadata": {},
     "output_type": "display_data"
    }
   ],
   "source": [
    "fig, ax = plt.subplots()\n",
    "ax.pcolormesh(mesh['x'], mesh['y'], mesh['fs'][2])"
   ]
  },
  {
   "cell_type": "code",
   "execution_count": 14,
   "metadata": {},
   "outputs": [
    {
     "data": {
      "text/plain": [
       "array([[0.        , 0.        , 0.        , 0.28708064, 0.48573852,\n",
       "        0.59164072, 0.66319641, 0.71102914, 0.74773413, 0.77576128,\n",
       "        0.79766986, 0.8156016 , 0.83066707, 0.84461597, 0.85491138,\n",
       "        0.86525629, 0.87381996, 0.88104351, 0.88754012, 0.8939018 ,\n",
       "        0.89918483],\n",
       "       [0.08557804, 0.12568822, 0.2024982 , 0.32377046, 0.43993892,\n",
       "        0.53680399, 0.61087146, 0.66335609, 0.71042595, 0.74465589,\n",
       "        0.77100798, 0.78970619, 0.81259162, 0.82953373, 0.84334651,\n",
       "        0.85643593, 0.86811257, 0.87506667, 0.88198403, 0.81757884,\n",
       "        0.89888383],\n",
       "       [0.14787784, 0.19302555, 0.26144032, 0.33925389, 0.42877685,\n",
       "        0.51418882, 0.57089341, 0.63699002, 0.67806507, 0.71270539,\n",
       "        0.7465521 , 0.77240639, 0.79080998, 0.81637525, 0.83423513,\n",
       "        0.84695489, 0.8610491 , 0.86861677, 0.88246667, 0.89040679,\n",
       "        0.89910499]])"
      ]
     },
     "execution_count": 14,
     "metadata": {},
     "output_type": "execute_result"
    }
   ],
   "source": [
    "mesh['fs'][2]"
   ]
  },
  {
   "cell_type": "code",
   "execution_count": null,
   "metadata": {},
   "outputs": [],
   "source": []
  }
 ],
 "metadata": {
  "kernelspec": {
   "display_name": "base",
   "language": "python",
   "name": "python3"
  },
  "language_info": {
   "codemirror_mode": {
    "name": "ipython",
    "version": 3
   },
   "file_extension": ".py",
   "mimetype": "text/x-python",
   "name": "python",
   "nbconvert_exporter": "python",
   "pygments_lexer": "ipython3",
   "version": "3.9.18"
  }
 },
 "nbformat": 4,
 "nbformat_minor": 2
}
