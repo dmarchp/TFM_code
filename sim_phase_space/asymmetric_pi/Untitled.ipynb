{
 "cells": [
  {
   "cell_type": "code",
   "execution_count": 1,
   "id": "fb98a034-6c96-4ec2-83ed-91737917b6be",
   "metadata": {},
   "outputs": [],
   "source": [
    "import pandas as pd"
   ]
  },
  {
   "cell_type": "code",
   "execution_count": 32,
   "id": "7ab4e49e-1b83-4570-b99e-1d464aa78f7b",
   "metadata": {},
   "outputs": [],
   "source": [
    "lstr = 80\n",
    "q1 = 25\n",
    "q2 = 30\n",
    "m_trsl = 'Q2'\n",
    "df = pd.read_csv(f'/home/david/Desktop/Uni_code/TFM_code/Qeq0_line/asymmetric_pi/results/lambda_{lstr}/q_{q1}_{q2}/pi1_pi2_{m_trsl}eq0.csv')"
   ]
  },
  {
   "cell_type": "code",
   "execution_count": 12,
   "id": "4549f111-9529-4633-a8c2-0b35db017df4",
   "metadata": {},
   "outputs": [],
   "source": [
    "df = df[df['pi2'].str.strip() != 'Inf']"
   ]
  },
  {
   "cell_type": "code",
   "execution_count": 27,
   "id": "87fc8556-a6d3-4a37-95d0-a3a63406771c",
   "metadata": {},
   "outputs": [],
   "source": [
    "df = df[~df['pi2'].str.contains('Inf')]"
   ]
  },
  {
   "cell_type": "code",
   "execution_count": 36,
   "id": "b6480f57-d0e6-4f51-9132-cabe1339f70a",
   "metadata": {},
   "outputs": [],
   "source": [
    "df[\"pi2\"] = pd.to_numeric(df[\"pi2\"], downcast=\"float\")"
   ]
  },
  {
   "cell_type": "code",
   "execution_count": 34,
   "id": "050994ed-1b77-4bbe-aa8f-efe70960c62c",
   "metadata": {},
   "outputs": [],
   "source": [
    "# count unique values\n",
    "df = pd.read_csv('results/lambda_80/q1_25_q2_30_l_80_phase_space.csv')"
   ]
  },
  {
   "cell_type": "code",
   "execution_count": 51,
   "id": "b98baf4f-32e3-4650-8fe7-97f20ff99a7c",
   "metadata": {},
   "outputs": [
    {
     "data": {
      "text/plain": [
       "pi1\n",
       "0.05    10\n",
       "0.10    10\n",
       "0.15    10\n",
       "0.20    10\n",
       "0.25    10\n",
       "0.30    10\n",
       "0.35    10\n",
       "0.40    10\n",
       "0.45    10\n",
       "0.50    10\n",
       "Name: pi2, dtype: int64"
      ]
     },
     "execution_count": 51,
     "metadata": {},
     "output_type": "execute_result"
    }
   ],
   "source": [
    "df.groupby('pi1')['pi2'].nunique()"
   ]
  },
  {
   "cell_type": "code",
   "execution_count": 48,
   "id": "88d7727d-9ba3-424f-bb17-d976b667ad16",
   "metadata": {},
   "outputs": [],
   "source": [
    "n = df.groupby('pi1')['pi2'].nunique().iloc[0]"
   ]
  },
  {
   "cell_type": "code",
   "execution_count": 43,
   "id": "9c5a9b00-963f-47b2-a2f7-b81642b3b2db",
   "metadata": {},
   "outputs": [],
   "source": [
    "n=50"
   ]
  },
  {
   "cell_type": "code",
   "execution_count": 49,
   "id": "f065d973-f093-4089-a089-d6d1a548a9bc",
   "metadata": {},
   "outputs": [],
   "source": [
    "# generate labels\n",
    "#x_ticks = ['' for i in range(0,n)]\n",
    "x_ticks = []\n",
    "if n==10: every = 2\n",
    "if n==50: every = 10\n",
    "for i in range(1,n+1):\n",
    "    if(i%every==0):\n",
    "        x_ticks.append(i/(every*10))\n",
    "    else:\n",
    "        x_ticks.append('')"
   ]
  },
  {
   "cell_type": "code",
   "execution_count": 50,
   "id": "2a78894c-b04f-4043-a6f3-6a98da5c330d",
   "metadata": {},
   "outputs": [
    {
     "data": {
      "text/plain": [
       "['', 0.1, '', 0.2, '', 0.3, '', 0.4, '', 0.5]"
      ]
     },
     "execution_count": 50,
     "metadata": {},
     "output_type": "execute_result"
    }
   ],
   "source": [
    "x_ticks"
   ]
  },
  {
   "cell_type": "code",
   "execution_count": 53,
   "id": "a23fd4b8-8204-483c-b4c1-51c6113c2c16",
   "metadata": {},
   "outputs": [
    {
     "data": {
      "text/plain": [
       "False"
      ]
     },
     "execution_count": 53,
     "metadata": {},
     "output_type": "execute_result"
    }
   ],
   "source": [
    "bool([])"
   ]
  },
  {
   "cell_type": "code",
   "execution_count": null,
   "id": "aa731b2b-45da-4711-994b-8ba976959daf",
   "metadata": {},
   "outputs": [],
   "source": []
  }
 ],
 "metadata": {
  "kernelspec": {
   "display_name": "Python 3 (ipykernel)",
   "language": "python",
   "name": "python3"
  },
  "language_info": {
   "codemirror_mode": {
    "name": "ipython",
    "version": 3
   },
   "file_extension": ".py",
   "mimetype": "text/x-python",
   "name": "python",
   "nbconvert_exporter": "python",
   "pygments_lexer": "ipython3",
   "version": "3.9.7"
  }
 },
 "nbformat": 4,
 "nbformat_minor": 5
}
