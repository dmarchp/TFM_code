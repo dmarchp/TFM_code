{
 "cells": [
  {
   "cell_type": "code",
   "execution_count": 4,
   "id": "47d240f1-2ea5-434f-bf65-72fb3e7a5693",
   "metadata": {},
   "outputs": [],
   "source": [
    "import pandas as pd\n",
    "#import sys\n",
    "#sys.path.append('../')\n",
    "#from package_global_functions import *\n",
    "\n",
    "# same function as in plot_evos.py\n",
    "def getTimeEvosPath():\n",
    "    extSSDpath = getExternalSSDpath()\n",
    "    if os.path.exists(extSSDpath):\n",
    "        path = extSSDpath + getProjectFoldername() + '/evo_to_stationary/time_evos_dif_cond'\n",
    "    else:\n",
    "        path = '/time_evos_dif_cond'\n",
    "    return path"
   ]
  },
  {
   "cell_type": "code",
   "execution_count": 5,
   "id": "134e4e5a-a846-4322-bb4f-e990db04ba49",
   "metadata": {},
   "outputs": [],
   "source": [
    "pi1, pi2, q1, q2, l = 0.1, 0.1, 9, 10, 0.9"
   ]
  },
  {
   "cell_type": "code",
   "execution_count": 7,
   "id": "4b1bc753-0ee6-42ca-91e2-13f8f7a51271",
   "metadata": {},
   "outputs": [],
   "source": [
    "intEvoFile = f'/time_evo_csv_pi1_{pi1}_pi2_{pi2}_q1_{q1}_q2_{q2}_l_{l}_Euler.csv'\n",
    "intEvo = pd.read_csv(f'{getTimeEvosPath()}/{intEvoFile}')"
   ]
  },
  {
   "cell_type": "code",
   "execution_count": 12,
   "id": "faf5aaf0-79b0-47d1-a781-f2ea3f5abda0",
   "metadata": {},
   "outputs": [],
   "source": [
    "#sols_int = [f for f in intEvo.iloc[-1][f'f{i}']\n",
    "sols_int = [intEvo.iloc[-1][f'f{i}'] for i in range(3)]\n",
    "#intEvo.iloc[-1]['f2']"
   ]
  },
  {
   "cell_type": "code",
   "execution_count": 13,
   "id": "0d560d3c-2700-4831-bc93-acac8d7f9777",
   "metadata": {},
   "outputs": [
    {
     "data": {
      "text/plain": [
       "[0.10959384296826, 0.0878391407455909, 0.8025670162861467]"
      ]
     },
     "execution_count": 13,
     "metadata": {},
     "output_type": "execute_result"
    }
   ],
   "source": [
    "sols_int"
   ]
  },
  {
   "cell_type": "code",
   "execution_count": null,
   "id": "046d74a9-6a82-46d1-b801-1905ccc64c60",
   "metadata": {},
   "outputs": [],
   "source": []
  }
 ],
 "metadata": {
  "kernelspec": {
   "display_name": "Python 3 (ipykernel)",
   "language": "python",
   "name": "python3"
  },
  "language_info": {
   "codemirror_mode": {
    "name": "ipython",
    "version": 3
   },
   "file_extension": ".py",
   "mimetype": "text/x-python",
   "name": "python",
   "nbconvert_exporter": "python",
   "pygments_lexer": "ipython3",
   "version": "3.9.16"
  }
 },
 "nbformat": 4,
 "nbformat_minor": 5
}
