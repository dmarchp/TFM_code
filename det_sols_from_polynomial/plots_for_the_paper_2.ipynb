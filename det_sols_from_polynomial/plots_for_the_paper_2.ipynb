{
 "cells": [
  {
   "cell_type": "code",
   "execution_count": 1,
   "metadata": {},
   "outputs": [],
   "source": [
    "import numpy as np\n",
    "import pandas as pd\n",
    "import matplotlib.pyplot as plt\n",
    "#%matplotlib inline\n",
    "import sys\n",
    "sys.path.append('../')\n",
    "from package_global_functions import *\n",
    "\n",
    "extSSDpath = getExternalSSDpath()\n",
    "if os.path.exists(extSSDpath):\n",
    "    path = extSSDpath + getProjectFoldername() + '/det_sols_from_polynomial/res_files'\n",
    "else:\n",
    "    path = '/res_files'"
   ]
  },
  {
   "cell_type": "code",
   "execution_count": 2,
   "metadata": {},
   "outputs": [],
   "source": [
    "def latexFont(size= 15, labelsize=18, titlesize=20, ticklabelssize=15, legendsize = 18):\n",
    "    plt.rcParams.update({\n",
    "        \"text.usetex\": True})\n",
    "    plt.rcParams[\"text.latex.preamble\"].join([\n",
    "        r\"\\usepackage{underscore}\"\n",
    "    ])\n",
    "    plt.rcParams[\"font.family\"] = 'STIXGeneral'\n",
    "    plt.rc('font', size=size)          # controls default text sizes\n",
    "    plt.rc('axes', titlesize=titlesize)     # fontsize of the axes title\n",
    "    plt.rc('axes', labelsize=labelsize)    # fontsize of the x and y labels\n",
    "    plt.rc('xtick', labelsize=ticklabelssize)    # fontsize of the tick labels\n",
    "    plt.rc('ytick', labelsize=ticklabelssize)    # fontsize of the tick labels\n",
    "    plt.rc('legend', fontsize=legendsize)    # legend fontsize\n",
    "    plt.rc('figure', titlesize=titlesize)  # fontsize of the figure title"
   ]
  },
  {
   "cell_type": "code",
   "execution_count": null,
   "metadata": {},
   "outputs": [],
   "source": [
    "q_pairs_Delta = {\n",
    "    0.053:[(9,10), (18,20), (27,30), (36,40)],\n",
    "    0.111:[(8,10), (16,20), (24,30), (32,40)],\n",
    "    0.176:[(7,10), (14,20), (21,30), (28,40)],\n",
    "    0.250:[(6,10), (12,20), (18,30), (24,40)]}\n",
    "\n",
    "Deltas = q_pairs_Delta.keys()\n",
    "x = 2\n",
    "\n",
    "latexFont(ticklabelssize=10, labelsize=12, legendsize=8)\n",
    "fig, ax = plt.subplots(1,1,figsize=(3.7,3.4))\n",
    "colors = plt.cm.gist_rainbow(np.linspace(0,1,len(Deltas)))\n",
    "for Delta, color in zip(Deltas, colors):\n",
    "    for i,q_pair in enumerate(q_pairs_Delta[Delta]):\n",
    "        tline = pd.read_csv(f'{path}/Tline_sym_pis_q1_{q_pair[0]}_q2_{q_pair[1]}_f2_{int(x)}f1.csv')\n",
    "        if i == len(q_pairs_Delta[Delta])-1:\n",
    "            ax.plot(tline['pi'], tline['lambda'], color=color, label=f'{q_pairs_Delta[Delta][0]}', alpha=(i+1)/len(q_pairs_Delta[Delta]), lw=0.7)\n",
    "        else:\n",
    "            ax.plot(tline['pi'], tline['lambda'], color=color, alpha=(i+1)/len(q_pairs_Delta[Delta]), lw=0.7)\n",
    "ax.set(xlabel='$\\pi_{1,2}$', ylabel='$\\lambda$', xlim=(0,0.5), ylim=(0,1))\n",
    "fig.legend(fontsize=8, loc=(0.2,0.74))\n",
    "fig.tight_layout()"
   ]
  }
 ],
 "metadata": {
  "kernelspec": {
   "display_name": "Python 3",
   "language": "python",
   "name": "python3"
  },
  "language_info": {
   "codemirror_mode": {
    "name": "ipython",
    "version": 3
   },
   "file_extension": ".py",
   "mimetype": "text/x-python",
   "name": "python",
   "nbconvert_exporter": "python",
   "pygments_lexer": "ipython3",
   "version": "3.11.3"
  },
  "orig_nbformat": 4
 },
 "nbformat": 4,
 "nbformat_minor": 2
}
