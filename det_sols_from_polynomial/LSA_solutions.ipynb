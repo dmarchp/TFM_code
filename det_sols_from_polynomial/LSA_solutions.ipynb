{
 "cells": [
  {
   "cell_type": "code",
   "execution_count": 1,
   "metadata": {},
   "outputs": [],
   "source": [
    "import numpy as np\n",
    "from subprocess import call\n",
    "import matplotlib.pyplot as plt\n",
    "from matplotlib.colors import ListedColormap\n",
    "from math import isnan"
   ]
  },
  {
   "cell_type": "code",
   "execution_count": 2,
   "metadata": {},
   "outputs": [],
   "source": [
    "def get_matrix(pi1, pi2, q1, q2, l, sol_index=1):\n",
    "    '''\n",
    "    sol_index=1: the program that finds the solution always gets the good one on the second row of the file (when verbosity -v)\n",
    "    '''\n",
    "    r1, r2 = 1/q1, 1/q2\n",
    "    # first get the stationary f0:\n",
    "    call(f'python f0poly_sols_clean.py {pi1} {pi2} {q1} {q2} {l} -v > sols.dat', shell=True)\n",
    "    sols = []\n",
    "    with open('sols.dat', 'r') as file:\n",
    "        for line in file.readlines():\n",
    "            sols_i = [float(f) for f in line.split()]\n",
    "            sols.append(sols_i)\n",
    "    f0 = sols[sol_index][0] \n",
    "    a11 = l*f0-r1-(1-l)*pi1*(1+l/(r1/f0-l))\n",
    "    a12 = -pi1*(1-l)*(1+l/(r1/f0-l))\n",
    "    a21 = -pi2*(1-l)*(1+l/(r2/f0-l))\n",
    "    a22 = l*f0-r2-(1-l)*pi2*(1+l/(r2/f0-l))\n",
    "    a = np.array([[a11,a12], [a21, a22]])\n",
    "    return a\n",
    "\n",
    "def get_matrix_sol_spec(pi1, pi2, q1, q2, l, f0):\n",
    "    '''\n",
    "    provide the values of f0\n",
    "    '''\n",
    "    r1, r2 = 1/q1, 1/q2\n",
    "    a11 = l*f0-r1-(1-l)*pi1*(1+l/(r1/f0-l))\n",
    "    a12 = -pi1*(1-l)*(1+l/(r1/f0-l))\n",
    "    a21 = -pi2*(1-l)*(1+l/(r2/f0-l))\n",
    "    a22 = l*f0-r2-(1-l)*pi2*(1+l/(r2/f0-l))\n",
    "    a = np.array([[a11,a12], [a21, a22]])\n",
    "    return a"
   ]
  },
  {
   "cell_type": "code",
   "execution_count": 9,
   "metadata": {},
   "outputs": [
    {
     "name": "stdout",
     "output_type": "stream",
     "text": [
      "[0.35714286 0.4       ]\n",
      "[-4.28571429e-02 -1.38777878e-16]\n",
      "[1.11022302e-16 4.28571429e-02]\n"
     ]
    }
   ],
   "source": [
    "# pi1, pi2, q1, q2, l = 0.00001, 0.00001, 10, 10, 0.05\n",
    "pi1, pi2, q1, q2, l = 0.0, 0.0, 7, 10, 0.5\n",
    "a = get_matrix(pi1, pi2, q1, q2, l, sol_index=0)\n",
    "print(np.linalg.eig(a)[0])\n",
    "eigs = np.linalg.eig(a)[0]\n",
    "\n",
    "a = get_matrix(pi1, pi2, q1, q2, l, sol_index=1)\n",
    "print(np.linalg.eig(a)[0])\n",
    "eigs = np.linalg.eig(a)[0]\n",
    "\n",
    "a = get_matrix(pi1, pi2, q1, q2, l, sol_index=2)\n",
    "print(np.linalg.eig(a)[0])\n",
    "eigs = np.linalg.eig(a)[0]\n",
    "\n",
    "# a = get_matrix_sol_spec(pi1, pi2, q1, q2, l, f0=0.1)\n",
    "# print(np.linalg.eig(a)[0])\n",
    "# eigs = np.linalg.eig(a)[0]"
   ]
  },
  {
   "cell_type": "code",
   "execution_count": null,
   "metadata": {},
   "outputs": [],
   "source": [
    "np.linalg.eig(a)[1][:,0]"
   ]
  },
  {
   "cell_type": "code",
   "execution_count": null,
   "metadata": {},
   "outputs": [],
   "source": [
    "1/eigs[1]**2"
   ]
  },
  {
   "cell_type": "markdown",
   "metadata": {},
   "source": [
    "## f0 stability case q1=q2, pi1=pi2"
   ]
  },
  {
   "cell_type": "code",
   "execution_count": null,
   "metadata": {},
   "outputs": [],
   "source": [
    "def stability_f0_eq_1(p, q, l):\n",
    "    r = 1/q\n",
    "    try:\n",
    "        func = l-r+2*p*(1-l)*(l+r)/(l-r)\n",
    "    except ZeroDivisionError:\n",
    "        print(f'Divide by 0 encountered when p, q, l: {p}, {q}, {l}')\n",
    "        func = 0.0\n",
    "    return func\n",
    "\n",
    "def stability_f0_eq_roverl(p, q, l):\n",
    "    r = 1/q\n",
    "    func = -(l-r+2*p*(1-l)*(l+r)/(l-r))\n",
    "    return func\n",
    "\n",
    "\n",
    "def stability_f0_eq_1_eps(eps, q, l):\n",
    "    r = 1/q\n",
    "    func = l-r+2*eps*(l+r)/(l-r)\n",
    "    return func"
   ]
  },
  {
   "cell_type": "code",
   "execution_count": null,
   "metadata": {},
   "outputs": [],
   "source": [
    "# explore a renge of pi's, lambdas:\n",
    "q = 10\n",
    "pi_lims = (0.0, 0.2)\n",
    "Npis = 21\n",
    "l_lims = (0.0, 2/q)\n",
    "Nls = 21\n",
    "xgrid_pi, ygrid_l = np.mgrid[pi_lims[0]:pi_lims[1]:complex(0,Npis), l_lims[0]:l_lims[1]:complex(0,Nls)]\n",
    "xgrid_pi, ygrid_l = np.around(xgrid_pi,4), np.around(ygrid_l,4)\n",
    "grid_stability = np.empty([Npis, Nls])\n",
    "for i,pi in enumerate(xgrid_pi[:,0]):\n",
    "    for j,l in enumerate(ygrid_l[0,:]):\n",
    "        fstab = stability_f0_eq_1(pi, q, l)\n",
    "        # if l == 0.1:\n",
    "        #     print(fstab)\n",
    "        if fstab == 0.0 or fstab == np.inf or isnan(fstab):\n",
    "            # print(f'aaaaay: pi = {pi}, l = {l}')\n",
    "            grid_stability[i,j] = 2 # cumbersome\n",
    "        elif (fstab < 0):\n",
    "            grid_stability[i,j] = 1 # stable\n",
    "        elif (fstab > 0):\n",
    "            grid_stability[i,j] = 0 # unstable\n",
    "        # else:\n",
    "        #     print(f'aaaaay: pi = {pi}, l = {l}')\n",
    "        #     print(fstab)\n",
    "        #     grid_stability[i,j] = 2 # cumbersome"
   ]
  },
  {
   "cell_type": "code",
   "execution_count": null,
   "metadata": {},
   "outputs": [],
   "source": [
    "mycmap = ListedColormap(['xkcd:red', 'xkcd:green', 'xkcd:black']) # 0: red, unstable; 1: green, stable\n",
    "fig, ax = plt.subplots()\n",
    "im = ax.pcolormesh(xgrid_pi, ygrid_l, grid_stability, vmin=0, vmax=2, cmap=mycmap, shading='nearest')\n",
    "ax.set(xlabel='$\\pi_{1,2}$', ylabel='$\\lambda$')"
   ]
  },
  {
   "cell_type": "code",
   "execution_count": null,
   "metadata": {},
   "outputs": [],
   "source": [
    "# explore a renge of epsilon, lambdas:\n",
    "q = 10\n",
    "eps_lims = (0.0, 0.001)\n",
    "Neps = 21\n",
    "l_lims = (0.0, 2/q)\n",
    "Nls = 21\n",
    "xgrid_eps, ygrid_l = np.mgrid[eps_lims[0]:eps_lims[1]:complex(0,Neps), l_lims[0]:l_lims[1]:complex(0,Nls)]\n",
    "xgrid_eps, ygrid_l = np.around(xgrid_eps,4), np.around(ygrid_l,4)\n",
    "grid_stability = np.empty([Neps, Nls])\n",
    "for i,eps in enumerate(xgrid_eps[:,0]):\n",
    "    for j,l in enumerate(ygrid_l[0,:]):\n",
    "        fstab = stability_f0_eq_1_eps(eps, q, l)\n",
    "        # if l == 0.1:\n",
    "        #     print(fstab)\n",
    "        if fstab == 0.0 or fstab == np.inf or isnan(fstab):\n",
    "            # print(f'aaaaay: pi = {pi}, l = {l}')\n",
    "            grid_stability[i,j] = 2 # cumbersome\n",
    "        elif (fstab < 0):\n",
    "            grid_stability[i,j] = 1 # stable\n",
    "        elif (fstab > 0):\n",
    "            grid_stability[i,j] = 0 # unstable\n",
    "        # else:\n",
    "        #     print(f'aaaaay: pi = {pi}, l = {l}')\n",
    "        #     print(fstab)\n",
    "        #     grid_stability[i,j] = 2 # cumbersome"
   ]
  },
  {
   "cell_type": "code",
   "execution_count": null,
   "metadata": {},
   "outputs": [],
   "source": [
    "mycmap = ListedColormap(['xkcd:red', 'xkcd:green', 'xkcd:black']) # 0: red, unstable; 1: green, stable\n",
    "fig, ax = plt.subplots()\n",
    "im = ax.pcolormesh(xgrid_eps, ygrid_l, grid_stability, vmin=0, vmax=2, cmap=mycmap, shading='nearest')\n",
    "ax.set(xlabel='$\\epsilon$', ylabel='$\\lambda$')"
   ]
  },
  {
   "cell_type": "code",
   "execution_count": null,
   "metadata": {},
   "outputs": [],
   "source": [
    "q, l = 10, 0.05\n",
    "eps = np.linspace(0.0, 0.1, 50)\n",
    "fig, ax = plt.subplots()\n",
    "\n",
    "stab = [stability_f0_eq_1_eps(e, q, l) for e in eps]\n",
    "\n",
    "ax.plot(eps, stab)\n",
    "    "
   ]
  },
  {
   "cell_type": "markdown",
   "metadata": {},
   "source": [
    "# Eigenvalues as characteristic times"
   ]
  },
  {
   "cell_type": "code",
   "execution_count": 28,
   "metadata": {},
   "outputs": [
    {
     "data": {
      "text/plain": [
       "<matplotlib.legend.Legend at 0x1221ed150>"
      ]
     },
     "execution_count": 28,
     "metadata": {},
     "output_type": "execute_result"
    },
    {
     "data": {
      "image/png": "[encoded data removed]",
      "text/plain": [
       "<Figure size 600x300 with 2 Axes>"
      ]
     },
     "metadata": {},
     "output_type": "display_data"
    }
   ],
   "source": [
    "q1, q2 = 9, 10\n",
    "ls = np.linspace(0.0, 0.9, 19)\n",
    "pis = [0.05, 0.1, 0.2, 0.3, 0.4, 0.5]\n",
    "pis = [0.1, 0.2]\n",
    "pis_colors = plt.cm.gnuplot(np.linspace(0.05, 0.95, len(pis)))\n",
    "\n",
    "fig, ax = plt.subplots(1,2, figsize=(6,3), constrained_layout=True)\n",
    "ax[0].set(xlabel='$\\lambda$', ylabel='autoval f1')\n",
    "ax[1].set(xlabel='$\\lambda$', ylabel='autoval f2')\n",
    "for p,c in zip(pis, pis_colors):\n",
    "    avals_f1, avals_f2 = [], []\n",
    "    for l in ls:\n",
    "        if l == 0.0:\n",
    "            mat = get_matrix_sol_spec(p, p, q1, q2, l, 1/(1+p*q1+p*q2))\n",
    "        else:\n",
    "            mat = get_matrix(p, p, q1, q2, l, sol_index=1)\n",
    "        eigs = np.linalg.eig(mat)[0]\n",
    "        # avals_f1.append(1/abs(eigs[0]))\n",
    "        # avals_f2.append(1/abs(eigs[1]))\n",
    "        avals_f1.append(eigs[0])\n",
    "        avals_f2.append(eigs[1])\n",
    "    ax[0].plot(ls, avals_f1, label=f'{p}', lw=0.8, color=c)\n",
    "    ax[1].plot(ls, avals_f2, lw=0.8, color=c)\n",
    "\n",
    "fig.legend(title='$\\pi$')"
   ]
  },
  {
   "cell_type": "code",
   "execution_count": 24,
   "metadata": {},
   "outputs": [
    {
     "name": "stdout",
     "output_type": "stream",
     "text": [
      "[-0.01218212 -0.74909617]\n"
     ]
    }
   ],
   "source": [
    "pi1, pi2, q1, q2, l = 0.1, 0.1, 9, 10, 0.8\n",
    "a = get_matrix(pi1, pi2, q1, q2, l, sol_index=1)\n",
    "print(np.linalg.eig(a)[0])\n",
    "eigs = np.linalg.eig(a)[0]"
   ]
  },
  {
   "cell_type": "code",
   "execution_count": 22,
   "metadata": {},
   "outputs": [
    {
     "data": {
      "text/plain": [
       "-3.187915980437617"
      ]
     },
     "execution_count": 22,
     "metadata": {},
     "output_type": "execute_result"
    }
   ],
   "source": [
    "1/eigs[0]"
   ]
  },
  {
   "cell_type": "code",
   "execution_count": null,
   "metadata": {},
   "outputs": [],
   "source": []
  }
 ],
 "metadata": {
  "kernelspec": {
   "display_name": "Python 3",
   "language": "python",
   "name": "python3"
  },
  "language_info": {
   "codemirror_mode": {
    "name": "ipython",
    "version": 3
   },
   "file_extension": ".py",
   "mimetype": "text/x-python",
   "name": "python",
   "nbconvert_exporter": "python",
   "pygments_lexer": "ipython3",
   "version": "3.11.3"
  },
  "orig_nbformat": 4
 },
 "nbformat": 4,
 "nbformat_minor": 2
}
