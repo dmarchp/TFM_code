{
 "cells": [
  {
   "cell_type": "code",
   "execution_count": 2,
   "metadata": {},
   "outputs": [],
   "source": [
    "import numpy as np\n",
    "from subprocess import call\n"
   ]
  },
  {
   "cell_type": "code",
   "execution_count": 24,
   "metadata": {},
   "outputs": [],
   "source": [
    "def get_matrix(pi1, pi2, q1, q2, l, sol_index=1):\n",
    "    '''\n",
    "    sol_index=1: the program that finds the solution always gets the good one on the second row of the file (when verbosity -v)\n",
    "    '''\n",
    "    r1, r2 = 1/q1, 1/q2\n",
    "    # first get the stationary f0:\n",
    "    call(f'python f0poly_sols_clean.py {pi1} {pi2} {q1} {q2} {l} -v > sols.dat', shell=True)\n",
    "    sols = []\n",
    "    with open('sols.dat', 'r') as file:\n",
    "        for line in file.readlines():\n",
    "            sols_i = [float(f) for f in line.split()]\n",
    "            sols.append(sols_i)\n",
    "    f0 = sols[sol_index][0]\n",
    "    a11 = l*f0-r1-(1-l)*pi1*(1+l/(r1/f0-l))\n",
    "    a12 = -pi1*(1-l)*(1+l/(r1/f0-l))\n",
    "    a21 = -pi2*(1-l)*(1+l/(r2/f0-l))\n",
    "    a22 = l*f0-r2-(1-l)*pi2*(1+l/(r2/f0-l))\n",
    "    a = np.array([[a11,a12], [a21, a22]])\n",
    "    return a\n"
   ]
  },
  {
   "cell_type": "code",
   "execution_count": 46,
   "metadata": {},
   "outputs": [
    {
     "name": "stdout",
     "output_type": "stream",
     "text": [
      "[0.53376669 0.5750278 ]\n"
     ]
    }
   ],
   "source": [
    "pi1, pi2, q1, q2, l = 0.2, 0.1, 7, 10, 0.45\n",
    "a = get_matrix(pi1, pi2, q1, q2, l, sol_index=0)\n",
    "print(np.linalg.eig(a)[0])"
   ]
  },
  {
   "cell_type": "code",
   "execution_count": 42,
   "metadata": {},
   "outputs": [
    {
     "data": {
      "text/plain": [
       "(array([-0.83054487,  0.04198367]),\n",
       " array([[-0.99656366,  0.68900161],\n",
       "        [ 0.08283037, -0.72475981]]))"
      ]
     },
     "execution_count": 42,
     "metadata": {},
     "output_type": "execute_result"
    }
   ],
   "source": [
    "np.linalg.eig(a)"
   ]
  },
  {
   "cell_type": "code",
   "execution_count": 41,
   "metadata": {},
   "outputs": [
    {
     "data": {
      "text/plain": [
       "array([-0.99656366,  0.08283037])"
      ]
     },
     "execution_count": 41,
     "metadata": {},
     "output_type": "execute_result"
    }
   ],
   "source": [
    "np.linalg.eig(a)[1][:,0]"
   ]
  },
  {
   "cell_type": "code",
   "execution_count": null,
   "metadata": {},
   "outputs": [],
   "source": []
  }
 ],
 "metadata": {
  "kernelspec": {
   "display_name": "Python 3",
   "language": "python",
   "name": "python3"
  },
  "language_info": {
   "codemirror_mode": {
    "name": "ipython",
    "version": 3
   },
   "file_extension": ".py",
   "mimetype": "text/x-python",
   "name": "python",
   "nbconvert_exporter": "python",
   "pygments_lexer": "ipython3",
   "version": "3.11.3"
  },
  "orig_nbformat": 4
 },
 "nbformat": 4,
 "nbformat_minor": 2
}
