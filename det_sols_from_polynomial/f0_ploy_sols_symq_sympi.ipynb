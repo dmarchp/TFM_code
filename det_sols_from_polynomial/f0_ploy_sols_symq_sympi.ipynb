{
 "cells": [
  {
   "cell_type": "code",
   "execution_count": 1,
   "metadata": {},
   "outputs": [],
   "source": [
    "import numpy as np"
   ]
  },
  {
   "cell_type": "code",
   "execution_count": 20,
   "metadata": {},
   "outputs": [
    {
     "name": "stdout",
     "output_type": "stream",
     "text": [
      "0.999620288471226\n",
      "2.000759711528774\n"
     ]
    }
   ],
   "source": [
    "pi = 0.00001\n",
    "q = 10\n",
    "r = 1/q\n",
    "l = 0.05\n",
    "\n",
    "# coefs second degree polynomial: ax**2 + bx + c = 0\n",
    "a = -l\n",
    "b = 2*pi*(1-l)+l+r\n",
    "c = -r\n",
    "\n",
    "# folution to f0:\n",
    "root = np.sqrt(b**2-4*l*r)\n",
    "f0_1 = (-b+root)/(2*a)\n",
    "f0_2= (-b-root)/(2*a)\n",
    "print(f0_1)\n",
    "print(f0_2)"
   ]
  },
  {
   "cell_type": "code",
   "execution_count": null,
   "metadata": {},
   "outputs": [],
   "source": []
  }
 ],
 "metadata": {
  "kernelspec": {
   "display_name": "Python 3",
   "language": "python",
   "name": "python3"
  },
  "language_info": {
   "codemirror_mode": {
    "name": "ipython",
    "version": 3
   },
   "file_extension": ".py",
   "mimetype": "text/x-python",
   "name": "python",
   "nbconvert_exporter": "python",
   "pygments_lexer": "ipython3",
   "version": "3.11.3"
  }
 },
 "nbformat": 4,
 "nbformat_minor": 2
}
