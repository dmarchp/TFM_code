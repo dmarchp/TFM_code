{
 "cells": [
  {
   "cell_type": "code",
   "execution_count": 53,
   "metadata": {},
   "outputs": [],
   "source": [
    "import numpy as np\n",
    "import matplotlib.pyplot as plt\n",
    "from scipy.integrate import solve_ivp\n",
    "from scipy.linalg import inv\n",
    "from subprocess import call\n",
    "import sys\n",
    "sys.path.append('../')\n",
    "from package_global_functions import *\n",
    "\n",
    "extSSDpath = getExternalSSDpath()\n",
    "if os.path.exists(extSSDpath):\n",
    "    pathStatData = extSSDpath + getProjectFoldername() + '/stationary_distributions/data'\n",
    "    if not os.path.exists(pathStatData):\n",
    "        print('No SSD!!!!')"
   ]
  },
  {
   "cell_type": "code",
   "execution_count": 47,
   "metadata": {},
   "outputs": [],
   "source": [
    "def gaussian(x,mean,var):\n",
    "    return 1/(np.sqrt(2*np.pi*var)) * np.exp(-(x-mean)**2 / (2*var))\n",
    "\n",
    "def jacobian(pis,qs,l,fsSol):\n",
    "    k = len(pis)\n",
    "    jac = np.empty([k,k])\n",
    "    for i in range(k):\n",
    "        for j in range(k):\n",
    "            jac[i,j] = -((1-l)*pis[i]+l*fsSol[i+1])\n",
    "            if i == j:\n",
    "                jac[i,j] += (l*fsSol[0] - 1/qs[i])\n",
    "    return jac\n",
    "\n",
    "def GammaDiag(pis,qs,l,fsSol):\n",
    "    k = len(pis)\n",
    "    Gamma = np.empty(k)\n",
    "    for i in range(k):\n",
    "        Gamma[i] = fsSol[0]*((1-l)*pis[0] + l*fsSol[i]) + fsSol[i]/qs[i]\n",
    "    return Gamma\n",
    "\n",
    "def LambdaMat_eqs_keq2(t, Lambda, jac, Gamma):\n",
    "    dLambdadt = []\n",
    "    # Lambda_11\n",
    "    L11 = 2*jac[0,0]*Lambda[0] + 2*jac[0,1]*Lambda[1] + Gamma[0]\n",
    "    # Lambda_12 (=Lambda_21)\n",
    "    L12 = jac[1,0]*Lambda[0] + (jac[0,0] + jac[1,1])*Lambda[1] + jac[0,1]*Lambda[2]\n",
    "    # Lambda_22\n",
    "    L22 = 2*jac[1,0]*Lambda[1] + 2*jac[1,1]*Lambda[2] + Gamma[1]\n",
    "    dLambdadt = [L11, L12, L22]\n",
    "    return dLambdadt"
   ]
  },
  {
   "cell_type": "code",
   "execution_count": 195,
   "metadata": {},
   "outputs": [],
   "source": [
    "pis, qs, l = [0.1, 0.1], [9.0, 10.0], 0.7\n",
    "N = 50\n",
    "\n",
    "call(f'python3 f0poly_sols_clean.py {pis[0]} {pis[1]} {qs[0]} {qs[1]} {l} > sols.dat', shell=True)\n",
    "with open('sols.dat', 'r') as file:\n",
    "    fsSol = [float(f) for f in file.readline().split()]\n",
    "jac = jacobian(pis, qs, l, fsSol)\n",
    "Gamma = GammaDiag(pis, qs, l, fsSol)\n",
    "\n",
    "Lambda0 = [0.33, 0.33, 0.33] # no se...\n",
    "Lambda_int = solve_ivp(LambdaMat_eqs_keq2, [0,1000], Lambda0, args = (jac, Gamma))\n",
    "Lambda_fxp = [Lambda_int.y[i,-1] for i in range(len(Lambda_int.y[:,-1]))]"
   ]
  },
  {
   "cell_type": "code",
   "execution_count": null,
   "metadata": {},
   "outputs": [],
   "source": [
    "#check stat point has been reached\n",
    "fig, ax = plt.subplots()\n",
    "for i in range(3):\n",
    "    ax.plot(Lambda_int.t, Lambda_int.y[i])"
   ]
  },
  {
   "cell_type": "code",
   "execution_count": 52,
   "metadata": {},
   "outputs": [
    {
     "data": {
      "image/png": "[encoded data removed]",
      "text/plain": [
       "<Figure size 640x480 with 1 Axes>"
      ]
     },
     "metadata": {},
     "output_type": "display_data"
    }
   ],
   "source": [
    "fig, ax = plt.subplots()\n",
    "\n",
    "N = 50\n",
    "bins_N = {2500:20, 1000:15, 500:15, 250:16, 100:18, 50:27}\n",
    "plotSimData = True\n",
    "if plotSimData:\n",
    "    data = pd.read_csv(f'{pathStatData}/stat_data_N_{N}_pi1_{pis[0]}_pi2_{pis[1]}_q1_{qs[0]}_q2_{qs[1]}_l_{l}.csv')\n",
    "    ax.hist(data['f1'], bins=bins_N[N]-1, density=True, rwidth=1.0, color='xkcd:green', histtype='stepfilled', alpha=0.5)\n",
    "    ax.hist(data['f2'], bins=bins_N[N], density=True, rwidth=1.0, color='xkcd:blue', histtype='stepfilled', alpha=0.5, label=f'{N}')\n",
    "\n",
    "plotVKaprox = True\n",
    "if plotVKaprox:\n",
    "    x = np.linspace(0,1,100)\n",
    "    distr_site1 = gaussian(x, fsSol[1], Lambda_fxp[0]/N)\n",
    "    distr_site2 = gaussian(x, fsSol[2], Lambda_fxp[2]/N)\n",
    "    ax.plot(x, distr_site1)\n",
    "    ax.plot(x, distr_site2)"
   ]
  },
  {
   "cell_type": "code",
   "execution_count": 196,
   "metadata": {},
   "outputs": [],
   "source": [
    "LambdaMat = np.array([[Lambda_fxp[0], Lambda_fxp[1]], [Lambda_fxp[1], Lambda_fxp[2]]])\n",
    "LambdaMat = LambdaMat /N # no seeeee\n",
    "LambdaMat_inv = inv(LambdaMat)"
   ]
  },
  {
   "cell_type": "code",
   "execution_count": 198,
   "metadata": {},
   "outputs": [
    {
     "name": "stdout",
     "output_type": "stream",
     "text": [
      "still problems\n",
      "[6.69, 11.52, 31.79]\n",
      "[6, 11, 32]\n"
     ]
    }
   ],
   "source": [
    "# get who has the larger integer part:\n",
    "maxIntPart, id = round(fsSol[0]*N,2)-int(fsSol[0]*N), 0\n",
    "for i in range(1,3):\n",
    "    intPart = round(fsSol[i]*N,2)-int(fsSol[i]*N)\n",
    "    if intPart > maxIntPart:\n",
    "        maxIntPart = intPart\n",
    "        id = i\n",
    "\n",
    "fsSolN_dec = [round(f*N,2) for f in fsSol]\n",
    "fsSolN = [int(f*N) for f in fsSol]\n",
    "if sum(fsSolN) < N:\n",
    "    fsSolN[id] += 1\n",
    "\n",
    "if sum(fsSolN) != N:\n",
    "    print('still problems')\n",
    "print(fsSolN_dec)\n",
    "print(fsSolN)\n",
    "\n",
    "# fsSolN = [round(fsSol[i]*N) for i in range(len(fsSol))]\n",
    "# if sum(fsSolN) != N:\n",
    "#     print('still problems')"
   ]
  },
  {
   "cell_type": "code",
   "execution_count": 199,
   "metadata": {},
   "outputs": [],
   "source": [
    "fsSolN[2] += 1"
   ]
  },
  {
   "cell_type": "code",
   "execution_count": 200,
   "metadata": {},
   "outputs": [],
   "source": [
    "# xiNmax = int(N*0.2)\n",
    "xiNmax = N-max(fsSolN)\n",
    "\n",
    "# old simple\n",
    "# xgrid, ygrid = np.mgrid[-xiNmax:xiNmax:complex(0,xiNmax*2+1), -xiNmax:xiNmax:complex(0,xiNmax*2+1)]\n",
    "# probGrid = np.zeros([2*xiNmax+1, 2*xiNmax+1])\n",
    "# for i,x in enumerate(xgrid[:,0]):\n",
    "#     for j,y in enumerate(ygrid[0,:]):\n",
    "#         xivec = [x/N, y/N]\n",
    "#         sumExp = 0\n",
    "#         for alpha in range(2):\n",
    "#             for beta in range(2):\n",
    "#                 sumExp += xivec[alpha]*xivec[beta]*LambdaMat_inv[alpha, beta]\n",
    "#         probGrid[i,j] = np.exp(-0.5*sumExp)\n",
    "\n",
    "ax, bx = -fsSolN[1], N-fsSolN[1]\n",
    "Nx = (bx-ax)+1\n",
    "ay, by = -fsSolN[2], N-fsSolN[2]\n",
    "Ny = (by-ay)+1\n",
    "\n",
    "xgrid, ygrid = np.mgrid[ax:bx:complex(0,Nx), ay:by:complex(0,Ny)]\n",
    "probGrid = np.zeros([Nx, Ny])\n",
    "sum1win, sum2win = 0, 0\n",
    "for i,x in enumerate(xgrid[:,0]):\n",
    "    for j,y in enumerate(ygrid[0,:]):\n",
    "        # fsFluc = [0, fsSolN[1]+x, fsSolN[2]+y]\n",
    "        fsFluc = [fsSolN[1]+x, fsSolN[2]+y]\n",
    "        # print(fsFluc, sum(fsFluc) <= N)\n",
    "        if sum(fsFluc) <= N:\n",
    "            xivec = [x/N, y/N]\n",
    "            sumExp = 0\n",
    "            for alpha in range(2):\n",
    "                for beta in range(2):\n",
    "                    sumExp += xivec[alpha]*xivec[beta]*LambdaMat_inv[alpha, beta]\n",
    "            probGrid[i,j] = np.exp(-0.5*sumExp)\n",
    "            if fsFluc[0] > fsFluc[1]:\n",
    "                sum1win += probGrid[i,j]\n",
    "            else:\n",
    "                sum2win += probGrid[i,j]\n",
    "        else:\n",
    "            probGrid[i,j] = float('nan')"
   ]
  },
  {
   "cell_type": "code",
   "execution_count": 201,
   "metadata": {},
   "outputs": [
    {
     "data": {
      "image/png": "[encoded data removed]",
      "text/plain": [
       "<Figure size 640x480 with 2 Axes>"
      ]
     },
     "metadata": {},
     "output_type": "display_data"
    }
   ],
   "source": [
    "fig, ax = plt.subplots()\n",
    "ax.set(xlabel=r'$\\xi_1$', ylabel=r'$\\xi_2$')\n",
    "im = ax.pcolormesh(xgrid, ygrid, probGrid, cmap='viridis', shading='nearest') # norm = LogNorm(vmin=vmin, vmax=vmax)\n",
    "cb = fig.colorbar(im, ax=ax, aspect=25, shrink=0.75, pad=0.025)"
   ]
  },
  {
   "cell_type": "code",
   "execution_count": 202,
   "metadata": {},
   "outputs": [
    {
     "name": "stdout",
     "output_type": "stream",
     "text": [
      "0.029715026697834965 0.9702849733021646\n"
     ]
    }
   ],
   "source": [
    "norm = np.sum(probGrid[~np.isnan(probGrid)])\n",
    "prob1win = sum1win/norm\n",
    "prob2win = sum2win/norm\n",
    "print(prob1win, prob2win)"
   ]
  },
  {
   "cell_type": "code",
   "execution_count": null,
   "metadata": {},
   "outputs": [],
   "source": []
  }
 ],
 "metadata": {
  "kernelspec": {
   "display_name": "base",
   "language": "python",
   "name": "python3"
  },
  "language_info": {
   "codemirror_mode": {
    "name": "ipython",
    "version": 3
   },
   "file_extension": ".py",
   "mimetype": "text/x-python",
   "name": "python",
   "nbconvert_exporter": "python",
   "pygments_lexer": "ipython3",
   "version": "3.10.13"
  }
 },
 "nbformat": 4,
 "nbformat_minor": 2
}
