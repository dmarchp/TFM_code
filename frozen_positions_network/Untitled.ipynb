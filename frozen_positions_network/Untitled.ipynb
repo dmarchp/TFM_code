{
 "cells": [
  {
   "cell_type": "code",
   "execution_count": 16,
   "id": "c0a01fe9-2f4c-4522-83af-36a963b69e62",
   "metadata": {},
   "outputs": [],
   "source": [
    "import pandas as pd\n",
    "import numpy as np"
   ]
  },
  {
   "cell_type": "code",
   "execution_count": 28,
   "id": "b8c58855-91f9-4eda-8c98-0534f430c3d7",
   "metadata": {},
   "outputs": [
    {
     "name": "stdout",
     "output_type": "stream",
     "text": [
      "4.266645826820882\n"
     ]
    }
   ],
   "source": [
    "df = pd.read_parquet('/media/david/KINGSTON/quenched_configs/20_bots/raw_data/comSizesWoGc_N_20_ar_20.0_er_1.5_ir_9.0_nopush.parquet')\n",
    "df['comSizes_sq'] = df['comSizes']**2\n",
    "print(sum(df['comSizes_sq'])/sum(df['comSizes']))"
   ]
  },
  {
   "cell_type": "code",
   "execution_count": 23,
   "id": "95423424-21a5-4ff0-9298-bedec6a75dea",
   "metadata": {},
   "outputs": [
    {
     "data": {
      "text/plain": [
       "[0, 1, 2, 3, 4, 5, 6, 7, 8, 9]"
      ]
     },
     "execution_count": 23,
     "metadata": {},
     "output_type": "execute_result"
    }
   ],
   "source": [
    "sorted(pd.unique(df['comSizes']))"
   ]
  },
  {
   "cell_type": "code",
   "execution_count": 24,
   "id": "bf5bf4dd-929d-4c4e-9a70-3b56c1fab0b4",
   "metadata": {},
   "outputs": [],
   "source": [
    "df = pd.read_parquet('/media/david/KINGSTON/quenched_configs/20_bots/raw_data/comSizesWoGc_N_20_ar_20.0_er_1.5_ir_9.1_nopush.parquet')"
   ]
  },
  {
   "cell_type": "code",
   "execution_count": 25,
   "id": "83c108df-db41-4b0a-9c94-83993dbfa33c",
   "metadata": {},
   "outputs": [
    {
     "data": {
      "text/plain": [
       "[0, 1, 2, 3, 4, 5, 6, 7, 8, 9]"
      ]
     },
     "execution_count": 25,
     "metadata": {},
     "output_type": "execute_result"
    }
   ],
   "source": [
    "sorted(pd.unique(df['comSizes']))"
   ]
  },
  {
   "cell_type": "code",
   "execution_count": 31,
   "id": "1c3adda5-813e-4816-8d2a-91fa2a706b49",
   "metadata": {},
   "outputs": [
    {
     "data": {
      "text/plain": [
       "6.952826382185121"
      ]
     },
     "execution_count": 31,
     "metadata": {},
     "output_type": "execute_result"
    }
   ],
   "source": [
    "103.67*35**(-0.76)"
   ]
  },
  {
   "cell_type": "code",
   "execution_count": null,
   "id": "0e50428b-cc6d-4aca-88fa-db6c68a614d6",
   "metadata": {},
   "outputs": [],
   "source": []
  }
 ],
 "metadata": {
  "kernelspec": {
   "display_name": "Python 3 (ipykernel)",
   "language": "python",
   "name": "python3"
  },
  "language_info": {
   "codemirror_mode": {
    "name": "ipython",
    "version": 3
   },
   "file_extension": ".py",
   "mimetype": "text/x-python",
   "name": "python",
   "nbconvert_exporter": "python",
   "pygments_lexer": "ipython3",
   "version": "3.9.16"
  }
 },
 "nbformat": 4,
 "nbformat_minor": 5
}
