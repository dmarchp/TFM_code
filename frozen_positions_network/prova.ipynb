{
 "cells": [
  {
   "cell_type": "code",
   "execution_count": 6,
   "metadata": {},
   "outputs": [],
   "source": [
    "def func_iter(list1,list2,aaa):\n",
    "    if isinstance(aaa, list):\n",
    "        zipper = zip(list1, list2, aaa)\n",
    "    else:\n",
    "        zipper = zip(list1, list2)\n",
    "    for z in zipper:\n",
    "        if isinstance(aaa, list):\n",
    "            l1, l2, a = z\n",
    "        else:\n",
    "            l1, l2 = z\n",
    "            a = aaa\n",
    "        print(l1, l2, a)\n",
    "        \n",
    "\n",
    "def func_iter2(list1, list2, aaa):\n",
    "    check_list = isinstance(aaa, list)\n",
    "    zipper = zip(list1, list2, aaa) if isinstance(aaa, list) else zip(list1, list2)\n",
    "    for z in zipper:\n",
    "        (l1, l2, a) = z if check_list else (l1, l2) = zs\n"
   ]
  },
  {
   "cell_type": "code",
   "execution_count": 4,
   "metadata": {},
   "outputs": [
    {
     "name": "stdout",
     "output_type": "stream",
     "text": [
      "1 a hola\n",
      "2 b hola\n",
      "3 c hola\n"
     ]
    }
   ],
   "source": [
    "func_iter([1,2,3], ['a', 'b', 'c'], 'hola')"
   ]
  },
  {
   "cell_type": "code",
   "execution_count": 5,
   "metadata": {},
   "outputs": [
    {
     "name": "stdout",
     "output_type": "stream",
     "text": [
      "1 a hola\n",
      "2 b holaa\n",
      "3 c holaaaa\n"
     ]
    }
   ],
   "source": [
    "func_iter([1,2,3], ['a', 'b', 'c'], ['hola', 'holaa', 'holaaaa'])"
   ]
  },
  {
   "cell_type": "code",
   "execution_count": 7,
   "metadata": {},
   "outputs": [
    {
     "name": "stdout",
     "output_type": "stream",
     "text": [
      "si\n"
     ]
    }
   ],
   "source": [
    "func_iter2([1,2,3], ['a', 'b', 'c'], ['hola', 'holaa', 'holaaaa'])"
   ]
  },
  {
   "cell_type": "code",
   "execution_count": null,
   "metadata": {},
   "outputs": [],
   "source": []
  }
 ],
 "metadata": {
  "kernelspec": {
   "display_name": "Python 3",
   "language": "python",
   "name": "python3"
  },
  "language_info": {
   "codemirror_mode": {
    "name": "ipython",
    "version": 3
   },
   "file_extension": ".py",
   "mimetype": "text/x-python",
   "name": "python",
   "nbconvert_exporter": "python",
   "pygments_lexer": "ipython3",
   "version": "3.11.3"
  },
  "orig_nbformat": 4
 },
 "nbformat": 4,
 "nbformat_minor": 2
}
