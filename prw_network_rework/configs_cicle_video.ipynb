{
 "cells": [
  {
   "cell_type": "code",
   "execution_count": 1,
   "metadata": {},
   "outputs": [],
   "source": [
    "import pandas as pd\n",
    "import numpy as np\n",
    "import igraph as ig\n",
    "import matplotlib.pyplot as plt\n",
    "from subprocess import call\n",
    "import sys\n",
    "sys.path.append('../')\n",
    "from package_global_functions import *\n",
    "from filesHandling_kilombo import *\n",
    "\n",
    "latexFont(ticklabelssize=12,labelsize=14) # ticklabelssize=10, labelsize=12, legendsize=8"
   ]
  },
  {
   "cell_type": "code",
   "execution_count": 21,
   "metadata": {},
   "outputs": [],
   "source": [
    "def dist2D(pos0, pos1):\n",
    "    return np.sqrt((pos0[0]-pos1[0])**2+(pos0[1]-pos1[1])**2)\n",
    "\n",
    "def getDistances(positions, i, cicle, interac_r):\n",
    "    dists = []\n",
    "    for k,pos0 in enumerate(positions[:-1]):\n",
    "        for pos1 in positions[k+1:]:\n",
    "            dists.append(dist2D(pos0, pos1))\n",
    "    dists = np.array(dists)\n",
    "    dists = dists[dists < 40.0]\n",
    "    figD, axD = plt.subplots()\n",
    "    axD.hist(dists)\n",
    "    axD.axvline(interac_r, ls='--', color='k')\n",
    "    figD.tight_layout()\n",
    "    figD.savefig(f'histoDists_config_{str(i).zfill(3)}_cicle_{cicle}.png')\n",
    "    dists = dists[dists <= interac_r]\n",
    "    print(f'{len(dists)} distances smaller thant interac_r')"
   ]
  },
  {
   "cell_type": "code",
   "execution_count": 20,
   "metadata": {},
   "outputs": [
    {
     "name": "stdout",
     "output_type": "stream",
     "text": [
      "[153 154 155 156 157 158 159 160 161 162 163 164 165 166 167 168]\n"
     ]
    }
   ],
   "source": [
    "arena_r = 185.0\n",
    "exclusion_r = 15.0\n",
    "interac_r = 55.0\n",
    "cicle = 10\n",
    "loops = 800\n",
    "\n",
    "N = 25\n",
    "jumpTrajConfigs = 5\n",
    "\n",
    "# parquet files:\n",
    "filenameConfig = getConfigsPath() + '/' + getFilenameRoot(N, arena_r/10) + getFilenameNumber(1) + getFilesExtension()\n",
    "filenameContact = getConfigsPath() + '/contacts/' + getFilenameRoot(N, arena_r/10) + getFilenameNumber(1) + getFilenameContactSufix(loops, interac_r/10)\n",
    "dfconfigs = pd.read_parquet(filenameConfig)\n",
    "dfcontacts = pd.read_parquet(filenameContact)\n",
    "\n",
    "ids = pd.unique(dfconfigs['ID'])\n",
    "Nbots = len(ids) # should be == N\n",
    "dfcicle0 = dfcontacts.loc[dfcontacts['cicleID']==cicle]\n",
    "configs0 = pd.unique(dfcicle0['configID'])\n",
    "print(configs0)"
   ]
  },
  {
   "cell_type": "code",
   "execution_count": 8,
   "metadata": {},
   "outputs": [
    {
     "name": "stderr",
     "output_type": "stream",
     "text": [
      "rm: figures_for_video/*.pdf: No such file or directory\n"
     ]
    }
   ],
   "source": [
    "# format = 'pdf'\n",
    "format = 'png'\n",
    "call('mkdir -p figures_for_video', shell=True)\n",
    "call(f'rm figures_for_video/*.png', shell=True)\n",
    "call(f'rm figures_for_video/*.pdf', shell=True)\n",
    "for i in configs0:\n",
    "    df_single_config_contacts = dfcicle0.loc[dfcicle0['configID']==i].copy(deep=True)\n",
    "    df_single_config_contacts.drop(labels=['cicleID', 'configID'], axis='columns', inplace=True)\n",
    "    g = ig.Graph.DataFrame(df_single_config_contacts, directed=False)\n",
    "    imod = i*jumpTrajConfigs\n",
    "    df_single_config = dfconfigs.loc[(imod*Nbots):(imod*Nbots+Nbots-1)]\n",
    "    if len(g.vs) < Nbots:\n",
    "        lacking_bots = [k for k in range(len(g.vs),Nbots)]\n",
    "        for k in lacking_bots:\n",
    "            g.add_vertex() # name=v not necessary as the others don't have name anyway\n",
    "    true_layout = []\n",
    "    for j in range(Nbots):\n",
    "        x, y = float(df_single_config.loc[df_single_config['ID']==j]['x_position'].iloc[0]), float(df_single_config.loc[df_single_config['ID']==j]['y_position'].iloc[0])\n",
    "        true_layout.append([x,y])\n",
    "    # getDistances(true_layout, i, cicle, interac_r)\n",
    "    true_layout = ig.Layout(true_layout)\n",
    "    fig, ax = plt.subplots(figsize=(5,5), constrained_layout=True)\n",
    "    plt.axis('off')\n",
    "    ig.plot(\n",
    "        g, target=ax, layout=true_layout, vertex_size = 0.0, vertex_color = 'white', vertex_label=[j for j in range(Nbots)],\n",
    "        vertex_frame_width = 0.0, vertex_frame_color = 'white', edge_width=2.0, edge_color='black'\n",
    "    )\n",
    "    circle = plt.Circle([0.0, 0.0], arena_r+exclusion_r, fill=False, edgecolor = 'k')\n",
    "    ax.add_patch(circle)\n",
    "    ax.set_xlim(-(arena_r+exclusion_r+1), arena_r+exclusion_r+1)\n",
    "    ax.set_ylim(-(arena_r+exclusion_r+1), arena_r+exclusion_r+1)\n",
    "    # fig.suptitle(f'config {i} in cycle {cicle}')\n",
    "    for j in range(Nbots):\n",
    "        coords = true_layout[j]\n",
    "        circle = plt.Circle(tuple(coords), exclusion_r, color='xkcd:purple', alpha=0.5, clip_on = False)\n",
    "        ax.add_patch(circle)\n",
    "    # extra: show interaction radius for the ID 0 bot\n",
    "    id0pos = (float(df_single_config.query('ID == 0')['x_position'].iloc[0]), float(df_single_config.query('ID == 0')['y_position'].iloc[0]))\n",
    "    circle = plt.Circle(id0pos, interac_r, fill=False, edgecolor='xkcd:grey', ls='--')\n",
    "    ax.add_patch(circle)\n",
    "    fig.savefig(f'config_{str(i).zfill(3)}_cicle_{cicle}.{format}', dpi=300)\n",
    "    plt.close(fig)\n",
    "    call(f'mv config_{str(i).zfill(3)}_cicle_{cicle}.{format} figures_for_video/', shell=True)"
   ]
  },
  {
   "cell_type": "code",
   "execution_count": 14,
   "metadata": {},
   "outputs": [
    {
     "data": {
      "text/plain": [
       "array([0. , 0.2, 0.4, 0.6, 0.8])"
      ]
     },
     "execution_count": 14,
     "metadata": {},
     "output_type": "execute_result"
    }
   ],
   "source": [
    "np.arange(0,1,0.2)"
   ]
  },
  {
   "cell_type": "markdown",
   "metadata": {},
   "source": [
    "## more configs"
   ]
  },
  {
   "cell_type": "code",
   "execution_count": 25,
   "metadata": {},
   "outputs": [
    {
     "name": "stdout",
     "output_type": "stream",
     "text": [
      "[153.0, 153.2, 153.4, 153.6, 153.8, 154.0, 154.2, 154.4, 154.6, 154.8, 155.0, 155.2, 155.4, 155.6, 155.8, 156.0, 156.2, 156.4, 156.6, 156.8, 157.0, 157.2, 157.4, 157.6, 157.8, 158.0, 158.2, 158.4, 158.6, 158.8, 159.0, 159.2, 159.4, 159.6, 159.8, 160.0, 160.2, 160.4, 160.6, 160.8, 161.0, 161.2, 161.4, 161.6, 161.8, 162.0, 162.2, 162.4, 162.6, 162.8, 163.0, 163.2, 163.4, 163.6, 163.8, 164.0, 164.2, 164.4, 164.6, 164.8, 165.0, 165.2, 165.4, 165.6, 165.8, 166.0, 166.2, 166.4, 166.6, 166.8, 167.0, 167.2, 167.4, 167.6, 167.8, 168.0, 168.2, 168.4, 168.6, 168.8]\n"
     ]
    },
    {
     "name": "stderr",
     "output_type": "stream",
     "text": [
      "rm: figures_for_video/*.pdf: No such file or directory\n"
     ]
    }
   ],
   "source": [
    "jumpTrajConfigs = 5\n",
    "configs0_more = []\n",
    "configs0_more_aux = []\n",
    "for c in configs0:\n",
    "    configs0_more.extend(list(np.around(np.arange(c,c+1,0.2),1)))\n",
    "    configs0_more_aux.extend([c]*jumpTrajConfigs)\n",
    "print(configs0_more)\n",
    "# configs0_more = []\n",
    "jumpTrajConfigs_new = 1\n",
    "\n",
    "# format = 'pdf'\n",
    "format = 'png'\n",
    "call('mkdir -p figures_for_video', shell=True)\n",
    "call(f'rm figures_for_video/*.png', shell=True)\n",
    "call(f'rm figures_for_video/*.pdf', shell=True)\n",
    "for i,(c,caux) in enumerate(zip(configs0_more,configs0_more_aux)):\n",
    "    df_single_config_contacts = dfcicle0.loc[dfcicle0['configID']==caux].copy(deep=True)\n",
    "    df_single_config_contacts.drop(labels=['cicleID', 'configID'], axis='columns', inplace=True)\n",
    "    g = ig.Graph.DataFrame(df_single_config_contacts, directed=False)\n",
    "    imod = int(c*jumpTrajConfigs)\n",
    "    df_single_config = dfconfigs.loc[(imod*Nbots):(imod*Nbots+Nbots-1)]\n",
    "    if len(g.vs) < Nbots:\n",
    "        lacking_bots = [k for k in range(len(g.vs),Nbots)]\n",
    "        for k in lacking_bots:\n",
    "            g.add_vertex() # name=v not necessary as the others don't have name anyway\n",
    "    true_layout = []\n",
    "    for j in range(Nbots):\n",
    "        x, y = float(df_single_config.loc[df_single_config['ID']==j]['x_position'].iloc[0]), float(df_single_config.loc[df_single_config['ID']==j]['y_position'].iloc[0])\n",
    "        true_layout.append([x,y])\n",
    "    # getDistances(true_layout, i, cicle, interac_r)\n",
    "    true_layout = ig.Layout(true_layout)\n",
    "    fig, ax = plt.subplots(figsize=(5,5), constrained_layout=True)\n",
    "    plt.axis('off')\n",
    "    ig.plot(\n",
    "        g, target=ax, layout=true_layout, vertex_size = 0.0, vertex_color = 'white', vertex_label=[j for j in range(Nbots)],\n",
    "        vertex_frame_width = 0.0, vertex_frame_color = 'white', edge_width=2.0, edge_color='gray'\n",
    "    )\n",
    "    circle = plt.Circle([0.0, 0.0], arena_r+exclusion_r, fill=False, edgecolor = 'k')\n",
    "    ax.add_patch(circle)\n",
    "    ax.set_xlim(-(arena_r+exclusion_r+1), arena_r+exclusion_r+1)\n",
    "    ax.set_ylim(-(arena_r+exclusion_r+1), arena_r+exclusion_r+1)\n",
    "    # fig.suptitle(f'config {i} in cycle {cicle}')\n",
    "    for j in range(Nbots):\n",
    "        coords = true_layout[j]\n",
    "        circle = plt.Circle(tuple(coords), exclusion_r, color='xkcd:purple', alpha=0.5, clip_on = False)\n",
    "        ax.add_patch(circle)\n",
    "    # extra: show interaction radius for the ID 0 bot\n",
    "    id0pos = (float(df_single_config.query('ID == 0')['x_position'].iloc[0]), float(df_single_config.query('ID == 0')['y_position'].iloc[0]))\n",
    "    circle = plt.Circle(id0pos, interac_r, fill=False, edgecolor='xkcd:grey', ls='--')\n",
    "    ax.add_patch(circle)\n",
    "    fig.savefig(f'config_{str(i).zfill(3)}_cicle_{cicle}.{format}', dpi=300)\n",
    "    plt.close(fig)\n",
    "    call(f'mv config_{str(i).zfill(3)}_cicle_{cicle}.{format} figures_for_video/', shell=True)"
   ]
  },
  {
   "cell_type": "code",
   "execution_count": 26,
   "metadata": {},
   "outputs": [
    {
     "name": "stdout",
     "output_type": "stream",
     "text": [
      "Moviepy - Building video N_25_ir_5.5_cicle_10.mp4.\n",
      "Moviepy - Writing video N_25_ir_5.5_cicle_10.mp4\n",
      "\n"
     ]
    },
    {
     "name": "stderr",
     "output_type": "stream",
     "text": [
      "                                                            \r"
     ]
    },
    {
     "name": "stdout",
     "output_type": "stream",
     "text": [
      "Moviepy - Done !\n",
      "Moviepy - video ready N_25_ir_5.5_cicle_10.mp4\n"
     ]
    }
   ],
   "source": [
    "## VIDEO\n",
    "# many options to do so: https://stackoverflow.com/questions/44947505/how-to-make-a-movie-out-of-images-in-python\n",
    "import os\n",
    "import glob\n",
    "import moviepy.video.io.ImageSequenceClip\n",
    "from PIL import Image, ImageFile\n",
    "ImageFile.LOAD_TRUNCATED_IMAGES = True\n",
    "\n",
    "image_files = []\n",
    "path_to_images = 'figures_for_video'\n",
    "\n",
    "image_files = sorted(glob.glob(f'{path_to_images}/*.png'))\n",
    "\n",
    "fps = 10\n",
    "\n",
    "clip = moviepy.video.io.ImageSequenceClip.ImageSequenceClip(image_files, fps=fps)\n",
    "clip.write_videofile(f'N_{N}_ir_{interac_r/10}_cicle_{cicle}.mp4')"
   ]
  },
  {
   "cell_type": "code",
   "execution_count": 5,
   "metadata": {},
   "outputs": [],
   "source": [
    "# print the corresponding integrated config:\n",
    "filenameContactInt = getConfigsPath() + '/contacts/' + getFilenameRoot(N, arena_r/10) + getFilenameNumber(1) + getFilenameContactIntSufix(loops, interac_r/10)\n",
    "dfcontactsINT = pd.read_parquet(filenameContactInt)\n",
    "dfcontactsINTcicle0 = dfcontactsINT.loc[dfcontactsINT['cicleID']==cicle].copy(deep=True)\n",
    "dfcontactsINTcicle0.drop(labels='cicleID', axis='columns', inplace=True)\n",
    "# dfcontactsINTcicle0.sort_values(by=['contacts0', 'contacts1'], inplace=True)\n",
    "# dfcontactsINTcicle0.reset_index(drop=True, inplace=True)\n",
    "g = ig.Graph.DataFrame(dfcontactsINTcicle0, directed=False)\n",
    "if len(g.vs) < Nbots:\n",
    "    lacking_bots = [k for k in range(len(g.vs),Nbots)]\n",
    "    for k in lacking_bots:\n",
    "        g.add_vertex() # name=v not necessary as the others don't have name anyway\n",
    "fig, ax = plt.subplots(figsize=(5,5), constrained_layout=True)\n",
    "plt.axis('off')\n",
    "# use as layout the last positions in the cycle\n",
    "i = configs0[-1]\n",
    "imod = i*jumpTrajConfigs\n",
    "df_single_config = dfconfigs.loc[(imod*Nbots):(imod*Nbots+Nbots-1)]\n",
    "true_layout = []\n",
    "for j in range(N):\n",
    "    x, y = float(df_single_config.loc[df_single_config['ID']==j]['x_position'].iloc[0]), float(df_single_config.loc[df_single_config['ID']==j]['y_position'].iloc[0])\n",
    "    true_layout.append([x,y])\n",
    "true_layout = ig.Layout(true_layout)\n",
    "ig.plot(\n",
    "    g, target=ax, layout=true_layout, vertex_size = 0.0, vertex_color = 'white', vertex_label=[j for j in range(Nbots)], \n",
    "    vertex_frame_width = 0.0, vertex_frame_color = 'white', edge_width=2.0, edge_color='black'\n",
    ")\n",
    "circle = plt.Circle([0.0, 0.0], arena_r+exclusion_r, fill=False, edgecolor = 'k')\n",
    "ax.add_patch(circle)\n",
    "ax.set_xlim(-(arena_r+exclusion_r+1), arena_r+exclusion_r+1)\n",
    "ax.set_ylim(-(arena_r+exclusion_r+1), arena_r+exclusion_r+1)\n",
    "for j in range(N):\n",
    "    coords = true_layout[j]\n",
    "    circle = plt.Circle(tuple(coords), exclusion_r, color='xkcd:tan', alpha=0.5, clip_on = False)\n",
    "    ax.add_patch(circle)\n",
    "    # ax.text(coords[0], coords[1], f'{v}')\n",
    "fig.savefig(f'N_{N}_ir_{interac_r/10}_cicle_{cicle}_integrated_config.png', dpi=300)\n",
    "plt.close(fig)"
   ]
  },
  {
   "cell_type": "code",
   "execution_count": null,
   "metadata": {},
   "outputs": [],
   "source": []
  }
 ],
 "metadata": {
  "kernelspec": {
   "display_name": "Python 3",
   "language": "python",
   "name": "python3"
  },
  "language_info": {
   "codemirror_mode": {
    "name": "ipython",
    "version": 3
   },
   "file_extension": ".py",
   "mimetype": "text/x-python",
   "name": "python",
   "nbconvert_exporter": "python",
   "pygments_lexer": "ipython3",
   "version": "3.11.3"
  }
 },
 "nbformat": 4,
 "nbformat_minor": 2
}
