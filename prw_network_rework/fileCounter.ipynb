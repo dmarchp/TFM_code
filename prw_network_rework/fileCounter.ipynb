{
 "cells": [
  {
   "cell_type": "code",
   "execution_count": 1,
   "id": "8c109dae-261b-465b-8172-aec643e80cf4",
   "metadata": {},
   "outputs": [],
   "source": [
    "import pandas as pd\n",
    "from filesHandling_kilombo import *"
   ]
  },
  {
   "cell_type": "code",
   "execution_count": 18,
   "id": "97f87eee-dd27-4656-ac00-068791a3ce3e",
   "metadata": {},
   "outputs": [],
   "source": [
    "N = 35\n",
    "arena_r = 18.5\n",
    "interac_r = 4.0\n",
    "loops = 200"
   ]
  },
  {
   "cell_type": "code",
   "execution_count": 6,
   "id": "9cc083a4-f927-43b3-8325-3f8c07f7561d",
   "metadata": {},
   "outputs": [
    {
     "data": {
      "text/plain": [
       "25"
      ]
     },
     "execution_count": 6,
     "metadata": {},
     "output_type": "execute_result"
    }
   ],
   "source": [
    "countConfigs(N, arena_r)"
   ]
  },
  {
   "cell_type": "code",
   "execution_count": 19,
   "id": "4e58f238-4e77-410e-a5fc-acc302467f30",
   "metadata": {},
   "outputs": [
    {
     "data": {
      "text/plain": [
       "(20, 20)"
      ]
     },
     "execution_count": 19,
     "metadata": {},
     "output_type": "execute_result"
    }
   ],
   "source": [
    "countContacts(N, arena_r, interac_r, loops)"
   ]
  },
  {
   "cell_type": "code",
   "execution_count": 20,
   "id": "c8f78e64-03ec-430b-b581-01f5420e14c0",
   "metadata": {},
   "outputs": [
    {
     "name": "stdout",
     "output_type": "stream",
     "text": [
      "1651 413\n",
      "1651 413\n",
      "1651 413\n",
      "1651 413\n",
      "1651 413\n",
      "1651 413\n",
      "1651 413\n",
      "1651 413\n",
      "1651 413\n",
      "1651 413\n",
      "1651 413\n",
      "1651 413\n",
      "1651 413\n",
      "1651 413\n",
      "1651 413\n",
      "1651 413\n",
      "1651 413\n",
      "1651 413\n",
      "1651 413\n",
      "1651 413\n"
     ]
    }
   ],
   "source": [
    "countContactConfigs(N, arena_r, interac_r, loops)"
   ]
  },
  {
   "cell_type": "code",
   "execution_count": 21,
   "id": "d54452e5-d6d2-46de-aa23-408386b25a65",
   "metadata": {},
   "outputs": [
    {
     "data": {
      "text/plain": [
       "(8240,\n",
       " [412,\n",
       "  412,\n",
       "  412,\n",
       "  412,\n",
       "  412,\n",
       "  412,\n",
       "  412,\n",
       "  412,\n",
       "  412,\n",
       "  412,\n",
       "  412,\n",
       "  412,\n",
       "  412,\n",
       "  412,\n",
       "  412,\n",
       "  412,\n",
       "  412,\n",
       "  412,\n",
       "  412,\n",
       "  412])"
      ]
     },
     "execution_count": 21,
     "metadata": {},
     "output_type": "execute_result"
    }
   ],
   "source": [
    "countContactIntConfigs(N, arena_r, interac_r, loops)"
   ]
  },
  {
   "cell_type": "code",
   "execution_count": 47,
   "id": "cae6d0c3-4b2c-4288-b960-cebe082042e9",
   "metadata": {},
   "outputs": [],
   "source": [
    "irs = availableIrs(N, arena_r, loops)"
   ]
  },
  {
   "cell_type": "code",
   "execution_count": 48,
   "id": "3834610e-1262-4807-a8ef-df8d2c0432d5",
   "metadata": {},
   "outputs": [
    {
     "data": {
      "text/plain": [
       "[3.5, 3.75, 4.0, 4.25, 4.5, 5.0, 5.5, 6.0, 6.5, 7.0, 8.0, 9.0, 10.0]"
      ]
     },
     "execution_count": 48,
     "metadata": {},
     "output_type": "execute_result"
    }
   ],
   "source": [
    "irs"
   ]
  },
  {
   "cell_type": "code",
   "execution_count": 49,
   "id": "f12a7156-314d-4dfa-a59f-50520c64be47",
   "metadata": {},
   "outputs": [
    {
     "name": "stdout",
     "output_type": "stream",
     "text": [
      "3.5 [103, 103, 103, 103, 103, 103, 103, 103, 103, 103]\n",
      "3.75 [103, 103, 103, 103, 103, 103, 103, 103, 103, 103]\n",
      "4.0 [103, 103, 103, 103, 103, 103, 103, 103, 103, 103]\n",
      "4.25 [103, 103, 103, 103, 103, 103, 103, 103, 103, 103]\n",
      "4.5 [103, 103, 103, 103, 103, 103, 103, 103, 103, 103]\n",
      "5.0 [103, 103, 103, 103, 103, 103, 103, 103, 103, 103]\n",
      "5.5 [103, 103, 103, 103, 103, 103, 103, 103, 103, 103]\n",
      "6.0 [103, 103, 103, 103, 103, 103, 103, 103, 103, 103]\n",
      "6.5 [103, 103, 103, 103, 103, 103, 103, 103, 103, 103]\n",
      "7.0 [103, 103, 103, 103, 103, 103, 103, 103, 103, 103]\n",
      "8.0 [103, 103, 103, 103, 103, 103, 103, 103, 103, 103]\n",
      "9.0 [103, 103, 103, 103, 103, 103, 103, 103, 103, 103]\n",
      "10.0 [103, 103, 103, 103, 103, 103, 103, 103, 103, 103]\n"
     ]
    }
   ],
   "source": [
    "for ir in irs:\n",
    "    #print(ir)\n",
    "    c, lis = countContactIntConfigs(N, arena_r, ir, loops)\n",
    "    print(ir, lis)"
   ]
  },
  {
   "cell_type": "code",
   "execution_count": 47,
   "id": "14ce885c-1e76-4d94-8d3b-7d723543edab",
   "metadata": {},
   "outputs": [],
   "source": [
    "path = '/media/david/KINGSTON/kilombo_configs/contacts/'\n",
    "interac_r = 5.0\n",
    "#for i in range(2,5):\n",
    "#    index = str(i).zfill(3)\n",
    "#    df = pd.read_parquet(\n",
    "#        path + f'PRW_nBots_{N}_ar_{arena_r}_speed_9_speedVar_2_{index}_loops_{loops}_ir_{interac_r}_contacts_cicleINT.parquet')\n",
    "#    df = df.query('cicleID <= 205')\n",
    "#    df.to_parquet(path + f'PRW_nBots_{N}_ar_{arena_r}_speed_9_speedVar_2_{index}_loops_{loops}_ir_{interac_r}_contacts_cicleINT.parquet')"
   ]
  },
  {
   "cell_type": "code",
   "execution_count": 19,
   "id": "7efb0b96-714c-4a68-9507-900b291cf75a",
   "metadata": {},
   "outputs": [],
   "source": [
    "# provant el fitxer de community sizes:\n",
    "df = pd.read_parquet('/media/david/KINGSTON/kilombo_configs/raw_data/comSizesWoGc_N_492_ar_73.5_ir_3.4_loops_800.parquet')\n",
    "#df = pd.read_parquet('/media/david/KINGSTON/kilombo_configs/raw_data/comSizes_N_35_ar_18.5_ir_7.0_loops_800.parquet')"
   ]
  },
  {
   "cell_type": "code",
   "execution_count": 41,
   "id": "98556c63-13fe-4cdd-a110-5cff05c8e67f",
   "metadata": {},
   "outputs": [
    {
     "name": "stdout",
     "output_type": "stream",
     "text": [
      "6146\n"
     ]
    },
    {
     "data": {
      "text/plain": [
       "array([  8,   4,   3,  20,  24,   5,   2,  10,  31,   7,  14,  35,  11,\n",
       "        15,   6,  21,  17,   9,   1,  19,  34,  22,  13,  45,  28,  67,\n",
       "        25,  18,  16,  12, 150,  56,  96,  27,  90,  47,  30, 197, 109,\n",
       "        62,  32,  64,  46,  38,  50,  23, 143,  48,  29,  37,  92,  26,\n",
       "        44,  39,  40,  43,  74,  33,  57,  41, 120,  76, 170,  51,  36,\n",
       "        65,  68,  60,  49,  54, 101,  55,  79,  95])"
      ]
     },
     "execution_count": 41,
     "metadata": {},
     "output_type": "execute_result"
    }
   ],
   "source": [
    "df = pd.read_parquet('/media/david/KINGSTON/kilombo_configs/raw_data/comSizesWoGc_N_492_ar_73.5_ir_3.6_loops_800.parquet')\n",
    "print(len(df))\n",
    "pd.unique(df['comSizes'])"
   ]
  },
  {
   "cell_type": "code",
   "execution_count": 39,
   "id": "bb2da069-9ed1-484f-8634-03d03b1d710f",
   "metadata": {},
   "outputs": [
    {
     "data": {
      "text/plain": [
       "array([ 0,  1,  2,  3,  4,  5,  6,  7,  8,  9, 10, 11, 12, 13, 14, 15, 16,\n",
       "       17, 18, 19, 20, 21, 22, 23, 24, 25, 26, 27, 28, 29, 30, 31, 32, 33,\n",
       "       34], dtype=int16)"
      ]
     },
     "execution_count": 39,
     "metadata": {},
     "output_type": "execute_result"
    }
   ],
   "source": [
    "pd.unique(df.query('trajID == 4')['cicleID'])"
   ]
  },
  {
   "cell_type": "code",
   "execution_count": 27,
   "id": "5e62825c-bb5d-4d14-993d-dbfd03e83086",
   "metadata": {},
   "outputs": [
    {
     "name": "stdout",
     "output_type": "stream",
     "text": [
      "10800\n",
      "[  3   2   4   7   6   5   8  20  14  15  11  16  10  17   9   1 113  48\n",
      "  23  37  75  21  12  45  13  18  19  22  86  92  24  27  85  52  25  26\n",
      "  50  29  42 105  36  55  80  58  81  38  31  33  57  72  60  32  74  34\n",
      "  63  98  49  66  90  39  68  28  67  40  61  70  95  62  96  35  30  71\n",
      "  47  73  43  94  44  54  84  69 148 104  53  65  87  41  97  88  78 114\n",
      "  46  51  56  89  77 109  64]\n"
     ]
    }
   ],
   "source": [
    "df = pd.read_parquet('/media/david/KINGSTON/kilombo_configs/raw_data/comSizesWoGc_N_492_ar_73.5_ir_3.5_loops_800.parquet')\n",
    "print(len(df))\n",
    "print(pd.unique(df['comSizes']))"
   ]
  },
  {
   "cell_type": "code",
   "execution_count": 31,
   "id": "28c12766-6f45-4cb6-8e17-c06a129f2698",
   "metadata": {},
   "outputs": [
    {
     "name": "stdout",
     "output_type": "stream",
     "text": [
      "142\n"
     ]
    },
    {
     "data": {
      "text/plain": [
       "array([2, 3, 4, 5])"
      ]
     },
     "execution_count": 31,
     "metadata": {},
     "output_type": "execute_result"
    }
   ],
   "source": [
    "df = pd.read_parquet('/media/david/KINGSTON/kilombo_configs/raw_data/comSizes_of_Gc__N_492_ar_73.5_ir_3.4_loops_800.parquet')\n",
    "print(len(df))\n",
    "pd.unique(df['comSizes'])"
   ]
  },
  {
   "cell_type": "code",
   "execution_count": 18,
   "id": "73a021b9-51a4-4eb8-957c-bf1416d0cb09",
   "metadata": {},
   "outputs": [
    {
     "name": "stdout",
     "output_type": "stream",
     "text": [
      "36\n",
      "[1 2 3 4]\n",
      "159\n"
     ]
    }
   ],
   "source": [
    "maxCicles = 36\n",
    "cicles = pd.unique(df['cicleID'])\n",
    "print(len(cicles))\n",
    "print(pd.unique(df['trajID']))\n",
    "if len(cicles) > maxCicles:\n",
    "    sep = int(len(cicles)/maxCicles)\n",
    "    ciclesToUse = list(cicles)[::sep]\n",
    "    ciclesToUse = sample(ciclesToUse, k=maxCicles)\n",
    "    ciclesToUse.sort()\n",
    "else:\n",
    "    ciclesToUse = cicles\n",
    "dfaux = df.query('cicleID in @ciclesToUse').copy()\n",
    "print(len(dfaux))\n",
    "dfaux['comSizes_sq'] = dfaux['comSizes']**2"
   ]
  },
  {
   "cell_type": "code",
   "execution_count": null,
   "id": "ae2ea90c-9794-450f-b907-1f067cd9ff72",
   "metadata": {},
   "outputs": [],
   "source": []
  }
 ],
 "metadata": {
  "kernelspec": {
   "display_name": "Python 3 (ipykernel)",
   "language": "python",
   "name": "python3"
  },
  "language_info": {
   "codemirror_mode": {
    "name": "ipython",
    "version": 3
   },
   "file_extension": ".py",
   "mimetype": "text/x-python",
   "name": "python",
   "nbconvert_exporter": "python",
   "pygments_lexer": "ipython3",
   "version": "3.12.3"
  }
 },
 "nbformat": 4,
 "nbformat_minor": 5
}
