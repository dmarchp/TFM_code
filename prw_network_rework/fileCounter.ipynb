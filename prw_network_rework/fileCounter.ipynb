{
 "cells": [
  {
   "cell_type": "code",
   "execution_count": 1,
   "id": "8c109dae-261b-465b-8172-aec643e80cf4",
   "metadata": {},
   "outputs": [],
   "source": [
    "import pandas as pd\n",
    "from filesHandling_kilombo import *"
   ]
  },
  {
   "cell_type": "code",
   "execution_count": 49,
   "id": "97f87eee-dd27-4656-ac00-068791a3ce3e",
   "metadata": {},
   "outputs": [],
   "source": [
    "N = 35\n",
    "arena_r = 18.5\n",
    "interac_r = 4.0\n",
    "loops = 800"
   ]
  },
  {
   "cell_type": "code",
   "execution_count": 3,
   "id": "9cc083a4-f927-43b3-8325-3f8c07f7561d",
   "metadata": {},
   "outputs": [
    {
     "data": {
      "text/plain": [
       "25"
      ]
     },
     "execution_count": 3,
     "metadata": {},
     "output_type": "execute_result"
    }
   ],
   "source": [
    "countConfigs(N, arena_r)"
   ]
  },
  {
   "cell_type": "code",
   "execution_count": 22,
   "id": "4e58f238-4e77-410e-a5fc-acc302467f30",
   "metadata": {},
   "outputs": [
    {
     "data": {
      "text/plain": [
       "(10, 10)"
      ]
     },
     "execution_count": 22,
     "metadata": {},
     "output_type": "execute_result"
    }
   ],
   "source": [
    "countContacts(N, arena_r, interac_r, loops)"
   ]
  },
  {
   "cell_type": "code",
   "execution_count": 23,
   "id": "c8f78e64-03ec-430b-b581-01f5420e14c0",
   "metadata": {},
   "outputs": [
    {
     "name": "stdout",
     "output_type": "stream",
     "text": [
      "8252 207\n",
      "8252 207\n",
      "8252 207\n",
      "8252 207\n",
      "8252 207\n",
      "8252 207\n",
      "8252 207\n",
      "8252 207\n",
      "8252 207\n",
      "8252 207\n"
     ]
    }
   ],
   "source": [
    "countContactConfigs(N, arena_r, interac_r, loops)"
   ]
  },
  {
   "cell_type": "code",
   "execution_count": 24,
   "id": "d54452e5-d6d2-46de-aa23-408386b25a65",
   "metadata": {},
   "outputs": [
    {
     "data": {
      "text/plain": [
       "(2060, [206, 206, 206, 206, 206, 206, 206, 206, 206, 206])"
      ]
     },
     "execution_count": 24,
     "metadata": {},
     "output_type": "execute_result"
    }
   ],
   "source": [
    "countContactIntConfigs(N, arena_r, interac_r, loops)"
   ]
  },
  {
   "cell_type": "code",
   "execution_count": 50,
   "id": "cae6d0c3-4b2c-4288-b960-cebe082042e9",
   "metadata": {},
   "outputs": [],
   "source": [
    "irs = availableIrs(N, arena_r, loops)"
   ]
  },
  {
   "cell_type": "code",
   "execution_count": 51,
   "id": "3834610e-1262-4807-a8ef-df8d2c0432d5",
   "metadata": {},
   "outputs": [
    {
     "data": {
      "text/plain": [
       "[3.5, 3.75, 4.0, 4.25, 4.5, 5.0, 5.5, 6.0, 6.5, 7.0, 8.0, 9.0, 10.0]"
      ]
     },
     "execution_count": 51,
     "metadata": {},
     "output_type": "execute_result"
    }
   ],
   "source": [
    "irs # loops 400, ir 3.75??"
   ]
  },
  {
   "cell_type": "code",
   "execution_count": 48,
   "id": "f12a7156-314d-4dfa-a59f-50520c64be47",
   "metadata": {},
   "outputs": [
    {
     "name": "stdout",
     "output_type": "stream",
     "text": [
      "3.5 [206, 206, 206, 206, 206, 206, 206, 206, 206, 206]\n",
      "4.0 [206, 206, 206, 206, 206, 206, 206, 206, 206, 206]\n",
      "4.5 [206, 206, 206, 206]\n",
      "5.0 [206, 206, 206, 206]\n",
      "5.5 [206, 206, 206, 206]\n",
      "6.0 [206, 206, 206, 206]\n",
      "6.5 [206, 206, 206, 206]\n",
      "7.0 [206, 206, 206, 206]\n",
      "8.0 [206, 206, 206, 206]\n",
      "9.0 [206, 206, 206, 206]\n",
      "10.0 [206, 206, 206, 206]\n"
     ]
    }
   ],
   "source": [
    "for ir in irs:\n",
    "    #print(ir)\n",
    "    c, lis = countContactIntConfigs(N, arena_r, ir, loops)\n",
    "    print(ir, lis)"
   ]
  },
  {
   "cell_type": "code",
   "execution_count": 47,
   "id": "14ce885c-1e76-4d94-8d3b-7d723543edab",
   "metadata": {},
   "outputs": [],
   "source": [
    "path = '/media/david/KINGSTON/kilombo_configs/contacts/'\n",
    "interac_r = 5.0\n",
    "for i in range(2,5):\n",
    "    index = str(i).zfill(3)\n",
    "    df = pd.read_parquet(\n",
    "        path + f'PRW_nBots_{N}_ar_{arena_r}_speed_9_speedVar_2_{index}_loops_{loops}_ir_{interac_r}_contacts_cicleINT.parquet')\n",
    "    df = df.query('cicleID <= 205')\n",
    "    df.to_parquet(path + f'PRW_nBots_{N}_ar_{arena_r}_speed_9_speedVar_2_{index}_loops_{loops}_ir_{interac_r}_contacts_cicleINT.parquet')"
   ]
  },
  {
   "cell_type": "code",
   "execution_count": null,
   "id": "7efb0b96-714c-4a68-9507-900b291cf75a",
   "metadata": {},
   "outputs": [],
   "source": []
  }
 ],
 "metadata": {
  "kernelspec": {
   "display_name": "Python 3 (ipykernel)",
   "language": "python",
   "name": "python3"
  },
  "language_info": {
   "codemirror_mode": {
    "name": "ipython",
    "version": 3
   },
   "file_extension": ".py",
   "mimetype": "text/x-python",
   "name": "python",
   "nbconvert_exporter": "python",
   "pygments_lexer": "ipython3",
   "version": "3.9.13"
  }
 },
 "nbformat": 4,
 "nbformat_minor": 5
}
