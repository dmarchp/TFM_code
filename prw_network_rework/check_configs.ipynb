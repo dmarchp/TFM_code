{
 "cells": [
  {
   "cell_type": "code",
   "execution_count": 1,
   "metadata": {},
   "outputs": [],
   "source": [
    "import pandas as pd\n",
    "import numpy as np\n",
    "import igraph as ig\n",
    "import matplotlib.pyplot as plt\n",
    "import sys\n",
    "sys.path.append('../')\n",
    "# from package_global_functions import *\n",
    "from filesHandling_kilombo import *"
   ]
  },
  {
   "cell_type": "code",
   "execution_count": 2,
   "metadata": {},
   "outputs": [],
   "source": [
    "def dist2D(pos0, pos1):\n",
    "    return np.sqrt((pos0[0]-pos1[0])**2+(pos0[1]-pos1[1])**2)\n",
    "\n",
    "def getDistances(positions, i, cicle, interac_r):\n",
    "    dists = []\n",
    "    for k,pos0 in enumerate(positions[:-1]):\n",
    "        for pos1 in positions[k+1:]:\n",
    "            dists.append(dist2D(pos0, pos1))\n",
    "    dists = np.array(dists)\n",
    "    dists = dists[dists < 40.0]\n",
    "    # figD, axD = plt.subplots()\n",
    "    # axD.hist(dists)\n",
    "    # axD.axvline(interac_r, ls='--', color='k')\n",
    "    # figD.tight_layout()\n",
    "    # figD.savefig(f'histoDists_config_{str(i).zfill(3)}_cicle_{cicle}.png')\n",
    "    dists = dists[dists <= interac_r]\n",
    "    # print(f'{len(dists)} distances smaller thant interac_r')\n",
    "    return len(dists)"
   ]
  },
  {
   "cell_type": "code",
   "execution_count": 8,
   "metadata": {},
   "outputs": [],
   "source": [
    "# everything in milimeters\n",
    "arena_r = 185.0\n",
    "exclusion_r = 15.0\n",
    "interac_r = 45.0\n",
    "cicle = 2\n",
    "loops = 800\n",
    "\n",
    "N = 40\n",
    "jumpTrajConfigs = 5\n",
    "\n",
    "\n",
    "# parquet files:\n",
    "filenameConfig = getConfigsPath() + '/' + getFilenameRoot(N, arena_r/10) + getFilenameNumber(1) + getFilesExtension()\n",
    "filenameContact = getConfigsPath() + '/contacts/' + getFilenameRoot(N, arena_r/10) + getFilenameNumber(1) + getFilenameContactSufix(loops, interac_r/10)\n",
    "dfconfigs = pd.read_parquet(filenameConfig)\n",
    "dfcontacts = pd.read_parquet(filenameContact)"
   ]
  },
  {
   "cell_type": "code",
   "execution_count": 14,
   "metadata": {},
   "outputs": [],
   "source": [
    "check = []\n",
    "for i in range(1000):\n",
    "    true_layout = []\n",
    "    for i,row in dfconfigs.iloc[N*i:N*i+40].iterrows():\n",
    "        x, y = row['x_position'], row['y_position']\n",
    "        true_layout.append([x,y])\n",
    "    dist_lower_t_ir = getDistances(true_layout, 1, 10, 34.0)\n",
    "    if dist_lower_t_ir > 0:\n",
    "        check.append(i)"
   ]
  },
  {
   "cell_type": "code",
   "execution_count": 15,
   "metadata": {},
   "outputs": [
    {
     "name": "stdout",
     "output_type": "stream",
     "text": [
      "[199, 1039, 2679, 2799, 2839, 2959, 3039, 3079, 4239, 6079, 6559, 6719, 6959, 7479, 7919, 8039, 8319, 8399, 8439, 8599, 8719, 10879, 11119, 13159, 13279, 13799, 13959, 14919, 15239, 15519, 15639, 16199, 18959, 19039, 20519, 20879, 21319, 21759, 22599, 22759, 23479, 23679, 24159, 25319, 25439, 25879, 25919, 28239, 28719, 31359, 32399, 32759, 33039, 33479, 36439, 37279, 38079, 38679]\n"
     ]
    }
   ],
   "source": [
    "print(check)"
   ]
  },
  {
   "cell_type": "code",
   "execution_count": 9,
   "metadata": {},
   "outputs": [
    {
     "name": "stdout",
     "output_type": "stream",
     "text": [
      "[ 0  1  2  3  4  5  6  7  8  9 10 11 12 13 14 15 16 17 18 19 20 21 22 23\n",
      " 24 25 26 27 28 29 30 31 32 33 34 35 36 37 38 39]\n",
      "40\n",
      "[25 26 27 28 29 30 31 32 33 34 35 36 37 38 39 40]\n"
     ]
    }
   ],
   "source": [
    "ids = pd.unique(dfconfigs['ID'])\n",
    "print(ids)\n",
    "Nbots = len(ids)\n",
    "print(Nbots)\n",
    "dfcicle0 = dfcontacts.loc[dfcontacts['cicleID']==cicle]\n",
    "configs0 = pd.unique(dfcicle0['configID'])\n",
    "print(configs0)"
   ]
  },
  {
   "cell_type": "code",
   "execution_count": null,
   "metadata": {},
   "outputs": [],
   "source": [
    "df_single_config_contacts = dfcicle0.loc[dfcicle0['configID']==153].copy(deep=True)\n",
    "df_single_config_contacts.drop(labels=['cicleID', 'configID'], axis='columns', inplace=True)\n",
    "g = ig.Graph.DataFrame(df_single_config_contacts, directed=False)\n",
    "ids = set(list(pd.unique(df_single_config_contacts['contacts0'])) + list(pd.unique(df_single_config_contacts['contacts1'])))\n",
    "ids = sorted(list(ids))"
   ]
  },
  {
   "cell_type": "code",
   "execution_count": null,
   "metadata": {},
   "outputs": [],
   "source": [
    "dfprova = pd.DataFrame({'contacts0':[0,1], 'contacts1':[2,4]})\n",
    "dfprova_names = pd.DataFrame({'names':['p0', 'p1', 'p2', 'p3', 'p4']})\n",
    "# dfprova = pd.DataFrame(np.array([[1,3], [2,4]]))\n",
    "g = ig.Graph.DataFrame(dfprova, directed=False, vertices=dfprova_names)\n",
    "# g = ig.Graph.DataFrame(dfprova, directed=False)"
   ]
  },
  {
   "cell_type": "code",
   "execution_count": null,
   "metadata": {},
   "outputs": [],
   "source": [
    "list(g.vs)"
   ]
  },
  {
   "cell_type": "code",
   "execution_count": null,
   "metadata": {},
   "outputs": [],
   "source": [
    "edges = list(g.es)\n",
    "print(edges[0].source)\n",
    "print(edges[0].target)"
   ]
  },
  {
   "cell_type": "code",
   "execution_count": null,
   "metadata": {},
   "outputs": [],
   "source": []
  }
 ],
 "metadata": {
  "kernelspec": {
   "display_name": "Python 3",
   "language": "python",
   "name": "python3"
  },
  "language_info": {
   "codemirror_mode": {
    "name": "ipython",
    "version": 3
   },
   "file_extension": ".py",
   "mimetype": "text/x-python",
   "name": "python",
   "nbconvert_exporter": "python",
   "pygments_lexer": "ipython3",
   "version": "3.11.3"
  },
  "orig_nbformat": 4
 },
 "nbformat": 4,
 "nbformat_minor": 2
}
