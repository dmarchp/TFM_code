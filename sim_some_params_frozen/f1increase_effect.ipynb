{
 "cells": [
  {
   "cell_type": "code",
   "execution_count": 1,
   "metadata": {},
   "outputs": [],
   "source": [
    "import pandas as pd\n",
    "import matplotlib.pyplot as plt\n",
    "import numpy as np\n",
    "import sys\n",
    "import glob\n",
    "\n",
    "sys.path.append('../')\n",
    "from package_global_functions import *\n"
   ]
  },
  {
   "cell_type": "code",
   "execution_count": 30,
   "metadata": {},
   "outputs": [],
   "source": [
    "path = '../frozen_positions_new'\n",
    "folder = '/time_evo_indv_states_N_35_ar_20.0_ir_4.0_er_1.5_pi1_0.3_pi2_0.3_q1_7_q2_10_l_0.9'\n",
    "file = 'time_evo_rea_001_config_986_indv_states.csv'\n",
    "N = 35\n",
    "dfq = pd.read_csv(f'{path}{folder}/{file}', names=[f's{i}' for i in range(1,N+1)], header=None)\n",
    "\n",
    "pathmf = '../clean_version'\n",
    "foldermf = '/time_evo_indv_states'\n",
    "filemf = 'time_evo_rea_001_indv_states.csv'\n",
    "dfmf = pd.read_csv(f'{pathmf}{foldermf}/{filemf}', names=[f's{i}' for i in range(1,N+1)], header=None)"
   ]
  },
  {
   "cell_type": "code",
   "execution_count": null,
   "metadata": {},
   "outputs": [],
   "source": [
    "fig, ax = plt.subplots()\n",
    "ax.plot(dfq.index, dfq[1])"
   ]
  },
  {
   "cell_type": "code",
   "execution_count": null,
   "metadata": {},
   "outputs": [],
   "source": [
    "fig, ax = plt.subplots()\n",
    "ax.plot(dfmf.index, dfmf[1])"
   ]
  },
  {
   "cell_type": "code",
   "execution_count": 33,
   "metadata": {},
   "outputs": [
    {
     "name": "stdout",
     "output_type": "stream",
     "text": [
      "1310\n",
      "209\n"
     ]
    }
   ],
   "source": [
    "print(len(dfq.query('s2 == 0')))\n",
    "print(len(dfmf.query('s2 == 0')))"
   ]
  },
  {
   "cell_type": "markdown",
   "metadata": {},
   "source": [
    "# get the time each agent spends between 0 and 1 or bt 0 and 2"
   ]
  },
  {
   "cell_type": "code",
   "execution_count": 2,
   "metadata": {},
   "outputs": [],
   "source": [
    "def get_times_spent_at_stateX(timesXin, timesYin):\n",
    "    timesX, timesY = timesXin, timesYin\n",
    "    # based on the assumption that timesX[0] < timesY[0]\n",
    "    if timesX[0] > timesY[0]:\n",
    "        timesY = timesY[timesY > timesX[0]]\n",
    "    counter = 1\n",
    "    times_spent_X, times_spent_Y = [], []\n",
    "    for iaux,t in enumerate(timesX[1:]):\n",
    "        i = iaux+1\n",
    "        if t-timesX[i-1] == 1:\n",
    "            counter += 1\n",
    "        else:\n",
    "            if len(timesY) == 0 or t < min(timesY):\n",
    "                # print(i,t,timesX[i-1])\n",
    "                counter += t-timesX[i-1]\n",
    "            else:\n",
    "                # print(i,t)\n",
    "                times_spent_X.append(counter)\n",
    "                counter = 1\n",
    "                timesY = timesY[timesY > t]\n",
    "                # print(timesY)\n",
    "    # save last count:\n",
    "    times_spent_X.append(counter)\n",
    "    return times_spent_X\n",
    "\n"
   ]
  },
  {
   "cell_type": "code",
   "execution_count": 104,
   "metadata": {},
   "outputs": [
    {
     "name": "stdout",
     "output_type": "stream",
     "text": [
      "[7, 8, 4]\n"
     ]
    }
   ],
   "source": [
    "trialchain = [0,2,2,0,1,1,1,1,0,1,1,0,0,2,2,2,2,2,2,0,2,2,2,0,0,0,0,0,1,1,0,1,0,1,1,1,0,0,0,2,1,1,0,1]\n",
    "dftrial = pd.DataFrame({'s1':trialchain})\n",
    "times1 = np.array(list(dftrial.query('s1 == 1').index))\n",
    "times2 = np.array(list(dftrial.query('s1 == 2').index))\n",
    "\n",
    "times_spent_1 = get_times_spent_at_stateX(times1, times2)\n",
    "print(times_spent_1)"
   ]
  },
  {
   "cell_type": "code",
   "execution_count": 5,
   "metadata": {},
   "outputs": [],
   "source": [
    "# folders = [f'/time_evo_indv_states_N_35_ar_20.0_ir_4.0_er_1.5_pi1_0.3_pi2_0.3_q1_7_q2_10_l_{l}',\n",
    "#            f'/time_evo_indv_states_N_35_ar_20.0_ir_9.0_er_1.5_pi1_0.3_pi2_0.3_q1_7_q2_10_l_{l}']\n",
    "\n",
    "ls = [0.2, 0.9]\n",
    "irs = [4.0, 9.0]\n",
    "N = 35\n",
    "\n",
    "path = '../frozen_positions_new'\n",
    "\n",
    "times_spent_1_var_ir_l = {}\n",
    "for l in ls:\n",
    "    for ir in irs:\n",
    "        folder = f'/time_evo_indv_states_N_35_ar_20.0_ir_{ir}_er_1.5_pi1_0.3_pi2_0.3_q1_7_q2_10_l_{l}'\n",
    "        files = glob.glob(f'{path}{folder}/*')\n",
    "        times_spent_1_global = []\n",
    "        for file in files:\n",
    "            # print(file)\n",
    "            # dfq = pd.read_csv(f'{path}{folder}/{file}', names=[f's{i}' for i in range(1,N+1)], header=None)\n",
    "            dfq = pd.read_csv(f'{file}', names=[f's{i}' for i in range(1,N+1)], header=None)\n",
    "            for i in range(1,N+1):\n",
    "                times1 = np.array(list(dfq.query(f's{i} == 1').index))\n",
    "                times2 = np.array(list(dfq.query(f's{i} == 2').index))\n",
    "                if len(times1) > 0:\n",
    "                    times_spent_1 = get_times_spent_at_stateX(times1, times2)\n",
    "                    times_spent_1_global.extend(times_spent_1)\n",
    "        times_spent_1_var_ir_l[(ir,l)] = times_spent_1_global"
   ]
  },
  {
   "cell_type": "code",
   "execution_count": 6,
   "metadata": {},
   "outputs": [
    {
     "name": "stdout",
     "output_type": "stream",
     "text": [
      "ir = 4.0, l = 0.2: 15.6985392245266\n",
      "ir = 9.0, l = 0.2: 14.76664908270324\n",
      "ir = 4.0, l = 0.9: 36.99755116319748\n",
      "ir = 9.0, l = 0.9: 13.15364818342859\n"
     ]
    }
   ],
   "source": [
    "for l in ls:\n",
    "    for ir in irs:\n",
    "        print(f'ir = {ir}, l = {l}: {np.average(times_spent_1_var_ir_l[(ir,l)])}')"
   ]
  },
  {
   "cell_type": "code",
   "execution_count": 13,
   "metadata": {},
   "outputs": [
    {
     "data": {
      "image/png": "[encoded data removed]",
      "text/plain": [
       "<Figure size 800x400 with 2 Axes>"
      ]
     },
     "metadata": {},
     "output_type": "display_data"
    }
   ],
   "source": [
    "latexFont(size=12, titlesize=11, ticklabelssize=11, labelsize=13, legendsize=12)\n",
    "\n",
    "# All in one plot:\n",
    "# fig, ax = plt.subplots(1,1, figsize=(4,4), constrained_layout=True)\n",
    "# ax.set(xscale='symlog', ylabel=r'$P_1$', xlabel='time')\n",
    "# for l,lcolor in zip(ls,['xkcd:blue', 'xkcd:red']):\n",
    "#     for ir,irlstyle in zip(irs,['--', '-']):\n",
    "#         pdf, bin_edges = np.histogram(times_spent_1_var_ir_l[(ir,l)], bins=100, range=(1,200), density=True)\n",
    "#         ax.plot((bin_edges[1:]+bin_edges[:-1])/2, pdf, lw=0.8, color=lcolor, ls=irlstyle, label=fr'$r_{{int}} = {ir}, \\lambda = {l}$')\n",
    "# fig.legend(loc=(0.45,0.7), frameon=False)\n",
    "# fig.savefig('time_spent_1_var_ir_l.pdf')\n",
    "\n",
    "# 2 plots for each interaction radius\n",
    "fig, ax = plt.subplots(1,2, figsize=(8,4), constrained_layout=True)\n",
    "ax[0].set(xscale='symlog', ylabel='$P_1$', xlabel='Time interval')\n",
    "ax[1].set(xscale='symlog', ylabel='$P_1$', xlabel='Time interval')\n",
    "\n",
    "for i,ir in enumerate(irs):\n",
    "    ax[i].text(0.68, 0.72, rf'$r_{{int}} = {ir}$', transform=ax[i].transAxes)\n",
    "    for l,lcolor in zip(ls,['xkcd:blue', 'xkcd:red']):\n",
    "        pdf, bin_edges = np.histogram(times_spent_1_var_ir_l[(ir,l)], bins=100, range=(1,200), density=True)\n",
    "        label = fr'$\\lambda = {l}$' if i == 0 else '_nolabel_'\n",
    "        ax[i].plot((bin_edges[1:]+bin_edges[:-1])/2, pdf, lw=0.8, color=lcolor, label=label)\n",
    "ax[0].legend(loc=(0.6, 0.8), frameon=False)\n",
    "fig.savefig('time_spent_1_var_ir_l.pdf')"
   ]
  },
  {
   "cell_type": "code",
   "execution_count": null,
   "metadata": {},
   "outputs": [],
   "source": []
  }
 ],
 "metadata": {
  "kernelspec": {
   "display_name": "base",
   "language": "python",
   "name": "python3"
  },
  "language_info": {
   "codemirror_mode": {
    "name": "ipython",
    "version": 3
   },
   "file_extension": ".py",
   "mimetype": "text/x-python",
   "name": "python",
   "nbconvert_exporter": "python",
   "pygments_lexer": "ipython3",
   "version": "3.9.18"
  }
 },
 "nbformat": 4,
 "nbformat_minor": 2
}
