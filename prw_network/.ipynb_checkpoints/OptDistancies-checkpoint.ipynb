{
 "cells": [
  {
   "cell_type": "code",
   "execution_count": 1,
   "id": "31841a75-658c-4708-a894-509604611a20",
   "metadata": {},
   "outputs": [],
   "source": [
    "import pandas as pd\n",
    "import numpy as np\n",
    "#import numba\n",
    "\n",
    "#@numba.vectorize\n",
    "def dist2D(pos0: tuple[float], pos1: tuple[float]) -> float:\n",
    "    return np.sqrt((pos0[0]-pos1[0])**2+(pos0[1]-pos1[1])**2)\n",
    "\n",
    "df = pd.read_csv('raw_json_files/RWDIS_mod/configs/PRW_nBots_35_ar_20.0_speed_9_speedVar_2_001.csv')\n",
    "# afaga una configuració mes o menys avançada en el temps\n",
    "Nbots = 35\n",
    "i = 15\n",
    "dfconfig = df.loc[(i*Nbots):(i*Nbots+Nbots-1)]\n",
    "\n",
    "dfconfig.reset_index(drop=True, inplace=True)\n",
    "#dfconfig['ticks'][0]"
   ]
  },
  {
   "cell_type": "code",
   "execution_count": 2,
   "id": "686ba1e4-c9e2-4056-bfbd-c90fa9c991ac",
   "metadata": {},
   "outputs": [],
   "source": [
    "import time"
   ]
  },
  {
   "cell_type": "code",
   "execution_count": 7,
   "id": "8de2bc7e-609c-4bd8-8ba8-085595b79b82",
   "metadata": {},
   "outputs": [
    {
     "name": "stdout",
     "output_type": "stream",
     "text": [
      "0.0017132759094238281\n"
     ]
    }
   ],
   "source": [
    "# MANERA OPTIMITZADA (?)\n",
    "tstart = time.time()\n",
    "contacts0, contacts1 = [], []\n",
    "positions = [(x,y) for (x,y) in zip(dfconfig['x_position'], dfconfig['y_position'])]\n",
    "for i,pos in enumerate(positions[:-1]):\n",
    "    pos = positions[i]\n",
    "    dists = [dist2D(pos1, pos) for pos1 in positions[i+1:]]\n",
    "    contactsAgenti = [j+1+i for j,d in enumerate(dists) if d < 70.0]\n",
    "    contacts0.extend([i]*len(contactsAgenti))\n",
    "    contacts1.extend(contactsAgenti)\n",
    "tend = time.time()\n",
    "telapsed = tend -tstart\n",
    "print(telapsed)"
   ]
  },
  {
   "cell_type": "code",
   "execution_count": 8,
   "id": "571d9b0d-3b53-4907-bdda-45972b99b1a1",
   "metadata": {},
   "outputs": [
    {
     "name": "stdout",
     "output_type": "stream",
     "text": [
      "0.014132022857666016\n"
     ]
    }
   ],
   "source": [
    "# MANERA ANTINGA\n",
    "ids = pd.unique(dfconfig['ID'])\n",
    "tstart = time.time()\n",
    "contacts0old, contacts1old = [], []\n",
    "for j,id0 in enumerate(ids[:-1]):\n",
    "    pos0 = (dfconfig['x_position'][id0], dfconfig['y_position'][id0])\n",
    "    for id1 in ids[j+1:]:\n",
    "        pos1 = (dfconfig['x_position'][id1], dfconfig['y_position'][id1])\n",
    "        dist = dist2D(pos0, pos1)\n",
    "        if(dist<70.0):\n",
    "            contacts0old.append(id0), contacts1old.append(id1)\n",
    "tend = time.time()\n",
    "telapsed = tend-tstart\n",
    "print(telapsed)"
   ]
  },
  {
   "cell_type": "markdown",
   "id": "3b34cef4-8564-4ede-96e3-8f1bc703ac8d",
   "metadata": {
    "tags": []
   },
   "source": [
    "## test fent totes les configs"
   ]
  },
  {
   "cell_type": "code",
   "execution_count": 10,
   "id": "34548b78-27ed-4b06-bd64-cff5b13c1d7d",
   "metadata": {},
   "outputs": [
    {
     "ename": "NameError",
     "evalue": "name 'tqdm' is not defined",
     "output_type": "error",
     "traceback": [
      "\u001b[0;31m---------------------------------------------------------------------------\u001b[0m",
      "\u001b[0;31mNameError\u001b[0m                                 Traceback (most recent call last)",
      "Input \u001b[0;32mIn [10]\u001b[0m, in \u001b[0;36m<cell line: 11>\u001b[0;34m()\u001b[0m\n\u001b[1;32m      9\u001b[0m configID, cicleID, contacts0, contacts1 \u001b[38;5;241m=\u001b[39m [], [], [], []\n\u001b[1;32m     10\u001b[0m cicle \u001b[38;5;241m=\u001b[39m \u001b[38;5;241m0\u001b[39m\n\u001b[0;32m---> 11\u001b[0m \u001b[38;5;28;01mfor\u001b[39;00m i \u001b[38;5;129;01min\u001b[39;00m \u001b[43mtqdm\u001b[49m(\u001b[38;5;28mrange\u001b[39m(\u001b[38;5;28mint\u001b[39m(Nconfigs))):\n\u001b[1;32m     12\u001b[0m     dfconfig \u001b[38;5;241m=\u001b[39m trajDF\u001b[38;5;241m.\u001b[39mloc[(i\u001b[38;5;241m*\u001b[39mNbots):(i\u001b[38;5;241m*\u001b[39mNbots\u001b[38;5;241m+\u001b[39mNbots\u001b[38;5;241m-\u001b[39m\u001b[38;5;241m1\u001b[39m)]\n\u001b[1;32m     13\u001b[0m     dfconfig\u001b[38;5;241m.\u001b[39mreset_index(drop\u001b[38;5;241m=\u001b[39m\u001b[38;5;28;01mTrue\u001b[39;00m, inplace\u001b[38;5;241m=\u001b[39m\u001b[38;5;28;01mTrue\u001b[39;00m)\n",
      "\u001b[0;31mNameError\u001b[0m: name 'tqdm' is not defined"
     ]
    }
   ],
   "source": [
    "# VERSIO NOVA\n",
    "timestep = 0.0103 # seconds per loop\n",
    "ticksPerSecond = 31\n",
    "ticksPerLoop = timestep*ticksPerSecond\n",
    "loops = 800\n",
    "TSTART = time.time()\n",
    "ticksPerCicle = loops*ticksPerLoop\n",
    "Nconfigs = len(df)/Nbots\n",
    "configID, cicleID, contacts0, contacts1 = [], [], [], []\n",
    "cicle = 0\n",
    "for i in range(int(Nconfigs)):\n",
    "    dfconfig = trajDF.loc[(i*Nbots):(i*Nbots+Nbots-1)]\n",
    "    dfconfig.reset_index(drop=True, inplace=True)\n",
    "    if int(dfconfig['ticks'][0]) > (cicle+1)*ticksPerCicle:\n",
    "        cicle += 1\n",
    "    positions = [(x,y) for (x,y) in zip(dfconfig['x_position'], dfconfig['y_position'])]\n",
    "    contactCounter = 0\n",
    "    for j,pos in enumerate(positions[:-1]):\n",
    "        pos = positions[j]\n",
    "        dists = [dist2D(pos1, pos) for pos1 in positions[j+1:]]\n",
    "        contactsAgenti = [k+1+j for k,d in enumerate(dists) if d < 70.0]\n",
    "        contacts0.extend([j]*len(contactsAgenti)), contacts1.extend(contactsAgenti)\n",
    "        \n",
    "        contactCounter += len(contacts0)\n",
    "    configID.extend([i]*contactCounter)\n",
    "    cicleID.extend([cicle]*len(contactCounter))\n",
    "dfconfigs = pd.DataFrame({'configID':configID, 'cicleID':cicleID, 'contacts0':contacts0, 'contacts1':contacts1})\n",
    "dfconfigs.to_csv('dfcontacts_versio_nova.csv', index=False)\n",
    "TEND = time.time()\n",
    "print(TEND-TSTART)"
   ]
  },
  {
   "cell_type": "code",
   "execution_count": null,
   "id": "69bc4330-63c5-4403-886f-51afbc88c8b5",
   "metadata": {},
   "outputs": [],
   "source": [
    "# VERSIO ANTIGA\n",
    "timestep = 0.0103 # seconds per loop\n",
    "ticksPerSecond = 31\n",
    "ticksPerLoop = timestep*ticksPerSecond\n",
    "loops = 800\n",
    "TSTART = time.time()\n",
    "ticksPerCicle = loops*ticksPerLoop\n",
    "Nconfigs = len(df)/Nbots\n",
    "configID, cicleID, contacts0, contacts1 = [], [], [], []\n",
    "cicle = 0\n",
    "for i in range(int(Nconfigs)):\n",
    "    dfconfig = trajDF.loc[(i*Nbots):(i*Nbots+Nbots-1)]\n",
    "    dfconfig.reset_index(drop=True, inplace=True)\n",
    "    if int(dfconfig['ticks'][0]) > (cicle+1)*ticksPerCicle:\n",
    "        cicle += 1\n",
    "    for j,id0 in enumerate(ids[:-1]):\n",
    "        pos0 = (dfconfig['x_position'][id0], dfconfig['y_position'][id0])\n",
    "        for id1 in ids[j+1:]:\n",
    "            pos1 = (dfconfig['x_position'][id1], dfconfig['y_position'][id1])\n",
    "            dist = dist2D(pos0, pos1)\n",
    "            if(dist<interac_r):\n",
    "                configID.append(i), cicleID.append(cicle), contacts0.append(id0), contacts1.append(id1)\n",
    "dfconfigs = pd.DataFrame({'configID':configID, 'cicleID':cicleID, 'contacts0':contacts0, 'contacts1':contacts1})\n",
    "dfconfigs.to_csv('dfcontacts_versio_antiga.csv', index=False)\n",
    "TEND = time.time()\n",
    "print(TEND-TSTART)"
   ]
  }
 ],
 "metadata": {
  "kernelspec": {
   "display_name": "Python 3 (ipykernel)",
   "language": "python",
   "name": "python3"
  },
  "language_info": {
   "codemirror_mode": {
    "name": "ipython",
    "version": 3
   },
   "file_extension": ".py",
   "mimetype": "text/x-python",
   "name": "python",
   "nbconvert_exporter": "python",
   "pygments_lexer": "ipython3",
   "version": "3.9.13"
  }
 },
 "nbformat": 4,
 "nbformat_minor": 5
}
