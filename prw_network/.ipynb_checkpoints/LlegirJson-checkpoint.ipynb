{
 "cells": [
  {
   "cell_type": "code",
   "execution_count": 2,
   "id": "7c55e869",
   "metadata": {},
   "outputs": [],
   "source": [
    "import json"
   ]
  },
  {
   "cell_type": "code",
   "execution_count": 10,
   "id": "0ebe980d",
   "metadata": {},
   "outputs": [],
   "source": [
    "f=open('1.json')\n",
    "x = f.read()\n",
    "data = json.loads(x)\n",
    "    \n",
    "for i in range (len(data)):\n",
    "    data[i][\"ticks\"]\n",
    "    for j in range (len(data[i][\"bot_states\"])):\n",
    "            data[i][\"bot_states\"][j][\"x_position\"]\n",
    "            data[i][\"bot_states\"][j][\"y_position\"]\n",
    "            data[i][\"bot_states\"][j][\"direction\"]\n",
    "            data[i][\"bot_states\"][j][\"ID\"]"
   ]
  },
  {
   "cell_type": "code",
   "execution_count": null,
   "id": "8ad0f3bc",
   "metadata": {},
   "outputs": [],
   "source": [
    "'Data esta distribuït en [\"ticks\"] (que dona el temps) i en [\"bot_states\"] on en aquests pots trobar x,y,direction i ID'"
   ]
  }
 ],
 "metadata": {
  "kernelspec": {
   "display_name": "Python 3 (ipykernel)",
   "language": "python",
   "name": "python3"
  },
  "language_info": {
   "codemirror_mode": {
    "name": "ipython",
    "version": 3
   },
   "file_extension": ".py",
   "mimetype": "text/x-python",
   "name": "python",
   "nbconvert_exporter": "python",
   "pygments_lexer": "ipython3",
   "version": "3.9.13"
  }
 },
 "nbformat": 4,
 "nbformat_minor": 5
}
