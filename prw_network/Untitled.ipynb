{
 "cells": [
  {
   "cell_type": "code",
   "execution_count": 1,
   "id": "fe9ff57e-0daa-4bd7-8c8b-0dcb1583e623",
   "metadata": {},
   "outputs": [],
   "source": [
    "import pandas as pd\n",
    "import numpy as np"
   ]
  },
  {
   "cell_type": "code",
   "execution_count": 9,
   "id": "2fabb5ea-a956-4233-9944-b1e96f9ceb86",
   "metadata": {},
   "outputs": [],
   "source": [
    "from scipy.special import factorial"
   ]
  },
  {
   "cell_type": "code",
   "execution_count": 5,
   "id": "74b0a69b-388f-4222-b201-58324da5b089",
   "metadata": {},
   "outputs": [],
   "source": [
    "df = pd.read_csv('other_res_files/degreeDistr_N_35_ar_18.5_ir_3.5_speed_9_speedVar_2_loops_800.csv')"
   ]
  },
  {
   "cell_type": "code",
   "execution_count": 12,
   "id": "7055fd9f-f160-48bd-8630-abfc9833198e",
   "metadata": {},
   "outputs": [],
   "source": [
    "avg = 2.5\n",
    "expo = np.exp(-avg)\n",
    "#df['poisson'] = expo*avg**df['binCenters']/factorial(df['binCenters'])\n",
    "df['poisson'] = factorial(df['binCenters'])"
   ]
  },
  {
   "cell_type": "code",
   "execution_count": 13,
   "id": "402053c3-a79b-4831-8f9d-40a7ed460936",
   "metadata": {},
   "outputs": [
    {
     "data": {
      "text/html": [
       "<div>\n",
       "<style scoped>\n",
       "    .dataframe tbody tr th:only-of-type {\n",
       "        vertical-align: middle;\n",
       "    }\n",
       "\n",
       "    .dataframe tbody tr th {\n",
       "        vertical-align: top;\n",
       "    }\n",
       "\n",
       "    .dataframe thead th {\n",
       "        text-align: right;\n",
       "    }\n",
       "</style>\n",
       "<table border=\"1\" class=\"dataframe\">\n",
       "  <thead>\n",
       "    <tr style=\"text-align: right;\">\n",
       "      <th></th>\n",
       "      <th>binCenters</th>\n",
       "      <th>prob</th>\n",
       "      <th>dprob</th>\n",
       "      <th>poisson</th>\n",
       "    </tr>\n",
       "  </thead>\n",
       "  <tbody>\n",
       "    <tr>\n",
       "      <th>0</th>\n",
       "      <td>0.0</td>\n",
       "      <td>0.049133</td>\n",
       "      <td>0.001273</td>\n",
       "      <td>1.0</td>\n",
       "    </tr>\n",
       "    <tr>\n",
       "      <th>1</th>\n",
       "      <td>1.0</td>\n",
       "      <td>0.212725</td>\n",
       "      <td>0.002410</td>\n",
       "      <td>1.0</td>\n",
       "    </tr>\n",
       "    <tr>\n",
       "      <th>2</th>\n",
       "      <td>2.0</td>\n",
       "      <td>0.334535</td>\n",
       "      <td>0.002778</td>\n",
       "      <td>2.0</td>\n",
       "    </tr>\n",
       "    <tr>\n",
       "      <th>3</th>\n",
       "      <td>3.0</td>\n",
       "      <td>0.258356</td>\n",
       "      <td>0.002578</td>\n",
       "      <td>6.0</td>\n",
       "    </tr>\n",
       "    <tr>\n",
       "      <th>4</th>\n",
       "      <td>4.0</td>\n",
       "      <td>0.114736</td>\n",
       "      <td>0.001877</td>\n",
       "      <td>24.0</td>\n",
       "    </tr>\n",
       "    <tr>\n",
       "      <th>5</th>\n",
       "      <td>5.0</td>\n",
       "      <td>0.027254</td>\n",
       "      <td>0.000959</td>\n",
       "      <td>120.0</td>\n",
       "    </tr>\n",
       "    <tr>\n",
       "      <th>6</th>\n",
       "      <td>6.0</td>\n",
       "      <td>0.002982</td>\n",
       "      <td>0.000321</td>\n",
       "      <td>720.0</td>\n",
       "    </tr>\n",
       "    <tr>\n",
       "      <th>7</th>\n",
       "      <td>7.0</td>\n",
       "      <td>0.000277</td>\n",
       "      <td>0.000098</td>\n",
       "      <td>5040.0</td>\n",
       "    </tr>\n",
       "  </tbody>\n",
       "</table>\n",
       "</div>"
      ],
      "text/plain": [
       "   binCenters      prob     dprob  poisson\n",
       "0         0.0  0.049133  0.001273      1.0\n",
       "1         1.0  0.212725  0.002410      1.0\n",
       "2         2.0  0.334535  0.002778      2.0\n",
       "3         3.0  0.258356  0.002578      6.0\n",
       "4         4.0  0.114736  0.001877     24.0\n",
       "5         5.0  0.027254  0.000959    120.0\n",
       "6         6.0  0.002982  0.000321    720.0\n",
       "7         7.0  0.000277  0.000098   5040.0"
      ]
     },
     "execution_count": 13,
     "metadata": {},
     "output_type": "execute_result"
    }
   ],
   "source": [
    "df"
   ]
  },
  {
   "cell_type": "code",
   "execution_count": null,
   "id": "69aee1e2-6a1f-4ece-b00c-1a2c525de7c9",
   "metadata": {},
   "outputs": [],
   "source": []
  }
 ],
 "metadata": {
  "kernelspec": {
   "display_name": "Python 3 (ipykernel)",
   "language": "python",
   "name": "python3"
  },
  "language_info": {
   "codemirror_mode": {
    "name": "ipython",
    "version": 3
   },
   "file_extension": ".py",
   "mimetype": "text/x-python",
   "name": "python",
   "nbconvert_exporter": "python",
   "pygments_lexer": "ipython3",
   "version": "3.9.16"
  }
 },
 "nbformat": 4,
 "nbformat_minor": 5
}
